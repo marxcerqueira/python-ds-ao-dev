{
 "cells": [
  {
   "cell_type": "markdown",
   "id": "9edf69de",
   "metadata": {
    "ExecuteTime": {
     "end_time": "2022-02-14T15:23:00.764437Z",
     "start_time": "2022-02-14T15:23:00.725359Z"
    }
   },
   "source": [
    "# Python DS-ao-Dev"
   ]
  },
  {
   "cell_type": "markdown",
   "id": "b767c679",
   "metadata": {
    "ExecuteTime": {
     "end_time": "2022-02-14T15:24:06.387730Z",
     "start_time": "2022-02-14T15:24:06.374996Z"
    },
    "heading_collapsed": true
   },
   "source": [
    "## Bussiness Problem\n"
   ]
  },
  {
   "cell_type": "markdown",
   "id": "3b05e1ca",
   "metadata": {
    "hidden": true
   },
   "source": [
    "\n",
    "**Star Jeans Company**\n",
    "\n",
    "- Eduardo e Marcelo são dois brasileiros, amigos e sócios de empreendimento. Depois de vários negócio bem sucedidos, eles estão planejando entrar no mercado de moda dos USA como um modelo de negócio do tipo E-commerce.\n",
    "\n",
    "- A idéia inicial é entrar no mercado com apenas um produto e para um público específico, no caso o produto seria calças Jenas para o público masculino. O objetivo é manter o custo de operação baixo e escalar a medida que forem conseguindo clientes.\n",
    "\n",
    "- Porém, mesmo com o produto de entrada e a audiência definidos, os dois sócios não tem experiência nesse mercado de moda e portanto não sabem definir coisas básicas como preço, o tipo de calça e o material para a fabricação de cada peça.\n",
    "\n",
    "- Assim, os dois sócios contrataram uma consultoria de Ciência de Dados para responder as seguintes perguntas: ]\n",
    "    1. Qual o melhor preço de venda para as calças? \n",
    "    2. Quantos tipos de calças e suas cores para o produto inicial? \n",
    "    3. Quais as matérias-prima necessárias para confeccionar as calças?\n",
    "    \n",
    "- As principais concorrentes da empresa Start Jeans são as americadas H&M e Macys."
   ]
  },
  {
   "cell_type": "markdown",
   "id": "60b1b7f0",
   "metadata": {
    "heading_collapsed": true
   },
   "source": [
    "## Solution Planning (Input-Output-Tasks)\n",
    "\n",
    "\n",
    "\n"
   ]
  },
  {
   "cell_type": "markdown",
   "id": "acecd7b8",
   "metadata": {
    "hidden": true
   },
   "source": [
    "**Bussiness Question**\n",
    "\n",
    "- Which is the best price for jeans?\n",
    "\n",
    "1. Input:\n",
    "    1. Fonte de dados\n",
    "        - Site da H&M: https://www2.hm.com/en_us/men/products/jeans.html\n",
    "        - Site da Macys: https://www.macys.com/shop/mens-clothing/mens-jeans\n",
    "    2. Ferramentas\n",
    "        - Python 3.8.0\n",
    "        - Bibliotecas de Webscrapping ( BS4, Selenium )\n",
    "        - PyCharm\n",
    "        - Jupyter Notebook ( Analise e prototipagens )\n",
    "        - Crontjob, Airflow\n",
    "        - Streamlit\n",
    "    \n",
    "2. Output:\n",
    "    1. A resposta para a pergunta.\n",
    "        - Mediana dos preços dos concorrents.\n",
    "    2. Formato da entrega\n",
    "        - Tabela ou gráfico\n",
    "    3. Local da entrega\n",
    "        - App Streamlit\n",
    "    \n",
    "3. Tasks:\n",
    "    1. Passo a passso para construir o cálculo da mediana ou média\n",
    "        - Realizar o calculo da mediana sobre o produto, tipo e cor\n",
    "    2. Definir o formato da entrega ( Visualização, Tabela, Frase )\n",
    "        - Gráfico de barras com a mediana dos preço dos produtos, por tipo e cor dos últimos 30 dia\n",
    "        - Tabela com as seguintes colunas: id | product_name | product_type | product_color | produ\n",
    "        - Definição do schema: Colunas e seu tipo\n",
    "        - Definição a infraestrutura de armazenamento ( SQLITE3 )\n",
    "        - Design do ETL ( Scripts de Extração, Transformação e Carga )\n",
    "        - Planejamento de Agendamento dos scripts ( dependencias entre os scripts )\n",
    "        - Fazer as visualizações\n",
    "        - Entrega do produto final\n",
    "    3. Decidir o local de entrega ( PowerBi, Telegram, Email, Streamlit, Intranet ),\n",
    "        - App com Streamlit\n"
   ]
  },
  {
   "cell_type": "markdown",
   "id": "04b6ca28",
   "metadata": {
    "heading_collapsed": true
   },
   "source": [
    "## Bussiness Models\n"
   ]
  },
  {
   "cell_type": "markdown",
   "id": "b455fdfb",
   "metadata": {
    "hidden": true
   },
   "source": [
    "\n",
    "“Como você planeja ganhar dinheiro”, Michael Lewis\n",
    "\n",
    "“Um modelo de negócio descreve a lógica de criação, entrega e captura de valor por\n",
    "parte de uma organização”, Alexander Osterwalder\n",
    "\n",
    "- E-commerce:\n",
    "    1. Faturamento: Vendas de um produto.\n",
    "    2. Exemplo: Lojas Riachuelo, Submarino, Magazine Luiza, etc\n",
    "        \n",
    "- Software AS a Service ( SaaS ):\n",
    "    1. Faturamento: Assinatura mensal/anual de utilização ou por usuário.\n",
    "    2. Exemplo: Looker, Asana, Gmail, Salesforce.\n",
    "    \n",
    "- Serviço:\n",
    "    1. Faturamento: Prestação de serviço por tempo ou projeto.\n",
    "    2. Exemplo: Sul América, Porto Seguro, Mapfre.\n",
    "    \n",
    "- Mobile App:\n",
    "    1. Faturamento: Venda de upgrades.\n",
    "    2. Exemplo: Wildlife, Ubisoft, Games Mobile.\n",
    "    \n",
    "- Media Site:\n",
    "    1. Faturamento: Cobrança por clicks ou visualizações de um determinado anúncio.\n",
    "    2. Exemplo: Facebook, Google, UOL, G1, etc.\n",
    "    \n",
    "- Marketplace:\n",
    "    1. Faturamento: Taxa sobre a transação entre o passageiro e o motorista.\n",
    "    2. Exemplo: Uber, Ifood, 99, Elo7, Submarino.\n"
   ]
  },
  {
   "cell_type": "markdown",
   "id": "2788d553",
   "metadata": {
    "heading_collapsed": true
   },
   "source": [
    "## E-commerce Metrics"
   ]
  },
  {
   "cell_type": "markdown",
   "id": "d7cdadfb",
   "metadata": {
    "hidden": true
   },
   "source": [
    "- **Growth Metrics**:\n",
    "    1. Porcentagem do Marketshare\n",
    "    2. Número de Clientes Novos\n",
    "- **Revenue Metrics**:\n",
    "    1. Número de Vendas\n",
    "    2. Ticket Médio\n",
    "    3. LTV ( Long Time Value )\n",
    "    4. Recência Média\n",
    "    5. Basket Size Médio\n",
    "    6. Markup médio\n",
    "- **Cost Metrics**:\n",
    "    1. CAC ( Custo de aquisição de Clientes )\n",
    "    2. Desconto médio\n",
    "    3. Custo de Produção\n",
    "    4. Taxa de devolução\n",
    "    5. Custos Fixos ( Folha de pagamento, escritório, softwares )\n",
    "    6. Impostos"
   ]
  },
  {
   "cell_type": "markdown",
   "id": "20be713c",
   "metadata": {},
   "source": [
    "# Imports"
   ]
  },
  {
   "cell_type": "code",
   "execution_count": 5,
   "id": "d683fa1f",
   "metadata": {
    "ExecuteTime": {
     "end_time": "2022-02-15T02:13:20.632091Z",
     "start_time": "2022-02-15T02:13:20.626893Z"
    }
   },
   "outputs": [],
   "source": [
    "import pandas as pd\n",
    "import numpy as np\n",
    "import seaborn               as sns\n",
    "import re\n",
    "\n",
    "from datetime import datetime\n",
    "\n",
    "from bs4 import BeautifulSoup\n",
    "import requests\n",
    "import matplotlib.pyplot     as plt\n",
    "\n",
    "from IPython.core.display    import HTML\n",
    "from IPython.display         import Image"
   ]
  },
  {
   "cell_type": "code",
   "execution_count": 2,
   "id": "72563e99",
   "metadata": {
    "ExecuteTime": {
     "end_time": "2022-02-15T02:13:17.810854Z",
     "start_time": "2022-02-15T02:13:17.804790Z"
    },
    "code_folding": [
     0
    ]
   },
   "outputs": [],
   "source": [
    "#helper fuction\n",
    "def jupyter_settings():\n",
    "    %matplotlib inline\n",
    "    %pylab inline\n",
    "    \n",
    "    plt.style.use( 'bmh' )\n",
    "    plt.rcParams['figure.figsize'] = [25, 12]\n",
    "    plt.rcParams['font.size'] = 24\n",
    "    \n",
    "    display( HTML( '<style>.container { width:100% !important; }</style>') )\n",
    "    pd.options.display.max_columns = None\n",
    "    pd.options.display.max_rows = None\n",
    "    pd.set_option( 'display.expand_frame_repr', False )\n",
    "    \n",
    "    sns.set()"
   ]
  },
  {
   "cell_type": "code",
   "execution_count": 3,
   "id": "f77c0448",
   "metadata": {
    "ExecuteTime": {
     "end_time": "2022-02-15T02:13:17.824025Z",
     "start_time": "2022-02-15T02:13:17.812535Z"
    },
    "scrolled": true
   },
   "outputs": [
    {
     "name": "stdout",
     "output_type": "stream",
     "text": [
      "Populating the interactive namespace from numpy and matplotlib\n"
     ]
    },
    {
     "name": "stderr",
     "output_type": "stream",
     "text": [
      "/home/marxcerqueira/.pyenv/versions/3.9.1/envs/ds-ao-dev/lib/python3.9/site-packages/IPython/core/magics/pylab.py:159: UserWarning: pylab import has clobbered these variables: ['datetime']\n",
      "`%matplotlib` prevents importing * from pylab and numpy\n",
      "  warn(\"pylab import has clobbered these variables: %s\"  % clobbered +\n"
     ]
    },
    {
     "data": {
      "text/html": [
       "<style>.container { width:100% !important; }</style>"
      ],
      "text/plain": [
       "<IPython.core.display.HTML object>"
      ]
     },
     "metadata": {},
     "output_type": "display_data"
    }
   ],
   "source": [
    "jupyter_settings()"
   ]
  },
  {
   "cell_type": "markdown",
   "id": "63e997b5",
   "metadata": {},
   "source": [
    "# Data Gathering"
   ]
  },
  {
   "cell_type": "markdown",
   "id": "a69c96c6",
   "metadata": {},
   "source": [
    "## Showcase"
   ]
  },
  {
   "cell_type": "code",
   "execution_count": 6,
   "id": "9eaea0b5",
   "metadata": {
    "ExecuteTime": {
     "end_time": "2022-02-15T02:13:21.841594Z",
     "start_time": "2022-02-15T02:13:21.540343Z"
    }
   },
   "outputs": [
    {
     "data": {
      "text/html": [
       "<div>\n",
       "<style scoped>\n",
       "    .dataframe tbody tr th:only-of-type {\n",
       "        vertical-align: middle;\n",
       "    }\n",
       "\n",
       "    .dataframe tbody tr th {\n",
       "        vertical-align: top;\n",
       "    }\n",
       "\n",
       "    .dataframe thead th {\n",
       "        text-align: right;\n",
       "    }\n",
       "</style>\n",
       "<table border=\"1\" class=\"dataframe\">\n",
       "  <thead>\n",
       "    <tr style=\"text-align: right;\">\n",
       "      <th></th>\n",
       "      <th>product_id</th>\n",
       "      <th>product_category</th>\n",
       "      <th>product_name</th>\n",
       "      <th>product_price</th>\n",
       "      <th>scrapy_datetime</th>\n",
       "    </tr>\n",
       "  </thead>\n",
       "  <tbody>\n",
       "    <tr>\n",
       "      <th>0</th>\n",
       "      <td>1008549001</td>\n",
       "      <td>men_jeans_regular</td>\n",
       "      <td>Regular Jeans</td>\n",
       "      <td>$ 19.99</td>\n",
       "      <td>2022-02-14 23:13:21</td>\n",
       "    </tr>\n",
       "    <tr>\n",
       "      <th>1</th>\n",
       "      <td>0811993040</td>\n",
       "      <td>men_jeans_regular</td>\n",
       "      <td>Regular Jeans</td>\n",
       "      <td>$ 29.99</td>\n",
       "      <td>2022-02-14 23:13:21</td>\n",
       "    </tr>\n",
       "    <tr>\n",
       "      <th>2</th>\n",
       "      <td>1013317006</td>\n",
       "      <td>men_jeans_regular</td>\n",
       "      <td>Hybrid Regular Tapered Joggers</td>\n",
       "      <td>$ 39.99</td>\n",
       "      <td>2022-02-14 23:13:21</td>\n",
       "    </tr>\n",
       "    <tr>\n",
       "      <th>3</th>\n",
       "      <td>0875105016</td>\n",
       "      <td>men_jeans_relaxed</td>\n",
       "      <td>Relaxed Jeans</td>\n",
       "      <td>$ 29.99</td>\n",
       "      <td>2022-02-14 23:13:21</td>\n",
       "    </tr>\n",
       "    <tr>\n",
       "      <th>4</th>\n",
       "      <td>0875105018</td>\n",
       "      <td>men_jeans_relaxed</td>\n",
       "      <td>Relaxed Jeans</td>\n",
       "      <td>$ 29.99</td>\n",
       "      <td>2022-02-14 23:13:21</td>\n",
       "    </tr>\n",
       "  </tbody>\n",
       "</table>\n",
       "</div>"
      ],
      "text/plain": [
       "   product_id   product_category                    product_name product_price      scrapy_datetime\n",
       "0  1008549001  men_jeans_regular                   Regular Jeans       $ 19.99  2022-02-14 23:13:21\n",
       "1  0811993040  men_jeans_regular                   Regular Jeans       $ 29.99  2022-02-14 23:13:21\n",
       "2  1013317006  men_jeans_regular  Hybrid Regular Tapered Joggers       $ 39.99  2022-02-14 23:13:21\n",
       "3  0875105016  men_jeans_relaxed                   Relaxed Jeans       $ 29.99  2022-02-14 23:13:21\n",
       "4  0875105018  men_jeans_relaxed                   Relaxed Jeans       $ 29.99  2022-02-14 23:13:21"
      ]
     },
     "execution_count": 6,
     "metadata": {},
     "output_type": "execute_result"
    }
   ],
   "source": [
    "# parameters\n",
    "headers = {'user-agent': 'my-app/0.0.1'}\n",
    "\n",
    "# URL\n",
    "url = 'https://www2.hm.com/en_us/men/products/jeans.html'\n",
    "\n",
    "#request to URL\n",
    "page = requests.get(url, headers = headers)\n",
    "\n",
    "# BeautifulSoup object\n",
    "soup = BeautifulSoup(page.text, 'html.parser')\n",
    "\n",
    "# ============== Product Data ===============\n",
    "#website showcase\n",
    "products = soup.find('ul', class_= 'products-listing small') #find retorna apenas 1 elemento, pois temos apenas 1 UL, uma vitrine, find_all retorna lista\n",
    "\n",
    "#list comprehension to get all products id and products category from the first page of \n",
    "product_list = products.find_all('article', class_ = 'hm-product-item')\n",
    "\n",
    "# product id\n",
    "product_id = [p.get('data-articlecode') for p in product_list]\n",
    "\n",
    "# product_category\n",
    "product_category = [p.get('data-category') for p in product_list]\n",
    "\n",
    "# product name\n",
    "product_list = products.find_all('a', class_ = 'link')\n",
    "product_name = [p.get_text() for p in product_list]\n",
    "\n",
    "#price\n",
    "product_list = soup.find_all('span', class_ = 'price regular')\n",
    "product_price = [p.get_text() for p in product_list]\n",
    "\n",
    "data = pd.DataFrame([product_id, product_category, product_name, product_price]).T\n",
    "data.columns = ['product_id', 'product_category', 'product_name', 'product_price']\n",
    "\n",
    "#scrapy time \n",
    "data['scrapy_datetime'] = datetime.now().strftime('%Y-%m-%d %H:%M:%S')\n",
    "data.head()"
   ]
  },
  {
   "cell_type": "code",
   "execution_count": 7,
   "id": "9df1f43a",
   "metadata": {
    "ExecuteTime": {
     "end_time": "2022-02-15T02:13:23.778523Z",
     "start_time": "2022-02-15T02:13:23.769827Z"
    },
    "scrolled": true
   },
   "outputs": [
    {
     "data": {
      "text/plain": [
       "(36, 5)"
      ]
     },
     "execution_count": 7,
     "metadata": {},
     "output_type": "execute_result"
    }
   ],
   "source": [
    "data.shape"
   ]
  },
  {
   "cell_type": "markdown",
   "id": "65b64413",
   "metadata": {},
   "source": [
    "## By products"
   ]
  },
  {
   "cell_type": "code",
   "execution_count": 19,
   "id": "1023d6d3",
   "metadata": {
    "ExecuteTime": {
     "end_time": "2022-02-15T02:36:13.489922Z",
     "start_time": "2022-02-15T02:33:55.952307Z"
    },
    "scrolled": true
   },
   "outputs": [
    {
     "name": "stdout",
     "output_type": "stream",
     "text": [
      "Product: https://www2.hm.com/en_us/productpage.1008549001.html\n",
      "Color: https://www2.hm.com/en_us/productpage.1008549001.html\n",
      "Color: https://www2.hm.com/en_us/productpage.1008549002.html\n",
      "Color: https://www2.hm.com/en_us/productpage.1008549004.html\n",
      "Color: https://www2.hm.com/en_us/productpage.1008549006.html\n",
      "Color: https://www2.hm.com/en_us/productpage.1008549008.html\n",
      "Product: https://www2.hm.com/en_us/productpage.0811993040.html\n",
      "Color: https://www2.hm.com/en_us/productpage.0811993040.html\n",
      "Color: https://www2.hm.com/en_us/productpage.0811993001.html\n",
      "Color: https://www2.hm.com/en_us/productpage.0811993002.html\n",
      "Color: https://www2.hm.com/en_us/productpage.0811993003.html\n",
      "Color: https://www2.hm.com/en_us/productpage.0811993006.html\n",
      "Color: https://www2.hm.com/en_us/productpage.0811993007.html\n",
      "Color: https://www2.hm.com/en_us/productpage.0811993021.html\n",
      "Color: https://www2.hm.com/en_us/productpage.0811993022.html\n",
      "Color: https://www2.hm.com/en_us/productpage.0811993024.html\n",
      "Color: https://www2.hm.com/en_us/productpage.0811993025.html\n",
      "Color: https://www2.hm.com/en_us/productpage.0811993028.html\n",
      "Color: https://www2.hm.com/en_us/productpage.0811993031.html\n",
      "Color: https://www2.hm.com/en_us/productpage.0811993034.html\n",
      "Color: https://www2.hm.com/en_us/productpage.0811993036.html\n",
      "Color: https://www2.hm.com/en_us/productpage.0811993037.html\n",
      "Color: https://www2.hm.com/en_us/productpage.0811993039.html\n",
      "Product: https://www2.hm.com/en_us/productpage.1013317006.html\n",
      "Color: https://www2.hm.com/en_us/productpage.1013317006.html\n",
      "Color: https://www2.hm.com/en_us/productpage.1013317001.html\n",
      "Color: https://www2.hm.com/en_us/productpage.1013317002.html\n",
      "Color: https://www2.hm.com/en_us/productpage.1013317004.html\n",
      "Color: https://www2.hm.com/en_us/productpage.1013317005.html\n",
      "Color: https://www2.hm.com/en_us/productpage.1013317008.html\n",
      "Color: https://www2.hm.com/en_us/productpage.1013317010.html\n",
      "Product: https://www2.hm.com/en_us/productpage.0875105016.html\n",
      "Color: https://www2.hm.com/en_us/productpage.0875105016.html\n",
      "Color: https://www2.hm.com/en_us/productpage.0875105001.html\n",
      "Color: https://www2.hm.com/en_us/productpage.0875105002.html\n",
      "Color: https://www2.hm.com/en_us/productpage.0875105003.html\n",
      "Color: https://www2.hm.com/en_us/productpage.0875105009.html\n",
      "Color: https://www2.hm.com/en_us/productpage.0875105011.html\n",
      "Color: https://www2.hm.com/en_us/productpage.0875105015.html\n",
      "Color: https://www2.hm.com/en_us/productpage.0875105017.html\n",
      "Color: https://www2.hm.com/en_us/productpage.0875105018.html\n",
      "Color: https://www2.hm.com/en_us/productpage.0875105023.html\n",
      "Color: https://www2.hm.com/en_us/productpage.0875105024.html\n",
      "Product: https://www2.hm.com/en_us/productpage.0875105018.html\n",
      "Color: https://www2.hm.com/en_us/productpage.0875105018.html\n",
      "Color: https://www2.hm.com/en_us/productpage.0875105001.html\n",
      "Color: https://www2.hm.com/en_us/productpage.0875105002.html\n",
      "Color: https://www2.hm.com/en_us/productpage.0875105003.html\n",
      "Color: https://www2.hm.com/en_us/productpage.0875105009.html\n",
      "Color: https://www2.hm.com/en_us/productpage.0875105011.html\n",
      "Color: https://www2.hm.com/en_us/productpage.0875105015.html\n",
      "Color: https://www2.hm.com/en_us/productpage.0875105016.html\n",
      "Color: https://www2.hm.com/en_us/productpage.0875105017.html\n",
      "Color: https://www2.hm.com/en_us/productpage.0875105023.html\n",
      "Color: https://www2.hm.com/en_us/productpage.0875105024.html\n",
      "Product: https://www2.hm.com/en_us/productpage.1008549004.html\n",
      "Color: https://www2.hm.com/en_us/productpage.1008549004.html\n",
      "Color: https://www2.hm.com/en_us/productpage.1008549001.html\n",
      "Color: https://www2.hm.com/en_us/productpage.1008549002.html\n",
      "Color: https://www2.hm.com/en_us/productpage.1008549006.html\n",
      "Color: https://www2.hm.com/en_us/productpage.1008549008.html\n",
      "Product: https://www2.hm.com/en_us/productpage.0979945002.html\n",
      "Color: https://www2.hm.com/en_us/productpage.0979945002.html\n",
      "Color: https://www2.hm.com/en_us/productpage.0979945001.html\n",
      "Color: https://www2.hm.com/en_us/productpage.0979945003.html\n",
      "Product: https://www2.hm.com/en_us/productpage.1013317002.html\n",
      "Color: https://www2.hm.com/en_us/productpage.1013317002.html\n",
      "Color: https://www2.hm.com/en_us/productpage.1013317001.html\n",
      "Color: https://www2.hm.com/en_us/productpage.1013317004.html\n",
      "Color: https://www2.hm.com/en_us/productpage.1013317005.html\n",
      "Color: https://www2.hm.com/en_us/productpage.1013317006.html\n",
      "Color: https://www2.hm.com/en_us/productpage.1013317008.html\n",
      "Color: https://www2.hm.com/en_us/productpage.1013317010.html\n",
      "Product: https://www2.hm.com/en_us/productpage.0979945001.html\n",
      "Color: https://www2.hm.com/en_us/productpage.0979945001.html\n",
      "Color: https://www2.hm.com/en_us/productpage.0979945002.html\n",
      "Color: https://www2.hm.com/en_us/productpage.0979945003.html\n",
      "Product: https://www2.hm.com/en_us/productpage.1025726002.html\n",
      "Color: https://www2.hm.com/en_us/productpage.1025726002.html\n",
      "Color: https://www2.hm.com/en_us/productpage.1025726003.html\n",
      "Product: https://www2.hm.com/en_us/productpage.1025726003.html\n",
      "Color: https://www2.hm.com/en_us/productpage.1025726003.html\n",
      "Color: https://www2.hm.com/en_us/productpage.1025726002.html\n",
      "Product: https://www2.hm.com/en_us/productpage.1024256001.html\n",
      "Color: https://www2.hm.com/en_us/productpage.1024256001.html\n",
      "Color: https://www2.hm.com/en_us/productpage.1024256002.html\n",
      "Color: https://www2.hm.com/en_us/productpage.1024256003.html\n",
      "Color: https://www2.hm.com/en_us/productpage.1024256004.html\n",
      "Color: https://www2.hm.com/en_us/productpage.1024256005.html\n",
      "Color: https://www2.hm.com/en_us/productpage.1024256006.html\n",
      "Color: https://www2.hm.com/en_us/productpage.1024256007.html\n",
      "Product: https://www2.hm.com/en_us/productpage.0690449036.html\n",
      "Color: https://www2.hm.com/en_us/productpage.0690449036.html\n",
      "Color: https://www2.hm.com/en_us/productpage.0690449001.html\n",
      "Color: https://www2.hm.com/en_us/productpage.0690449002.html\n",
      "Color: https://www2.hm.com/en_us/productpage.0690449006.html\n",
      "Color: https://www2.hm.com/en_us/productpage.0690449007.html\n",
      "Color: https://www2.hm.com/en_us/productpage.0690449009.html\n",
      "Color: https://www2.hm.com/en_us/productpage.0690449011.html\n",
      "Color: https://www2.hm.com/en_us/productpage.0690449013.html\n",
      "Color: https://www2.hm.com/en_us/productpage.0690449021.html\n",
      "Color: https://www2.hm.com/en_us/productpage.0690449022.html\n",
      "Color: https://www2.hm.com/en_us/productpage.0690449024.html\n",
      "Color: https://www2.hm.com/en_us/productpage.0690449028.html\n",
      "Color: https://www2.hm.com/en_us/productpage.0690449035.html\n",
      "Color: https://www2.hm.com/en_us/productpage.0690449040.html\n",
      "Color: https://www2.hm.com/en_us/productpage.0690449043.html\n",
      "Color: https://www2.hm.com/en_us/productpage.0690449046.html\n",
      "Color: https://www2.hm.com/en_us/productpage.0690449051.html\n",
      "Color: https://www2.hm.com/en_us/productpage.0690449056.html\n",
      "Product: https://www2.hm.com/en_us/productpage.0985159001.html\n",
      "Color: https://www2.hm.com/en_us/productpage.0985159001.html\n",
      "Color: https://www2.hm.com/en_us/productpage.0985159002.html\n",
      "Color: https://www2.hm.com/en_us/productpage.0985159003.html\n",
      "Color: https://www2.hm.com/en_us/productpage.0985159004.html\n",
      "Color: https://www2.hm.com/en_us/productpage.0985159005.html\n",
      "Color: https://www2.hm.com/en_us/productpage.0985159006.html\n",
      "Color: https://www2.hm.com/en_us/productpage.0985159007.html\n",
      "Color: https://www2.hm.com/en_us/productpage.0985159008.html\n",
      "Product: https://www2.hm.com/en_us/productpage.0690449043.html\n",
      "Color: https://www2.hm.com/en_us/productpage.0690449043.html\n",
      "Color: https://www2.hm.com/en_us/productpage.0690449001.html\n",
      "Color: https://www2.hm.com/en_us/productpage.0690449002.html\n",
      "Color: https://www2.hm.com/en_us/productpage.0690449006.html\n",
      "Color: https://www2.hm.com/en_us/productpage.0690449007.html\n",
      "Color: https://www2.hm.com/en_us/productpage.0690449009.html\n",
      "Color: https://www2.hm.com/en_us/productpage.0690449011.html\n",
      "Color: https://www2.hm.com/en_us/productpage.0690449013.html\n",
      "Color: https://www2.hm.com/en_us/productpage.0690449021.html\n",
      "Color: https://www2.hm.com/en_us/productpage.0690449022.html\n",
      "Color: https://www2.hm.com/en_us/productpage.0690449024.html\n",
      "Color: https://www2.hm.com/en_us/productpage.0690449028.html\n",
      "Color: https://www2.hm.com/en_us/productpage.0690449035.html\n",
      "Color: https://www2.hm.com/en_us/productpage.0690449036.html\n"
     ]
    },
    {
     "name": "stdout",
     "output_type": "stream",
     "text": [
      "Color: https://www2.hm.com/en_us/productpage.0690449040.html\n",
      "Color: https://www2.hm.com/en_us/productpage.0690449046.html\n",
      "Color: https://www2.hm.com/en_us/productpage.0690449051.html\n",
      "Color: https://www2.hm.com/en_us/productpage.0690449056.html\n",
      "Product: https://www2.hm.com/en_us/productpage.1008549006.html\n",
      "Color: https://www2.hm.com/en_us/productpage.1008549006.html\n",
      "Color: https://www2.hm.com/en_us/productpage.1008549001.html\n",
      "Color: https://www2.hm.com/en_us/productpage.1008549002.html\n",
      "Color: https://www2.hm.com/en_us/productpage.1008549004.html\n",
      "Color: https://www2.hm.com/en_us/productpage.1008549008.html\n",
      "Product: https://www2.hm.com/en_us/productpage.0690449056.html\n",
      "Color: https://www2.hm.com/en_us/productpage.0690449056.html\n",
      "Color: https://www2.hm.com/en_us/productpage.0690449001.html\n",
      "Color: https://www2.hm.com/en_us/productpage.0690449002.html\n",
      "Color: https://www2.hm.com/en_us/productpage.0690449006.html\n",
      "Color: https://www2.hm.com/en_us/productpage.0690449007.html\n",
      "Color: https://www2.hm.com/en_us/productpage.0690449009.html\n",
      "Color: https://www2.hm.com/en_us/productpage.0690449011.html\n",
      "Color: https://www2.hm.com/en_us/productpage.0690449013.html\n",
      "Color: https://www2.hm.com/en_us/productpage.0690449021.html\n",
      "Color: https://www2.hm.com/en_us/productpage.0690449022.html\n",
      "Color: https://www2.hm.com/en_us/productpage.0690449024.html\n",
      "Color: https://www2.hm.com/en_us/productpage.0690449028.html\n",
      "Color: https://www2.hm.com/en_us/productpage.0690449035.html\n",
      "Color: https://www2.hm.com/en_us/productpage.0690449036.html\n",
      "Color: https://www2.hm.com/en_us/productpage.0690449040.html\n",
      "Color: https://www2.hm.com/en_us/productpage.0690449043.html\n",
      "Color: https://www2.hm.com/en_us/productpage.0690449046.html\n",
      "Color: https://www2.hm.com/en_us/productpage.0690449051.html\n",
      "Product: https://www2.hm.com/en_us/productpage.1024256005.html\n",
      "Color: https://www2.hm.com/en_us/productpage.1024256005.html\n",
      "Color: https://www2.hm.com/en_us/productpage.1024256001.html\n",
      "Color: https://www2.hm.com/en_us/productpage.1024256002.html\n",
      "Color: https://www2.hm.com/en_us/productpage.1024256003.html\n",
      "Color: https://www2.hm.com/en_us/productpage.1024256004.html\n",
      "Color: https://www2.hm.com/en_us/productpage.1024256006.html\n",
      "Color: https://www2.hm.com/en_us/productpage.1024256007.html\n",
      "Product: https://www2.hm.com/en_us/productpage.1004199005.html\n",
      "Color: https://www2.hm.com/en_us/productpage.1004199005.html\n",
      "Color: https://www2.hm.com/en_us/productpage.1004199001.html\n",
      "Color: https://www2.hm.com/en_us/productpage.1004199002.html\n",
      "Color: https://www2.hm.com/en_us/productpage.1004199003.html\n",
      "Product: https://www2.hm.com/en_us/productpage.0690449022.html\n",
      "Color: https://www2.hm.com/en_us/productpage.0690449022.html\n",
      "Color: https://www2.hm.com/en_us/productpage.0690449001.html\n",
      "Color: https://www2.hm.com/en_us/productpage.0690449002.html\n",
      "Color: https://www2.hm.com/en_us/productpage.0690449006.html\n",
      "Color: https://www2.hm.com/en_us/productpage.0690449007.html\n",
      "Color: https://www2.hm.com/en_us/productpage.0690449009.html\n",
      "Color: https://www2.hm.com/en_us/productpage.0690449011.html\n",
      "Color: https://www2.hm.com/en_us/productpage.0690449013.html\n",
      "Color: https://www2.hm.com/en_us/productpage.0690449021.html\n",
      "Color: https://www2.hm.com/en_us/productpage.0690449024.html\n",
      "Color: https://www2.hm.com/en_us/productpage.0690449028.html\n",
      "Color: https://www2.hm.com/en_us/productpage.0690449035.html\n",
      "Color: https://www2.hm.com/en_us/productpage.0690449036.html\n",
      "Color: https://www2.hm.com/en_us/productpage.0690449040.html\n",
      "Color: https://www2.hm.com/en_us/productpage.0690449043.html\n",
      "Color: https://www2.hm.com/en_us/productpage.0690449046.html\n",
      "Color: https://www2.hm.com/en_us/productpage.0690449051.html\n",
      "Color: https://www2.hm.com/en_us/productpage.0690449056.html\n",
      "Product: https://www2.hm.com/en_us/productpage.1024256006.html\n",
      "Color: https://www2.hm.com/en_us/productpage.1024256006.html\n",
      "Color: https://www2.hm.com/en_us/productpage.1024256001.html\n",
      "Color: https://www2.hm.com/en_us/productpage.1024256002.html\n",
      "Color: https://www2.hm.com/en_us/productpage.1024256003.html\n",
      "Color: https://www2.hm.com/en_us/productpage.1024256004.html\n",
      "Color: https://www2.hm.com/en_us/productpage.1024256005.html\n",
      "Color: https://www2.hm.com/en_us/productpage.1024256007.html\n",
      "Product: https://www2.hm.com/en_us/productpage.1024256002.html\n",
      "Color: https://www2.hm.com/en_us/productpage.1024256002.html\n",
      "Color: https://www2.hm.com/en_us/productpage.1024256001.html\n",
      "Color: https://www2.hm.com/en_us/productpage.1024256003.html\n",
      "Color: https://www2.hm.com/en_us/productpage.1024256004.html\n",
      "Color: https://www2.hm.com/en_us/productpage.1024256005.html\n",
      "Color: https://www2.hm.com/en_us/productpage.1024256006.html\n",
      "Color: https://www2.hm.com/en_us/productpage.1024256007.html\n",
      "Product: https://www2.hm.com/en_us/productpage.1024256003.html\n",
      "Color: https://www2.hm.com/en_us/productpage.1024256003.html\n",
      "Color: https://www2.hm.com/en_us/productpage.1024256001.html\n",
      "Color: https://www2.hm.com/en_us/productpage.1024256002.html\n",
      "Color: https://www2.hm.com/en_us/productpage.1024256004.html\n",
      "Color: https://www2.hm.com/en_us/productpage.1024256005.html\n",
      "Color: https://www2.hm.com/en_us/productpage.1024256006.html\n",
      "Color: https://www2.hm.com/en_us/productpage.1024256007.html\n",
      "Product: https://www2.hm.com/en_us/productpage.1024256007.html\n",
      "Color: https://www2.hm.com/en_us/productpage.1024256007.html\n",
      "Color: https://www2.hm.com/en_us/productpage.1024256001.html\n",
      "Color: https://www2.hm.com/en_us/productpage.1024256002.html\n",
      "Color: https://www2.hm.com/en_us/productpage.1024256003.html\n",
      "Color: https://www2.hm.com/en_us/productpage.1024256004.html\n",
      "Color: https://www2.hm.com/en_us/productpage.1024256005.html\n",
      "Color: https://www2.hm.com/en_us/productpage.1024256006.html\n",
      "Product: https://www2.hm.com/en_us/productpage.0985159008.html\n",
      "Color: https://www2.hm.com/en_us/productpage.0985159008.html\n",
      "Color: https://www2.hm.com/en_us/productpage.0985159001.html\n",
      "Color: https://www2.hm.com/en_us/productpage.0985159002.html\n",
      "Color: https://www2.hm.com/en_us/productpage.0985159003.html\n",
      "Color: https://www2.hm.com/en_us/productpage.0985159004.html\n",
      "Color: https://www2.hm.com/en_us/productpage.0985159005.html\n",
      "Color: https://www2.hm.com/en_us/productpage.0985159006.html\n",
      "Color: https://www2.hm.com/en_us/productpage.0985159007.html\n",
      "Product: https://www2.hm.com/en_us/productpage.0985159004.html\n",
      "Color: https://www2.hm.com/en_us/productpage.0985159004.html\n",
      "Color: https://www2.hm.com/en_us/productpage.0985159001.html\n",
      "Color: https://www2.hm.com/en_us/productpage.0985159002.html\n",
      "Color: https://www2.hm.com/en_us/productpage.0985159003.html\n",
      "Color: https://www2.hm.com/en_us/productpage.0985159005.html\n",
      "Color: https://www2.hm.com/en_us/productpage.0985159006.html\n",
      "Color: https://www2.hm.com/en_us/productpage.0985159007.html\n",
      "Color: https://www2.hm.com/en_us/productpage.0985159008.html\n",
      "Product: https://www2.hm.com/en_us/productpage.0985159005.html\n",
      "Color: https://www2.hm.com/en_us/productpage.0985159005.html\n",
      "Color: https://www2.hm.com/en_us/productpage.0985159001.html\n",
      "Color: https://www2.hm.com/en_us/productpage.0985159002.html\n",
      "Color: https://www2.hm.com/en_us/productpage.0985159003.html\n",
      "Color: https://www2.hm.com/en_us/productpage.0985159004.html\n",
      "Color: https://www2.hm.com/en_us/productpage.0985159006.html\n",
      "Color: https://www2.hm.com/en_us/productpage.0985159007.html\n",
      "Color: https://www2.hm.com/en_us/productpage.0985159008.html\n",
      "Product: https://www2.hm.com/en_us/productpage.0985159006.html\n",
      "Color: https://www2.hm.com/en_us/productpage.0985159006.html\n",
      "Color: https://www2.hm.com/en_us/productpage.0985159001.html\n",
      "Color: https://www2.hm.com/en_us/productpage.0985159002.html\n",
      "Color: https://www2.hm.com/en_us/productpage.0985159003.html\n",
      "Color: https://www2.hm.com/en_us/productpage.0985159004.html\n",
      "Color: https://www2.hm.com/en_us/productpage.0985159005.html\n",
      "Color: https://www2.hm.com/en_us/productpage.0985159007.html\n",
      "Color: https://www2.hm.com/en_us/productpage.0985159008.html\n",
      "Product: https://www2.hm.com/en_us/productpage.1004199002.html\n",
      "Color: https://www2.hm.com/en_us/productpage.1004199002.html\n",
      "Color: https://www2.hm.com/en_us/productpage.1004199001.html\n",
      "Color: https://www2.hm.com/en_us/productpage.1004199003.html\n",
      "Color: https://www2.hm.com/en_us/productpage.1004199005.html\n"
     ]
    },
    {
     "name": "stdout",
     "output_type": "stream",
     "text": [
      "Product: https://www2.hm.com/en_us/productpage.0690449051.html\n",
      "Color: https://www2.hm.com/en_us/productpage.0690449051.html\n",
      "Color: https://www2.hm.com/en_us/productpage.0690449001.html\n",
      "Color: https://www2.hm.com/en_us/productpage.0690449002.html\n",
      "Color: https://www2.hm.com/en_us/productpage.0690449006.html\n",
      "Color: https://www2.hm.com/en_us/productpage.0690449007.html\n",
      "Color: https://www2.hm.com/en_us/productpage.0690449009.html\n",
      "Color: https://www2.hm.com/en_us/productpage.0690449011.html\n",
      "Color: https://www2.hm.com/en_us/productpage.0690449013.html\n",
      "Color: https://www2.hm.com/en_us/productpage.0690449021.html\n",
      "Color: https://www2.hm.com/en_us/productpage.0690449022.html\n",
      "Color: https://www2.hm.com/en_us/productpage.0690449024.html\n",
      "Color: https://www2.hm.com/en_us/productpage.0690449028.html\n",
      "Color: https://www2.hm.com/en_us/productpage.0690449035.html\n",
      "Color: https://www2.hm.com/en_us/productpage.0690449036.html\n",
      "Color: https://www2.hm.com/en_us/productpage.0690449040.html\n",
      "Color: https://www2.hm.com/en_us/productpage.0690449043.html\n",
      "Color: https://www2.hm.com/en_us/productpage.0690449046.html\n",
      "Color: https://www2.hm.com/en_us/productpage.0690449056.html\n",
      "Product: https://www2.hm.com/en_us/productpage.1008549002.html\n",
      "Color: https://www2.hm.com/en_us/productpage.1008549002.html\n",
      "Color: https://www2.hm.com/en_us/productpage.1008549001.html\n",
      "Color: https://www2.hm.com/en_us/productpage.1008549004.html\n",
      "Color: https://www2.hm.com/en_us/productpage.1008549006.html\n",
      "Color: https://www2.hm.com/en_us/productpage.1008549008.html\n",
      "Product: https://www2.hm.com/en_us/productpage.1004199001.html\n",
      "Color: https://www2.hm.com/en_us/productpage.1004199001.html\n",
      "Color: https://www2.hm.com/en_us/productpage.1004199002.html\n",
      "Color: https://www2.hm.com/en_us/productpage.1004199003.html\n",
      "Color: https://www2.hm.com/en_us/productpage.1004199005.html\n",
      "Product: https://www2.hm.com/en_us/productpage.0427159006.html\n",
      "Color: https://www2.hm.com/en_us/productpage.0427159006.html\n",
      "Color: https://www2.hm.com/en_us/productpage.0427159001.html\n",
      "Color: https://www2.hm.com/en_us/productpage.0427159002.html\n",
      "Color: https://www2.hm.com/en_us/productpage.0427159003.html\n",
      "Color: https://www2.hm.com/en_us/productpage.0427159004.html\n",
      "Color: https://www2.hm.com/en_us/productpage.0427159005.html\n",
      "Color: https://www2.hm.com/en_us/productpage.0427159007.html\n",
      "Color: https://www2.hm.com/en_us/productpage.0427159008.html\n",
      "Color: https://www2.hm.com/en_us/productpage.0427159010.html\n",
      "Color: https://www2.hm.com/en_us/productpage.0427159011.html\n",
      "Color: https://www2.hm.com/en_us/productpage.0427159017.html\n",
      "Color: https://www2.hm.com/en_us/productpage.0427159022.html\n",
      "Color: https://www2.hm.com/en_us/productpage.0427159023.html\n",
      "Color: https://www2.hm.com/en_us/productpage.0427159025.html\n",
      "Color: https://www2.hm.com/en_us/productpage.0427159027.html\n",
      "Product: https://www2.hm.com/en_us/productpage.1024256004.html\n",
      "Color: https://www2.hm.com/en_us/productpage.1024256004.html\n",
      "Color: https://www2.hm.com/en_us/productpage.1024256001.html\n",
      "Color: https://www2.hm.com/en_us/productpage.1024256002.html\n",
      "Color: https://www2.hm.com/en_us/productpage.1024256003.html\n",
      "Color: https://www2.hm.com/en_us/productpage.1024256005.html\n",
      "Color: https://www2.hm.com/en_us/productpage.1024256006.html\n",
      "Color: https://www2.hm.com/en_us/productpage.1024256007.html\n",
      "Product: https://www2.hm.com/en_us/productpage.1013317008.html\n",
      "Color: https://www2.hm.com/en_us/productpage.1013317008.html\n",
      "Color: https://www2.hm.com/en_us/productpage.1013317001.html\n",
      "Color: https://www2.hm.com/en_us/productpage.1013317002.html\n",
      "Color: https://www2.hm.com/en_us/productpage.1013317004.html\n",
      "Color: https://www2.hm.com/en_us/productpage.1013317005.html\n",
      "Color: https://www2.hm.com/en_us/productpage.1013317006.html\n",
      "Color: https://www2.hm.com/en_us/productpage.1013317010.html\n",
      "Product: https://www2.hm.com/en_us/productpage.1004199003.html\n",
      "Color: https://www2.hm.com/en_us/productpage.1004199003.html\n",
      "Color: https://www2.hm.com/en_us/productpage.1004199001.html\n",
      "Color: https://www2.hm.com/en_us/productpage.1004199002.html\n",
      "Color: https://www2.hm.com/en_us/productpage.1004199005.html\n"
     ]
    }
   ],
   "source": [
    "# empty  dataframe\n",
    "df_compositions = pd.DataFrame()\n",
    "\n",
    "# unique columns for all products\n",
    "aux = []\n",
    "\n",
    "cols = ['Art. No.', 'Composition', 'Fit', 'Product safety', 'Size', 'More sustainable materials']\n",
    "df_pattern = pd.DataFrame(columns = cols)\n",
    "\n",
    "for i in range(len(data)):\n",
    "    # API Request\n",
    "    url = 'https://www2.hm.com/en_us/productpage.' + data.loc[i, 'product_id'] + '.html'\n",
    "\n",
    "    print('Product: {}'.format(url))\n",
    "    \n",
    "    page = requests.get(url, headers = headers)\n",
    "    \n",
    "    # Beautiful Soup object\n",
    "    soup = BeautifulSoup(page.text, 'html.parser')\n",
    "    \n",
    "    # ==================== color name =================================\n",
    "    product_list = soup.find_all( 'a', class_='filter-option miniature active' ) + soup.find_all( 'a', class_='filter-option miniature' )\n",
    "    \n",
    "    # color name\n",
    "    color_name = [p.get( 'data-color' ) for p in product_list]\n",
    "    \n",
    "    # product id\n",
    "    product_id = [p.get( 'data-articlecode' ) for p in product_list]\n",
    "    \n",
    "    df_color = pd.DataFrame( [product_id, color_name] ).T\n",
    "    df_color.columns = ['product_id', 'color_name']\n",
    "    \n",
    "    for j in range(len(df_color)): #go through all colors and collect each composition \n",
    "        # API Request\n",
    "        url = 'https://www2.hm.com/en_us/productpage.' + df_color.loc[j, 'product_id'] + '.html'\n",
    "    \n",
    "        print('Color: {}'.format(url))\n",
    "\n",
    "        page = requests.get(url, headers = headers)\n",
    "\n",
    "        # Beautiful Soup object\n",
    "        soup = BeautifulSoup(page.text, 'html.parser')\n",
    "        \n",
    "        # ============ Product Name =============roduct_price = soup.find_all('div', class_ = 'primary-row product-item-price')\n",
    "        product_name = soup.find_all('h1', class_ = 'primary product-item-headline')\n",
    "#       product_name = [ p.get_text() for p in product_name]\n",
    "        product_name = product_name[0].get_text()\n",
    "    \n",
    "        # ============ Product Price =============\n",
    "        product_price = soup.find_all('div', class_ = 'primary-row product-item-price')\n",
    "        product_price = re.findall(r'\\d+.?\\d+', product_price[0].get_text())[0]     \n",
    "        \n",
    "#         df_product_name_price = pd.DataFrame([product_name, product_price]).T\n",
    "        \n",
    "        # =================== composition =====================\n",
    "        product_composition_list = soup.find_all( 'div', class_='pdp-description-list-item' )\n",
    "        product_composition = [list( filter( None, p.get_text().split( '\\n' ) ) ) for p in product_composition_list]\n",
    "\n",
    "        # create composition dataframe\n",
    "        df_composition = pd.DataFrame(product_composition).T\n",
    "        df_composition.columns = df_composition.iloc[0]\n",
    "\n",
    "        # delete first row\n",
    "        df_composition = df_composition.iloc[1:].fillna(method = 'ffill')\n",
    "\n",
    "        # remove pocket lining, shell and lining\n",
    "        df_composition['Composition'] = df_composition['Composition'].str.replace('Pocket lining: ', '', regex = True)\n",
    "        df_composition['Composition'] = df_composition['Composition'].str.replace('Shell: ', '', regex = True)\n",
    "        df_composition['Composition'] = df_composition['Composition'].str.replace('Lining: ', '', regex = True)\n",
    "\n",
    "        # garantee the same number of columns\n",
    "        df_composition = pd.concat( [df_pattern, df_composition], axis=0 )\n",
    "\n",
    "        #rename columns\n",
    "        df_composition.columns = ['product_id','composition','fit','product_safety', 'size', 'sustainable_materials']\n",
    "\n",
    "        #create columns product name and product price\n",
    "        df_composition['product_name'] = product_name\n",
    "        df_composition['product_price'] = product_price\n",
    "        \n",
    "        #keep new columns if it shows up\n",
    "        aux = aux + df_composition.columns.tolist() #to guarantee we have all columns of composition unique values\n",
    "\n",
    "        # merge data color + composition\n",
    "        df_composition = pd.merge( df_composition, df_color, how = 'left', on = 'product_id')\n",
    "\n",
    "        # all products\n",
    "        df_compositions = pd.concat([df_compositions, df_composition], axis = 0)\n",
    "    \n",
    "# # Join Showroom data + details\n",
    "df_compositions['style_id'] = df_compositions['product_id'].apply( lambda x: x[:-3] )\n",
    "df_compositions['color_id'] = df_compositions['product_id'].apply( lambda x: x[-3:] )\n",
    "\n",
    "#scrapy time \n",
    "df_compositions['scrapy_datetime'] = datetime.now().strftime('%Y-%m-%d %H:%M:%S')\n",
    "\n"
   ]
  },
  {
   "cell_type": "code",
   "execution_count": null,
   "id": "668e2a33",
   "metadata": {
    "ExecuteTime": {
     "end_time": "2022-02-15T02:13:18.594061Z",
     "start_time": "2022-02-15T02:13:16.742Z"
    }
   },
   "outputs": [],
   "source": [
    "len(df_compositions['product_id'].unique())"
   ]
  },
  {
   "cell_type": "code",
   "execution_count": null,
   "id": "746c6589",
   "metadata": {
    "ExecuteTime": {
     "end_time": "2022-02-15T02:13:18.594782Z",
     "start_time": "2022-02-15T02:13:16.744Z"
    }
   },
   "outputs": [],
   "source": [
    "df_product_category = data[['product_id', 'product_category']].drop_duplicates()\n",
    "df_product_category"
   ]
  },
  {
   "cell_type": "code",
   "execution_count": null,
   "id": "222bb54d",
   "metadata": {
    "ExecuteTime": {
     "end_time": "2022-02-15T02:13:18.595338Z",
     "start_time": "2022-02-15T02:13:16.746Z"
    }
   },
   "outputs": [],
   "source": [
    "df_compositions.head(15)"
   ]
  },
  {
   "cell_type": "code",
   "execution_count": null,
   "id": "a1243558",
   "metadata": {
    "ExecuteTime": {
     "end_time": "2022-02-15T02:13:18.595973Z",
     "start_time": "2022-02-15T02:13:16.748Z"
    }
   },
   "outputs": [],
   "source": [
    "df_color.head(25)"
   ]
  },
  {
   "cell_type": "code",
   "execution_count": null,
   "id": "10b8dc18",
   "metadata": {
    "ExecuteTime": {
     "end_time": "2022-02-15T02:13:18.596631Z",
     "start_time": "2022-02-15T02:13:16.750Z"
    },
    "scrolled": true
   },
   "outputs": [],
   "source": [
    "df_composition.head()"
   ]
  },
  {
   "cell_type": "code",
   "execution_count": null,
   "id": "d9198d48",
   "metadata": {
    "ExecuteTime": {
     "end_time": "2022-02-15T02:13:18.597152Z",
     "start_time": "2022-02-15T02:13:16.752Z"
    }
   },
   "outputs": [],
   "source": [
    "aux"
   ]
  },
  {
   "cell_type": "code",
   "execution_count": 24,
   "id": "39723a2d",
   "metadata": {
    "ExecuteTime": {
     "end_time": "2022-02-15T12:44:24.620806Z",
     "start_time": "2022-02-15T12:44:24.609496Z"
    },
    "scrolled": true
   },
   "outputs": [
    {
     "data": {
      "text/html": [
       "<div>\n",
       "<style scoped>\n",
       "    .dataframe tbody tr th:only-of-type {\n",
       "        vertical-align: middle;\n",
       "    }\n",
       "\n",
       "    .dataframe tbody tr th {\n",
       "        vertical-align: top;\n",
       "    }\n",
       "\n",
       "    .dataframe thead th {\n",
       "        text-align: right;\n",
       "    }\n",
       "</style>\n",
       "<table border=\"1\" class=\"dataframe\">\n",
       "  <thead>\n",
       "    <tr style=\"text-align: right;\">\n",
       "      <th></th>\n",
       "      <th>product_id</th>\n",
       "      <th>composition</th>\n",
       "      <th>fit</th>\n",
       "      <th>product_safety</th>\n",
       "      <th>size</th>\n",
       "      <th>sustainable_materials</th>\n",
       "      <th>product_name</th>\n",
       "      <th>product_price</th>\n",
       "      <th>color_name</th>\n",
       "      <th>style_id</th>\n",
       "      <th>color_id</th>\n",
       "      <th>scrapy_datetime</th>\n",
       "    </tr>\n",
       "  </thead>\n",
       "  <tbody>\n",
       "    <tr>\n",
       "      <th>0</th>\n",
       "      <td>1008549001</td>\n",
       "      <td>Cotton 98%, Spandex 2%</td>\n",
       "      <td>Regular fit</td>\n",
       "      <td>NaN</td>\n",
       "      <td>NaN</td>\n",
       "      <td>Recycled cotton 20%</td>\n",
       "      <td>\\n\\t\\t\\t\\t\\t\\t\\t  Regular Jeans</td>\n",
       "      <td>19.99</td>\n",
       "      <td>Light denim blue</td>\n",
       "      <td>1008549</td>\n",
       "      <td>001</td>\n",
       "      <td>2022-02-14 23:36:13</td>\n",
       "    </tr>\n",
       "    <tr>\n",
       "      <th>1</th>\n",
       "      <td>1008549001</td>\n",
       "      <td>Polyester 65%, Cotton 35%</td>\n",
       "      <td>Regular fit</td>\n",
       "      <td>NaN</td>\n",
       "      <td>NaN</td>\n",
       "      <td>Recycled cotton 20%</td>\n",
       "      <td>\\n\\t\\t\\t\\t\\t\\t\\t  Regular Jeans</td>\n",
       "      <td>19.99</td>\n",
       "      <td>Light denim blue</td>\n",
       "      <td>1008549</td>\n",
       "      <td>001</td>\n",
       "      <td>2022-02-14 23:36:13</td>\n",
       "    </tr>\n",
       "    <tr>\n",
       "      <th>0</th>\n",
       "      <td>1008549002</td>\n",
       "      <td>Polyester 65%, Cotton 35%</td>\n",
       "      <td>Regular fit</td>\n",
       "      <td>NaN</td>\n",
       "      <td>The model is 185cm/6'1\" and wears a size 31/32</td>\n",
       "      <td>Recycled cotton 20%</td>\n",
       "      <td>\\n\\t\\t\\t\\t\\t\\t\\t  Regular Jeans</td>\n",
       "      <td>19.99</td>\n",
       "      <td>Denim blue</td>\n",
       "      <td>1008549</td>\n",
       "      <td>002</td>\n",
       "      <td>2022-02-14 23:36:13</td>\n",
       "    </tr>\n",
       "    <tr>\n",
       "      <th>1</th>\n",
       "      <td>1008549002</td>\n",
       "      <td>Cotton 99%, Spandex 1%</td>\n",
       "      <td>Regular fit</td>\n",
       "      <td>NaN</td>\n",
       "      <td>The model is 185cm/6'1\" and wears a size 31/32</td>\n",
       "      <td>Recycled cotton 20%</td>\n",
       "      <td>\\n\\t\\t\\t\\t\\t\\t\\t  Regular Jeans</td>\n",
       "      <td>19.99</td>\n",
       "      <td>Denim blue</td>\n",
       "      <td>1008549</td>\n",
       "      <td>002</td>\n",
       "      <td>2022-02-14 23:36:13</td>\n",
       "    </tr>\n",
       "    <tr>\n",
       "      <th>0</th>\n",
       "      <td>1008549004</td>\n",
       "      <td>Cotton 99%, Spandex 1%</td>\n",
       "      <td>Regular fit</td>\n",
       "      <td>NaN</td>\n",
       "      <td>The model is 180cm/5'11\" and wears a size 31/32</td>\n",
       "      <td>Recycled cotton 20%</td>\n",
       "      <td>\\n\\t\\t\\t\\t\\t\\t\\t  Regular Jeans</td>\n",
       "      <td>19.99</td>\n",
       "      <td>Dark blue</td>\n",
       "      <td>1008549</td>\n",
       "      <td>004</td>\n",
       "      <td>2022-02-14 23:36:13</td>\n",
       "    </tr>\n",
       "  </tbody>\n",
       "</table>\n",
       "</div>"
      ],
      "text/plain": [
       "   product_id                composition          fit product_safety                                             size sustainable_materials                     product_name product_price        color_name style_id color_id      scrapy_datetime\n",
       "0  1008549001     Cotton 98%, Spandex 2%  Regular fit            NaN                                              NaN   Recycled cotton 20%  \\n\\t\\t\\t\\t\\t\\t\\t  Regular Jeans         19.99  Light denim blue  1008549      001  2022-02-14 23:36:13\n",
       "1  1008549001  Polyester 65%, Cotton 35%  Regular fit            NaN                                              NaN   Recycled cotton 20%  \\n\\t\\t\\t\\t\\t\\t\\t  Regular Jeans         19.99  Light denim blue  1008549      001  2022-02-14 23:36:13\n",
       "0  1008549002  Polyester 65%, Cotton 35%  Regular fit            NaN   The model is 185cm/6'1\" and wears a size 31/32   Recycled cotton 20%  \\n\\t\\t\\t\\t\\t\\t\\t  Regular Jeans         19.99        Denim blue  1008549      002  2022-02-14 23:36:13\n",
       "1  1008549002     Cotton 99%, Spandex 1%  Regular fit            NaN   The model is 185cm/6'1\" and wears a size 31/32   Recycled cotton 20%  \\n\\t\\t\\t\\t\\t\\t\\t  Regular Jeans         19.99        Denim blue  1008549      002  2022-02-14 23:36:13\n",
       "0  1008549004     Cotton 99%, Spandex 1%  Regular fit            NaN  The model is 180cm/5'11\" and wears a size 31/32   Recycled cotton 20%  \\n\\t\\t\\t\\t\\t\\t\\t  Regular Jeans         19.99         Dark blue  1008549      004  2022-02-14 23:36:13"
      ]
     },
     "execution_count": 24,
     "metadata": {},
     "output_type": "execute_result"
    }
   ],
   "source": [
    "df_compositions.head()"
   ]
  },
  {
   "cell_type": "code",
   "execution_count": 18,
   "id": "858bb5e6",
   "metadata": {
    "ExecuteTime": {
     "end_time": "2022-02-15T02:33:20.506382Z",
     "start_time": "2022-02-15T02:33:20.503152Z"
    }
   },
   "outputs": [
    {
     "data": {
      "text/plain": [
       "Index(['product_id', 'composition', 'fit', 'product_safety', 'size',\n",
       "       'sustainable_materials', 'pŕoduct_name', 'product_price', 'color_name',\n",
       "       'style_id', 'color_id', 'scrapy_datetime'],\n",
       "      dtype='object')"
      ]
     },
     "execution_count": 18,
     "metadata": {},
     "output_type": "execute_result"
    }
   ],
   "source": [
    "df_compositions.columns"
   ]
  },
  {
   "cell_type": "code",
   "execution_count": 38,
   "id": "08041fd2",
   "metadata": {
    "ExecuteTime": {
     "end_time": "2022-02-15T12:47:23.377566Z",
     "start_time": "2022-02-15T12:47:23.356133Z"
    },
    "scrolled": false
   },
   "outputs": [
    {
     "data": {
      "text/html": [
       "<div>\n",
       "<style scoped>\n",
       "    .dataframe tbody tr th:only-of-type {\n",
       "        vertical-align: middle;\n",
       "    }\n",
       "\n",
       "    .dataframe tbody tr th {\n",
       "        vertical-align: top;\n",
       "    }\n",
       "\n",
       "    .dataframe thead th {\n",
       "        text-align: right;\n",
       "    }\n",
       "</style>\n",
       "<table border=\"1\" class=\"dataframe\">\n",
       "  <thead>\n",
       "    <tr style=\"text-align: right;\">\n",
       "      <th></th>\n",
       "      <th>product_id</th>\n",
       "      <th>composition</th>\n",
       "      <th>fit</th>\n",
       "      <th>product_safety</th>\n",
       "      <th>size</th>\n",
       "      <th>sustainable_materials</th>\n",
       "      <th>product_name</th>\n",
       "      <th>product_price</th>\n",
       "      <th>color_name</th>\n",
       "      <th>style_id</th>\n",
       "      <th>color_id</th>\n",
       "      <th>scrapy_datetime</th>\n",
       "    </tr>\n",
       "  </thead>\n",
       "  <tbody>\n",
       "    <tr>\n",
       "      <th>0</th>\n",
       "      <td>1008549001</td>\n",
       "      <td>Cotton 98%, Spandex 2%</td>\n",
       "      <td>Regular fit</td>\n",
       "      <td>NaN</td>\n",
       "      <td>NaN</td>\n",
       "      <td>Recycled cotton 20%</td>\n",
       "      <td>regular jeans</td>\n",
       "      <td>19.99</td>\n",
       "      <td>Light denim blue</td>\n",
       "      <td>1008549</td>\n",
       "      <td>001</td>\n",
       "      <td>2022-02-14 23:36:13</td>\n",
       "    </tr>\n",
       "    <tr>\n",
       "      <th>1</th>\n",
       "      <td>1008549001</td>\n",
       "      <td>Polyester 65%, Cotton 35%</td>\n",
       "      <td>Regular fit</td>\n",
       "      <td>NaN</td>\n",
       "      <td>NaN</td>\n",
       "      <td>Recycled cotton 20%</td>\n",
       "      <td>regular jeans</td>\n",
       "      <td>19.99</td>\n",
       "      <td>Light denim blue</td>\n",
       "      <td>1008549</td>\n",
       "      <td>001</td>\n",
       "      <td>2022-02-14 23:36:13</td>\n",
       "    </tr>\n",
       "    <tr>\n",
       "      <th>0</th>\n",
       "      <td>1008549002</td>\n",
       "      <td>Polyester 65%, Cotton 35%</td>\n",
       "      <td>Regular fit</td>\n",
       "      <td>NaN</td>\n",
       "      <td>The model is 185cm/6'1\" and wears a size 31/32</td>\n",
       "      <td>Recycled cotton 20%</td>\n",
       "      <td>regular jeans</td>\n",
       "      <td>19.99</td>\n",
       "      <td>Denim blue</td>\n",
       "      <td>1008549</td>\n",
       "      <td>002</td>\n",
       "      <td>2022-02-14 23:36:13</td>\n",
       "    </tr>\n",
       "    <tr>\n",
       "      <th>1</th>\n",
       "      <td>1008549002</td>\n",
       "      <td>Cotton 99%, Spandex 1%</td>\n",
       "      <td>Regular fit</td>\n",
       "      <td>NaN</td>\n",
       "      <td>The model is 185cm/6'1\" and wears a size 31/32</td>\n",
       "      <td>Recycled cotton 20%</td>\n",
       "      <td>regular jeans</td>\n",
       "      <td>19.99</td>\n",
       "      <td>Denim blue</td>\n",
       "      <td>1008549</td>\n",
       "      <td>002</td>\n",
       "      <td>2022-02-14 23:36:13</td>\n",
       "    </tr>\n",
       "    <tr>\n",
       "      <th>0</th>\n",
       "      <td>1008549004</td>\n",
       "      <td>Cotton 99%, Spandex 1%</td>\n",
       "      <td>Regular fit</td>\n",
       "      <td>NaN</td>\n",
       "      <td>The model is 180cm/5'11\" and wears a size 31/32</td>\n",
       "      <td>Recycled cotton 20%</td>\n",
       "      <td>regular jeans</td>\n",
       "      <td>19.99</td>\n",
       "      <td>Dark blue</td>\n",
       "      <td>1008549</td>\n",
       "      <td>004</td>\n",
       "      <td>2022-02-14 23:36:13</td>\n",
       "    </tr>\n",
       "  </tbody>\n",
       "</table>\n",
       "</div>"
      ],
      "text/plain": [
       "   product_id                composition          fit product_safety                                             size sustainable_materials     product_name product_price        color_name style_id color_id      scrapy_datetime\n",
       "0  1008549001     Cotton 98%, Spandex 2%  Regular fit            NaN                                              NaN   Recycled cotton 20%    regular jeans         19.99  Light denim blue  1008549      001  2022-02-14 23:36:13\n",
       "1  1008549001  Polyester 65%, Cotton 35%  Regular fit            NaN                                              NaN   Recycled cotton 20%    regular jeans         19.99  Light denim blue  1008549      001  2022-02-14 23:36:13\n",
       "0  1008549002  Polyester 65%, Cotton 35%  Regular fit            NaN   The model is 185cm/6'1\" and wears a size 31/32   Recycled cotton 20%    regular jeans         19.99        Denim blue  1008549      002  2022-02-14 23:36:13\n",
       "1  1008549002     Cotton 99%, Spandex 1%  Regular fit            NaN   The model is 185cm/6'1\" and wears a size 31/32   Recycled cotton 20%    regular jeans         19.99        Denim blue  1008549      002  2022-02-14 23:36:13\n",
       "0  1008549004     Cotton 99%, Spandex 1%  Regular fit            NaN  The model is 180cm/5'11\" and wears a size 31/32   Recycled cotton 20%    regular jeans         19.99         Dark blue  1008549      004  2022-02-14 23:36:13"
      ]
     },
     "execution_count": 38,
     "metadata": {},
     "output_type": "execute_result"
    }
   ],
   "source": [
    "df_data.head()"
   ]
  },
  {
   "cell_type": "code",
   "execution_count": 45,
   "id": "ec7c17d2",
   "metadata": {
    "ExecuteTime": {
     "end_time": "2022-02-16T00:20:00.998207Z",
     "start_time": "2022-02-16T00:20:00.993993Z"
    }
   },
   "outputs": [
    {
     "data": {
      "text/plain": [
       "array(['  regular jeans', '  hybrid regular tapered joggers',\n",
       "       '  relaxed jeans', '  loose jeans', '  slim jeans',\n",
       "       '  skinny jeans', '  skinny cropped jeans',\n",
       "       '  trashed skinny jeans'], dtype=object)"
      ]
     },
     "execution_count": 45,
     "metadata": {},
     "output_type": "execute_result"
    }
   ],
   "source": [
    "df_data['product_name'].unique()\n"
   ]
  },
  {
   "cell_type": "markdown",
   "id": "a5d7a74b",
   "metadata": {},
   "source": [
    "## Data Cleaning"
   ]
  },
  {
   "cell_type": "code",
   "execution_count": 37,
   "id": "6fd66510",
   "metadata": {
    "ExecuteTime": {
     "end_time": "2022-02-15T12:47:21.288012Z",
     "start_time": "2022-02-15T12:47:21.258897Z"
    }
   },
   "outputs": [],
   "source": [
    "#product id\n",
    "df_data = df_compositions.dropna(subset = ['product_id'])\n",
    "\n",
    "#product name\n",
    "\n",
    "df_data['product_name'] = df_compositions['product_name'].apply(lambda x: x.replace('\\n', '').lower())\n",
    "df_data['product_name'] = df_data['product_name'].apply(lambda x: x.replace('\\t', '').lower())\n",
    "# df_data['product_name'] = df_data['product_name'].apply(lambda x: x.replace(' ', '_').lower())\n",
    "\n",
    "# #product price\n",
    "# df_data['product_price'] = df_compositions['product_price'].apply(lambda x: x.replace('$', '')).astype(float)\n",
    "\n",
    "#color name\n",
    "# df_data['color_name'] = df_compositions['color_name'].apply(lambda x: x.replace(' ', '_').replace('/', '_').lower() if pd.notnull(x) else x)\n",
    "\n",
    "# #fit\n",
    "# df_data['fit'] = df_data['fit'].apply(lambda x: x.replace(' ', '_').lower() if pd.notnull(x) else x)\n",
    "\n",
    "# #composition\n",
    "\n",
    "\n",
    "# #====  size  ======\n",
    "# #size number\n",
    "# df_data['size_number'] = df_data['size'].apply(lambda x: re.search('\\d{3}cm', x).group(0) if pd.notnull(x) else x)\n",
    "# df_data['size_number'] = df_data['size_number'].apply(lambda x: re.search('\\d+', x).group(0) if pd.notnull(x) else x) #group(0) locates the whole match expression\n",
    "\n",
    "# #size model \n",
    "# df_data['size_model'] = df_data['size'].str.extract('(\\d+/\\\\d+)') #.str to vectorize the lines, .extracts cant be applied in the whole column\n",
    "\n",
    "# # #product safety\n",
    "\n",
    "\n",
    "# # ====================  composition =====================\n",
    "# #break composition by comma\n",
    "# df1 = df_data['composition'].str.split(',', expand = True)#.reset_index(drop=True)\n",
    "\n",
    "# # # cotton / polyester / spandex / estasterel\n",
    "# # # creating empty dataframe as reference to organize the wanted columns and \n",
    "# # # then concatanete with the main dataframe, but it has to have the same lenght as 'data' dataframe\n",
    "\n",
    "# # df_ref = pd.DataFrame(index = np.arange(len(data)), columns = ['cotton', 'polyester', 'spandex', 'elasterell'])\n",
    "\n",
    "# # # #cotton\n",
    "# # df_cotton = df1[0]\n",
    "# # df_cotton.name = 'cotton'\n",
    "\n",
    "# # # # df_ref = pd.merge(df_ref, df_cotton, left_index=True, right_index=True)\n",
    "\n",
    "# # df_ref = pd.concat([df_ref, df_cotton], axis = 1)\n",
    "# # df_ref = df_ref.iloc[:, ~df_ref.columns.duplicated( keep = 'last')] #exclue colunas duplicadas, mantem as diferentes\n",
    "# # df_ref['cotton'] = df_ref['cotton'].fillna('Cotton 0%')\n",
    "\n",
    "# # # # #polyester\n",
    "# # df_polyester = df1.loc[df1[1].str.contains('Polyester', na = True), 1]\n",
    "# # df_polyester.name = 'polyester'\n",
    "\n",
    "# # df_ref = pd.concat([df_ref, df_polyester], axis = 1)\n",
    "# # df_ref = df_ref.iloc[:, ~df_ref.columns.duplicated(keep='last')]\n",
    "# # df_ref['polyester'] = df_ref['polyester'].fillna('polyester 0%')\n",
    "\n",
    "\n",
    "# # # # #spandex\n",
    "# # df_spandex = df1.loc[df1[1].str.contains('Spandex', na = True), 1]\n",
    "# # df_spandex.name = 'spandex'\n",
    "\n",
    "# # # df_spandex2 = df1.loc[df1[2].str.contains('Spandex', na = True), 2]\n",
    "# # # df_spandex2.name = 'spandex'\n",
    "\n",
    "# # #other solution\n",
    "# # df_spandex = df_spandex.combine_first(df1[2])\n",
    "\n",
    "# # df_ref = pd.concat([df_ref, df_spandex], axis = 1)\n",
    "# # # df_ref = pd.concat([df_ref, df_spandex2], axis = 1)\n",
    "# # df_ref = df_ref.iloc[:, ~df_ref.columns.duplicated(keep='last')]\n",
    "# # df_ref['spandex'] = df_ref['spandex'].fillna('spandex 0%')\n",
    "\n",
    "# # # # #elasterell\n",
    "# # df_elasterell = df1.loc[df1[1].str.contains('Elasterell', na = True), 1]\n",
    "# # df_elasterell.name = 'elasterell'\n",
    "\n",
    "# # df_ref = pd.concat([df_ref, df_elasterell], axis = 1)\n",
    "# # df_ref = df_ref.iloc[:, ~df_ref.columns.duplicated(keep='last')]\n",
    "# # df_ref['elasterell'] = df_ref['elasterell'].fillna('elasterell 0%')\n",
    "\n",
    "# # # # #final join\n",
    "# # data = pd.concat([data, df_ref], axis = 1)\n",
    "\n",
    "# # # #formatt composition data\n",
    "# # data['cotton'] = data['cotton'].apply(lambda x: int(re.search('\\d+', x).group(0))/100 if pd.notnull(x) else x)\n",
    "# # data['polyester'] = data['polyester'].apply(lambda x: int(re.search('\\d+', x).group(0))/100 if pd.notnull(x) else x)\n",
    "# # data['spandex'] = data['spandex'].apply(lambda x: int(re.search('\\d+', x).group(0))/100 if pd.notnull(x) else x)\n",
    "# # data['elasterell'] = data['elasterell'].apply(lambda x: int(re.search('\\d+', x).group(0))/100 if pd.notnull(x) else x)\n",
    "\n",
    "\n",
    "# # #drop columns\n",
    "# # data = data.drop(columns = ['size', 'product_safety','composition'], axis = 1)\n",
    "\n",
    "# # #drop duplicates\n",
    "\n",
    "# # data = data.drop_duplicates()\n",
    "\n",
    "# # data.head(25)"
   ]
  }
 ],
 "metadata": {
  "kernelspec": {
   "display_name": "Python 3",
   "language": "python",
   "name": "python3"
  },
  "language_info": {
   "codemirror_mode": {
    "name": "ipython",
    "version": 3
   },
   "file_extension": ".py",
   "mimetype": "text/x-python",
   "name": "python",
   "nbconvert_exporter": "python",
   "pygments_lexer": "ipython3",
   "version": "3.9.1"
  },
  "toc": {
   "base_numbering": 1,
   "nav_menu": {},
   "number_sections": true,
   "sideBar": true,
   "skip_h1_title": false,
   "title_cell": "Table of Contents",
   "title_sidebar": "Contents",
   "toc_cell": false,
   "toc_position": {},
   "toc_section_display": true,
   "toc_window_display": false
  }
 },
 "nbformat": 4,
 "nbformat_minor": 5
}
