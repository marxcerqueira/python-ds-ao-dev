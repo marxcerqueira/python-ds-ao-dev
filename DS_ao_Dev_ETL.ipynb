{
 "cells": [
  {
   "cell_type": "markdown",
   "id": "2bec501e",
   "metadata": {
    "ExecuteTime": {
     "end_time": "2022-02-14T15:23:00.764437Z",
     "start_time": "2022-02-14T15:23:00.725359Z"
    }
   },
   "source": [
    "# Python DS-ao-Dev"
   ]
  },
  {
   "cell_type": "markdown",
   "id": "8efb77b6",
   "metadata": {
    "ExecuteTime": {
     "end_time": "2022-02-14T15:24:06.387730Z",
     "start_time": "2022-02-14T15:24:06.374996Z"
    },
    "heading_collapsed": true
   },
   "source": [
    "## Bussiness Problem\n"
   ]
  },
  {
   "cell_type": "markdown",
   "id": "e20d0b64",
   "metadata": {
    "hidden": true
   },
   "source": [
    "\n",
    "**Star Jeans Company**\n",
    "\n",
    "- Eduardo e Marcelo são dois brasileiros, amigos e sócios de empreendimento. Depois de vários negócio bem sucedidos, eles estão planejando entrar no mercado de moda dos USA como um modelo de negócio do tipo E-commerce.\n",
    "\n",
    "- A idéia inicial é entrar no mercado com apenas um produto e para um público específico, no caso o produto seria calças Jenas para o público masculino. O objetivo é manter o custo de operação baixo e escalar a medida que forem conseguindo clientes.\n",
    "\n",
    "- Porém, mesmo com o produto de entrada e a audiência definidos, os dois sócios não tem experiência nesse mercado de moda e portanto não sabem definir coisas básicas como preço, o tipo de calça e o material para a fabricação de cada peça.\n",
    "\n",
    "- Assim, os dois sócios contrataram uma consultoria de Ciência de Dados para responder as seguintes perguntas: ]\n",
    "    1. Qual o melhor preço de venda para as calças? \n",
    "    2. Quantos tipos de calças e suas cores para o produto inicial? \n",
    "    3. Quais as matérias-prima necessárias para confeccionar as calças?\n",
    "    \n",
    "- As principais concorrentes da empresa Start Jeans são as americadas H&M e Macys."
   ]
  },
  {
   "cell_type": "markdown",
   "id": "3296c281",
   "metadata": {
    "heading_collapsed": true
   },
   "source": [
    "## Solution Planning (Input-Output-Tasks)\n",
    "\n",
    "\n",
    "\n"
   ]
  },
  {
   "cell_type": "markdown",
   "id": "e1120d36",
   "metadata": {
    "hidden": true
   },
   "source": [
    "**Bussiness Question**\n",
    "\n",
    "- Which is the best price for jeans?\n",
    "\n",
    "1. Input:\n",
    "    1. Fonte de dados\n",
    "        - Site da H&M: https://www2.hm.com/en_us/men/products/jeans.html\n",
    "        - Site da Macys: https://www.macys.com/shop/mens-clothing/mens-jeans\n",
    "    2. Ferramentas\n",
    "        - Python 3.8.0\n",
    "        - Bibliotecas de Webscrapping ( BS4, Selenium )\n",
    "        - PyCharm\n",
    "        - Jupyter Notebook ( Analise e prototipagens )\n",
    "        - Crontjob, Airflow\n",
    "        - Streamlit\n",
    "    \n",
    "2. Output:\n",
    "    1. A resposta para a pergunta.\n",
    "        - Mediana dos preços dos concorrents.\n",
    "    2. Formato da entrega\n",
    "        - Tabela ou gráfico\n",
    "    3. Local da entrega\n",
    "        - App Streamlit\n",
    "    \n",
    "3. Tasks:\n",
    "    1. Passo a passso para construir o cálculo da mediana ou média\n",
    "        - Realizar o calculo da mediana sobre o produto, tipo e cor\n",
    "    2. Definir o formato da entrega ( Visualização, Tabela, Frase )\n",
    "        - Gráfico de barras com a mediana dos preço dos produtos, por tipo e cor dos últimos 30 dia\n",
    "        - Tabela com as seguintes colunas: id | product_name | product_type | product_color | produ\n",
    "        - Definição do schema: Colunas e seu tipo\n",
    "        - Definição a infraestrutura de armazenamento ( SQLITE3 )\n",
    "        - Design do ETL ( Scripts de Extração, Transformação e Carga )\n",
    "        - Planejamento de Agendamento dos scripts ( dependencias entre os scripts )\n",
    "        - Fazer as visualizações\n",
    "        - Entrega do produto final\n",
    "    3. Decidir o local de entrega ( PowerBi, Telegram, Email, Streamlit, Intranet ),\n",
    "        - App com Streamlit\n"
   ]
  },
  {
   "cell_type": "markdown",
   "id": "1d7804a9",
   "metadata": {
    "heading_collapsed": true
   },
   "source": [
    "## Bussiness Models\n"
   ]
  },
  {
   "cell_type": "markdown",
   "id": "93b253da",
   "metadata": {
    "hidden": true
   },
   "source": [
    "\n",
    "“Como você planeja ganhar dinheiro”, Michael Lewis\n",
    "\n",
    "“Um modelo de negócio descreve a lógica de criação, entrega e captura de valor por\n",
    "parte de uma organização”, Alexander Osterwalder\n",
    "\n",
    "- E-commerce:\n",
    "    1. Faturamento: Vendas de um produto.\n",
    "    2. Exemplo: Lojas Riachuelo, Submarino, Magazine Luiza, etc\n",
    "        \n",
    "- Software AS a Service ( SaaS ):\n",
    "    1. Faturamento: Assinatura mensal/anual de utilização ou por usuário.\n",
    "    2. Exemplo: Looker, Asana, Gmail, Salesforce.\n",
    "    \n",
    "- Serviço:\n",
    "    1. Faturamento: Prestação de serviço por tempo ou projeto.\n",
    "    2. Exemplo: Sul América, Porto Seguro, Mapfre.\n",
    "    \n",
    "- Mobile App:\n",
    "    1. Faturamento: Venda de upgrades.\n",
    "    2. Exemplo: Wildlife, Ubisoft, Games Mobile.\n",
    "    \n",
    "- Media Site:\n",
    "    1. Faturamento: Cobrança por clicks ou visualizações de um determinado anúncio.\n",
    "    2. Exemplo: Facebook, Google, UOL, G1, etc.\n",
    "    \n",
    "- Marketplace:\n",
    "    1. Faturamento: Taxa sobre a transação entre o passageiro e o motorista.\n",
    "    2. Exemplo: Uber, Ifood, 99, Elo7, Submarino.\n"
   ]
  },
  {
   "cell_type": "markdown",
   "id": "12c79155",
   "metadata": {},
   "source": [
    "## E-commerce Metrics"
   ]
  },
  {
   "cell_type": "markdown",
   "id": "a87258c7",
   "metadata": {},
   "source": [
    "- **Growth Metrics**:\n",
    "    1. Porcentagem do Marketshare\n",
    "    2. Número de Clientes Novos\n",
    "- **Revenue Metrics**:\n",
    "    1. Número de Vendas\n",
    "    2. Ticket Médio\n",
    "    3. LTV ( Long Time Value )\n",
    "    4. Recência Média\n",
    "    5. Basket Size Médio\n",
    "    6. Markup médio\n",
    "- **Cost Metrics**:\n",
    "    1. CAC ( Custo de aquisição de Clientes )\n",
    "    2. Desconto médio\n",
    "    3. Custo de Produção\n",
    "    4. Taxa de devolução\n",
    "    5. Custos Fixos ( Folha de pagamento, escritório, softwares )\n",
    "    6. Impostos"
   ]
  },
  {
   "cell_type": "markdown",
   "id": "40d6a9ed",
   "metadata": {},
   "source": [
    "# Imports"
   ]
  },
  {
   "cell_type": "code",
   "execution_count": 3,
   "id": "60dbd145",
   "metadata": {
    "ExecuteTime": {
     "end_time": "2022-02-14T15:26:16.278278Z",
     "start_time": "2022-02-14T15:26:15.706719Z"
    }
   },
   "outputs": [],
   "source": [
    "import pandas as pd\n",
    "import numpy as np\n",
    "\n",
    "from datetime import datetime\n",
    "\n",
    "from bs4 import BeautifulSoup\n",
    "import requests"
   ]
  },
  {
   "cell_type": "markdown",
   "id": "d0299393",
   "metadata": {},
   "source": [
    "# Data Gathering"
   ]
  },
  {
   "cell_type": "markdown",
   "id": "90fda3c7",
   "metadata": {},
   "source": [
    "## Showcase"
   ]
  },
  {
   "cell_type": "code",
   "execution_count": 4,
   "id": "9ae7ac3c",
   "metadata": {
    "ExecuteTime": {
     "end_time": "2022-02-14T15:37:29.649848Z",
     "start_time": "2022-02-14T15:37:29.097000Z"
    }
   },
   "outputs": [
    {
     "data": {
      "text/html": [
       "<div>\n",
       "<style scoped>\n",
       "    .dataframe tbody tr th:only-of-type {\n",
       "        vertical-align: middle;\n",
       "    }\n",
       "\n",
       "    .dataframe tbody tr th {\n",
       "        vertical-align: top;\n",
       "    }\n",
       "\n",
       "    .dataframe thead th {\n",
       "        text-align: right;\n",
       "    }\n",
       "</style>\n",
       "<table border=\"1\" class=\"dataframe\">\n",
       "  <thead>\n",
       "    <tr style=\"text-align: right;\">\n",
       "      <th></th>\n",
       "      <th>product_id</th>\n",
       "      <th>product_category</th>\n",
       "      <th>product_name</th>\n",
       "      <th>product_price</th>\n",
       "      <th>scrapy_datetime</th>\n",
       "    </tr>\n",
       "  </thead>\n",
       "  <tbody>\n",
       "    <tr>\n",
       "      <th>0</th>\n",
       "      <td>1008549001</td>\n",
       "      <td>men_jeans_regular</td>\n",
       "      <td>Regular Jeans</td>\n",
       "      <td>$ 19.99</td>\n",
       "      <td>2022-02-14 12:37:29</td>\n",
       "    </tr>\n",
       "    <tr>\n",
       "      <th>1</th>\n",
       "      <td>1013317006</td>\n",
       "      <td>men_jeans_regular</td>\n",
       "      <td>Hybrid Regular Tapered Joggers</td>\n",
       "      <td>$ 39.99</td>\n",
       "      <td>2022-02-14 12:37:29</td>\n",
       "    </tr>\n",
       "    <tr>\n",
       "      <th>2</th>\n",
       "      <td>0875105018</td>\n",
       "      <td>men_jeans_relaxed</td>\n",
       "      <td>Relaxed Jeans</td>\n",
       "      <td>$ 29.99</td>\n",
       "      <td>2022-02-14 12:37:29</td>\n",
       "    </tr>\n",
       "    <tr>\n",
       "      <th>3</th>\n",
       "      <td>0811993040</td>\n",
       "      <td>men_jeans_regular</td>\n",
       "      <td>Regular Jeans</td>\n",
       "      <td>$ 29.99</td>\n",
       "      <td>2022-02-14 12:37:29</td>\n",
       "    </tr>\n",
       "    <tr>\n",
       "      <th>4</th>\n",
       "      <td>0979945002</td>\n",
       "      <td>men_jeans_loose</td>\n",
       "      <td>Loose Jeans</td>\n",
       "      <td>$ 29.99</td>\n",
       "      <td>2022-02-14 12:37:29</td>\n",
       "    </tr>\n",
       "  </tbody>\n",
       "</table>\n",
       "</div>"
      ],
      "text/plain": [
       "   product_id   product_category                    product_name  \\\n",
       "0  1008549001  men_jeans_regular                   Regular Jeans   \n",
       "1  1013317006  men_jeans_regular  Hybrid Regular Tapered Joggers   \n",
       "2  0875105018  men_jeans_relaxed                   Relaxed Jeans   \n",
       "3  0811993040  men_jeans_regular                   Regular Jeans   \n",
       "4  0979945002    men_jeans_loose                     Loose Jeans   \n",
       "\n",
       "  product_price      scrapy_datetime  \n",
       "0       $ 19.99  2022-02-14 12:37:29  \n",
       "1       $ 39.99  2022-02-14 12:37:29  \n",
       "2       $ 29.99  2022-02-14 12:37:29  \n",
       "3       $ 29.99  2022-02-14 12:37:29  \n",
       "4       $ 29.99  2022-02-14 12:37:29  "
      ]
     },
     "execution_count": 4,
     "metadata": {},
     "output_type": "execute_result"
    }
   ],
   "source": [
    "# parameters\n",
    "headers = {'user-agent': 'my-app/0.0.1'}\n",
    "\n",
    "# URL\n",
    "url = 'https://www2.hm.com/en_us/men/products/jeans.html'\n",
    "\n",
    "#request to URL\n",
    "page = requests.get(url, headers = headers)\n",
    "\n",
    "# BeautifulSoup object\n",
    "soup = BeautifulSoup(page.text, 'html.parser')\n",
    "\n",
    "# ============== Product Data ===============\n",
    "#website showcase\n",
    "products = soup.find('ul', class_= 'products-listing small') #find retorna apenas 1 elemento, pois temos apenas 1 UL, uma vitrine, find_all retorna lista\n",
    "\n",
    "#list comprehension to get all products id and products category from the first page of \n",
    "product_list = products.find_all('article', class_ = 'hm-product-item')\n",
    "\n",
    "# product id\n",
    "product_id = [p.get('data-articlecode') for p in product_list]\n",
    "\n",
    "# product_category\n",
    "product_category = [p.get('data-category') for p in product_list]\n",
    "\n",
    "# product name\n",
    "product_list = products.find_all('a', class_ = 'link')\n",
    "product_name = [p.get_text() for p in product_list]\n",
    "\n",
    "#price\n",
    "product_list = soup.find_all('span', class_ = 'price regular')\n",
    "product_price = [p.get_text() for p in product_list]\n",
    "\n",
    "data = pd.DataFrame([product_id, product_category, product_name, product_price]).T\n",
    "data.columns = ['product_id', 'product_category', 'product_name', 'product_price']\n",
    "\n",
    "#scrapy time \n",
    "data['scrapy_datetime'] = datetime.now().strftime('%Y-%m-%d %H:%M:%S')\n",
    "data.head()"
   ]
  },
  {
   "cell_type": "code",
   "execution_count": 5,
   "id": "32ef41f5",
   "metadata": {
    "ExecuteTime": {
     "end_time": "2022-02-14T15:37:36.486888Z",
     "start_time": "2022-02-14T15:37:36.477490Z"
    }
   },
   "outputs": [
    {
     "data": {
      "text/plain": [
       "(36, 5)"
      ]
     },
     "execution_count": 5,
     "metadata": {},
     "output_type": "execute_result"
    }
   ],
   "source": [
    "data.shape"
   ]
  },
  {
   "cell_type": "markdown",
   "id": "4400bdd4",
   "metadata": {},
   "source": [
    "## By products"
   ]
  },
  {
   "cell_type": "code",
   "execution_count": null,
   "id": "056ff97a",
   "metadata": {},
   "outputs": [],
   "source": [
    "headers = {'user-agent': 'my-app/0.0.1'}\n",
    "\n",
    "#empty dataframe\n",
    "df_details = pd.DataFrame()\n",
    "\n",
    "# unique columns for all products\n",
    "aux = []\n",
    "\n",
    "cols = ['Art. No.', 'Composition', 'Fit', 'Product safety', 'Size']\n",
    "df_pattern = pd.DataFrame(columns = cols)\n",
    "\n",
    "for i in range(len(data)):\n",
    "    # API Request\n",
    "    url = 'https://www2.hm.com/en_us/productpage.' + data.loc[i, 'product_id'] + '.html'\n",
    "    page = requests.get(url, headers = headers)\n",
    "    \n",
    "    # Beautiful Soup object\n",
    "    soup = BeautifulSoup(page.text, 'html.parser')\n",
    "    \n",
    "    # ==================== color name =================================\n",
    "    # color name\n",
    "    product_list = soup.find_all( 'a', class_='filter-option miniature' )\n",
    "    color_name = [p.get( 'data-color' ) for p in product_list]\n",
    "    \n",
    "    # product id\n",
    "    product_id = [p.get( 'data-articlecode' ) for p in product_list]\n",
    "    \n",
    "    df_color = pd.DataFrame( [product_id, color_name] ).T\n",
    "    df_color.columns = ['product_id', 'color_name']\n",
    "    \n",
    "    # generate style id + color id\n",
    "    df_color['style_id'] = df_color['product_id'].apply( lambda x: x[:-3] )\n",
    "    df_color['color_id'] = df_color['product_id'].apply( lambda x: x[-3:] )\n",
    "    \n",
    "    # ==================== composition =================================\n",
    "    product_composition_list = soup.find_all( 'div', class_='pdp-description-list-item' )\n",
    "    product_composition = [list( filter( None, p.get_text().split( '\\n' ) ) ) for p in product_composition_list]\n",
    "    \n",
    "    # rename dataframe\n",
    "    df_composition = pd.DataFrame(product_composition).T\n",
    "    df_composition.columns = df_composition.iloc[0]\n",
    "    \n",
    "    # delete first row\n",
    "    df_composition = df_composition.iloc[1:].fillna(method = 'ffill')\n",
    "    \n",
    "    # garantee the same number of columns\n",
    "    df_composition = pd.concat( [df_pattern, df_composition], axis=0 )\n",
    "    \n",
    "    # generate style id + color id\n",
    "    df_composition['style_id'] = df_composition['Art. No.'].apply(lambda x: x[:-3])\n",
    "    df_composition['color_id'] = df_composition['Art. No.'].apply(lambda x: x[-3:])\n",
    "    \n",
    "    aux = aux + df_composition.columns.tolist() #to guarantee we have all columns of composition unique values\n",
    "    \n",
    "    # merge data color + composition\n",
    "    \n",
    "    data_sku = pd.merge( df_color, df_composition[['style_id','Fit','Composition', 'Size','Product safety']], how = 'left', on = 'style_id')\n",
    "    \n",
    "    # all details products\n",
    "    df_details = pd.concat([df_details, data_sku], axis = 0)\n",
    "    \n",
    "# Join Showroom data + details\n",
    "data['style_id'] = data['product_id'].apply( lambda x: x[:-3] )\n",
    "data['color_id'] = data['product_id'].apply( lambda x: x[-3:] )\n",
    "\n",
    "data_raw = pd.merge( data, df_details[['style_id','color_name','Fit','Composition', 'Size','Product safety']], how = 'left', on = 'style_id')"
   ]
  },
  {
   "cell_type": "markdown",
   "id": "7247b251",
   "metadata": {},
   "source": [
    "## Data Cleaning"
   ]
  },
  {
   "cell_type": "code",
   "execution_count": null,
   "id": "fedb69ab",
   "metadata": {},
   "outputs": [],
   "source": [
    "#load data\n",
    "data = pd.read_csv( '/home/marxcerqueira/repos/python-ds-ao-dev/products_hm.csv' )\n",
    "#drop unnecessary column\n",
    "data = data.drop('Unnamed: 0', axis = 1)\n",
    "\n",
    "#rename columns\n",
    "data = data.rename(columns = {'Fit': 'fit', 'Composition': 'composition','Size': 'size' ,'Product safety': 'product_safety'} )\n",
    "\n",
    "#####______#####\n",
    "#product name\n",
    "data['product_name'] = data['product_name'].apply(lambda x: x.replace(' ', '_').lower())\n",
    "\n",
    "#product price\n",
    "data['product_price'] = data['product_price'].apply(lambda x: x.replace('$', '')).astype(float)\n",
    "\n",
    "#scrapy datetime\n",
    "data['scrapy_datetime'] = pd.to_datetime(data['scrapy_datetime'], format = '%Y-%m-%d %H:%M:%S')\n",
    "\n",
    "#style_id\n",
    "#color_id\n",
    "#color name\n",
    "data['color_name'] = data['color_name'].apply(lambda x: x.replace(' ', '_').replace('/', '_').lower() if pd.notnull(x) else x)\n",
    "\n",
    "#fit\n",
    "data['fit'] = data['fit'].apply(lambda x: x.replace(' ', '_').lower() if pd.notnull(x) else x)\n",
    "\n",
    "#composition\n",
    "\n",
    "\n",
    "#====  size  ======\n",
    "#size number\n",
    "data['size_number'] = data['size'].apply(lambda x: re.search('\\d{3}cm', x).group(0) if pd.notnull(x) else x)\n",
    "data['size_number'] = data['size_number'].apply(lambda x: re.search('\\d+', x).group(0) if pd.notnull(x) else x) #group(0) locates the whole match expression\n",
    "\n",
    "#size model \n",
    "data['size_model'] = data['size'].str.extract('(\\d+/\\\\d+)') #.str to vectorize the lines, .extracts cant be applied in the whole column\n",
    "\n",
    "#product safety\n",
    "\n",
    "\n",
    "#composition\n",
    "data = data[~data['composition'].str.contains('Pocket lining:', na = False)] #na = false pula os NAs existentes\n",
    "data = data[~data['composition'].str.contains('Shell:', na = False)]\n",
    "data = data[~data['composition'].str.contains('Lining:', na = False)] \n",
    "\n",
    "#drop duplicates\n",
    "data = data.drop_duplicates(subset = ['product_id', 'product_category', 'product_name', 'product_price',\n",
    "       'scrapy_datetime', 'style_id', 'color_id', 'color_name', 'fit'], keep = 'last')\n",
    "\n",
    "#reset index\n",
    "data = data.reset_index( drop = True)\n",
    "\n",
    "#break composition by comma\n",
    "df1 = data['composition'].str.split(',', expand = True)\n",
    "\n",
    "# cotton / polyester / spandex / estasterel\n",
    "# creating empty dataframe as reference to organize the wanted columns and \n",
    "# then concatanete with the main dataframe, but it has to have the same lenght as 'data' dataframe\n",
    "\n",
    "df_ref = pd.DataFrame(index = np.arange(len(data)), columns = ['cotton', 'polyester', 'spandex', 'elasterell'])\n",
    "\n",
    "# #cotton\n",
    "df_cotton = df1[0]\n",
    "df_cotton.name = 'cotton'\n",
    "\n",
    "# # df_ref = pd.merge(df_ref, df_cotton, left_index=True, right_index=True)\n",
    "\n",
    "df_ref = pd.concat([df_ref, df_cotton], axis = 1)\n",
    "df_ref = df_ref.iloc[:, ~df_ref.columns.duplicated( keep = 'last')] #exclue colunas duplicadas, mantem as diferentes\n",
    "df_ref['cotton'] = df_ref['cotton'].fillna('Cotton 0%')\n",
    "\n",
    "# # #polyester\n",
    "df_polyester = df1.loc[df1[1].str.contains('Polyester', na = True), 1]\n",
    "df_polyester.name = 'polyester'\n",
    "\n",
    "df_ref = pd.concat([df_ref, df_polyester], axis = 1)\n",
    "df_ref = df_ref.iloc[:, ~df_ref.columns.duplicated(keep='last')]\n",
    "df_ref['polyester'] = df_ref['polyester'].fillna('polyester 0%')\n",
    "\n",
    "\n",
    "# # #spandex\n",
    "df_spandex = df1.loc[df1[1].str.contains('Spandex', na = True), 1]\n",
    "df_spandex.name = 'spandex'\n",
    "\n",
    "# df_spandex2 = df1.loc[df1[2].str.contains('Spandex', na = True), 2]\n",
    "# df_spandex2.name = 'spandex'\n",
    "\n",
    "#other solution\n",
    "df_spandex = df_spandex.combine_first(df1[2])\n",
    "\n",
    "df_ref = pd.concat([df_ref, df_spandex], axis = 1)\n",
    "# df_ref = pd.concat([df_ref, df_spandex2], axis = 1)\n",
    "df_ref = df_ref.iloc[:, ~df_ref.columns.duplicated(keep='last')]\n",
    "df_ref['spandex'] = df_ref['spandex'].fillna('spandex 0%')\n",
    "\n",
    "# # #elasterell\n",
    "df_elasterell = df1.loc[df1[1].str.contains('Elasterell', na = True), 1]\n",
    "df_elasterell.name = 'elasterell'\n",
    "\n",
    "df_ref = pd.concat([df_ref, df_elasterell], axis = 1)\n",
    "df_ref = df_ref.iloc[:, ~df_ref.columns.duplicated(keep='last')]\n",
    "df_ref['elasterell'] = df_ref['elasterell'].fillna('elasterell 0%')\n",
    "\n",
    "# # #final join\n",
    "data = pd.concat([data, df_ref], axis = 1)\n",
    "\n",
    "# #formatt composition data\n",
    "data['cotton'] = data['cotton'].apply(lambda x: int(re.search('\\d+', x).group(0))/100 if pd.notnull(x) else x)\n",
    "data['polyester'] = data['polyester'].apply(lambda x: int(re.search('\\d+', x).group(0))/100 if pd.notnull(x) else x)\n",
    "data['spandex'] = data['spandex'].apply(lambda x: int(re.search('\\d+', x).group(0))/100 if pd.notnull(x) else x)\n",
    "data['elasterell'] = data['elasterell'].apply(lambda x: int(re.search('\\d+', x).group(0))/100 if pd.notnull(x) else x)\n",
    "\n",
    "\n",
    "#drop columns\n",
    "data = data.drop(columns = ['size', 'product_safety','composition'], axis = 1)\n",
    "\n",
    "#drop duplicates\n",
    "\n",
    "data = data.drop_duplicates()\n",
    "\n",
    "data.head(25)"
   ]
  },
  {
   "cell_type": "code",
   "execution_count": null,
   "id": "61a48d92",
   "metadata": {},
   "outputs": [],
   "source": []
  },
  {
   "cell_type": "code",
   "execution_count": null,
   "id": "d85a511a",
   "metadata": {},
   "outputs": [],
   "source": []
  }
 ],
 "metadata": {
  "kernelspec": {
   "display_name": "Python 3",
   "language": "python",
   "name": "python3"
  },
  "language_info": {
   "codemirror_mode": {
    "name": "ipython",
    "version": 3
   },
   "file_extension": ".py",
   "mimetype": "text/x-python",
   "name": "python",
   "nbconvert_exporter": "python",
   "pygments_lexer": "ipython3",
   "version": "3.9.1"
  },
  "toc": {
   "base_numbering": 1,
   "nav_menu": {},
   "number_sections": true,
   "sideBar": true,
   "skip_h1_title": false,
   "title_cell": "Table of Contents",
   "title_sidebar": "Contents",
   "toc_cell": false,
   "toc_position": {},
   "toc_section_display": true,
   "toc_window_display": false
  }
 },
 "nbformat": 4,
 "nbformat_minor": 5
}
