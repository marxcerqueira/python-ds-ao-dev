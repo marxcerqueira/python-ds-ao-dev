{
 "cells": [
  {
   "cell_type": "markdown",
   "id": "175bf238",
   "metadata": {
    "ExecuteTime": {
     "end_time": "2022-02-14T15:23:00.764437Z",
     "start_time": "2022-02-14T15:23:00.725359Z"
    }
   },
   "source": [
    "# Python DS-ao-Dev"
   ]
  },
  {
   "cell_type": "markdown",
   "id": "fb5c0d7b",
   "metadata": {
    "ExecuteTime": {
     "end_time": "2022-02-14T15:24:06.387730Z",
     "start_time": "2022-02-14T15:24:06.374996Z"
    },
    "heading_collapsed": true
   },
   "source": [
    "## Bussiness Problem\n"
   ]
  },
  {
   "cell_type": "markdown",
   "id": "aa025b1c",
   "metadata": {
    "hidden": true
   },
   "source": [
    "\n",
    "**Star Jeans Company**\n",
    "\n",
    "- Eduardo e Marcelo são dois brasileiros, amigos e sócios de empreendimento. Depois de vários negócio bem sucedidos, eles estão planejando entrar no mercado de moda dos USA como um modelo de negócio do tipo E-commerce.\n",
    "\n",
    "- A idéia inicial é entrar no mercado com apenas um produto e para um público específico, no caso o produto seria calças Jenas para o público masculino. O objetivo é manter o custo de operação baixo e escalar a medida que forem conseguindo clientes.\n",
    "\n",
    "- Porém, mesmo com o produto de entrada e a audiência definidos, os dois sócios não tem experiência nesse mercado de moda e portanto não sabem definir coisas básicas como preço, o tipo de calça e o material para a fabricação de cada peça.\n",
    "\n",
    "- Assim, os dois sócios contrataram uma consultoria de Ciência de Dados para responder as seguintes perguntas: ]\n",
    "    1. Qual o melhor preço de venda para as calças? \n",
    "    2. Quantos tipos de calças e suas cores para o produto inicial? \n",
    "    3. Quais as matérias-prima necessárias para confeccionar as calças?\n",
    "    \n",
    "- As principais concorrentes da empresa Start Jeans são as americadas H&M e Macys."
   ]
  },
  {
   "cell_type": "markdown",
   "id": "2023d579",
   "metadata": {
    "heading_collapsed": true
   },
   "source": [
    "## Solution Planning (Input-Output-Tasks)\n",
    "\n",
    "\n",
    "\n"
   ]
  },
  {
   "cell_type": "markdown",
   "id": "2562c2c7",
   "metadata": {
    "hidden": true
   },
   "source": [
    "**Bussiness Question**\n",
    "\n",
    "- Which is the best price for jeans?\n",
    "\n",
    "1. Input:\n",
    "    1. Fonte de dados\n",
    "        - Site da H&M: https://www2.hm.com/en_us/men/products/jeans.html\n",
    "        - Site da Macys: https://www.macys.com/shop/mens-clothing/mens-jeans\n",
    "    2. Ferramentas\n",
    "        - Python 3.8.0\n",
    "        - Bibliotecas de Webscrapping ( BS4, Selenium )\n",
    "        - PyCharm\n",
    "        - Jupyter Notebook ( Analise e prototipagens )\n",
    "        - Crontjob, Airflow\n",
    "        - Streamlit\n",
    "    \n",
    "2. Output:\n",
    "    1. A resposta para a pergunta.\n",
    "        - Mediana dos preços dos concorrents.\n",
    "    2. Formato da entrega\n",
    "        - Tabela ou gráfico\n",
    "    3. Local da entrega\n",
    "        - App Streamlit\n",
    "    \n",
    "3. Tasks:\n",
    "    1. Passo a passso para construir o cálculo da mediana ou média\n",
    "        - Realizar o calculo da mediana sobre o produto, tipo e cor\n",
    "    2. Definir o formato da entrega ( Visualização, Tabela, Frase )\n",
    "        - Gráfico de barras com a mediana dos preço dos produtos, por tipo e cor dos últimos 30 dia\n",
    "        - Tabela com as seguintes colunas: id | product_name | product_type | product_color | produ\n",
    "        - Definição do schema: Colunas e seu tipo\n",
    "        - Definição a infraestrutura de armazenamento ( SQLITE3 )\n",
    "        - Design do ETL ( Scripts de Extração, Transformação e Carga )\n",
    "        - Planejamento de Agendamento dos scripts ( dependencias entre os scripts )\n",
    "        - Fazer as visualizações\n",
    "        - Entrega do produto final\n",
    "    3. Decidir o local de entrega ( PowerBi, Telegram, Email, Streamlit, Intranet ),\n",
    "        - App com Streamlit\n"
   ]
  },
  {
   "cell_type": "markdown",
   "id": "d2f0c7bf",
   "metadata": {
    "heading_collapsed": true
   },
   "source": [
    "## Bussiness Models\n"
   ]
  },
  {
   "cell_type": "markdown",
   "id": "98900088",
   "metadata": {
    "hidden": true
   },
   "source": [
    "\n",
    "“Como você planeja ganhar dinheiro”, Michael Lewis\n",
    "\n",
    "“Um modelo de negócio descreve a lógica de criação, entrega e captura de valor por\n",
    "parte de uma organização”, Alexander Osterwalder\n",
    "\n",
    "- E-commerce:\n",
    "    1. Faturamento: Vendas de um produto.\n",
    "    2. Exemplo: Lojas Riachuelo, Submarino, Magazine Luiza, etc\n",
    "        \n",
    "- Software AS a Service ( SaaS ):\n",
    "    1. Faturamento: Assinatura mensal/anual de utilização ou por usuário.\n",
    "    2. Exemplo: Looker, Asana, Gmail, Salesforce.\n",
    "    \n",
    "- Serviço:\n",
    "    1. Faturamento: Prestação de serviço por tempo ou projeto.\n",
    "    2. Exemplo: Sul América, Porto Seguro, Mapfre.\n",
    "    \n",
    "- Mobile App:\n",
    "    1. Faturamento: Venda de upgrades.\n",
    "    2. Exemplo: Wildlife, Ubisoft, Games Mobile.\n",
    "    \n",
    "- Media Site:\n",
    "    1. Faturamento: Cobrança por clicks ou visualizações de um determinado anúncio.\n",
    "    2. Exemplo: Facebook, Google, UOL, G1, etc.\n",
    "    \n",
    "- Marketplace:\n",
    "    1. Faturamento: Taxa sobre a transação entre o passageiro e o motorista.\n",
    "    2. Exemplo: Uber, Ifood, 99, Elo7, Submarino.\n"
   ]
  },
  {
   "cell_type": "markdown",
   "id": "34311c21",
   "metadata": {
    "heading_collapsed": true
   },
   "source": [
    "## E-commerce Metrics"
   ]
  },
  {
   "cell_type": "markdown",
   "id": "d4f2c99c",
   "metadata": {
    "hidden": true
   },
   "source": [
    "- **Growth Metrics**:\n",
    "    1. Porcentagem do Marketshare\n",
    "    2. Número de Clientes Novos\n",
    "- **Revenue Metrics**:\n",
    "    1. Número de Vendas\n",
    "    2. Ticket Médio\n",
    "    3. LTV ( Long Time Value )\n",
    "    4. Recência Média\n",
    "    5. Basket Size Médio\n",
    "    6. Markup médio\n",
    "- **Cost Metrics**:\n",
    "    1. CAC ( Custo de aquisição de Clientes )\n",
    "    2. Desconto médio\n",
    "    3. Custo de Produção\n",
    "    4. Taxa de devolução\n",
    "    5. Custos Fixos ( Folha de pagamento, escritório, softwares )\n",
    "    6. Impostos"
   ]
  },
  {
   "cell_type": "markdown",
   "id": "069a8a8f",
   "metadata": {},
   "source": [
    "# Imports"
   ]
  },
  {
   "cell_type": "code",
   "execution_count": 5,
   "id": "aaa6cb00",
   "metadata": {
    "ExecuteTime": {
     "end_time": "2022-02-15T02:13:20.632091Z",
     "start_time": "2022-02-15T02:13:20.626893Z"
    }
   },
   "outputs": [],
   "source": [
    "import pandas as pd\n",
    "import numpy as np\n",
    "import seaborn               as sns\n",
    "import re\n",
    "\n",
    "from datetime import datetime\n",
    "\n",
    "from bs4 import BeautifulSoup\n",
    "import requests\n",
    "import matplotlib.pyplot     as plt\n",
    "\n",
    "from IPython.core.display    import HTML\n",
    "from IPython.display         import Image"
   ]
  },
  {
   "cell_type": "code",
   "execution_count": 2,
   "id": "ceb0c37e",
   "metadata": {
    "ExecuteTime": {
     "end_time": "2022-02-15T02:13:17.810854Z",
     "start_time": "2022-02-15T02:13:17.804790Z"
    },
    "code_folding": [
     0
    ]
   },
   "outputs": [],
   "source": [
    "#helper fuction\n",
    "def jupyter_settings():\n",
    "    %matplotlib inline\n",
    "    %pylab inline\n",
    "    \n",
    "    plt.style.use( 'bmh' )\n",
    "    plt.rcParams['figure.figsize'] = [25, 12]\n",
    "    plt.rcParams['font.size'] = 24\n",
    "    \n",
    "    display( HTML( '<style>.container { width:100% !important; }</style>') )\n",
    "    pd.options.display.max_columns = None\n",
    "    pd.options.display.max_rows = None\n",
    "    pd.set_option( 'display.expand_frame_repr', False )\n",
    "    \n",
    "    sns.set()"
   ]
  },
  {
   "cell_type": "code",
   "execution_count": 3,
   "id": "52270ded",
   "metadata": {
    "ExecuteTime": {
     "end_time": "2022-02-15T02:13:17.824025Z",
     "start_time": "2022-02-15T02:13:17.812535Z"
    },
    "scrolled": true
   },
   "outputs": [
    {
     "name": "stdout",
     "output_type": "stream",
     "text": [
      "Populating the interactive namespace from numpy and matplotlib\n"
     ]
    },
    {
     "name": "stderr",
     "output_type": "stream",
     "text": [
      "/home/marxcerqueira/.pyenv/versions/3.9.1/envs/ds-ao-dev/lib/python3.9/site-packages/IPython/core/magics/pylab.py:159: UserWarning: pylab import has clobbered these variables: ['datetime']\n",
      "`%matplotlib` prevents importing * from pylab and numpy\n",
      "  warn(\"pylab import has clobbered these variables: %s\"  % clobbered +\n"
     ]
    },
    {
     "data": {
      "text/html": [
       "<style>.container { width:100% !important; }</style>"
      ],
      "text/plain": [
       "<IPython.core.display.HTML object>"
      ]
     },
     "metadata": {},
     "output_type": "display_data"
    }
   ],
   "source": [
    "jupyter_settings()"
   ]
  },
  {
   "cell_type": "markdown",
   "id": "765f02cf",
   "metadata": {},
   "source": [
    "# Data Gathering"
   ]
  },
  {
   "cell_type": "markdown",
   "id": "1b86b469",
   "metadata": {},
   "source": [
    "## Showcase"
   ]
  },
  {
   "cell_type": "code",
   "execution_count": 6,
   "id": "9c272836",
   "metadata": {
    "ExecuteTime": {
     "end_time": "2022-02-15T02:13:21.841594Z",
     "start_time": "2022-02-15T02:13:21.540343Z"
    }
   },
   "outputs": [
    {
     "data": {
      "text/html": [
       "<div>\n",
       "<style scoped>\n",
       "    .dataframe tbody tr th:only-of-type {\n",
       "        vertical-align: middle;\n",
       "    }\n",
       "\n",
       "    .dataframe tbody tr th {\n",
       "        vertical-align: top;\n",
       "    }\n",
       "\n",
       "    .dataframe thead th {\n",
       "        text-align: right;\n",
       "    }\n",
       "</style>\n",
       "<table border=\"1\" class=\"dataframe\">\n",
       "  <thead>\n",
       "    <tr style=\"text-align: right;\">\n",
       "      <th></th>\n",
       "      <th>product_id</th>\n",
       "      <th>product_category</th>\n",
       "      <th>product_name</th>\n",
       "      <th>product_price</th>\n",
       "      <th>scrapy_datetime</th>\n",
       "    </tr>\n",
       "  </thead>\n",
       "  <tbody>\n",
       "    <tr>\n",
       "      <th>0</th>\n",
       "      <td>1008549001</td>\n",
       "      <td>men_jeans_regular</td>\n",
       "      <td>Regular Jeans</td>\n",
       "      <td>$ 19.99</td>\n",
       "      <td>2022-02-14 23:13:21</td>\n",
       "    </tr>\n",
       "    <tr>\n",
       "      <th>1</th>\n",
       "      <td>0811993040</td>\n",
       "      <td>men_jeans_regular</td>\n",
       "      <td>Regular Jeans</td>\n",
       "      <td>$ 29.99</td>\n",
       "      <td>2022-02-14 23:13:21</td>\n",
       "    </tr>\n",
       "    <tr>\n",
       "      <th>2</th>\n",
       "      <td>1013317006</td>\n",
       "      <td>men_jeans_regular</td>\n",
       "      <td>Hybrid Regular Tapered Joggers</td>\n",
       "      <td>$ 39.99</td>\n",
       "      <td>2022-02-14 23:13:21</td>\n",
       "    </tr>\n",
       "    <tr>\n",
       "      <th>3</th>\n",
       "      <td>0875105016</td>\n",
       "      <td>men_jeans_relaxed</td>\n",
       "      <td>Relaxed Jeans</td>\n",
       "      <td>$ 29.99</td>\n",
       "      <td>2022-02-14 23:13:21</td>\n",
       "    </tr>\n",
       "    <tr>\n",
       "      <th>4</th>\n",
       "      <td>0875105018</td>\n",
       "      <td>men_jeans_relaxed</td>\n",
       "      <td>Relaxed Jeans</td>\n",
       "      <td>$ 29.99</td>\n",
       "      <td>2022-02-14 23:13:21</td>\n",
       "    </tr>\n",
       "  </tbody>\n",
       "</table>\n",
       "</div>"
      ],
      "text/plain": [
       "   product_id   product_category                    product_name product_price      scrapy_datetime\n",
       "0  1008549001  men_jeans_regular                   Regular Jeans       $ 19.99  2022-02-14 23:13:21\n",
       "1  0811993040  men_jeans_regular                   Regular Jeans       $ 29.99  2022-02-14 23:13:21\n",
       "2  1013317006  men_jeans_regular  Hybrid Regular Tapered Joggers       $ 39.99  2022-02-14 23:13:21\n",
       "3  0875105016  men_jeans_relaxed                   Relaxed Jeans       $ 29.99  2022-02-14 23:13:21\n",
       "4  0875105018  men_jeans_relaxed                   Relaxed Jeans       $ 29.99  2022-02-14 23:13:21"
      ]
     },
     "execution_count": 6,
     "metadata": {},
     "output_type": "execute_result"
    }
   ],
   "source": [
    "# parameters\n",
    "headers = {'user-agent': 'my-app/0.0.1'}\n",
    "\n",
    "# URL\n",
    "url = 'https://www2.hm.com/en_us/men/products/jeans.html'\n",
    "\n",
    "#request to URL\n",
    "page = requests.get(url, headers = headers)\n",
    "\n",
    "# BeautifulSoup object\n",
    "soup = BeautifulSoup(page.text, 'html.parser')\n",
    "\n",
    "# ============== Product Data ===============\n",
    "#website showcase\n",
    "products = soup.find('ul', class_= 'products-listing small') #find retorna apenas 1 elemento, pois temos apenas 1 UL, uma vitrine, find_all retorna lista\n",
    "\n",
    "#list comprehension to get all products id and products category from the first page of \n",
    "product_list = products.find_all('article', class_ = 'hm-product-item')\n",
    "\n",
    "# product id\n",
    "product_id = [p.get('data-articlecode') for p in product_list]\n",
    "\n",
    "# product_category\n",
    "product_category = [p.get('data-category') for p in product_list]\n",
    "\n",
    "# product name\n",
    "product_list = products.find_all('a', class_ = 'link')\n",
    "product_name = [p.get_text() for p in product_list]\n",
    "\n",
    "#price\n",
    "product_list = soup.find_all('span', class_ = 'price regular')\n",
    "product_price = [p.get_text() for p in product_list]\n",
    "\n",
    "data = pd.DataFrame([product_id, product_category, product_name, product_price]).T\n",
    "data.columns = ['product_id', 'product_category', 'product_name', 'product_price']\n",
    "\n",
    "#scrapy time \n",
    "data['scrapy_datetime'] = datetime.now().strftime('%Y-%m-%d %H:%M:%S')\n",
    "data.head()"
   ]
  },
  {
   "cell_type": "code",
   "execution_count": 7,
   "id": "6488d790",
   "metadata": {
    "ExecuteTime": {
     "end_time": "2022-02-15T02:13:23.778523Z",
     "start_time": "2022-02-15T02:13:23.769827Z"
    },
    "scrolled": true
   },
   "outputs": [
    {
     "data": {
      "text/plain": [
       "(36, 5)"
      ]
     },
     "execution_count": 7,
     "metadata": {},
     "output_type": "execute_result"
    }
   ],
   "source": [
    "data.shape"
   ]
  },
  {
   "cell_type": "markdown",
   "id": "5b564526",
   "metadata": {},
   "source": [
    "## By products"
   ]
  },
  {
   "cell_type": "code",
   "execution_count": 94,
   "id": "7fae2a67",
   "metadata": {
    "ExecuteTime": {
     "end_time": "2022-02-21T13:55:32.549643Z",
     "start_time": "2022-02-21T13:53:10.252806Z"
    }
   },
   "outputs": [
    {
     "name": "stdout",
     "output_type": "stream",
     "text": [
      "Product: https://www2.hm.com/en_us/productpage.1008549001.html\n",
      "Color: https://www2.hm.com/en_us/productpage.1008549001.html\n",
      "Color: https://www2.hm.com/en_us/productpage.1008549002.html\n",
      "Color: https://www2.hm.com/en_us/productpage.1008549004.html\n",
      "Color: https://www2.hm.com/en_us/productpage.1008549006.html\n",
      "Color: https://www2.hm.com/en_us/productpage.1008549008.html\n",
      "Product: https://www2.hm.com/en_us/productpage.0811993040.html\n",
      "Color: https://www2.hm.com/en_us/productpage.0811993040.html\n",
      "Color: https://www2.hm.com/en_us/productpage.0811993001.html\n",
      "Color: https://www2.hm.com/en_us/productpage.0811993002.html\n",
      "Color: https://www2.hm.com/en_us/productpage.0811993003.html\n",
      "Color: https://www2.hm.com/en_us/productpage.0811993006.html\n",
      "Color: https://www2.hm.com/en_us/productpage.0811993007.html\n",
      "Color: https://www2.hm.com/en_us/productpage.0811993021.html\n",
      "Color: https://www2.hm.com/en_us/productpage.0811993022.html\n",
      "Color: https://www2.hm.com/en_us/productpage.0811993024.html\n",
      "Color: https://www2.hm.com/en_us/productpage.0811993025.html\n",
      "Color: https://www2.hm.com/en_us/productpage.0811993028.html\n",
      "Color: https://www2.hm.com/en_us/productpage.0811993031.html\n",
      "Color: https://www2.hm.com/en_us/productpage.0811993034.html\n",
      "Color: https://www2.hm.com/en_us/productpage.0811993036.html\n",
      "Color: https://www2.hm.com/en_us/productpage.0811993037.html\n",
      "Color: https://www2.hm.com/en_us/productpage.0811993039.html\n",
      "Product: https://www2.hm.com/en_us/productpage.1013317006.html\n",
      "Color: https://www2.hm.com/en_us/productpage.1013317006.html\n",
      "Color: https://www2.hm.com/en_us/productpage.1013317001.html\n",
      "Color: https://www2.hm.com/en_us/productpage.1013317002.html\n",
      "Color: https://www2.hm.com/en_us/productpage.1013317004.html\n",
      "Color: https://www2.hm.com/en_us/productpage.1013317005.html\n",
      "Color: https://www2.hm.com/en_us/productpage.1013317008.html\n",
      "Color: https://www2.hm.com/en_us/productpage.1013317010.html\n",
      "Product: https://www2.hm.com/en_us/productpage.0875105016.html\n",
      "Color: https://www2.hm.com/en_us/productpage.0875105016.html\n",
      "Color: https://www2.hm.com/en_us/productpage.0875105001.html\n",
      "Color: https://www2.hm.com/en_us/productpage.0875105002.html\n",
      "Color: https://www2.hm.com/en_us/productpage.0875105003.html\n",
      "Color: https://www2.hm.com/en_us/productpage.0875105009.html\n",
      "Color: https://www2.hm.com/en_us/productpage.0875105011.html\n",
      "Color: https://www2.hm.com/en_us/productpage.0875105015.html\n",
      "Color: https://www2.hm.com/en_us/productpage.0875105017.html\n",
      "Color: https://www2.hm.com/en_us/productpage.0875105018.html\n",
      "Color: https://www2.hm.com/en_us/productpage.0875105023.html\n",
      "Color: https://www2.hm.com/en_us/productpage.0875105024.html\n",
      "Product: https://www2.hm.com/en_us/productpage.0875105018.html\n",
      "Color: https://www2.hm.com/en_us/productpage.0875105018.html\n",
      "Color: https://www2.hm.com/en_us/productpage.0875105001.html\n",
      "Color: https://www2.hm.com/en_us/productpage.0875105002.html\n",
      "Color: https://www2.hm.com/en_us/productpage.0875105003.html\n",
      "Color: https://www2.hm.com/en_us/productpage.0875105009.html\n",
      "Color: https://www2.hm.com/en_us/productpage.0875105011.html\n",
      "Color: https://www2.hm.com/en_us/productpage.0875105015.html\n",
      "Color: https://www2.hm.com/en_us/productpage.0875105016.html\n",
      "Color: https://www2.hm.com/en_us/productpage.0875105017.html\n",
      "Color: https://www2.hm.com/en_us/productpage.0875105023.html\n",
      "Color: https://www2.hm.com/en_us/productpage.0875105024.html\n",
      "Product: https://www2.hm.com/en_us/productpage.1008549004.html\n",
      "Color: https://www2.hm.com/en_us/productpage.1008549004.html\n",
      "Color: https://www2.hm.com/en_us/productpage.1008549001.html\n",
      "Color: https://www2.hm.com/en_us/productpage.1008549002.html\n",
      "Color: https://www2.hm.com/en_us/productpage.1008549006.html\n",
      "Color: https://www2.hm.com/en_us/productpage.1008549008.html\n",
      "Product: https://www2.hm.com/en_us/productpage.0979945002.html\n",
      "Color: https://www2.hm.com/en_us/productpage.0979945002.html\n",
      "Color: https://www2.hm.com/en_us/productpage.0979945001.html\n",
      "Color: https://www2.hm.com/en_us/productpage.0979945003.html\n",
      "Product: https://www2.hm.com/en_us/productpage.1013317002.html\n",
      "Color: https://www2.hm.com/en_us/productpage.1013317002.html\n",
      "Color: https://www2.hm.com/en_us/productpage.1013317001.html\n",
      "Color: https://www2.hm.com/en_us/productpage.1013317004.html\n",
      "Color: https://www2.hm.com/en_us/productpage.1013317005.html\n",
      "Color: https://www2.hm.com/en_us/productpage.1013317006.html\n",
      "Color: https://www2.hm.com/en_us/productpage.1013317008.html\n",
      "Color: https://www2.hm.com/en_us/productpage.1013317010.html\n",
      "Product: https://www2.hm.com/en_us/productpage.0979945001.html\n",
      "Color: https://www2.hm.com/en_us/productpage.0979945001.html\n",
      "Color: https://www2.hm.com/en_us/productpage.0979945002.html\n",
      "Color: https://www2.hm.com/en_us/productpage.0979945003.html\n",
      "Product: https://www2.hm.com/en_us/productpage.1025726002.html\n",
      "Color: https://www2.hm.com/en_us/productpage.1025726002.html\n",
      "Color: https://www2.hm.com/en_us/productpage.1025726003.html\n",
      "Product: https://www2.hm.com/en_us/productpage.1025726003.html\n",
      "Color: https://www2.hm.com/en_us/productpage.1025726003.html\n",
      "Color: https://www2.hm.com/en_us/productpage.1025726002.html\n",
      "Product: https://www2.hm.com/en_us/productpage.1024256001.html\n",
      "Color: https://www2.hm.com/en_us/productpage.1024256001.html\n",
      "Color: https://www2.hm.com/en_us/productpage.1024256002.html\n",
      "Color: https://www2.hm.com/en_us/productpage.1024256003.html\n",
      "Color: https://www2.hm.com/en_us/productpage.1024256004.html\n",
      "Color: https://www2.hm.com/en_us/productpage.1024256005.html\n",
      "Color: https://www2.hm.com/en_us/productpage.1024256006.html\n",
      "Color: https://www2.hm.com/en_us/productpage.1024256007.html\n",
      "Product: https://www2.hm.com/en_us/productpage.0690449036.html\n",
      "Color: https://www2.hm.com/en_us/productpage.0690449036.html\n",
      "Color: https://www2.hm.com/en_us/productpage.0690449001.html\n",
      "Color: https://www2.hm.com/en_us/productpage.0690449002.html\n",
      "Color: https://www2.hm.com/en_us/productpage.0690449006.html\n",
      "Color: https://www2.hm.com/en_us/productpage.0690449007.html\n",
      "Color: https://www2.hm.com/en_us/productpage.0690449009.html\n",
      "Color: https://www2.hm.com/en_us/productpage.0690449011.html\n",
      "Color: https://www2.hm.com/en_us/productpage.0690449013.html\n",
      "Color: https://www2.hm.com/en_us/productpage.0690449021.html\n",
      "Color: https://www2.hm.com/en_us/productpage.0690449022.html\n",
      "Color: https://www2.hm.com/en_us/productpage.0690449024.html\n",
      "Color: https://www2.hm.com/en_us/productpage.0690449028.html\n",
      "Color: https://www2.hm.com/en_us/productpage.0690449035.html\n",
      "Color: https://www2.hm.com/en_us/productpage.0690449040.html\n",
      "Color: https://www2.hm.com/en_us/productpage.0690449043.html\n",
      "Color: https://www2.hm.com/en_us/productpage.0690449046.html\n",
      "Color: https://www2.hm.com/en_us/productpage.0690449051.html\n",
      "Color: https://www2.hm.com/en_us/productpage.0690449056.html\n",
      "Product: https://www2.hm.com/en_us/productpage.0985159001.html\n",
      "Color: https://www2.hm.com/en_us/productpage.0985159001.html\n",
      "Color: https://www2.hm.com/en_us/productpage.0985159002.html\n",
      "Color: https://www2.hm.com/en_us/productpage.0985159003.html\n",
      "Color: https://www2.hm.com/en_us/productpage.0985159004.html\n",
      "Color: https://www2.hm.com/en_us/productpage.0985159005.html\n",
      "Color: https://www2.hm.com/en_us/productpage.0985159006.html\n",
      "Color: https://www2.hm.com/en_us/productpage.0985159007.html\n",
      "Color: https://www2.hm.com/en_us/productpage.0985159008.html\n",
      "Product: https://www2.hm.com/en_us/productpage.0690449043.html\n",
      "Color: https://www2.hm.com/en_us/productpage.0690449043.html\n",
      "Color: https://www2.hm.com/en_us/productpage.0690449001.html\n",
      "Color: https://www2.hm.com/en_us/productpage.0690449002.html\n",
      "Color: https://www2.hm.com/en_us/productpage.0690449006.html\n",
      "Color: https://www2.hm.com/en_us/productpage.0690449007.html\n",
      "Color: https://www2.hm.com/en_us/productpage.0690449009.html\n",
      "Color: https://www2.hm.com/en_us/productpage.0690449011.html\n",
      "Color: https://www2.hm.com/en_us/productpage.0690449013.html\n",
      "Color: https://www2.hm.com/en_us/productpage.0690449021.html\n",
      "Color: https://www2.hm.com/en_us/productpage.0690449022.html\n",
      "Color: https://www2.hm.com/en_us/productpage.0690449024.html\n",
      "Color: https://www2.hm.com/en_us/productpage.0690449028.html\n",
      "Color: https://www2.hm.com/en_us/productpage.0690449035.html\n",
      "Color: https://www2.hm.com/en_us/productpage.0690449036.html\n"
     ]
    },
    {
     "name": "stdout",
     "output_type": "stream",
     "text": [
      "Color: https://www2.hm.com/en_us/productpage.0690449040.html\n",
      "Color: https://www2.hm.com/en_us/productpage.0690449046.html\n",
      "Color: https://www2.hm.com/en_us/productpage.0690449051.html\n",
      "Color: https://www2.hm.com/en_us/productpage.0690449056.html\n",
      "Product: https://www2.hm.com/en_us/productpage.1008549006.html\n",
      "Color: https://www2.hm.com/en_us/productpage.1008549006.html\n",
      "Color: https://www2.hm.com/en_us/productpage.1008549001.html\n",
      "Color: https://www2.hm.com/en_us/productpage.1008549002.html\n",
      "Color: https://www2.hm.com/en_us/productpage.1008549004.html\n",
      "Color: https://www2.hm.com/en_us/productpage.1008549008.html\n",
      "Product: https://www2.hm.com/en_us/productpage.0690449056.html\n",
      "Color: https://www2.hm.com/en_us/productpage.0690449056.html\n",
      "Color: https://www2.hm.com/en_us/productpage.0690449001.html\n",
      "Color: https://www2.hm.com/en_us/productpage.0690449002.html\n",
      "Color: https://www2.hm.com/en_us/productpage.0690449006.html\n",
      "Color: https://www2.hm.com/en_us/productpage.0690449007.html\n",
      "Color: https://www2.hm.com/en_us/productpage.0690449009.html\n",
      "Color: https://www2.hm.com/en_us/productpage.0690449011.html\n",
      "Color: https://www2.hm.com/en_us/productpage.0690449013.html\n",
      "Color: https://www2.hm.com/en_us/productpage.0690449021.html\n",
      "Color: https://www2.hm.com/en_us/productpage.0690449022.html\n",
      "Color: https://www2.hm.com/en_us/productpage.0690449024.html\n",
      "Color: https://www2.hm.com/en_us/productpage.0690449028.html\n",
      "Color: https://www2.hm.com/en_us/productpage.0690449035.html\n",
      "Color: https://www2.hm.com/en_us/productpage.0690449036.html\n",
      "Color: https://www2.hm.com/en_us/productpage.0690449040.html\n",
      "Color: https://www2.hm.com/en_us/productpage.0690449043.html\n",
      "Color: https://www2.hm.com/en_us/productpage.0690449046.html\n",
      "Color: https://www2.hm.com/en_us/productpage.0690449051.html\n",
      "Product: https://www2.hm.com/en_us/productpage.1024256005.html\n",
      "Color: https://www2.hm.com/en_us/productpage.1024256005.html\n",
      "Color: https://www2.hm.com/en_us/productpage.1024256001.html\n",
      "Color: https://www2.hm.com/en_us/productpage.1024256002.html\n",
      "Color: https://www2.hm.com/en_us/productpage.1024256003.html\n",
      "Color: https://www2.hm.com/en_us/productpage.1024256004.html\n",
      "Color: https://www2.hm.com/en_us/productpage.1024256006.html\n",
      "Color: https://www2.hm.com/en_us/productpage.1024256007.html\n",
      "Product: https://www2.hm.com/en_us/productpage.1004199005.html\n",
      "Color: https://www2.hm.com/en_us/productpage.1004199005.html\n",
      "Color: https://www2.hm.com/en_us/productpage.1004199001.html\n",
      "Color: https://www2.hm.com/en_us/productpage.1004199002.html\n",
      "Color: https://www2.hm.com/en_us/productpage.1004199003.html\n",
      "Product: https://www2.hm.com/en_us/productpage.0690449022.html\n",
      "Color: https://www2.hm.com/en_us/productpage.0690449022.html\n",
      "Color: https://www2.hm.com/en_us/productpage.0690449001.html\n",
      "Color: https://www2.hm.com/en_us/productpage.0690449002.html\n",
      "Color: https://www2.hm.com/en_us/productpage.0690449006.html\n",
      "Color: https://www2.hm.com/en_us/productpage.0690449007.html\n",
      "Color: https://www2.hm.com/en_us/productpage.0690449009.html\n",
      "Color: https://www2.hm.com/en_us/productpage.0690449011.html\n",
      "Color: https://www2.hm.com/en_us/productpage.0690449013.html\n",
      "Color: https://www2.hm.com/en_us/productpage.0690449021.html\n",
      "Color: https://www2.hm.com/en_us/productpage.0690449024.html\n",
      "Color: https://www2.hm.com/en_us/productpage.0690449028.html\n",
      "Color: https://www2.hm.com/en_us/productpage.0690449035.html\n",
      "Color: https://www2.hm.com/en_us/productpage.0690449036.html\n",
      "Color: https://www2.hm.com/en_us/productpage.0690449040.html\n",
      "Color: https://www2.hm.com/en_us/productpage.0690449043.html\n",
      "Color: https://www2.hm.com/en_us/productpage.0690449046.html\n",
      "Color: https://www2.hm.com/en_us/productpage.0690449051.html\n",
      "Color: https://www2.hm.com/en_us/productpage.0690449056.html\n",
      "Product: https://www2.hm.com/en_us/productpage.1024256006.html\n",
      "Color: https://www2.hm.com/en_us/productpage.1024256006.html\n",
      "Color: https://www2.hm.com/en_us/productpage.1024256001.html\n",
      "Color: https://www2.hm.com/en_us/productpage.1024256002.html\n",
      "Color: https://www2.hm.com/en_us/productpage.1024256003.html\n",
      "Color: https://www2.hm.com/en_us/productpage.1024256004.html\n",
      "Color: https://www2.hm.com/en_us/productpage.1024256005.html\n",
      "Color: https://www2.hm.com/en_us/productpage.1024256007.html\n",
      "Product: https://www2.hm.com/en_us/productpage.1024256002.html\n",
      "Color: https://www2.hm.com/en_us/productpage.1024256002.html\n",
      "Color: https://www2.hm.com/en_us/productpage.1024256001.html\n",
      "Color: https://www2.hm.com/en_us/productpage.1024256003.html\n",
      "Color: https://www2.hm.com/en_us/productpage.1024256004.html\n",
      "Color: https://www2.hm.com/en_us/productpage.1024256005.html\n",
      "Color: https://www2.hm.com/en_us/productpage.1024256006.html\n",
      "Color: https://www2.hm.com/en_us/productpage.1024256007.html\n",
      "Product: https://www2.hm.com/en_us/productpage.1024256003.html\n",
      "Color: https://www2.hm.com/en_us/productpage.1024256003.html\n",
      "Color: https://www2.hm.com/en_us/productpage.1024256001.html\n",
      "Color: https://www2.hm.com/en_us/productpage.1024256002.html\n",
      "Color: https://www2.hm.com/en_us/productpage.1024256004.html\n",
      "Color: https://www2.hm.com/en_us/productpage.1024256005.html\n",
      "Color: https://www2.hm.com/en_us/productpage.1024256006.html\n",
      "Color: https://www2.hm.com/en_us/productpage.1024256007.html\n",
      "Product: https://www2.hm.com/en_us/productpage.1024256007.html\n",
      "Color: https://www2.hm.com/en_us/productpage.1024256007.html\n",
      "Color: https://www2.hm.com/en_us/productpage.1024256001.html\n",
      "Color: https://www2.hm.com/en_us/productpage.1024256002.html\n",
      "Color: https://www2.hm.com/en_us/productpage.1024256003.html\n",
      "Color: https://www2.hm.com/en_us/productpage.1024256004.html\n",
      "Color: https://www2.hm.com/en_us/productpage.1024256005.html\n",
      "Color: https://www2.hm.com/en_us/productpage.1024256006.html\n",
      "Product: https://www2.hm.com/en_us/productpage.0985159008.html\n",
      "Color: https://www2.hm.com/en_us/productpage.0985159008.html\n",
      "Color: https://www2.hm.com/en_us/productpage.0985159001.html\n",
      "Color: https://www2.hm.com/en_us/productpage.0985159002.html\n",
      "Color: https://www2.hm.com/en_us/productpage.0985159003.html\n",
      "Color: https://www2.hm.com/en_us/productpage.0985159004.html\n",
      "Color: https://www2.hm.com/en_us/productpage.0985159005.html\n",
      "Color: https://www2.hm.com/en_us/productpage.0985159006.html\n",
      "Color: https://www2.hm.com/en_us/productpage.0985159007.html\n",
      "Product: https://www2.hm.com/en_us/productpage.0985159004.html\n",
      "Color: https://www2.hm.com/en_us/productpage.0985159004.html\n",
      "Color: https://www2.hm.com/en_us/productpage.0985159001.html\n",
      "Color: https://www2.hm.com/en_us/productpage.0985159002.html\n",
      "Color: https://www2.hm.com/en_us/productpage.0985159003.html\n",
      "Color: https://www2.hm.com/en_us/productpage.0985159005.html\n",
      "Color: https://www2.hm.com/en_us/productpage.0985159006.html\n",
      "Color: https://www2.hm.com/en_us/productpage.0985159007.html\n",
      "Color: https://www2.hm.com/en_us/productpage.0985159008.html\n",
      "Product: https://www2.hm.com/en_us/productpage.0985159005.html\n",
      "Color: https://www2.hm.com/en_us/productpage.0985159005.html\n",
      "Color: https://www2.hm.com/en_us/productpage.0985159001.html\n",
      "Color: https://www2.hm.com/en_us/productpage.0985159002.html\n",
      "Color: https://www2.hm.com/en_us/productpage.0985159003.html\n",
      "Color: https://www2.hm.com/en_us/productpage.0985159004.html\n",
      "Color: https://www2.hm.com/en_us/productpage.0985159006.html\n",
      "Color: https://www2.hm.com/en_us/productpage.0985159007.html\n",
      "Color: https://www2.hm.com/en_us/productpage.0985159008.html\n",
      "Product: https://www2.hm.com/en_us/productpage.0985159006.html\n",
      "Color: https://www2.hm.com/en_us/productpage.0985159006.html\n",
      "Color: https://www2.hm.com/en_us/productpage.0985159001.html\n",
      "Color: https://www2.hm.com/en_us/productpage.0985159002.html\n",
      "Color: https://www2.hm.com/en_us/productpage.0985159003.html\n",
      "Color: https://www2.hm.com/en_us/productpage.0985159004.html\n",
      "Color: https://www2.hm.com/en_us/productpage.0985159005.html\n",
      "Color: https://www2.hm.com/en_us/productpage.0985159007.html\n",
      "Color: https://www2.hm.com/en_us/productpage.0985159008.html\n",
      "Product: https://www2.hm.com/en_us/productpage.1004199002.html\n",
      "Color: https://www2.hm.com/en_us/productpage.1004199002.html\n",
      "Color: https://www2.hm.com/en_us/productpage.1004199001.html\n",
      "Color: https://www2.hm.com/en_us/productpage.1004199003.html\n",
      "Color: https://www2.hm.com/en_us/productpage.1004199005.html\n"
     ]
    },
    {
     "name": "stdout",
     "output_type": "stream",
     "text": [
      "Product: https://www2.hm.com/en_us/productpage.0690449051.html\n",
      "Color: https://www2.hm.com/en_us/productpage.0690449051.html\n",
      "Color: https://www2.hm.com/en_us/productpage.0690449001.html\n",
      "Color: https://www2.hm.com/en_us/productpage.0690449002.html\n",
      "Color: https://www2.hm.com/en_us/productpage.0690449006.html\n",
      "Color: https://www2.hm.com/en_us/productpage.0690449007.html\n",
      "Color: https://www2.hm.com/en_us/productpage.0690449009.html\n",
      "Color: https://www2.hm.com/en_us/productpage.0690449011.html\n",
      "Color: https://www2.hm.com/en_us/productpage.0690449013.html\n",
      "Color: https://www2.hm.com/en_us/productpage.0690449021.html\n",
      "Color: https://www2.hm.com/en_us/productpage.0690449022.html\n",
      "Color: https://www2.hm.com/en_us/productpage.0690449024.html\n",
      "Color: https://www2.hm.com/en_us/productpage.0690449028.html\n",
      "Color: https://www2.hm.com/en_us/productpage.0690449035.html\n",
      "Color: https://www2.hm.com/en_us/productpage.0690449036.html\n",
      "Color: https://www2.hm.com/en_us/productpage.0690449040.html\n",
      "Color: https://www2.hm.com/en_us/productpage.0690449043.html\n",
      "Color: https://www2.hm.com/en_us/productpage.0690449046.html\n",
      "Color: https://www2.hm.com/en_us/productpage.0690449056.html\n",
      "Product: https://www2.hm.com/en_us/productpage.1008549002.html\n",
      "Color: https://www2.hm.com/en_us/productpage.1008549002.html\n",
      "Color: https://www2.hm.com/en_us/productpage.1008549001.html\n",
      "Color: https://www2.hm.com/en_us/productpage.1008549004.html\n",
      "Color: https://www2.hm.com/en_us/productpage.1008549006.html\n",
      "Color: https://www2.hm.com/en_us/productpage.1008549008.html\n",
      "Product: https://www2.hm.com/en_us/productpage.1004199001.html\n",
      "Color: https://www2.hm.com/en_us/productpage.1004199001.html\n",
      "Color: https://www2.hm.com/en_us/productpage.1004199002.html\n",
      "Color: https://www2.hm.com/en_us/productpage.1004199003.html\n",
      "Color: https://www2.hm.com/en_us/productpage.1004199005.html\n",
      "Product: https://www2.hm.com/en_us/productpage.0427159006.html\n",
      "Color: https://www2.hm.com/en_us/productpage.0427159006.html\n",
      "Color: https://www2.hm.com/en_us/productpage.0427159001.html\n",
      "Color: https://www2.hm.com/en_us/productpage.0427159002.html\n",
      "Color: https://www2.hm.com/en_us/productpage.0427159003.html\n",
      "Color: https://www2.hm.com/en_us/productpage.0427159004.html\n",
      "Color: https://www2.hm.com/en_us/productpage.0427159005.html\n",
      "Color: https://www2.hm.com/en_us/productpage.0427159007.html\n",
      "Color: https://www2.hm.com/en_us/productpage.0427159008.html\n",
      "Color: https://www2.hm.com/en_us/productpage.0427159010.html\n",
      "Color: https://www2.hm.com/en_us/productpage.0427159011.html\n",
      "Color: https://www2.hm.com/en_us/productpage.0427159017.html\n",
      "Color: https://www2.hm.com/en_us/productpage.0427159022.html\n",
      "Color: https://www2.hm.com/en_us/productpage.0427159023.html\n",
      "Color: https://www2.hm.com/en_us/productpage.0427159025.html\n",
      "Color: https://www2.hm.com/en_us/productpage.0427159027.html\n",
      "Product: https://www2.hm.com/en_us/productpage.1024256004.html\n",
      "Color: https://www2.hm.com/en_us/productpage.1024256004.html\n",
      "Color: https://www2.hm.com/en_us/productpage.1024256001.html\n",
      "Color: https://www2.hm.com/en_us/productpage.1024256002.html\n",
      "Color: https://www2.hm.com/en_us/productpage.1024256003.html\n",
      "Color: https://www2.hm.com/en_us/productpage.1024256005.html\n",
      "Color: https://www2.hm.com/en_us/productpage.1024256006.html\n",
      "Color: https://www2.hm.com/en_us/productpage.1024256007.html\n",
      "Product: https://www2.hm.com/en_us/productpage.1013317008.html\n",
      "Color: https://www2.hm.com/en_us/productpage.1013317008.html\n",
      "Color: https://www2.hm.com/en_us/productpage.1013317001.html\n",
      "Color: https://www2.hm.com/en_us/productpage.1013317002.html\n",
      "Color: https://www2.hm.com/en_us/productpage.1013317004.html\n",
      "Color: https://www2.hm.com/en_us/productpage.1013317005.html\n",
      "Color: https://www2.hm.com/en_us/productpage.1013317006.html\n",
      "Color: https://www2.hm.com/en_us/productpage.1013317010.html\n",
      "Product: https://www2.hm.com/en_us/productpage.1004199003.html\n",
      "Color: https://www2.hm.com/en_us/productpage.1004199003.html\n",
      "Color: https://www2.hm.com/en_us/productpage.1004199001.html\n",
      "Color: https://www2.hm.com/en_us/productpage.1004199002.html\n",
      "Color: https://www2.hm.com/en_us/productpage.1004199005.html\n"
     ]
    }
   ],
   "source": [
    "# empty  dataframe\n",
    "df_compositions = pd.DataFrame()\n",
    "\n",
    "# unique columns for all products\n",
    "aux = []\n",
    "\n",
    "cols = ['Art. No.', 'Composition', 'Fit', 'Product safety', 'Size', 'More sustainable materials']\n",
    "df_pattern = pd.DataFrame(columns = cols)\n",
    "\n",
    "for i in range(len(data)):\n",
    "    # API Request\n",
    "    url = 'https://www2.hm.com/en_us/productpage.' + data.loc[i, 'product_id'] + '.html'\n",
    "\n",
    "    print('Product: {}'.format(url))\n",
    "    \n",
    "    page = requests.get(url, headers = headers)\n",
    "    \n",
    "    # Beautiful Soup object\n",
    "    soup = BeautifulSoup(page.text, 'html.parser')\n",
    "    \n",
    "    # ==================== color name =================================\n",
    "    product_list = soup.find_all( 'a', class_='filter-option miniature active' ) + soup.find_all( 'a', class_='filter-option miniature' )\n",
    "    \n",
    "    # color name\n",
    "    color_name = [p.get( 'data-color' ) for p in product_list]\n",
    "    \n",
    "    # product id\n",
    "    product_id = [p.get( 'data-articlecode' ) for p in product_list]\n",
    "    \n",
    "    df_color = pd.DataFrame( [product_id, color_name] ).T\n",
    "    df_color.columns = ['product_id', 'color_name']\n",
    "    \n",
    "    for j in range(len(df_color)): #go through all colors and collect each composition \n",
    "        # API Request\n",
    "        url = 'https://www2.hm.com/en_us/productpage.' + df_color.loc[j, 'product_id'] + '.html'\n",
    "    \n",
    "        print('Color: {}'.format(url))\n",
    "\n",
    "        page = requests.get(url, headers = headers)\n",
    "\n",
    "        # Beautiful Soup object\n",
    "        soup = BeautifulSoup(page.text, 'html.parser')\n",
    "        \n",
    "        # ============ Product Name =============roduct_price = soup.find_all('div', class_ = 'primary-row product-item-price')\n",
    "        product_name = soup.find_all('h1', class_ = 'primary product-item-headline')\n",
    "#       product_name = [ p.get_text() for p in product_name]\n",
    "        product_name = product_name[0].get_text()\n",
    "    \n",
    "        # ============ Product Price =============\n",
    "        product_price = soup.find_all('div', class_ = 'primary-row product-item-price')\n",
    "        product_price = re.findall(r'\\d+.?\\d+', product_price[0].get_text())[0]     \n",
    "        \n",
    "#         df_product_name_price = pd.DataFrame([product_name, product_price]).T\n",
    "        \n",
    "        # =================== composition =====================\n",
    "        product_composition_list = soup.find_all( 'div', class_='pdp-description-list-item' )\n",
    "        product_composition = [list( filter( None, p.get_text().split( '\\n' ) ) ) for p in product_composition_list]\n",
    "\n",
    "        # create composition dataframe\n",
    "        df_composition = pd.DataFrame(product_composition).T\n",
    "        df_composition.columns = df_composition.iloc[0]\n",
    "\n",
    "        # delete first row\n",
    "        df_composition = df_composition.iloc[1:].fillna(method = 'ffill')\n",
    "\n",
    "        # remove pocket lining, shell and lining\n",
    "        df_composition['Composition'] = df_composition['Composition'].str.replace('Pocket lining: ', '', regex = True)\n",
    "        df_composition['Composition'] = df_composition['Composition'].str.replace('Pocket: ', '', regex = True)\n",
    "        df_composition['Composition'] = df_composition['Composition'].str.replace('Shell: ', '', regex = True)\n",
    "        df_composition['Composition'] = df_composition['Composition'].str.replace('Lining: ', '', regex = True)\n",
    "\n",
    "        # garantee the same number of columns\n",
    "        df_composition = pd.concat( [df_pattern, df_composition], axis=0 )\n",
    "\n",
    "        #rename columns\n",
    "        df_composition.columns = ['product_id','composition','fit','product_safety', 'size', 'sustainable_materials']\n",
    "\n",
    "        #create columns product name and product price\n",
    "        df_composition['product_name'] = product_name\n",
    "        df_composition['product_price'] = product_price\n",
    "        \n",
    "        #keep new columns if it shows up\n",
    "        aux = aux + df_composition.columns.tolist() #to guarantee we have all columns of composition unique values\n",
    "\n",
    "        # merge data color + composition\n",
    "        df_composition = pd.merge( df_composition, df_color, how = 'left', on = 'product_id')\n",
    "\n",
    "        # all products\n",
    "        df_compositions = pd.concat([df_compositions, df_composition], axis = 0)\n",
    "    \n",
    "# # Join Showroom data + details\n",
    "df_compositions['style_id'] = df_compositions['product_id'].apply( lambda x: x[:-3] )\n",
    "df_compositions['color_id'] = df_compositions['product_id'].apply( lambda x: x[-3:] )\n",
    "\n",
    "#scrapy time \n",
    "df_compositions['scrapy_datetime'] = datetime.now().strftime('%Y-%m-%d %H:%M:%S')"
   ]
  },
  {
   "cell_type": "code",
   "execution_count": 213,
   "id": "b7da089c",
   "metadata": {
    "ExecuteTime": {
     "end_time": "2022-02-21T22:20:08.271110Z",
     "start_time": "2022-02-21T22:20:08.262333Z"
    }
   },
   "outputs": [
    {
     "data": {
      "text/plain": [
       "array(['Cotton 98%, Spandex 2%', 'Polyester 65%, Cotton 35%',\n",
       "       'Cotton 99%, Spandex 1%', 'Polyester 63%, Cotton 37%',\n",
       "       'Cotton 100%', 'Cotton 79%, Polyester 20%, Spandex 1%',\n",
       "       'Cotton 77%, Polyester 21%, Spandex 2%',\n",
       "       'Cotton 78%, Polyester 21%, Spandex 1%',\n",
       "       'Cotton 79%, Polyester 19%, Spandex 2%',\n",
       "       'Cotton 80%, Polyester 19%, Spandex 1%', 'Polyester 100%',\n",
       "       'Cotton 93%, Polyester 6%, Spandex 1%',\n",
       "       'Cotton 91%, Polyester 7%, Spandex 2%',\n",
       "       'Cotton 72%, Polyester 20%, Modal 7%, Spandex 1%'], dtype=object)"
      ]
     },
     "execution_count": 213,
     "metadata": {},
     "output_type": "execute_result"
    }
   ],
   "source": [
    "df_compositions['composition'].unique()"
   ]
  },
  {
   "cell_type": "code",
   "execution_count": null,
   "id": "33555959",
   "metadata": {
    "ExecuteTime": {
     "end_time": "2022-02-15T02:13:18.594782Z",
     "start_time": "2022-02-15T02:13:16.744Z"
    }
   },
   "outputs": [],
   "source": [
    "df_product_category = data[['product_id', 'product_category']].drop_duplicates()\n",
    "df_product_category"
   ]
  },
  {
   "cell_type": "code",
   "execution_count": 46,
   "id": "c31fdab7",
   "metadata": {
    "ExecuteTime": {
     "end_time": "2022-02-21T12:52:46.395330Z",
     "start_time": "2022-02-21T12:52:46.209614Z"
    },
    "scrolled": true
   },
   "outputs": [
    {
     "data": {
      "text/html": [
       "<div>\n",
       "<style scoped>\n",
       "    .dataframe tbody tr th:only-of-type {\n",
       "        vertical-align: middle;\n",
       "    }\n",
       "\n",
       "    .dataframe tbody tr th {\n",
       "        vertical-align: top;\n",
       "    }\n",
       "\n",
       "    .dataframe thead th {\n",
       "        text-align: right;\n",
       "    }\n",
       "</style>\n",
       "<table border=\"1\" class=\"dataframe\">\n",
       "  <thead>\n",
       "    <tr style=\"text-align: right;\">\n",
       "      <th></th>\n",
       "      <th>product_id</th>\n",
       "      <th>composition</th>\n",
       "      <th>fit</th>\n",
       "      <th>product_safety</th>\n",
       "      <th>size</th>\n",
       "      <th>sustainable_materials</th>\n",
       "      <th>product_name</th>\n",
       "      <th>product_price</th>\n",
       "      <th>color_name</th>\n",
       "      <th>style_id</th>\n",
       "      <th>color_id</th>\n",
       "      <th>scrapy_datetime</th>\n",
       "    </tr>\n",
       "  </thead>\n",
       "  <tbody>\n",
       "    <tr>\n",
       "      <th>0</th>\n",
       "      <td>1008549001</td>\n",
       "      <td>Cotton 98%, Spandex 2%</td>\n",
       "      <td>Regular fit</td>\n",
       "      <td>NaN</td>\n",
       "      <td>NaN</td>\n",
       "      <td>Recycled cotton 20%</td>\n",
       "      <td>\\n\\t\\t\\t\\t\\t\\t\\t  Regular Jeans</td>\n",
       "      <td>19.99</td>\n",
       "      <td>Light denim blue</td>\n",
       "      <td>1008549</td>\n",
       "      <td>001</td>\n",
       "      <td>2022-02-14 23:36:13</td>\n",
       "    </tr>\n",
       "    <tr>\n",
       "      <th>1</th>\n",
       "      <td>1008549001</td>\n",
       "      <td>Polyester 65%, Cotton 35%</td>\n",
       "      <td>Regular fit</td>\n",
       "      <td>NaN</td>\n",
       "      <td>NaN</td>\n",
       "      <td>Recycled cotton 20%</td>\n",
       "      <td>\\n\\t\\t\\t\\t\\t\\t\\t  Regular Jeans</td>\n",
       "      <td>19.99</td>\n",
       "      <td>Light denim blue</td>\n",
       "      <td>1008549</td>\n",
       "      <td>001</td>\n",
       "      <td>2022-02-14 23:36:13</td>\n",
       "    </tr>\n",
       "    <tr>\n",
       "      <th>0</th>\n",
       "      <td>1008549002</td>\n",
       "      <td>Polyester 65%, Cotton 35%</td>\n",
       "      <td>Regular fit</td>\n",
       "      <td>NaN</td>\n",
       "      <td>The model is 185cm/6'1\" and wears a size 31/32</td>\n",
       "      <td>Recycled cotton 20%</td>\n",
       "      <td>\\n\\t\\t\\t\\t\\t\\t\\t  Regular Jeans</td>\n",
       "      <td>19.99</td>\n",
       "      <td>Denim blue</td>\n",
       "      <td>1008549</td>\n",
       "      <td>002</td>\n",
       "      <td>2022-02-14 23:36:13</td>\n",
       "    </tr>\n",
       "    <tr>\n",
       "      <th>1</th>\n",
       "      <td>1008549002</td>\n",
       "      <td>Cotton 99%, Spandex 1%</td>\n",
       "      <td>Regular fit</td>\n",
       "      <td>NaN</td>\n",
       "      <td>The model is 185cm/6'1\" and wears a size 31/32</td>\n",
       "      <td>Recycled cotton 20%</td>\n",
       "      <td>\\n\\t\\t\\t\\t\\t\\t\\t  Regular Jeans</td>\n",
       "      <td>19.99</td>\n",
       "      <td>Denim blue</td>\n",
       "      <td>1008549</td>\n",
       "      <td>002</td>\n",
       "      <td>2022-02-14 23:36:13</td>\n",
       "    </tr>\n",
       "    <tr>\n",
       "      <th>0</th>\n",
       "      <td>1008549004</td>\n",
       "      <td>Cotton 99%, Spandex 1%</td>\n",
       "      <td>Regular fit</td>\n",
       "      <td>NaN</td>\n",
       "      <td>The model is 180cm/5'11\" and wears a size 31/32</td>\n",
       "      <td>Recycled cotton 20%</td>\n",
       "      <td>\\n\\t\\t\\t\\t\\t\\t\\t  Regular Jeans</td>\n",
       "      <td>19.99</td>\n",
       "      <td>Dark blue</td>\n",
       "      <td>1008549</td>\n",
       "      <td>004</td>\n",
       "      <td>2022-02-14 23:36:13</td>\n",
       "    </tr>\n",
       "  </tbody>\n",
       "</table>\n",
       "</div>"
      ],
      "text/plain": [
       "   product_id                composition          fit product_safety                                             size sustainable_materials                     product_name product_price        color_name style_id color_id      scrapy_datetime\n",
       "0  1008549001     Cotton 98%, Spandex 2%  Regular fit            NaN                                              NaN   Recycled cotton 20%  \\n\\t\\t\\t\\t\\t\\t\\t  Regular Jeans         19.99  Light denim blue  1008549      001  2022-02-14 23:36:13\n",
       "1  1008549001  Polyester 65%, Cotton 35%  Regular fit            NaN                                              NaN   Recycled cotton 20%  \\n\\t\\t\\t\\t\\t\\t\\t  Regular Jeans         19.99  Light denim blue  1008549      001  2022-02-14 23:36:13\n",
       "0  1008549002  Polyester 65%, Cotton 35%  Regular fit            NaN   The model is 185cm/6'1\" and wears a size 31/32   Recycled cotton 20%  \\n\\t\\t\\t\\t\\t\\t\\t  Regular Jeans         19.99        Denim blue  1008549      002  2022-02-14 23:36:13\n",
       "1  1008549002     Cotton 99%, Spandex 1%  Regular fit            NaN   The model is 185cm/6'1\" and wears a size 31/32   Recycled cotton 20%  \\n\\t\\t\\t\\t\\t\\t\\t  Regular Jeans         19.99        Denim blue  1008549      002  2022-02-14 23:36:13\n",
       "0  1008549004     Cotton 99%, Spandex 1%  Regular fit            NaN  The model is 180cm/5'11\" and wears a size 31/32   Recycled cotton 20%  \\n\\t\\t\\t\\t\\t\\t\\t  Regular Jeans         19.99         Dark blue  1008549      004  2022-02-14 23:36:13"
      ]
     },
     "execution_count": 46,
     "metadata": {},
     "output_type": "execute_result"
    }
   ],
   "source": [
    "df_compositions.head()"
   ]
  },
  {
   "cell_type": "code",
   "execution_count": 18,
   "id": "c8ec278b",
   "metadata": {
    "ExecuteTime": {
     "end_time": "2022-02-15T02:33:20.506382Z",
     "start_time": "2022-02-15T02:33:20.503152Z"
    }
   },
   "outputs": [
    {
     "data": {
      "text/plain": [
       "Index(['product_id', 'composition', 'fit', 'product_safety', 'size',\n",
       "       'sustainable_materials', 'pŕoduct_name', 'product_price', 'color_name',\n",
       "       'style_id', 'color_id', 'scrapy_datetime'],\n",
       "      dtype='object')"
      ]
     },
     "execution_count": 18,
     "metadata": {},
     "output_type": "execute_result"
    }
   ],
   "source": [
    "df_compositions.columns"
   ]
  },
  {
   "cell_type": "code",
   "execution_count": 208,
   "id": "12673d27",
   "metadata": {
    "ExecuteTime": {
     "end_time": "2022-02-21T15:33:29.894551Z",
     "start_time": "2022-02-21T15:33:29.886475Z"
    }
   },
   "outputs": [
    {
     "data": {
      "text/plain": [
       "(99, 16)"
      ]
     },
     "execution_count": 208,
     "metadata": {},
     "output_type": "execute_result"
    }
   ],
   "source": [
    "df_data.shape"
   ]
  },
  {
   "cell_type": "code",
   "execution_count": 210,
   "id": "ab033ba6",
   "metadata": {
    "ExecuteTime": {
     "end_time": "2022-02-21T15:34:04.894087Z",
     "start_time": "2022-02-21T15:34:04.885263Z"
    }
   },
   "outputs": [
    {
     "data": {
      "text/plain": [
       "96"
      ]
     },
     "execution_count": 210,
     "metadata": {},
     "output_type": "execute_result"
    }
   ],
   "source": [
    "len(df_compositions['product_id'].unique())"
   ]
  },
  {
   "cell_type": "code",
   "execution_count": 48,
   "id": "faa2d8f7",
   "metadata": {
    "ExecuteTime": {
     "end_time": "2022-02-21T12:56:55.090714Z",
     "start_time": "2022-02-21T12:56:55.061423Z"
    },
    "scrolled": true
   },
   "outputs": [
    {
     "data": {
      "text/html": [
       "<div>\n",
       "<style scoped>\n",
       "    .dataframe tbody tr th:only-of-type {\n",
       "        vertical-align: middle;\n",
       "    }\n",
       "\n",
       "    .dataframe tbody tr th {\n",
       "        vertical-align: top;\n",
       "    }\n",
       "\n",
       "    .dataframe thead th {\n",
       "        text-align: right;\n",
       "    }\n",
       "</style>\n",
       "<table border=\"1\" class=\"dataframe\">\n",
       "  <thead>\n",
       "    <tr style=\"text-align: right;\">\n",
       "      <th></th>\n",
       "      <th>product_id</th>\n",
       "      <th>composition</th>\n",
       "      <th>fit</th>\n",
       "      <th>product_safety</th>\n",
       "      <th>size</th>\n",
       "      <th>sustainable_materials</th>\n",
       "      <th>product_name</th>\n",
       "      <th>product_price</th>\n",
       "      <th>color_name</th>\n",
       "      <th>style_id</th>\n",
       "      <th>color_id</th>\n",
       "      <th>scrapy_datetime</th>\n",
       "    </tr>\n",
       "  </thead>\n",
       "  <tbody>\n",
       "    <tr>\n",
       "      <th>0</th>\n",
       "      <td>1008549001</td>\n",
       "      <td>Cotton 98%, Spandex 2%</td>\n",
       "      <td>Regular fit</td>\n",
       "      <td>NaN</td>\n",
       "      <td>NaN</td>\n",
       "      <td>Recycled cotton 20%</td>\n",
       "      <td>regular jeans</td>\n",
       "      <td>19.99</td>\n",
       "      <td>Light denim blue</td>\n",
       "      <td>1008549</td>\n",
       "      <td>001</td>\n",
       "      <td>2022-02-14 23:36:13</td>\n",
       "    </tr>\n",
       "    <tr>\n",
       "      <th>1</th>\n",
       "      <td>1008549001</td>\n",
       "      <td>Polyester 65%, Cotton 35%</td>\n",
       "      <td>Regular fit</td>\n",
       "      <td>NaN</td>\n",
       "      <td>NaN</td>\n",
       "      <td>Recycled cotton 20%</td>\n",
       "      <td>regular jeans</td>\n",
       "      <td>19.99</td>\n",
       "      <td>Light denim blue</td>\n",
       "      <td>1008549</td>\n",
       "      <td>001</td>\n",
       "      <td>2022-02-14 23:36:13</td>\n",
       "    </tr>\n",
       "    <tr>\n",
       "      <th>0</th>\n",
       "      <td>1008549002</td>\n",
       "      <td>Polyester 65%, Cotton 35%</td>\n",
       "      <td>Regular fit</td>\n",
       "      <td>NaN</td>\n",
       "      <td>The model is 185cm/6'1\" and wears a size 31/32</td>\n",
       "      <td>Recycled cotton 20%</td>\n",
       "      <td>regular jeans</td>\n",
       "      <td>19.99</td>\n",
       "      <td>Denim blue</td>\n",
       "      <td>1008549</td>\n",
       "      <td>002</td>\n",
       "      <td>2022-02-14 23:36:13</td>\n",
       "    </tr>\n",
       "    <tr>\n",
       "      <th>1</th>\n",
       "      <td>1008549002</td>\n",
       "      <td>Cotton 99%, Spandex 1%</td>\n",
       "      <td>Regular fit</td>\n",
       "      <td>NaN</td>\n",
       "      <td>The model is 185cm/6'1\" and wears a size 31/32</td>\n",
       "      <td>Recycled cotton 20%</td>\n",
       "      <td>regular jeans</td>\n",
       "      <td>19.99</td>\n",
       "      <td>Denim blue</td>\n",
       "      <td>1008549</td>\n",
       "      <td>002</td>\n",
       "      <td>2022-02-14 23:36:13</td>\n",
       "    </tr>\n",
       "    <tr>\n",
       "      <th>0</th>\n",
       "      <td>1008549004</td>\n",
       "      <td>Cotton 99%, Spandex 1%</td>\n",
       "      <td>Regular fit</td>\n",
       "      <td>NaN</td>\n",
       "      <td>The model is 180cm/5'11\" and wears a size 31/32</td>\n",
       "      <td>Recycled cotton 20%</td>\n",
       "      <td>regular jeans</td>\n",
       "      <td>19.99</td>\n",
       "      <td>Dark blue</td>\n",
       "      <td>1008549</td>\n",
       "      <td>004</td>\n",
       "      <td>2022-02-14 23:36:13</td>\n",
       "    </tr>\n",
       "  </tbody>\n",
       "</table>\n",
       "</div>"
      ],
      "text/plain": [
       "   product_id                composition          fit product_safety                                             size sustainable_materials     product_name product_price        color_name style_id color_id      scrapy_datetime\n",
       "0  1008549001     Cotton 98%, Spandex 2%  Regular fit            NaN                                              NaN   Recycled cotton 20%    regular jeans         19.99  Light denim blue  1008549      001  2022-02-14 23:36:13\n",
       "1  1008549001  Polyester 65%, Cotton 35%  Regular fit            NaN                                              NaN   Recycled cotton 20%    regular jeans         19.99  Light denim blue  1008549      001  2022-02-14 23:36:13\n",
       "0  1008549002  Polyester 65%, Cotton 35%  Regular fit            NaN   The model is 185cm/6'1\" and wears a size 31/32   Recycled cotton 20%    regular jeans         19.99        Denim blue  1008549      002  2022-02-14 23:36:13\n",
       "1  1008549002     Cotton 99%, Spandex 1%  Regular fit            NaN   The model is 185cm/6'1\" and wears a size 31/32   Recycled cotton 20%    regular jeans         19.99        Denim blue  1008549      002  2022-02-14 23:36:13\n",
       "0  1008549004     Cotton 99%, Spandex 1%  Regular fit            NaN  The model is 180cm/5'11\" and wears a size 31/32   Recycled cotton 20%    regular jeans         19.99         Dark blue  1008549      004  2022-02-14 23:36:13"
      ]
     },
     "execution_count": 48,
     "metadata": {},
     "output_type": "execute_result"
    }
   ],
   "source": [
    "df_data.head()"
   ]
  },
  {
   "cell_type": "code",
   "execution_count": 211,
   "id": "e3e2096c",
   "metadata": {
    "ExecuteTime": {
     "end_time": "2022-02-21T15:34:31.699594Z",
     "start_time": "2022-02-21T15:34:31.692536Z"
    }
   },
   "outputs": [
    {
     "data": {
      "text/plain": [
       "96"
      ]
     },
     "execution_count": 211,
     "metadata": {},
     "output_type": "execute_result"
    }
   ],
   "source": [
    "len(df_data['product_id'].unique())"
   ]
  },
  {
   "cell_type": "code",
   "execution_count": 96,
   "id": "f90facc8",
   "metadata": {
    "ExecuteTime": {
     "end_time": "2022-02-21T14:00:15.355342Z",
     "start_time": "2022-02-21T14:00:15.346900Z"
    }
   },
   "outputs": [
    {
     "data": {
      "text/plain": [
       "array(['regular_fit', 'relaxed_fit', 'loose_fit', 'slim_fit',\n",
       "       'skinny_fit'], dtype=object)"
      ]
     },
     "execution_count": 96,
     "metadata": {},
     "output_type": "execute_result"
    }
   ],
   "source": [
    "df_data['fit'].unique()"
   ]
  },
  {
   "cell_type": "code",
   "execution_count": 54,
   "id": "c0f78c1a",
   "metadata": {
    "ExecuteTime": {
     "end_time": "2022-02-21T13:02:09.896350Z",
     "start_time": "2022-02-21T13:02:09.874521Z"
    }
   },
   "outputs": [
    {
     "data": {
      "text/plain": [
       "array([nan, 'The model is 185cm/6\\'1\" and wears a size 31/32',\n",
       "       'The model is 180cm/5\\'11\" and wears a size 31/32',\n",
       "       'The model is 188cm/6\\'2\" and wears a size 31/30',\n",
       "       'The model is 187cm/6\\'2\" and wears a size L',\n",
       "       'The model is 188cm/6\\'2\" and wears a size M',\n",
       "       'The model is 187cm/6\\'2\" and wears a size M',\n",
       "       'The model is 187cm/6\\'2\" and wears a size 32/32',\n",
       "       'The model is 187cm/6\\'2\" and wears a size 31/32',\n",
       "       'The model is 188cm/6\\'2\" and wears a size 32/30',\n",
       "       'The model is 189cm/6\\'2\" and wears a size 31/32',\n",
       "       'The model is 189cm/6\\'2\" and wears a size 32/32',\n",
       "       'The model is 188cm/6\\'2\" and wears a size 31/32',\n",
       "       'The model is 182cm/6\\'0\" and wears a size 33/32',\n",
       "       'The model is 182cm/6\\'0\" and wears a size 31',\n",
       "       'The model is 187cm/6\\'2\" and wears a size 31',\n",
       "       'The model is 185cm/6\\'1\" and wears a size 31',\n",
       "       'The model is 184cm/6\\'0\" and wears a size 31/32'], dtype=object)"
      ]
     },
     "execution_count": 54,
     "metadata": {},
     "output_type": "execute_result"
    }
   ],
   "source": [
    "df_data['size'].unique()"
   ]
  },
  {
   "cell_type": "code",
   "execution_count": 55,
   "id": "77a53379",
   "metadata": {
    "ExecuteTime": {
     "end_time": "2022-02-21T13:02:23.857147Z",
     "start_time": "2022-02-21T13:02:23.841900Z"
    }
   },
   "outputs": [
    {
     "data": {
      "text/plain": [
       "product_id                 0\n",
       "composition                0\n",
       "fit                        0\n",
       "product_safety           478\n",
       "size                     229\n",
       "sustainable_materials    334\n",
       "product_name               0\n",
       "product_price              0\n",
       "color_name                 0\n",
       "style_id                   0\n",
       "color_id                   0\n",
       "scrapy_datetime            0\n",
       "dtype: int64"
      ]
     },
     "execution_count": 55,
     "metadata": {},
     "output_type": "execute_result"
    }
   ],
   "source": [
    "df_data.isnull().sum()"
   ]
  },
  {
   "cell_type": "code",
   "execution_count": 78,
   "id": "a26e03ec",
   "metadata": {
    "ExecuteTime": {
     "end_time": "2022-02-21T13:28:10.837839Z",
     "start_time": "2022-02-21T13:28:10.818245Z"
    }
   },
   "outputs": [
    {
     "data": {
      "text/html": [
       "<div>\n",
       "<style scoped>\n",
       "    .dataframe tbody tr th:only-of-type {\n",
       "        vertical-align: middle;\n",
       "    }\n",
       "\n",
       "    .dataframe tbody tr th {\n",
       "        vertical-align: top;\n",
       "    }\n",
       "\n",
       "    .dataframe thead th {\n",
       "        text-align: right;\n",
       "    }\n",
       "</style>\n",
       "<table border=\"1\" class=\"dataframe\">\n",
       "  <thead>\n",
       "    <tr style=\"text-align: right;\">\n",
       "      <th></th>\n",
       "      <th>product_id</th>\n",
       "      <th>composition</th>\n",
       "      <th>fit</th>\n",
       "      <th>product_safety</th>\n",
       "      <th>size</th>\n",
       "      <th>sustainable_materials</th>\n",
       "      <th>product_name</th>\n",
       "      <th>product_price</th>\n",
       "      <th>color_name</th>\n",
       "      <th>style_id</th>\n",
       "      <th>color_id</th>\n",
       "      <th>scrapy_datetime</th>\n",
       "      <th>size_number</th>\n",
       "      <th>size_model</th>\n",
       "    </tr>\n",
       "  </thead>\n",
       "  <tbody>\n",
       "    <tr>\n",
       "      <th>0</th>\n",
       "      <td>1008549001</td>\n",
       "      <td>Cotton 98%, Spandex 2%</td>\n",
       "      <td>regular_fit</td>\n",
       "      <td>NaN</td>\n",
       "      <td>NaN</td>\n",
       "      <td>recycled_cotton_20%</td>\n",
       "      <td>regular_jeans</td>\n",
       "      <td>19.99</td>\n",
       "      <td>light_denim_blue</td>\n",
       "      <td>1008549</td>\n",
       "      <td>001</td>\n",
       "      <td>2022-02-14 23:36:13</td>\n",
       "      <td>NaN</td>\n",
       "      <td>NaN</td>\n",
       "    </tr>\n",
       "    <tr>\n",
       "      <th>1</th>\n",
       "      <td>1008549001</td>\n",
       "      <td>Polyester 65%, Cotton 35%</td>\n",
       "      <td>regular_fit</td>\n",
       "      <td>NaN</td>\n",
       "      <td>NaN</td>\n",
       "      <td>recycled_cotton_20%</td>\n",
       "      <td>regular_jeans</td>\n",
       "      <td>19.99</td>\n",
       "      <td>light_denim_blue</td>\n",
       "      <td>1008549</td>\n",
       "      <td>001</td>\n",
       "      <td>2022-02-14 23:36:13</td>\n",
       "      <td>NaN</td>\n",
       "      <td>NaN</td>\n",
       "    </tr>\n",
       "    <tr>\n",
       "      <th>0</th>\n",
       "      <td>1008549002</td>\n",
       "      <td>Polyester 65%, Cotton 35%</td>\n",
       "      <td>regular_fit</td>\n",
       "      <td>NaN</td>\n",
       "      <td>The model is 185cm/6'1\" and wears a size 31/32</td>\n",
       "      <td>recycled_cotton_20%</td>\n",
       "      <td>regular_jeans</td>\n",
       "      <td>19.99</td>\n",
       "      <td>denim_blue</td>\n",
       "      <td>1008549</td>\n",
       "      <td>002</td>\n",
       "      <td>2022-02-14 23:36:13</td>\n",
       "      <td>185</td>\n",
       "      <td>31/32</td>\n",
       "    </tr>\n",
       "    <tr>\n",
       "      <th>1</th>\n",
       "      <td>1008549002</td>\n",
       "      <td>Cotton 99%, Spandex 1%</td>\n",
       "      <td>regular_fit</td>\n",
       "      <td>NaN</td>\n",
       "      <td>The model is 185cm/6'1\" and wears a size 31/32</td>\n",
       "      <td>recycled_cotton_20%</td>\n",
       "      <td>regular_jeans</td>\n",
       "      <td>19.99</td>\n",
       "      <td>denim_blue</td>\n",
       "      <td>1008549</td>\n",
       "      <td>002</td>\n",
       "      <td>2022-02-14 23:36:13</td>\n",
       "      <td>185</td>\n",
       "      <td>31/32</td>\n",
       "    </tr>\n",
       "    <tr>\n",
       "      <th>0</th>\n",
       "      <td>1008549004</td>\n",
       "      <td>Cotton 99%, Spandex 1%</td>\n",
       "      <td>regular_fit</td>\n",
       "      <td>NaN</td>\n",
       "      <td>The model is 180cm/5'11\" and wears a size 31/32</td>\n",
       "      <td>recycled_cotton_20%</td>\n",
       "      <td>regular_jeans</td>\n",
       "      <td>19.99</td>\n",
       "      <td>dark_blue</td>\n",
       "      <td>1008549</td>\n",
       "      <td>004</td>\n",
       "      <td>2022-02-14 23:36:13</td>\n",
       "      <td>180</td>\n",
       "      <td>31/32</td>\n",
       "    </tr>\n",
       "  </tbody>\n",
       "</table>\n",
       "</div>"
      ],
      "text/plain": [
       "   product_id                composition          fit product_safety                                             size sustainable_materials   product_name  product_price        color_name style_id color_id      scrapy_datetime size_number size_model\n",
       "0  1008549001     Cotton 98%, Spandex 2%  regular_fit            NaN                                              NaN   recycled_cotton_20%  regular_jeans          19.99  light_denim_blue  1008549      001  2022-02-14 23:36:13         NaN        NaN\n",
       "1  1008549001  Polyester 65%, Cotton 35%  regular_fit            NaN                                              NaN   recycled_cotton_20%  regular_jeans          19.99  light_denim_blue  1008549      001  2022-02-14 23:36:13         NaN        NaN\n",
       "0  1008549002  Polyester 65%, Cotton 35%  regular_fit            NaN   The model is 185cm/6'1\" and wears a size 31/32   recycled_cotton_20%  regular_jeans          19.99        denim_blue  1008549      002  2022-02-14 23:36:13         185      31/32\n",
       "1  1008549002     Cotton 99%, Spandex 1%  regular_fit            NaN   The model is 185cm/6'1\" and wears a size 31/32   recycled_cotton_20%  regular_jeans          19.99        denim_blue  1008549      002  2022-02-14 23:36:13         185      31/32\n",
       "0  1008549004     Cotton 99%, Spandex 1%  regular_fit            NaN  The model is 180cm/5'11\" and wears a size 31/32   recycled_cotton_20%  regular_jeans          19.99         dark_blue  1008549      004  2022-02-14 23:36:13         180      31/32"
      ]
     },
     "execution_count": 78,
     "metadata": {},
     "output_type": "execute_result"
    }
   ],
   "source": [
    "df_data.head()"
   ]
  },
  {
   "cell_type": "code",
   "execution_count": 136,
   "id": "2fd5eb77",
   "metadata": {
    "ExecuteTime": {
     "end_time": "2022-02-21T14:26:05.449670Z",
     "start_time": "2022-02-21T14:26:05.441079Z"
    }
   },
   "outputs": [
    {
     "data": {
      "text/plain": [
       "array(['Cotton 98%, Spandex 2%', 'Polyester 65%, Cotton 35%',\n",
       "       'Cotton 99%, Spandex 1%', 'Polyester 63%, Cotton 37%',\n",
       "       'Cotton 100%', 'Cotton 79%, Polyester 20%, Spandex 1%',\n",
       "       'Cotton 77%, Polyester 21%, Spandex 2%',\n",
       "       'Cotton 78%, Polyester 21%, Spandex 1%',\n",
       "       'Cotton 79%, Polyester 19%, Spandex 2%',\n",
       "       'Cotton 80%, Polyester 19%, Spandex 1%', 'Polyester 100%',\n",
       "       'Cotton 93%, Polyester 6%, Spandex 1%',\n",
       "       'Cotton 91%, Polyester 7%, Spandex 2%',\n",
       "       'Cotton 72%, Polyester 20%, Modal 7%, Spandex 1%'], dtype=object)"
      ]
     },
     "execution_count": 136,
     "metadata": {},
     "output_type": "execute_result"
    }
   ],
   "source": [
    "df_data['composition'].unique()"
   ]
  },
  {
   "cell_type": "markdown",
   "id": "1799c191",
   "metadata": {},
   "source": [
    "## Data Cleaning"
   ]
  },
  {
   "cell_type": "code",
   "execution_count": 204,
   "id": "0eae42e9",
   "metadata": {
    "ExecuteTime": {
     "end_time": "2022-02-21T15:22:30.563197Z",
     "start_time": "2022-02-21T15:22:30.456012Z"
    },
    "scrolled": true
   },
   "outputs": [
    {
     "data": {
      "text/plain": [
       "(99, 16)"
      ]
     },
     "execution_count": 204,
     "metadata": {},
     "output_type": "execute_result"
    }
   ],
   "source": [
    "#product id\n",
    "df_data = df_compositions.dropna(subset = ['product_id'])\n",
    "\n",
    "#product name\n",
    "\n",
    "df_data['product_name'] = df_data['product_name'].apply(lambda x: x.replace('\\n', ''))\n",
    "df_data['product_name'] = df_data['product_name'].apply(lambda x: x.replace('\\t', ''))\n",
    "df_data['product_name'] = df_data['product_name'].apply(lambda x: x.replace('  ', ''))\n",
    "df_data['product_name'] = df_data['product_name'].apply(lambda x: x.replace(' ', '_').lower())\n",
    "\n",
    "#product price\n",
    "df_data['product_price'] = df_data['product_price'].astype(float)\n",
    "\n",
    "#color name\n",
    "df_data['color_name'] = df_data['color_name'].apply(lambda x: x.replace(' ', '_').replace('/', '_').lower() if pd.notnull(x) else x)\n",
    "\n",
    "# #fit\n",
    "df_data['fit'] = df_data['fit'].apply(lambda x: x.replace(' ', '_').lower() if pd.notnull(x) else x)\n",
    "\n",
    "# #====  size  ======\n",
    "# #size number\n",
    "df_data['size_number'] = df_data['size'].apply(lambda x: re.search('\\d{3}cm', x).group(0) if pd.notnull(x) else x)\n",
    "df_data['size_number'] = df_data['size_number'].apply(lambda x: re.search('\\d+', x).group(0) if pd.notnull(x) else x) #group(0) locates the whole match expression\n",
    "\n",
    "# #size model \n",
    "df_data['size_model'] = df_data['size'].str.extract('(\\d+/\\\\d+)') #.str to vectorize the lines, .extracts cant be applied in the whole column\n",
    "\n",
    "# # #product safety\n",
    "\n",
    "# =================== sustainable materials ============\n",
    "df_data['sustainable_materials'] = df_data['sustainable_materials'].apply(lambda x: x.replace(' ', '_').lower() if pd.notnull(x) else x)\n",
    "\n",
    "# df2 = df_data['sustainable_materials'].str.split()\n",
    "\n",
    "#recycled cotton / recycled polyester\n",
    "# creating an empty dataframe as reference to organize the wnanted columns\n",
    "# thenconcatenete with the main dataframe, but it has to have the same lenght as 'data' dataframe\n",
    "\n",
    "df2 = df_data[['sustainable_materials']].reset_index(drop=True)\n",
    "df_ref2 = pd.DataFrame(index = np.arange(len(df_data)), columns = ['recycled_cotton', 'recycled_polyester'])\n",
    "\n",
    "# ------------ recycled cotton ------------\n",
    "df_recycled_cotton = df2.loc[df2['sustainable_materials'].str.contains('recycled_cotton', na = True), 'sustainable_materials']\n",
    "df_recycled_cotton.name = 'recycled_cotton'\n",
    "\n",
    "df_ref2 = pd.concat([df_ref2, df_recycled_cotton], axis = 1)\n",
    "df_ref2 = df_ref2.iloc[:, ~df_ref2.columns.duplicated(keep='last')]\n",
    "\n",
    "# ------------recycled polyester -------------\n",
    "df_recycled_polyester = df2.loc[df2['sustainable_materials'].str.contains('recycled_polyester', na = True), 'sustainable_materials']\n",
    "df_recycled_polyester.name = 'recycled_polyester'\n",
    "\n",
    "df_ref2 = pd.concat([df_ref2, df_recycled_polyester], axis = 1)\n",
    "df_ref2 = df_ref2.iloc[:, ~df_ref2.columns.duplicated(keep='last')]\n",
    "\n",
    "# ====================  composition =====================\n",
    "#break composition by comma\n",
    "df1 = df_data['composition'].str.split(',', expand = True).reset_index(drop=True)\n",
    "\n",
    "# cotton / polyester / spandex / \n",
    "# creating empty dataframe as reference to organize the wanted columns and \n",
    "# then concatanete with the main dataframe, but it has to have the same lenght as 'data' dataframe\n",
    "\n",
    "df_ref = pd.DataFrame(index = np.arange(len(df_data)), columns = ['cotton', 'polyester', 'spandex'])\n",
    "\n",
    "# --------------- cotton ----------------\n",
    "df_cotton_0 = df1.loc[df1[0].str.contains('Cotton', na = True), 0]\n",
    "df_cotton_0.name = 'cotton'\n",
    "\n",
    "df_cotton_1 = df1.loc[df1[1].str.contains('Cotton', na = True), 1]\n",
    "df_cotton_1.name = 'cotton'\n",
    "\n",
    "#combine\n",
    "df_cotton = df_cotton_0.combine_first(df_cotton_1)\n",
    "\n",
    "df_ref = pd.concat([df_ref, df_cotton], axis = 1)\n",
    "df_ref = df_ref.iloc[:, ~df_ref.columns.duplicated( keep = 'last')] #exclue colunas duplicadas, mantem as diferentes\n",
    "# df_ref['cotton'] = df_ref['cotton'].fillna('Cotton 0%')\n",
    "\n",
    "# -------------- polyester ----------------\n",
    "df_polyester_0 = df1.loc[df1[0].str.contains('Polyester', na = True), 0]\n",
    "df_polyester_0.name = 'polyester'\n",
    "\n",
    "df_polyester_1 = df1.loc[df1[1].str.contains('Polyester', na = True), 1]\n",
    "df_polyester_1.name = 'polyester'\n",
    "\n",
    "# combine\n",
    "df_polyester = df_polyester_0.combine_first(df_polyester_1)\n",
    "\n",
    "# add to reference dataframe\n",
    "df_ref = pd.concat([df_ref, df_polyester], axis = 1)\n",
    "df_ref = df_ref.iloc[:, ~df_ref.columns.duplicated(keep = 'last')] #delet duplicated columns and keep the different ones\n",
    "\n",
    "# -------------- spandex ------------------\n",
    "df_spandex_1 = df1.loc[df1[1].str.contains('Spandex', na = True), 1]\n",
    "df_spandex_1.name = 'spandex'\n",
    "\n",
    "df_spandex_2 = df1.loc[df1[2].str.contains('Spandex', na = True), 2]\n",
    "df_spandex_2.name = 'spandex'\n",
    "\n",
    "df_spandex_3 = df1.loc[df1[3].str.contains('Spandex', na = True), 3]\n",
    "df_spandex_3.name = 'spandex'\n",
    "\n",
    "# combine\n",
    "df_spandex_aux = df_spandex_1.combine_first(df_spandex_2)\n",
    "df_spandex = df_spandex_aux.combine_first(df_spandex_3)\n",
    "\n",
    "df_ref = pd.concat([df_ref, df_spandex], axis = 1)\n",
    "df_ref = df_ref.iloc[:, ~df_ref.columns.duplicated(keep='last')]\n",
    "\n",
    "# # ------------- elasterell -----------\n",
    "# df_elasterell = df1.loc[df1[1].str.contains('Elasterell', na = True), 1]\n",
    "# df_elasterell.name = 'elasterell'\n",
    "\n",
    "# df_ref = pd.concat([df_ref, df_elasterell], axis = 1)\n",
    "# df_ref = df_ref.iloc[:, ~df_ref.columns.duplicated(keep='last')]\n",
    "\n",
    "# combine the two dataframe reference\n",
    "df_ref_final = pd.concat([df_ref, df_ref2], axis = 1)\n",
    "\n",
    "# add product_id in the aux dataframe\n",
    "df_aux = pd.concat([df_data['product_id'].reset_index(drop = True), df_ref_final], axis = 1)\n",
    "\n",
    "# formatt composition data\n",
    "df_aux['cotton'] = df_aux['cotton'].apply(lambda x: int(re.search('\\d+', x).group(0))/100 if pd.notnull(x) else x)\n",
    "df_aux['polyester'] = df_aux['polyester'].apply(lambda x: int(re.search('\\d+', x).group(0))/100 if pd.notnull(x) else x)\n",
    "df_aux['spandex'] = df_aux['spandex'].apply(lambda x: int(re.search('\\d+', x).group(0))/100 if pd.notnull(x) else x)\n",
    "df_aux['recycled_cotton'] = df_aux['recycled_cotton'].apply(lambda x: int(re.search('\\d+', x).group(0))/100 if pd.notnull(x) else x)\n",
    "df_aux['recycled_polyester'] = df_aux['recycled_polyester'].apply(lambda x: int(re.search('\\d+', x).group(0))/100 if pd.notnull(x) else x)\n",
    "\n",
    "# final join\n",
    "df_aux = df_aux.groupby('product_id').max().reset_index().fillna( 0 ) #choose the highest value between lines\n",
    "df_data = pd.merge(df_data, df_aux, on = 'product_id', how = 'left')\n",
    "\n",
    "#d rop columns\n",
    "df_data = df_data.drop(columns = ['size', 'product_safety','composition'], axis = 1)\n",
    "\n",
    "#drop duplicates\n",
    "\n",
    "df_data = df_data.drop_duplicates()\n",
    "\n",
    "df_data.shape"
   ]
  },
  {
   "cell_type": "code",
   "execution_count": 207,
   "id": "583cae1e",
   "metadata": {
    "ExecuteTime": {
     "end_time": "2022-02-21T15:24:28.727635Z",
     "start_time": "2022-02-21T15:24:28.705113Z"
    }
   },
   "outputs": [
    {
     "data": {
      "text/html": [
       "<div>\n",
       "<style scoped>\n",
       "    .dataframe tbody tr th:only-of-type {\n",
       "        vertical-align: middle;\n",
       "    }\n",
       "\n",
       "    .dataframe tbody tr th {\n",
       "        vertical-align: top;\n",
       "    }\n",
       "\n",
       "    .dataframe thead th {\n",
       "        text-align: right;\n",
       "    }\n",
       "</style>\n",
       "<table border=\"1\" class=\"dataframe\">\n",
       "  <thead>\n",
       "    <tr style=\"text-align: right;\">\n",
       "      <th></th>\n",
       "      <th>product_id</th>\n",
       "      <th>fit</th>\n",
       "      <th>sustainable_materials</th>\n",
       "      <th>product_name</th>\n",
       "      <th>product_price</th>\n",
       "      <th>color_name</th>\n",
       "      <th>style_id</th>\n",
       "      <th>color_id</th>\n",
       "      <th>scrapy_datetime</th>\n",
       "      <th>size_number</th>\n",
       "      <th>size_model</th>\n",
       "      <th>cotton</th>\n",
       "      <th>polyester</th>\n",
       "      <th>spandex</th>\n",
       "      <th>recycled_cotton</th>\n",
       "      <th>recycled_polyester</th>\n",
       "    </tr>\n",
       "  </thead>\n",
       "  <tbody>\n",
       "    <tr>\n",
       "      <th>0</th>\n",
       "      <td>1008549001</td>\n",
       "      <td>regular_fit</td>\n",
       "      <td>recycled_cotton_20%</td>\n",
       "      <td>regular_jeans</td>\n",
       "      <td>19.99</td>\n",
       "      <td>light_denim_blue</td>\n",
       "      <td>1008549</td>\n",
       "      <td>001</td>\n",
       "      <td>2022-02-21 10:55:32</td>\n",
       "      <td>NaN</td>\n",
       "      <td>NaN</td>\n",
       "      <td>0.98</td>\n",
       "      <td>0.65</td>\n",
       "      <td>0.02</td>\n",
       "      <td>0.2</td>\n",
       "      <td>0.0</td>\n",
       "    </tr>\n",
       "    <tr>\n",
       "      <th>2</th>\n",
       "      <td>1008549002</td>\n",
       "      <td>regular_fit</td>\n",
       "      <td>recycled_cotton_20%</td>\n",
       "      <td>regular_jeans</td>\n",
       "      <td>19.99</td>\n",
       "      <td>denim_blue</td>\n",
       "      <td>1008549</td>\n",
       "      <td>002</td>\n",
       "      <td>2022-02-21 10:55:32</td>\n",
       "      <td>185</td>\n",
       "      <td>31/32</td>\n",
       "      <td>0.99</td>\n",
       "      <td>0.65</td>\n",
       "      <td>0.01</td>\n",
       "      <td>0.2</td>\n",
       "      <td>0.0</td>\n",
       "    </tr>\n",
       "    <tr>\n",
       "      <th>4</th>\n",
       "      <td>1008549004</td>\n",
       "      <td>regular_fit</td>\n",
       "      <td>recycled_cotton_20%</td>\n",
       "      <td>regular_jeans</td>\n",
       "      <td>19.99</td>\n",
       "      <td>dark_blue</td>\n",
       "      <td>1008549</td>\n",
       "      <td>004</td>\n",
       "      <td>2022-02-21 10:55:32</td>\n",
       "      <td>180</td>\n",
       "      <td>31/32</td>\n",
       "      <td>0.99</td>\n",
       "      <td>0.63</td>\n",
       "      <td>0.01</td>\n",
       "      <td>0.2</td>\n",
       "      <td>0.0</td>\n",
       "    </tr>\n",
       "    <tr>\n",
       "      <th>6</th>\n",
       "      <td>1008549006</td>\n",
       "      <td>regular_fit</td>\n",
       "      <td>recycled_cotton_20%</td>\n",
       "      <td>regular_jeans</td>\n",
       "      <td>19.99</td>\n",
       "      <td>black</td>\n",
       "      <td>1008549</td>\n",
       "      <td>006</td>\n",
       "      <td>2022-02-21 10:55:32</td>\n",
       "      <td>188</td>\n",
       "      <td>31/30</td>\n",
       "      <td>1.00</td>\n",
       "      <td>0.00</td>\n",
       "      <td>0.01</td>\n",
       "      <td>0.2</td>\n",
       "      <td>0.0</td>\n",
       "    </tr>\n",
       "    <tr>\n",
       "      <th>8</th>\n",
       "      <td>1008549008</td>\n",
       "      <td>regular_fit</td>\n",
       "      <td>NaN</td>\n",
       "      <td>regular_jeans</td>\n",
       "      <td>19.99</td>\n",
       "      <td>light_denim_blue</td>\n",
       "      <td>1008549</td>\n",
       "      <td>008</td>\n",
       "      <td>2022-02-21 10:55:32</td>\n",
       "      <td>NaN</td>\n",
       "      <td>NaN</td>\n",
       "      <td>0.99</td>\n",
       "      <td>0.65</td>\n",
       "      <td>0.01</td>\n",
       "      <td>0.0</td>\n",
       "      <td>0.0</td>\n",
       "    </tr>\n",
       "  </tbody>\n",
       "</table>\n",
       "</div>"
      ],
      "text/plain": [
       "   product_id          fit sustainable_materials   product_name  product_price        color_name style_id color_id      scrapy_datetime size_number size_model  cotton  polyester  spandex  recycled_cotton  recycled_polyester\n",
       "0  1008549001  regular_fit   recycled_cotton_20%  regular_jeans          19.99  light_denim_blue  1008549      001  2022-02-21 10:55:32         NaN        NaN    0.98       0.65     0.02              0.2                 0.0\n",
       "2  1008549002  regular_fit   recycled_cotton_20%  regular_jeans          19.99        denim_blue  1008549      002  2022-02-21 10:55:32         185      31/32    0.99       0.65     0.01              0.2                 0.0\n",
       "4  1008549004  regular_fit   recycled_cotton_20%  regular_jeans          19.99         dark_blue  1008549      004  2022-02-21 10:55:32         180      31/32    0.99       0.63     0.01              0.2                 0.0\n",
       "6  1008549006  regular_fit   recycled_cotton_20%  regular_jeans          19.99             black  1008549      006  2022-02-21 10:55:32         188      31/30    1.00       0.00     0.01              0.2                 0.0\n",
       "8  1008549008  regular_fit                   NaN  regular_jeans          19.99  light_denim_blue  1008549      008  2022-02-21 10:55:32         NaN        NaN    0.99       0.65     0.01              0.0                 0.0"
      ]
     },
     "execution_count": 207,
     "metadata": {},
     "output_type": "execute_result"
    }
   ],
   "source": [
    "df_data.head()"
   ]
  },
  {
   "cell_type": "code",
   "execution_count": 194,
   "id": "5c1e196f",
   "metadata": {
    "ExecuteTime": {
     "end_time": "2022-02-21T15:02:03.831194Z",
     "start_time": "2022-02-21T15:02:03.810207Z"
    }
   },
   "outputs": [
    {
     "data": {
      "text/html": [
       "<div>\n",
       "<style scoped>\n",
       "    .dataframe tbody tr th:only-of-type {\n",
       "        vertical-align: middle;\n",
       "    }\n",
       "\n",
       "    .dataframe tbody tr th {\n",
       "        vertical-align: top;\n",
       "    }\n",
       "\n",
       "    .dataframe thead th {\n",
       "        text-align: right;\n",
       "    }\n",
       "</style>\n",
       "<table border=\"1\" class=\"dataframe\">\n",
       "  <thead>\n",
       "    <tr style=\"text-align: right;\">\n",
       "      <th></th>\n",
       "      <th>cotton</th>\n",
       "      <th>polyester</th>\n",
       "      <th>spandex</th>\n",
       "      <th>recycled_cotton</th>\n",
       "      <th>recycled_polyester</th>\n",
       "    </tr>\n",
       "  </thead>\n",
       "  <tbody>\n",
       "    <tr>\n",
       "      <th>499</th>\n",
       "      <td>Cotton 78%</td>\n",
       "      <td>Polyester 21%</td>\n",
       "      <td>Spandex 1%</td>\n",
       "      <td>recycled_cotton_20%</td>\n",
       "      <td>NaN</td>\n",
       "    </tr>\n",
       "    <tr>\n",
       "      <th>500</th>\n",
       "      <td>Cotton 79%</td>\n",
       "      <td>Polyester 19%</td>\n",
       "      <td>Spandex 2%</td>\n",
       "      <td>recycled_cotton_20%</td>\n",
       "      <td>NaN</td>\n",
       "    </tr>\n",
       "    <tr>\n",
       "      <th>501</th>\n",
       "      <td>Cotton 79%</td>\n",
       "      <td>Polyester 19%</td>\n",
       "      <td>Spandex 2%</td>\n",
       "      <td>NaN</td>\n",
       "      <td>recycled_polyester_19%</td>\n",
       "    </tr>\n",
       "    <tr>\n",
       "      <th>502</th>\n",
       "      <td>Cotton 79%</td>\n",
       "      <td>Polyester 20%</td>\n",
       "      <td>Spandex 1%</td>\n",
       "      <td>NaN</td>\n",
       "      <td>NaN</td>\n",
       "    </tr>\n",
       "    <tr>\n",
       "      <th>503</th>\n",
       "      <td>Cotton 80%</td>\n",
       "      <td>Polyester 19%</td>\n",
       "      <td>Spandex 1%</td>\n",
       "      <td>NaN</td>\n",
       "      <td>NaN</td>\n",
       "    </tr>\n",
       "    <tr>\n",
       "      <th>504</th>\n",
       "      <td>Cotton 35%</td>\n",
       "      <td>Polyester 65%</td>\n",
       "      <td>None</td>\n",
       "      <td>recycled_cotton_20%</td>\n",
       "      <td>NaN</td>\n",
       "    </tr>\n",
       "    <tr>\n",
       "      <th>505</th>\n",
       "      <td>Cotton 99%</td>\n",
       "      <td>NaN</td>\n",
       "      <td>Spandex 1%</td>\n",
       "      <td>recycled_cotton_20%</td>\n",
       "      <td>NaN</td>\n",
       "    </tr>\n",
       "    <tr>\n",
       "      <th>506</th>\n",
       "      <td>Cotton 99%</td>\n",
       "      <td>NaN</td>\n",
       "      <td>Spandex 1%</td>\n",
       "      <td>recycled_cotton_20%</td>\n",
       "      <td>NaN</td>\n",
       "    </tr>\n",
       "    <tr>\n",
       "      <th>507</th>\n",
       "      <td>Cotton 99%</td>\n",
       "      <td>NaN</td>\n",
       "      <td>Spandex 1%</td>\n",
       "      <td>recycled_cotton_20%</td>\n",
       "      <td>NaN</td>\n",
       "    </tr>\n",
       "    <tr>\n",
       "      <th>508</th>\n",
       "      <td>Cotton 35%</td>\n",
       "      <td>Polyester 65%</td>\n",
       "      <td>None</td>\n",
       "      <td>NaN</td>\n",
       "      <td>NaN</td>\n",
       "    </tr>\n",
       "    <tr>\n",
       "      <th>509</th>\n",
       "      <td>Cotton 99%</td>\n",
       "      <td>NaN</td>\n",
       "      <td>Spandex 1%</td>\n",
       "      <td>NaN</td>\n",
       "      <td>NaN</td>\n",
       "    </tr>\n",
       "  </tbody>\n",
       "</table>\n",
       "</div>"
      ],
      "text/plain": [
       "          cotton       polyester      spandex      recycled_cotton      recycled_polyester\n",
       "499   Cotton 78%   Polyester 21%   Spandex 1%  recycled_cotton_20%                     NaN\n",
       "500   Cotton 79%   Polyester 19%   Spandex 2%  recycled_cotton_20%                     NaN\n",
       "501   Cotton 79%   Polyester 19%   Spandex 2%                  NaN  recycled_polyester_19%\n",
       "502   Cotton 79%   Polyester 20%   Spandex 1%                  NaN                     NaN\n",
       "503   Cotton 80%   Polyester 19%   Spandex 1%                  NaN                     NaN\n",
       "504   Cotton 35%   Polyester 65%         None  recycled_cotton_20%                     NaN\n",
       "505   Cotton 99%             NaN   Spandex 1%  recycled_cotton_20%                     NaN\n",
       "506   Cotton 99%             NaN   Spandex 1%  recycled_cotton_20%                     NaN\n",
       "507   Cotton 99%             NaN   Spandex 1%  recycled_cotton_20%                     NaN\n",
       "508   Cotton 35%   Polyester 65%         None                  NaN                     NaN\n",
       "509   Cotton 99%             NaN   Spandex 1%                  NaN                     NaN"
      ]
     },
     "execution_count": 194,
     "metadata": {},
     "output_type": "execute_result"
    }
   ],
   "source": [
    "df_ref_final.tail(11)"
   ]
  },
  {
   "cell_type": "code",
   "execution_count": 198,
   "id": "e3c77a11",
   "metadata": {
    "ExecuteTime": {
     "end_time": "2022-02-21T15:09:29.452973Z",
     "start_time": "2022-02-21T15:09:29.440639Z"
    },
    "scrolled": true
   },
   "outputs": [
    {
     "data": {
      "text/html": [
       "<div>\n",
       "<style scoped>\n",
       "    .dataframe tbody tr th:only-of-type {\n",
       "        vertical-align: middle;\n",
       "    }\n",
       "\n",
       "    .dataframe tbody tr th {\n",
       "        vertical-align: top;\n",
       "    }\n",
       "\n",
       "    .dataframe thead th {\n",
       "        text-align: right;\n",
       "    }\n",
       "</style>\n",
       "<table border=\"1\" class=\"dataframe\">\n",
       "  <thead>\n",
       "    <tr style=\"text-align: right;\">\n",
       "      <th></th>\n",
       "      <th>product_id</th>\n",
       "      <th>cotton</th>\n",
       "      <th>polyester</th>\n",
       "      <th>spandex</th>\n",
       "      <th>recycled_cotton</th>\n",
       "      <th>recycled_polyester</th>\n",
       "    </tr>\n",
       "  </thead>\n",
       "  <tbody>\n",
       "    <tr>\n",
       "      <th>0</th>\n",
       "      <td>1008549001</td>\n",
       "      <td>0.98</td>\n",
       "      <td>NaN</td>\n",
       "      <td>0.02</td>\n",
       "      <td>0.2</td>\n",
       "      <td>NaN</td>\n",
       "    </tr>\n",
       "    <tr>\n",
       "      <th>1</th>\n",
       "      <td>1008549001</td>\n",
       "      <td>0.35</td>\n",
       "      <td>0.65</td>\n",
       "      <td>NaN</td>\n",
       "      <td>0.2</td>\n",
       "      <td>NaN</td>\n",
       "    </tr>\n",
       "    <tr>\n",
       "      <th>2</th>\n",
       "      <td>1008549002</td>\n",
       "      <td>0.35</td>\n",
       "      <td>0.65</td>\n",
       "      <td>NaN</td>\n",
       "      <td>0.2</td>\n",
       "      <td>NaN</td>\n",
       "    </tr>\n",
       "    <tr>\n",
       "      <th>3</th>\n",
       "      <td>1008549002</td>\n",
       "      <td>0.99</td>\n",
       "      <td>NaN</td>\n",
       "      <td>0.01</td>\n",
       "      <td>0.2</td>\n",
       "      <td>NaN</td>\n",
       "    </tr>\n",
       "    <tr>\n",
       "      <th>4</th>\n",
       "      <td>1008549004</td>\n",
       "      <td>0.99</td>\n",
       "      <td>NaN</td>\n",
       "      <td>0.01</td>\n",
       "      <td>0.2</td>\n",
       "      <td>NaN</td>\n",
       "    </tr>\n",
       "  </tbody>\n",
       "</table>\n",
       "</div>"
      ],
      "text/plain": [
       "   product_id  cotton  polyester  spandex  recycled_cotton  recycled_polyester\n",
       "0  1008549001    0.98        NaN     0.02              0.2                 NaN\n",
       "1  1008549001    0.35       0.65      NaN              0.2                 NaN\n",
       "2  1008549002    0.35       0.65      NaN              0.2                 NaN\n",
       "3  1008549002    0.99        NaN     0.01              0.2                 NaN\n",
       "4  1008549004    0.99        NaN     0.01              0.2                 NaN"
      ]
     },
     "execution_count": 198,
     "metadata": {},
     "output_type": "execute_result"
    }
   ],
   "source": [
    "df_aux.head() #choose the highest value "
   ]
  },
  {
   "cell_type": "code",
   "execution_count": 200,
   "id": "273a591e",
   "metadata": {
    "ExecuteTime": {
     "end_time": "2022-02-21T15:17:54.654782Z",
     "start_time": "2022-02-21T15:17:54.632908Z"
    }
   },
   "outputs": [
    {
     "data": {
      "text/html": [
       "<div>\n",
       "<style scoped>\n",
       "    .dataframe tbody tr th:only-of-type {\n",
       "        vertical-align: middle;\n",
       "    }\n",
       "\n",
       "    .dataframe tbody tr th {\n",
       "        vertical-align: top;\n",
       "    }\n",
       "\n",
       "    .dataframe thead th {\n",
       "        text-align: right;\n",
       "    }\n",
       "</style>\n",
       "<table border=\"1\" class=\"dataframe\">\n",
       "  <thead>\n",
       "    <tr style=\"text-align: right;\">\n",
       "      <th></th>\n",
       "      <th>product_id</th>\n",
       "      <th>cotton</th>\n",
       "      <th>polyester</th>\n",
       "      <th>spandex</th>\n",
       "      <th>recycled_cotton</th>\n",
       "      <th>recycled_polyester</th>\n",
       "    </tr>\n",
       "  </thead>\n",
       "  <tbody>\n",
       "    <tr>\n",
       "      <th>0</th>\n",
       "      <td>0427159001</td>\n",
       "      <td>0.91</td>\n",
       "      <td>0.07</td>\n",
       "      <td>0.02</td>\n",
       "      <td>0.0</td>\n",
       "      <td>0.0</td>\n",
       "    </tr>\n",
       "    <tr>\n",
       "      <th>1</th>\n",
       "      <td>0427159002</td>\n",
       "      <td>0.93</td>\n",
       "      <td>0.06</td>\n",
       "      <td>0.01</td>\n",
       "      <td>0.0</td>\n",
       "      <td>0.0</td>\n",
       "    </tr>\n",
       "    <tr>\n",
       "      <th>2</th>\n",
       "      <td>0427159003</td>\n",
       "      <td>0.93</td>\n",
       "      <td>0.06</td>\n",
       "      <td>0.01</td>\n",
       "      <td>0.0</td>\n",
       "      <td>0.0</td>\n",
       "    </tr>\n",
       "    <tr>\n",
       "      <th>3</th>\n",
       "      <td>0427159004</td>\n",
       "      <td>0.99</td>\n",
       "      <td>0.00</td>\n",
       "      <td>0.01</td>\n",
       "      <td>0.0</td>\n",
       "      <td>0.0</td>\n",
       "    </tr>\n",
       "    <tr>\n",
       "      <th>4</th>\n",
       "      <td>0427159005</td>\n",
       "      <td>0.72</td>\n",
       "      <td>0.20</td>\n",
       "      <td>0.01</td>\n",
       "      <td>0.0</td>\n",
       "      <td>0.0</td>\n",
       "    </tr>\n",
       "  </tbody>\n",
       "</table>\n",
       "</div>"
      ],
      "text/plain": [
       "   product_id  cotton  polyester  spandex  recycled_cotton  recycled_polyester\n",
       "0  0427159001    0.91       0.07     0.02              0.0                 0.0\n",
       "1  0427159002    0.93       0.06     0.01              0.0                 0.0\n",
       "2  0427159003    0.93       0.06     0.01              0.0                 0.0\n",
       "3  0427159004    0.99       0.00     0.01              0.0                 0.0\n",
       "4  0427159005    0.72       0.20     0.01              0.0                 0.0"
      ]
     },
     "execution_count": 200,
     "metadata": {},
     "output_type": "execute_result"
    }
   ],
   "source": [
    "df_aux.head()"
   ]
  },
  {
   "cell_type": "code",
   "execution_count": 189,
   "id": "c849f4a0",
   "metadata": {
    "ExecuteTime": {
     "end_time": "2022-02-21T15:01:27.856399Z",
     "start_time": "2022-02-21T15:01:27.829531Z"
    },
    "scrolled": false
   },
   "outputs": [
    {
     "data": {
      "text/html": [
       "<div>\n",
       "<style scoped>\n",
       "    .dataframe tbody tr th:only-of-type {\n",
       "        vertical-align: middle;\n",
       "    }\n",
       "\n",
       "    .dataframe tbody tr th {\n",
       "        vertical-align: top;\n",
       "    }\n",
       "\n",
       "    .dataframe thead th {\n",
       "        text-align: right;\n",
       "    }\n",
       "</style>\n",
       "<table border=\"1\" class=\"dataframe\">\n",
       "  <thead>\n",
       "    <tr style=\"text-align: right;\">\n",
       "      <th></th>\n",
       "      <th>cotton</th>\n",
       "      <th>polyester</th>\n",
       "      <th>spandex</th>\n",
       "    </tr>\n",
       "  </thead>\n",
       "  <tbody>\n",
       "    <tr>\n",
       "      <th>0</th>\n",
       "      <td>Cotton 98%</td>\n",
       "      <td>NaN</td>\n",
       "      <td>Spandex 2%</td>\n",
       "    </tr>\n",
       "    <tr>\n",
       "      <th>1</th>\n",
       "      <td>Cotton 35%</td>\n",
       "      <td>Polyester 65%</td>\n",
       "      <td>None</td>\n",
       "    </tr>\n",
       "    <tr>\n",
       "      <th>2</th>\n",
       "      <td>Cotton 35%</td>\n",
       "      <td>Polyester 65%</td>\n",
       "      <td>None</td>\n",
       "    </tr>\n",
       "    <tr>\n",
       "      <th>3</th>\n",
       "      <td>Cotton 99%</td>\n",
       "      <td>NaN</td>\n",
       "      <td>Spandex 1%</td>\n",
       "    </tr>\n",
       "    <tr>\n",
       "      <th>4</th>\n",
       "      <td>Cotton 99%</td>\n",
       "      <td>NaN</td>\n",
       "      <td>Spandex 1%</td>\n",
       "    </tr>\n",
       "    <tr>\n",
       "      <th>5</th>\n",
       "      <td>Cotton 37%</td>\n",
       "      <td>Polyester 63%</td>\n",
       "      <td>None</td>\n",
       "    </tr>\n",
       "    <tr>\n",
       "      <th>6</th>\n",
       "      <td>Cotton 100%</td>\n",
       "      <td>None</td>\n",
       "      <td>None</td>\n",
       "    </tr>\n",
       "    <tr>\n",
       "      <th>7</th>\n",
       "      <td>Cotton 99%</td>\n",
       "      <td>NaN</td>\n",
       "      <td>Spandex 1%</td>\n",
       "    </tr>\n",
       "    <tr>\n",
       "      <th>8</th>\n",
       "      <td>Cotton 35%</td>\n",
       "      <td>Polyester 65%</td>\n",
       "      <td>None</td>\n",
       "    </tr>\n",
       "    <tr>\n",
       "      <th>9</th>\n",
       "      <td>Cotton 99%</td>\n",
       "      <td>NaN</td>\n",
       "      <td>Spandex 1%</td>\n",
       "    </tr>\n",
       "    <tr>\n",
       "      <th>10</th>\n",
       "      <td>Cotton 98%</td>\n",
       "      <td>NaN</td>\n",
       "      <td>Spandex 2%</td>\n",
       "    </tr>\n",
       "  </tbody>\n",
       "</table>\n",
       "</div>"
      ],
      "text/plain": [
       "         cotton      polyester      spandex\n",
       "0    Cotton 98%            NaN   Spandex 2%\n",
       "1    Cotton 35%  Polyester 65%         None\n",
       "2    Cotton 35%  Polyester 65%         None\n",
       "3    Cotton 99%            NaN   Spandex 1%\n",
       "4    Cotton 99%            NaN   Spandex 1%\n",
       "5    Cotton 37%  Polyester 63%         None\n",
       "6   Cotton 100%           None         None\n",
       "7    Cotton 99%            NaN   Spandex 1%\n",
       "8    Cotton 35%  Polyester 65%         None\n",
       "9    Cotton 99%            NaN   Spandex 1%\n",
       "10   Cotton 98%            NaN   Spandex 2%"
      ]
     },
     "execution_count": 189,
     "metadata": {},
     "output_type": "execute_result"
    }
   ],
   "source": [
    "df_ref.head(11)"
   ]
  },
  {
   "cell_type": "code",
   "execution_count": 191,
   "id": "edf3d340",
   "metadata": {
    "ExecuteTime": {
     "end_time": "2022-02-21T15:01:34.615992Z",
     "start_time": "2022-02-21T15:01:34.599485Z"
    }
   },
   "outputs": [
    {
     "data": {
      "text/html": [
       "<div>\n",
       "<style scoped>\n",
       "    .dataframe tbody tr th:only-of-type {\n",
       "        vertical-align: middle;\n",
       "    }\n",
       "\n",
       "    .dataframe tbody tr th {\n",
       "        vertical-align: top;\n",
       "    }\n",
       "\n",
       "    .dataframe thead th {\n",
       "        text-align: right;\n",
       "    }\n",
       "</style>\n",
       "<table border=\"1\" class=\"dataframe\">\n",
       "  <thead>\n",
       "    <tr style=\"text-align: right;\">\n",
       "      <th></th>\n",
       "      <th>recycled_cotton</th>\n",
       "      <th>recycled_polyester</th>\n",
       "    </tr>\n",
       "  </thead>\n",
       "  <tbody>\n",
       "    <tr>\n",
       "      <th>490</th>\n",
       "      <td>NaN</td>\n",
       "      <td>NaN</td>\n",
       "    </tr>\n",
       "    <tr>\n",
       "      <th>491</th>\n",
       "      <td>NaN</td>\n",
       "      <td>NaN</td>\n",
       "    </tr>\n",
       "    <tr>\n",
       "      <th>492</th>\n",
       "      <td>NaN</td>\n",
       "      <td>NaN</td>\n",
       "    </tr>\n",
       "    <tr>\n",
       "      <th>493</th>\n",
       "      <td>NaN</td>\n",
       "      <td>NaN</td>\n",
       "    </tr>\n",
       "    <tr>\n",
       "      <th>494</th>\n",
       "      <td>NaN</td>\n",
       "      <td>NaN</td>\n",
       "    </tr>\n",
       "    <tr>\n",
       "      <th>495</th>\n",
       "      <td>NaN</td>\n",
       "      <td>recycled_polyester_21%</td>\n",
       "    </tr>\n",
       "    <tr>\n",
       "      <th>496</th>\n",
       "      <td>recycled_cotton_20%</td>\n",
       "      <td>NaN</td>\n",
       "    </tr>\n",
       "    <tr>\n",
       "      <th>497</th>\n",
       "      <td>recycled_cotton_19%</td>\n",
       "      <td>NaN</td>\n",
       "    </tr>\n",
       "    <tr>\n",
       "      <th>498</th>\n",
       "      <td>NaN</td>\n",
       "      <td>recycled_polyester_21%</td>\n",
       "    </tr>\n",
       "    <tr>\n",
       "      <th>499</th>\n",
       "      <td>recycled_cotton_20%</td>\n",
       "      <td>NaN</td>\n",
       "    </tr>\n",
       "    <tr>\n",
       "      <th>500</th>\n",
       "      <td>recycled_cotton_20%</td>\n",
       "      <td>NaN</td>\n",
       "    </tr>\n",
       "    <tr>\n",
       "      <th>501</th>\n",
       "      <td>NaN</td>\n",
       "      <td>recycled_polyester_19%</td>\n",
       "    </tr>\n",
       "    <tr>\n",
       "      <th>502</th>\n",
       "      <td>NaN</td>\n",
       "      <td>NaN</td>\n",
       "    </tr>\n",
       "    <tr>\n",
       "      <th>503</th>\n",
       "      <td>NaN</td>\n",
       "      <td>NaN</td>\n",
       "    </tr>\n",
       "    <tr>\n",
       "      <th>504</th>\n",
       "      <td>recycled_cotton_20%</td>\n",
       "      <td>NaN</td>\n",
       "    </tr>\n",
       "    <tr>\n",
       "      <th>505</th>\n",
       "      <td>recycled_cotton_20%</td>\n",
       "      <td>NaN</td>\n",
       "    </tr>\n",
       "    <tr>\n",
       "      <th>506</th>\n",
       "      <td>recycled_cotton_20%</td>\n",
       "      <td>NaN</td>\n",
       "    </tr>\n",
       "    <tr>\n",
       "      <th>507</th>\n",
       "      <td>recycled_cotton_20%</td>\n",
       "      <td>NaN</td>\n",
       "    </tr>\n",
       "    <tr>\n",
       "      <th>508</th>\n",
       "      <td>NaN</td>\n",
       "      <td>NaN</td>\n",
       "    </tr>\n",
       "    <tr>\n",
       "      <th>509</th>\n",
       "      <td>NaN</td>\n",
       "      <td>NaN</td>\n",
       "    </tr>\n",
       "  </tbody>\n",
       "</table>\n",
       "</div>"
      ],
      "text/plain": [
       "         recycled_cotton      recycled_polyester\n",
       "490                  NaN                     NaN\n",
       "491                  NaN                     NaN\n",
       "492                  NaN                     NaN\n",
       "493                  NaN                     NaN\n",
       "494                  NaN                     NaN\n",
       "495                  NaN  recycled_polyester_21%\n",
       "496  recycled_cotton_20%                     NaN\n",
       "497  recycled_cotton_19%                     NaN\n",
       "498                  NaN  recycled_polyester_21%\n",
       "499  recycled_cotton_20%                     NaN\n",
       "500  recycled_cotton_20%                     NaN\n",
       "501                  NaN  recycled_polyester_19%\n",
       "502                  NaN                     NaN\n",
       "503                  NaN                     NaN\n",
       "504  recycled_cotton_20%                     NaN\n",
       "505  recycled_cotton_20%                     NaN\n",
       "506  recycled_cotton_20%                     NaN\n",
       "507  recycled_cotton_20%                     NaN\n",
       "508                  NaN                     NaN\n",
       "509                  NaN                     NaN"
      ]
     },
     "execution_count": 191,
     "metadata": {},
     "output_type": "execute_result"
    }
   ],
   "source": [
    "df_ref2.tail(20)"
   ]
  },
  {
   "cell_type": "code",
   "execution_count": 178,
   "id": "402060a9",
   "metadata": {
    "ExecuteTime": {
     "end_time": "2022-02-21T14:54:09.547818Z",
     "start_time": "2022-02-21T14:54:09.542154Z"
    }
   },
   "outputs": [
    {
     "data": {
      "text/html": [
       "<div>\n",
       "<style scoped>\n",
       "    .dataframe tbody tr th:only-of-type {\n",
       "        vertical-align: middle;\n",
       "    }\n",
       "\n",
       "    .dataframe tbody tr th {\n",
       "        vertical-align: top;\n",
       "    }\n",
       "\n",
       "    .dataframe thead th {\n",
       "        text-align: right;\n",
       "    }\n",
       "</style>\n",
       "<table border=\"1\" class=\"dataframe\">\n",
       "  <thead>\n",
       "    <tr style=\"text-align: right;\">\n",
       "      <th></th>\n",
       "      <th>0</th>\n",
       "      <th>1</th>\n",
       "      <th>2</th>\n",
       "      <th>3</th>\n",
       "    </tr>\n",
       "  </thead>\n",
       "  <tbody>\n",
       "    <tr>\n",
       "      <th>0</th>\n",
       "      <td>Cotton 98%</td>\n",
       "      <td>Spandex 2%</td>\n",
       "      <td>None</td>\n",
       "      <td>None</td>\n",
       "    </tr>\n",
       "    <tr>\n",
       "      <th>1</th>\n",
       "      <td>Polyester 65%</td>\n",
       "      <td>Cotton 35%</td>\n",
       "      <td>None</td>\n",
       "      <td>None</td>\n",
       "    </tr>\n",
       "    <tr>\n",
       "      <th>2</th>\n",
       "      <td>Polyester 65%</td>\n",
       "      <td>Cotton 35%</td>\n",
       "      <td>None</td>\n",
       "      <td>None</td>\n",
       "    </tr>\n",
       "    <tr>\n",
       "      <th>3</th>\n",
       "      <td>Cotton 99%</td>\n",
       "      <td>Spandex 1%</td>\n",
       "      <td>None</td>\n",
       "      <td>None</td>\n",
       "    </tr>\n",
       "    <tr>\n",
       "      <th>4</th>\n",
       "      <td>Cotton 99%</td>\n",
       "      <td>Spandex 1%</td>\n",
       "      <td>None</td>\n",
       "      <td>None</td>\n",
       "    </tr>\n",
       "    <tr>\n",
       "      <th>5</th>\n",
       "      <td>Polyester 63%</td>\n",
       "      <td>Cotton 37%</td>\n",
       "      <td>None</td>\n",
       "      <td>None</td>\n",
       "    </tr>\n",
       "    <tr>\n",
       "      <th>6</th>\n",
       "      <td>Cotton 100%</td>\n",
       "      <td>None</td>\n",
       "      <td>None</td>\n",
       "      <td>None</td>\n",
       "    </tr>\n",
       "    <tr>\n",
       "      <th>7</th>\n",
       "      <td>Cotton 99%</td>\n",
       "      <td>Spandex 1%</td>\n",
       "      <td>None</td>\n",
       "      <td>None</td>\n",
       "    </tr>\n",
       "    <tr>\n",
       "      <th>8</th>\n",
       "      <td>Polyester 65%</td>\n",
       "      <td>Cotton 35%</td>\n",
       "      <td>None</td>\n",
       "      <td>None</td>\n",
       "    </tr>\n",
       "    <tr>\n",
       "      <th>9</th>\n",
       "      <td>Cotton 99%</td>\n",
       "      <td>Spandex 1%</td>\n",
       "      <td>None</td>\n",
       "      <td>None</td>\n",
       "    </tr>\n",
       "    <tr>\n",
       "      <th>10</th>\n",
       "      <td>Cotton 98%</td>\n",
       "      <td>Spandex 2%</td>\n",
       "      <td>None</td>\n",
       "      <td>None</td>\n",
       "    </tr>\n",
       "  </tbody>\n",
       "</table>\n",
       "</div>"
      ],
      "text/plain": [
       "                0            1     2     3\n",
       "0      Cotton 98%   Spandex 2%  None  None\n",
       "1   Polyester 65%   Cotton 35%  None  None\n",
       "2   Polyester 65%   Cotton 35%  None  None\n",
       "3      Cotton 99%   Spandex 1%  None  None\n",
       "4      Cotton 99%   Spandex 1%  None  None\n",
       "5   Polyester 63%   Cotton 37%  None  None\n",
       "6     Cotton 100%         None  None  None\n",
       "7      Cotton 99%   Spandex 1%  None  None\n",
       "8   Polyester 65%   Cotton 35%  None  None\n",
       "9      Cotton 99%   Spandex 1%  None  None\n",
       "10     Cotton 98%   Spandex 2%  None  None"
      ]
     },
     "execution_count": 178,
     "metadata": {},
     "output_type": "execute_result"
    }
   ],
   "source": [
    "df1.head(11)"
   ]
  },
  {
   "cell_type": "code",
   "execution_count": 138,
   "id": "8e57af38",
   "metadata": {
    "ExecuteTime": {
     "end_time": "2022-02-21T14:30:45.372994Z",
     "start_time": "2022-02-21T14:30:45.364247Z"
    }
   },
   "outputs": [
    {
     "data": {
      "text/plain": [
       "array(['recycled_cotton_20%', nan, 'recycled_polyester_21%',\n",
       "       'recycled_cotton_19%', 'recycled_polyester_19%'], dtype=object)"
      ]
     },
     "execution_count": 138,
     "metadata": {},
     "output_type": "execute_result"
    }
   ],
   "source": [
    "df_data['sustainable_materials'].unique()"
   ]
  },
  {
   "cell_type": "code",
   "execution_count": 141,
   "id": "33de16be",
   "metadata": {
    "ExecuteTime": {
     "end_time": "2022-02-21T14:31:59.331125Z",
     "start_time": "2022-02-21T14:31:59.323276Z"
    }
   },
   "outputs": [],
   "source": [
    "df2 = df_data[['sustainable_materials']].reset_index(drop=True)"
   ]
  },
  {
   "cell_type": "code",
   "execution_count": 179,
   "id": "7f8c84b8",
   "metadata": {
    "ExecuteTime": {
     "end_time": "2022-02-21T14:54:13.899536Z",
     "start_time": "2022-02-21T14:54:13.885665Z"
    }
   },
   "outputs": [
    {
     "data": {
      "text/html": [
       "<div>\n",
       "<style scoped>\n",
       "    .dataframe tbody tr th:only-of-type {\n",
       "        vertical-align: middle;\n",
       "    }\n",
       "\n",
       "    .dataframe tbody tr th {\n",
       "        vertical-align: top;\n",
       "    }\n",
       "\n",
       "    .dataframe thead th {\n",
       "        text-align: right;\n",
       "    }\n",
       "</style>\n",
       "<table border=\"1\" class=\"dataframe\">\n",
       "  <thead>\n",
       "    <tr style=\"text-align: right;\">\n",
       "      <th></th>\n",
       "      <th>sustainable_materials</th>\n",
       "    </tr>\n",
       "  </thead>\n",
       "  <tbody>\n",
       "    <tr>\n",
       "      <th>490</th>\n",
       "      <td>NaN</td>\n",
       "    </tr>\n",
       "    <tr>\n",
       "      <th>491</th>\n",
       "      <td>NaN</td>\n",
       "    </tr>\n",
       "    <tr>\n",
       "      <th>492</th>\n",
       "      <td>NaN</td>\n",
       "    </tr>\n",
       "    <tr>\n",
       "      <th>493</th>\n",
       "      <td>NaN</td>\n",
       "    </tr>\n",
       "    <tr>\n",
       "      <th>494</th>\n",
       "      <td>NaN</td>\n",
       "    </tr>\n",
       "    <tr>\n",
       "      <th>495</th>\n",
       "      <td>recycled_polyester_21%</td>\n",
       "    </tr>\n",
       "    <tr>\n",
       "      <th>496</th>\n",
       "      <td>recycled_cotton_20%</td>\n",
       "    </tr>\n",
       "    <tr>\n",
       "      <th>497</th>\n",
       "      <td>recycled_cotton_19%</td>\n",
       "    </tr>\n",
       "    <tr>\n",
       "      <th>498</th>\n",
       "      <td>recycled_polyester_21%</td>\n",
       "    </tr>\n",
       "    <tr>\n",
       "      <th>499</th>\n",
       "      <td>recycled_cotton_20%</td>\n",
       "    </tr>\n",
       "    <tr>\n",
       "      <th>500</th>\n",
       "      <td>recycled_cotton_20%</td>\n",
       "    </tr>\n",
       "    <tr>\n",
       "      <th>501</th>\n",
       "      <td>recycled_polyester_19%</td>\n",
       "    </tr>\n",
       "    <tr>\n",
       "      <th>502</th>\n",
       "      <td>NaN</td>\n",
       "    </tr>\n",
       "    <tr>\n",
       "      <th>503</th>\n",
       "      <td>NaN</td>\n",
       "    </tr>\n",
       "    <tr>\n",
       "      <th>504</th>\n",
       "      <td>recycled_cotton_20%</td>\n",
       "    </tr>\n",
       "    <tr>\n",
       "      <th>505</th>\n",
       "      <td>recycled_cotton_20%</td>\n",
       "    </tr>\n",
       "    <tr>\n",
       "      <th>506</th>\n",
       "      <td>recycled_cotton_20%</td>\n",
       "    </tr>\n",
       "    <tr>\n",
       "      <th>507</th>\n",
       "      <td>recycled_cotton_20%</td>\n",
       "    </tr>\n",
       "    <tr>\n",
       "      <th>508</th>\n",
       "      <td>NaN</td>\n",
       "    </tr>\n",
       "    <tr>\n",
       "      <th>509</th>\n",
       "      <td>NaN</td>\n",
       "    </tr>\n",
       "  </tbody>\n",
       "</table>\n",
       "</div>"
      ],
      "text/plain": [
       "      sustainable_materials\n",
       "490                     NaN\n",
       "491                     NaN\n",
       "492                     NaN\n",
       "493                     NaN\n",
       "494                     NaN\n",
       "495  recycled_polyester_21%\n",
       "496     recycled_cotton_20%\n",
       "497     recycled_cotton_19%\n",
       "498  recycled_polyester_21%\n",
       "499     recycled_cotton_20%\n",
       "500     recycled_cotton_20%\n",
       "501  recycled_polyester_19%\n",
       "502                     NaN\n",
       "503                     NaN\n",
       "504     recycled_cotton_20%\n",
       "505     recycled_cotton_20%\n",
       "506     recycled_cotton_20%\n",
       "507     recycled_cotton_20%\n",
       "508                     NaN\n",
       "509                     NaN"
      ]
     },
     "execution_count": 179,
     "metadata": {},
     "output_type": "execute_result"
    }
   ],
   "source": [
    "df2.tail(20)"
   ]
  },
  {
   "cell_type": "code",
   "execution_count": 170,
   "id": "707e071f",
   "metadata": {
    "ExecuteTime": {
     "end_time": "2022-02-21T14:50:16.426422Z",
     "start_time": "2022-02-21T14:50:16.417236Z"
    }
   },
   "outputs": [
    {
     "data": {
      "text/plain": [
       "487                    NaN\n",
       "488                    NaN\n",
       "489                    NaN\n",
       "490                    NaN\n",
       "491                    NaN\n",
       "492                    NaN\n",
       "493                    NaN\n",
       "494                    NaN\n",
       "496    recycled_cotton_20%\n",
       "497    recycled_cotton_19%\n",
       "499    recycled_cotton_20%\n",
       "500    recycled_cotton_20%\n",
       "502                    NaN\n",
       "503                    NaN\n",
       "504    recycled_cotton_20%\n",
       "505    recycled_cotton_20%\n",
       "506    recycled_cotton_20%\n",
       "507    recycled_cotton_20%\n",
       "508                    NaN\n",
       "509                    NaN\n",
       "Name: sustainable_materials, dtype: object"
      ]
     },
     "execution_count": 170,
     "metadata": {},
     "output_type": "execute_result"
    }
   ],
   "source": [
    "df_recycled_cotton.tail(20)"
   ]
  },
  {
   "cell_type": "code",
   "execution_count": 124,
   "id": "c444fc68",
   "metadata": {
    "ExecuteTime": {
     "end_time": "2022-02-21T14:17:56.540992Z",
     "start_time": "2022-02-21T14:17:56.533490Z"
    }
   },
   "outputs": [
    {
     "data": {
      "text/plain": [
       "(137,)"
      ]
     },
     "execution_count": 124,
     "metadata": {},
     "output_type": "execute_result"
    }
   ],
   "source": [
    "df_polyester_1.shape"
   ]
  },
  {
   "cell_type": "code",
   "execution_count": 116,
   "id": "534a89a6",
   "metadata": {
    "ExecuteTime": {
     "end_time": "2022-02-21T14:11:40.387762Z",
     "start_time": "2022-02-21T14:11:40.377583Z"
    },
    "scrolled": true
   },
   "outputs": [
    {
     "data": {
      "text/plain": [
       "6               None\n",
       "27              None\n",
       "28              None\n",
       "42     Polyester 20%\n",
       "43     Polyester 21%\n",
       "44     Polyester 21%\n",
       "45     Polyester 21%\n",
       "46     Polyester 21%\n",
       "47     Polyester 21%\n",
       "48     Polyester 19%\n",
       "Name: polyester, dtype: object"
      ]
     },
     "execution_count": 116,
     "metadata": {},
     "output_type": "execute_result"
    }
   ],
   "source": [
    "df_polyester_1.head(10)"
   ]
  },
  {
   "cell_type": "code",
   "execution_count": 132,
   "id": "99f4df2e",
   "metadata": {
    "ExecuteTime": {
     "end_time": "2022-02-21T14:25:38.608172Z",
     "start_time": "2022-02-21T14:25:38.600180Z"
    }
   },
   "outputs": [
    {
     "data": {
      "text/plain": [
       "array(['Cotton 98%', 'Polyester 65%', 'Cotton 99%', 'Polyester 63%',\n",
       "       'Cotton 100%', 'Cotton 79%', 'Cotton 77%', 'Cotton 78%',\n",
       "       'Cotton 80%', 'Polyester 100%', 'Cotton 93%', 'Cotton 91%',\n",
       "       'Cotton 72%'], dtype=object)"
      ]
     },
     "execution_count": 132,
     "metadata": {},
     "output_type": "execute_result"
    }
   ],
   "source": [
    "df1[0].unique()"
   ]
  },
  {
   "cell_type": "code",
   "execution_count": 133,
   "id": "1b7516ff",
   "metadata": {
    "ExecuteTime": {
     "end_time": "2022-02-21T14:25:40.121004Z",
     "start_time": "2022-02-21T14:25:40.110102Z"
    }
   },
   "outputs": [
    {
     "data": {
      "text/plain": [
       "array([' Spandex 2%', ' Cotton 35%', ' Spandex 1%', ' Cotton 37%', None,\n",
       "       ' Polyester 20%', ' Polyester 21%', ' Polyester 19%',\n",
       "       ' Polyester 6%', ' Polyester 7%'], dtype=object)"
      ]
     },
     "execution_count": 133,
     "metadata": {},
     "output_type": "execute_result"
    }
   ],
   "source": [
    "df1[1].unique()"
   ]
  },
  {
   "cell_type": "code",
   "execution_count": 134,
   "id": "6ca7618a",
   "metadata": {
    "ExecuteTime": {
     "end_time": "2022-02-21T14:25:41.717943Z",
     "start_time": "2022-02-21T14:25:41.709436Z"
    }
   },
   "outputs": [
    {
     "data": {
      "text/plain": [
       "array([None, ' Spandex 1%', ' Spandex 2%', ' Modal 7%'], dtype=object)"
      ]
     },
     "execution_count": 134,
     "metadata": {},
     "output_type": "execute_result"
    }
   ],
   "source": [
    "df1[2].unique()"
   ]
  },
  {
   "cell_type": "code",
   "execution_count": 135,
   "id": "8a4129f5",
   "metadata": {
    "ExecuteTime": {
     "end_time": "2022-02-21T14:25:43.557330Z",
     "start_time": "2022-02-21T14:25:43.549240Z"
    }
   },
   "outputs": [
    {
     "data": {
      "text/plain": [
       "array([None, ' Spandex 1%'], dtype=object)"
      ]
     },
     "execution_count": 135,
     "metadata": {},
     "output_type": "execute_result"
    }
   ],
   "source": [
    "df1[3].unique()"
   ]
  },
  {
   "cell_type": "markdown",
   "id": "b82ef1fa",
   "metadata": {},
   "source": [
    "## Data Insert"
   ]
  },
  {
   "cell_type": "code",
   "execution_count": null,
   "id": "5322fa86",
   "metadata": {},
   "outputs": [],
   "source": [
    "import sqlite3\n",
    "from sqlalchemy import create_engine"
   ]
  },
  {
   "cell_type": "code",
   "execution_count": null,
   "id": "3fdabe49",
   "metadata": {},
   "outputs": [],
   "source": [
    "data_insert = df_data[['']]"
   ]
  },
  {
   "cell_type": "code",
   "execution_count": null,
   "id": "4fa103cf",
   "metadata": {},
   "outputs": [],
   "source": [
    "query_showroom_schema = \"\"\"\"\n",
    "    CREATE TABLE VITRINE (\n",
    "    \n",
    "    \n",
    "    \n",
    "    )\n",
    "\n",
    "\"\"\"\n"
   ]
  },
  {
   "cell_type": "code",
   "execution_count": null,
   "id": "a03bb854",
   "metadata": {},
   "outputs": [],
   "source": [
    "#create table\n",
    "sqlite3.connect('database_hm.sqlite')\n",
    "conn.execute( query_showroom_schema )\n",
    "conn.commit()"
   ]
  },
  {
   "cell_type": "code",
   "execution_count": null,
   "id": "c4dc9517",
   "metadata": {},
   "outputs": [],
   "source": [
    "# create database connection\n",
    "create_engine( 'sqlite:///database_hm.sqlite', echo = False)\n",
    "\n",
    "# data insert\n",
    "data.insert.to_sql('vitrine', con = conn, if_exists = 'append', index = False )"
   ]
  },
  {
   "cell_type": "code",
   "execution_count": null,
   "id": "b42e00b0",
   "metadata": {},
   "outputs": [],
   "source": []
  },
  {
   "cell_type": "code",
   "execution_count": null,
   "id": "53d157b6",
   "metadata": {},
   "outputs": [],
   "source": []
  }
 ],
 "metadata": {
  "kernelspec": {
   "display_name": "Python 3",
   "language": "python",
   "name": "python3"
  },
  "language_info": {
   "codemirror_mode": {
    "name": "ipython",
    "version": 3
   },
   "file_extension": ".py",
   "mimetype": "text/x-python",
   "name": "python",
   "nbconvert_exporter": "python",
   "pygments_lexer": "ipython3",
   "version": "3.9.1"
  },
  "toc": {
   "base_numbering": 1,
   "nav_menu": {},
   "number_sections": true,
   "sideBar": true,
   "skip_h1_title": false,
   "title_cell": "Table of Contents",
   "title_sidebar": "Contents",
   "toc_cell": false,
   "toc_position": {},
   "toc_section_display": true,
   "toc_window_display": false
  }
 },
 "nbformat": 4,
 "nbformat_minor": 5
}
