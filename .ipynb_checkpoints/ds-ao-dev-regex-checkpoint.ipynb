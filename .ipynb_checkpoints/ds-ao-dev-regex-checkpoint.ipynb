{
 "cells": [
  {
   "cell_type": "markdown",
   "id": "932442ec",
   "metadata": {},
   "source": [
    "# Python DS-ao-Dev"
   ]
  },
  {
   "cell_type": "markdown",
   "id": "b09cf467",
   "metadata": {
    "heading_collapsed": true
   },
   "source": [
    "## Bussiness Problem"
   ]
  },
  {
   "cell_type": "markdown",
   "id": "de93f19c",
   "metadata": {
    "hidden": true
   },
   "source": [
    "**Star Jeans Company**\n",
    "\n",
    "- Eduardo e Marcelo são dois brasileiros, amigos e sócios de empreendimento. Depois de vários negócio bem sucedidos, eles estão planejando entrar no mercado de moda dos USA como um modelo de negócio do tipo E-commerce.\n",
    "\n",
    "- A idéia inicial é entrar no mercado com apenas um produto e para um público específico, no caso o produto seria calças Jenas para o público masculino. O objetivo é manter o custo de operação baixo e escalar a medida que forem conseguindo clientes.\n",
    "\n",
    "- Porém, mesmo com o produto de entrada e a audiência definidos, os dois sócios não tem experiência nesse mercado de moda e portanto não sabem definir coisas básicas como preço, o tipo de calça e o material para a fabricação de cada peça.\n",
    "\n",
    "- Assim, os dois sócios contrataram uma consultoria de Ciência de Dados para responder as seguintes perguntas: ]\n",
    "    1. Qual o melhor preço de venda para as calças? \n",
    "    2. Quantos tipos de calças e suas cores para o produto inicial? \n",
    "    3. Quais as matérias-prima necessárias para confeccionar as calças?\n",
    "    \n",
    "- As principais concorrentes da empresa Start Jeans são as americadas H&M e Macys."
   ]
  },
  {
   "cell_type": "markdown",
   "id": "ced630a8",
   "metadata": {
    "heading_collapsed": true
   },
   "source": [
    "## Solution Planning (Input-Output-Tasks)"
   ]
  },
  {
   "cell_type": "markdown",
   "id": "6f0b273c",
   "metadata": {
    "hidden": true
   },
   "source": [
    "**Bussiness Question**\n",
    "\n",
    "- Which is the best price for jeans?\n",
    "\n",
    "1. Input:\n",
    "    1. Fonte de dados\n",
    "        - Site da H&M: https://www2.hm.com/en_us/men/products/jeans.html\n",
    "        - Site da Macys: https://www.macys.com/shop/mens-clothing/mens-jeans\n",
    "    2. Ferramentas\n",
    "        - Python 3.8.0\n",
    "        - Bibliotecas de Webscrapping ( BS4, Selenium )\n",
    "        - PyCharm\n",
    "        - Jupyter Notebook ( Analise e prototipagens )\n",
    "        - Crontjob, Airflow\n",
    "        - Streamlit\n",
    "    \n",
    "2. Output:\n",
    "    1. A resposta para a pergunta.\n",
    "        - Mediana dos preços dos concorrents.\n",
    "    2. Formato da entrega\n",
    "        - Tabela ou gráfico\n",
    "    3. Local da entrega\n",
    "        - App Streamlit\n",
    "    \n",
    "3. Tasks:\n",
    "    1. Passo a passso para construir o cálculo da mediana ou média\n",
    "        - Realizar o calculo da mediana sobre o produto, tipo e cor\n",
    "    2. Definir o formato da entrega ( Visualização, Tabela, Frase )\n",
    "        - Gráfico de barras com a mediana dos preço dos produtos, por tipo e cor dos últimos 30 dia\n",
    "        - Tabela com as seguintes colunas: id | product_name | product_type | product_color | produ\n",
    "        - Definição do schema: Colunas e seu tipo\n",
    "        - Definição a infraestrutura de armazenamento ( SQLITE3 )\n",
    "        - Design do ETL ( Scripts de Extração, Transformação e Carga )\n",
    "        - Planejamento de Agendamento dos scripts ( dependencias entre os scripts )\n",
    "        - Fazer as visualizações\n",
    "        - Entrega do produto final\n",
    "    3. Decidir o local de entrega ( PowerBi, Telegram, Email, Streamlit, Intranet ),\n",
    "        - App com Streamlit"
   ]
  },
  {
   "cell_type": "markdown",
   "id": "59cf7cf1",
   "metadata": {
    "heading_collapsed": true
   },
   "source": [
    "## Bussiness Models"
   ]
  },
  {
   "cell_type": "markdown",
   "id": "f41a62ba",
   "metadata": {
    "hidden": true
   },
   "source": [
    "“Como você planeja ganhar dinheiro”, Michael Lewis\n",
    "\n",
    "“Um modelo de negócio descreve a lógica de criação, entrega e captura de valor por\n",
    "parte de uma organização”, Alexander Osterwalder"
   ]
  },
  {
   "cell_type": "markdown",
   "id": "25000fe7",
   "metadata": {
    "hidden": true
   },
   "source": [
    "- E-commerce:\n",
    "    1. Faturamento: Vendas de um produto.\n",
    "    2. Exemplo: Lojas Riachuelo, Submarino, Magazine Luiza, etc\n",
    "        \n",
    "- Software AS a Service ( SaaS ):\n",
    "    1. Faturamento: Assinatura mensal/anual de utilização ou por usuário.\n",
    "    2. Exemplo: Looker, Asana, Gmail, Salesforce.\n",
    "    \n",
    "- Serviço:\n",
    "    1. Faturamento: Prestação de serviço por tempo ou projeto.\n",
    "    2. Exemplo: Sul América, Porto Seguro, Mapfre.\n",
    "    \n",
    "- Mobile App:\n",
    "    1. Faturamento: Venda de upgrades.\n",
    "    2. Exemplo: Wildlife, Ubisoft, Games Mobile.\n",
    "    \n",
    "- Media Site:\n",
    "    1. Faturamento: Cobrança por clicks ou visualizações de um determinado anúncio.\n",
    "    2. Exemplo: Facebook, Google, UOL, G1, etc.\n",
    "    \n",
    "- Marketplace:\n",
    "    1. Faturamento: Taxa sobre a transação entre o passageiro e o motorista.\n",
    "    2. Exemplo: Uber, Ifood, 99, Elo7, Submarino."
   ]
  },
  {
   "cell_type": "markdown",
   "id": "0d5df70f",
   "metadata": {
    "heading_collapsed": true
   },
   "source": [
    "## E-commerce Metrics"
   ]
  },
  {
   "cell_type": "markdown",
   "id": "801068cb",
   "metadata": {
    "hidden": true
   },
   "source": [
    "- **Growth Metrics**:\n",
    "    1. Porcentagem do Marketshare\n",
    "    2. Número de Clientes Novos\n",
    "- **Revenue Metrics**:\n",
    "    1. Número de Vendas\n",
    "    2. Ticket Médio\n",
    "    3. LTV ( Long Time Value )\n",
    "    4. Recência Média\n",
    "    5. Basket Size Médio\n",
    "    6. Markup médio\n",
    "- **Cost Metrics**:\n",
    "    1. CAC ( Custo de aquisição de Clientes )\n",
    "    2. Desconto médio\n",
    "    3. Custo de Produção\n",
    "    4. Taxa de devolução\n",
    "    5. Custos Fixos ( Folha de pagamento, escritório, softwares )\n",
    "    6. Impostos"
   ]
  },
  {
   "cell_type": "code",
   "execution_count": null,
   "id": "0a9bc66b",
   "metadata": {
    "ExecuteTime": {
     "end_time": "2021-12-06T19:20:12.993523Z",
     "start_time": "2021-12-06T19:20:12.953775Z"
    },
    "hidden": true
   },
   "outputs": [],
   "source": [
    "from IPython.display import Image\n",
    "Image(filename='/home/marxcerqueira/repos/Data-Science-Projects/pa005_insiders_clustering/pa005_marx_cerqueira/reports/figures/mapa_metricas_e_commerce.png')"
   ]
  },
  {
   "cell_type": "markdown",
   "id": "771623b6",
   "metadata": {},
   "source": [
    "# Imports"
   ]
  },
  {
   "cell_type": "code",
   "execution_count": 1,
   "id": "56ce2616",
   "metadata": {
    "ExecuteTime": {
     "end_time": "2022-02-09T14:31:44.995412Z",
     "start_time": "2022-02-09T14:31:44.770342Z"
    }
   },
   "outputs": [],
   "source": [
    "import re\n",
    "import numpy as np\n",
    "import pandas as pd"
   ]
  },
  {
   "cell_type": "code",
   "execution_count": 2,
   "id": "39d7320f",
   "metadata": {
    "ExecuteTime": {
     "end_time": "2022-02-09T14:31:46.509317Z",
     "start_time": "2022-02-09T14:31:46.489944Z"
    }
   },
   "outputs": [
    {
     "data": {
      "text/plain": [
       "'/home/marxcerqueira/repos/python-ds-ao-dev'"
      ]
     },
     "execution_count": 2,
     "metadata": {},
     "output_type": "execute_result"
    }
   ],
   "source": [
    "pwd"
   ]
  },
  {
   "cell_type": "markdown",
   "id": "9793111b",
   "metadata": {},
   "source": [
    "# Loading Data (Web Scrapping)"
   ]
  },
  {
   "cell_type": "code",
   "execution_count": 3,
   "id": "d4c1f756",
   "metadata": {
    "ExecuteTime": {
     "end_time": "2022-02-09T14:41:31.370004Z",
     "start_time": "2022-02-09T14:41:31.323988Z"
    }
   },
   "outputs": [],
   "source": [
    "data = pd.read_csv( '/home/marxcerqueira/repos/python-ds-ao-dev/products_hm.csv' )"
   ]
  },
  {
   "cell_type": "code",
   "execution_count": 4,
   "id": "8320c95b",
   "metadata": {
    "ExecuteTime": {
     "end_time": "2022-02-09T14:41:33.074234Z",
     "start_time": "2022-02-09T14:41:33.054258Z"
    }
   },
   "outputs": [
    {
     "data": {
      "text/plain": [
       "Unnamed: 0             0\n",
       "product_id             0\n",
       "product_category       0\n",
       "product_name           0\n",
       "product_price          0\n",
       "scrapy_datetime        0\n",
       "style_id               0\n",
       "color_id               0\n",
       "color_name             1\n",
       "Fit                    1\n",
       "Composition            1\n",
       "Size                 611\n",
       "Product safety      1548\n",
       "dtype: int64"
      ]
     },
     "execution_count": 4,
     "metadata": {},
     "output_type": "execute_result"
    }
   ],
   "source": [
    "data.isna().sum()"
   ]
  },
  {
   "cell_type": "code",
   "execution_count": 6,
   "id": "084fd6d1",
   "metadata": {
    "ExecuteTime": {
     "end_time": "2022-02-09T14:41:45.680888Z",
     "start_time": "2022-02-09T14:41:45.666476Z"
    }
   },
   "outputs": [],
   "source": [
    "#drop unnecessary column\n",
    "data = data.drop('Unnamed: 0', axis = 1)\n",
    "\n",
    "#rename columns\n",
    "data = data.rename(columns = {'Fit': 'fit', 'Composition': 'composition','Size': 'size' ,'Product safety': 'product_safety'} )"
   ]
  },
  {
   "cell_type": "code",
   "execution_count": 7,
   "id": "ce8e6720",
   "metadata": {
    "ExecuteTime": {
     "end_time": "2022-02-09T14:41:47.260564Z",
     "start_time": "2022-02-09T14:41:47.245980Z"
    },
    "scrolled": false
   },
   "outputs": [
    {
     "data": {
      "text/html": [
       "<div>\n",
       "<style scoped>\n",
       "    .dataframe tbody tr th:only-of-type {\n",
       "        vertical-align: middle;\n",
       "    }\n",
       "\n",
       "    .dataframe tbody tr th {\n",
       "        vertical-align: top;\n",
       "    }\n",
       "\n",
       "    .dataframe thead th {\n",
       "        text-align: right;\n",
       "    }\n",
       "</style>\n",
       "<table border=\"1\" class=\"dataframe\">\n",
       "  <thead>\n",
       "    <tr style=\"text-align: right;\">\n",
       "      <th></th>\n",
       "      <th>product_id</th>\n",
       "      <th>product_category</th>\n",
       "      <th>product_name</th>\n",
       "      <th>product_price</th>\n",
       "      <th>scrapy_datetime</th>\n",
       "      <th>style_id</th>\n",
       "      <th>color_id</th>\n",
       "      <th>color_name</th>\n",
       "      <th>fit</th>\n",
       "      <th>composition</th>\n",
       "      <th>size</th>\n",
       "      <th>product_safety</th>\n",
       "    </tr>\n",
       "  </thead>\n",
       "  <tbody>\n",
       "    <tr>\n",
       "      <th>0</th>\n",
       "      <td>985197001</td>\n",
       "      <td>men_jeans_slim</td>\n",
       "      <td>Slim Jeans</td>\n",
       "      <td>$ 19.99</td>\n",
       "      <td>2021-12-13 13:18:24</td>\n",
       "      <td>985197</td>\n",
       "      <td>1</td>\n",
       "      <td>Midnight blue</td>\n",
       "      <td>Slim fit</td>\n",
       "      <td>Pocket lining: Cotton 100%</td>\n",
       "      <td>The model is 189cm/6'2\" and wears a size 32/32</td>\n",
       "      <td>NaN</td>\n",
       "    </tr>\n",
       "    <tr>\n",
       "      <th>1</th>\n",
       "      <td>985197001</td>\n",
       "      <td>men_jeans_slim</td>\n",
       "      <td>Slim Jeans</td>\n",
       "      <td>$ 19.99</td>\n",
       "      <td>2021-12-13 13:18:24</td>\n",
       "      <td>985197</td>\n",
       "      <td>1</td>\n",
       "      <td>Midnight blue</td>\n",
       "      <td>Slim fit</td>\n",
       "      <td>Shell: Cotton 98%, Spandex 2%</td>\n",
       "      <td>The model is 189cm/6'2\" and wears a size 32/32</td>\n",
       "      <td>NaN</td>\n",
       "    </tr>\n",
       "    <tr>\n",
       "      <th>2</th>\n",
       "      <td>985197001</td>\n",
       "      <td>men_jeans_slim</td>\n",
       "      <td>Slim Jeans</td>\n",
       "      <td>$ 19.99</td>\n",
       "      <td>2021-12-13 13:18:24</td>\n",
       "      <td>985197</td>\n",
       "      <td>1</td>\n",
       "      <td>Denim blue</td>\n",
       "      <td>Slim fit</td>\n",
       "      <td>Pocket lining: Cotton 100%</td>\n",
       "      <td>The model is 189cm/6'2\" and wears a size 32/32</td>\n",
       "      <td>NaN</td>\n",
       "    </tr>\n",
       "    <tr>\n",
       "      <th>3</th>\n",
       "      <td>985197001</td>\n",
       "      <td>men_jeans_slim</td>\n",
       "      <td>Slim Jeans</td>\n",
       "      <td>$ 19.99</td>\n",
       "      <td>2021-12-13 13:18:24</td>\n",
       "      <td>985197</td>\n",
       "      <td>1</td>\n",
       "      <td>Denim blue</td>\n",
       "      <td>Slim fit</td>\n",
       "      <td>Shell: Cotton 98%, Spandex 2%</td>\n",
       "      <td>The model is 189cm/6'2\" and wears a size 32/32</td>\n",
       "      <td>NaN</td>\n",
       "    </tr>\n",
       "    <tr>\n",
       "      <th>4</th>\n",
       "      <td>985197001</td>\n",
       "      <td>men_jeans_slim</td>\n",
       "      <td>Slim Jeans</td>\n",
       "      <td>$ 19.99</td>\n",
       "      <td>2021-12-13 13:18:24</td>\n",
       "      <td>985197</td>\n",
       "      <td>1</td>\n",
       "      <td>Dark denim blue</td>\n",
       "      <td>Slim fit</td>\n",
       "      <td>Pocket lining: Cotton 100%</td>\n",
       "      <td>The model is 189cm/6'2\" and wears a size 32/32</td>\n",
       "      <td>NaN</td>\n",
       "    </tr>\n",
       "  </tbody>\n",
       "</table>\n",
       "</div>"
      ],
      "text/plain": [
       "   product_id product_category product_name product_price  \\\n",
       "0   985197001   men_jeans_slim   Slim Jeans       $ 19.99   \n",
       "1   985197001   men_jeans_slim   Slim Jeans       $ 19.99   \n",
       "2   985197001   men_jeans_slim   Slim Jeans       $ 19.99   \n",
       "3   985197001   men_jeans_slim   Slim Jeans       $ 19.99   \n",
       "4   985197001   men_jeans_slim   Slim Jeans       $ 19.99   \n",
       "\n",
       "       scrapy_datetime  style_id  color_id       color_name       fit  \\\n",
       "0  2021-12-13 13:18:24    985197         1    Midnight blue  Slim fit   \n",
       "1  2021-12-13 13:18:24    985197         1    Midnight blue  Slim fit   \n",
       "2  2021-12-13 13:18:24    985197         1       Denim blue  Slim fit   \n",
       "3  2021-12-13 13:18:24    985197         1       Denim blue  Slim fit   \n",
       "4  2021-12-13 13:18:24    985197         1  Dark denim blue  Slim fit   \n",
       "\n",
       "                     composition  \\\n",
       "0     Pocket lining: Cotton 100%   \n",
       "1  Shell: Cotton 98%, Spandex 2%   \n",
       "2     Pocket lining: Cotton 100%   \n",
       "3  Shell: Cotton 98%, Spandex 2%   \n",
       "4     Pocket lining: Cotton 100%   \n",
       "\n",
       "                                             size product_safety  \n",
       "0  The model is 189cm/6'2\" and wears a size 32/32            NaN  \n",
       "1  The model is 189cm/6'2\" and wears a size 32/32            NaN  \n",
       "2  The model is 189cm/6'2\" and wears a size 32/32            NaN  \n",
       "3  The model is 189cm/6'2\" and wears a size 32/32            NaN  \n",
       "4  The model is 189cm/6'2\" and wears a size 32/32            NaN  "
      ]
     },
     "execution_count": 7,
     "metadata": {},
     "output_type": "execute_result"
    }
   ],
   "source": [
    "data.head()"
   ]
  },
  {
   "cell_type": "code",
   "execution_count": 8,
   "id": "687da79d",
   "metadata": {
    "ExecuteTime": {
     "end_time": "2022-02-09T14:41:54.325372Z",
     "start_time": "2022-02-09T14:41:54.309018Z"
    }
   },
   "outputs": [
    {
     "data": {
      "text/plain": [
       "1"
      ]
     },
     "execution_count": 8,
     "metadata": {},
     "output_type": "execute_result"
    }
   ],
   "source": [
    "data['color_name'].isna().sum()"
   ]
  },
  {
   "cell_type": "code",
   "execution_count": 9,
   "id": "11781b03",
   "metadata": {
    "ExecuteTime": {
     "end_time": "2022-02-09T14:42:00.074560Z",
     "start_time": "2022-02-09T14:42:00.063936Z"
    },
    "scrolled": false
   },
   "outputs": [
    {
     "data": {
      "text/html": [
       "<div>\n",
       "<style scoped>\n",
       "    .dataframe tbody tr th:only-of-type {\n",
       "        vertical-align: middle;\n",
       "    }\n",
       "\n",
       "    .dataframe tbody tr th {\n",
       "        vertical-align: top;\n",
       "    }\n",
       "\n",
       "    .dataframe thead th {\n",
       "        text-align: right;\n",
       "    }\n",
       "</style>\n",
       "<table border=\"1\" class=\"dataframe\">\n",
       "  <thead>\n",
       "    <tr style=\"text-align: right;\">\n",
       "      <th></th>\n",
       "      <th>product_id</th>\n",
       "      <th>product_category</th>\n",
       "      <th>product_name</th>\n",
       "      <th>product_price</th>\n",
       "      <th>scrapy_datetime</th>\n",
       "      <th>style_id</th>\n",
       "      <th>color_id</th>\n",
       "      <th>color_name</th>\n",
       "      <th>fit</th>\n",
       "      <th>composition</th>\n",
       "      <th>size</th>\n",
       "      <th>product_safety</th>\n",
       "    </tr>\n",
       "  </thead>\n",
       "  <tbody>\n",
       "    <tr>\n",
       "      <th>963</th>\n",
       "      <td>1028865001</td>\n",
       "      <td>men_jeans_relaxed</td>\n",
       "      <td>Relaxed Jeans with Embroidery Detail</td>\n",
       "      <td>$ 49.99</td>\n",
       "      <td>2021-12-13 13:18:24</td>\n",
       "      <td>1028865</td>\n",
       "      <td>1</td>\n",
       "      <td>NaN</td>\n",
       "      <td>NaN</td>\n",
       "      <td>NaN</td>\n",
       "      <td>NaN</td>\n",
       "      <td>NaN</td>\n",
       "    </tr>\n",
       "  </tbody>\n",
       "</table>\n",
       "</div>"
      ],
      "text/plain": [
       "     product_id   product_category                          product_name  \\\n",
       "963  1028865001  men_jeans_relaxed  Relaxed Jeans with Embroidery Detail   \n",
       "\n",
       "    product_price      scrapy_datetime  style_id  color_id color_name  fit  \\\n",
       "963       $ 49.99  2021-12-13 13:18:24   1028865         1        NaN  NaN   \n",
       "\n",
       "    composition size product_safety  \n",
       "963         NaN  NaN            NaN  "
      ]
     },
     "execution_count": 9,
     "metadata": {},
     "output_type": "execute_result"
    }
   ],
   "source": [
    "aux = data[data['color_name'].isna()]\n",
    "aux.head()"
   ]
  },
  {
   "cell_type": "code",
   "execution_count": 25,
   "id": "12f3583c",
   "metadata": {
    "ExecuteTime": {
     "end_time": "2022-01-31T22:46:39.110895Z",
     "start_time": "2022-01-31T22:46:39.107285Z"
    }
   },
   "outputs": [
    {
     "data": {
      "text/plain": [
       "product_id           int64\n",
       "product_category    object\n",
       "product_name        object\n",
       "product_price       object\n",
       "scrapy_datetime     object\n",
       "style_id             int64\n",
       "color_id             int64\n",
       "color_name          object\n",
       "fit                 object\n",
       "composition         object\n",
       "size                object\n",
       "product_safety      object\n",
       "dtype: object"
      ]
     },
     "execution_count": 25,
     "metadata": {},
     "output_type": "execute_result"
    }
   ],
   "source": [
    "data.dtypes"
   ]
  },
  {
   "cell_type": "code",
   "execution_count": 10,
   "id": "9f93dba1",
   "metadata": {
    "ExecuteTime": {
     "end_time": "2022-02-09T14:42:21.384952Z",
     "start_time": "2022-02-09T14:42:21.371795Z"
    }
   },
   "outputs": [
    {
     "data": {
      "text/plain": [
       "product_id             0\n",
       "product_category       0\n",
       "product_name           0\n",
       "product_price          0\n",
       "scrapy_datetime        0\n",
       "style_id               0\n",
       "color_id               0\n",
       "color_name             1\n",
       "fit                    1\n",
       "composition            1\n",
       "size                 611\n",
       "product_safety      1548\n",
       "dtype: int64"
      ]
     },
     "execution_count": 10,
     "metadata": {},
     "output_type": "execute_result"
    }
   ],
   "source": [
    "data.isnull().sum()"
   ]
  },
  {
   "cell_type": "code",
   "execution_count": 11,
   "id": "38c1423e",
   "metadata": {
    "ExecuteTime": {
     "end_time": "2022-02-09T14:42:24.497474Z",
     "start_time": "2022-02-09T14:42:24.489235Z"
    }
   },
   "outputs": [
    {
     "data": {
      "text/plain": [
       "array(['Pocket lining: Cotton 100%', 'Shell: Cotton 98%, Spandex 2%',\n",
       "       'Shell: Cotton 99%, Spandex 1%',\n",
       "       'Pocket lining: Polyester 65%, Cotton 35%',\n",
       "       'Cotton 98%, Spandex 2%', 'Lining: Polyester 100%',\n",
       "       'Cotton 99%, Spandex 1%',\n",
       "       'Pocket lining: Polyester 63%, Cotton 37%',\n",
       "       'Cotton 89%, Polyester 10%, Spandex 1%',\n",
       "       'Cotton 93%, Polyester 6%, Spandex 1%', 'Cotton 100%', nan,\n",
       "       'Shell: Cotton 90%, Elasterell-P 8%, Spandex 2%',\n",
       "       'Cotton 90%, Elasterell-P 8%, Spandex 2%',\n",
       "       'Cotton 79%, Polyester 20%, Spandex 1%',\n",
       "       'Cotton 77%, Polyester 21%, Spandex 2%'], dtype=object)"
      ]
     },
     "execution_count": 11,
     "metadata": {},
     "output_type": "execute_result"
    }
   ],
   "source": [
    "data['composition'].unique()"
   ]
  },
  {
   "cell_type": "code",
   "execution_count": 12,
   "id": "aece01e6",
   "metadata": {
    "ExecuteTime": {
     "end_time": "2022-02-09T14:43:30.079215Z",
     "start_time": "2022-02-09T14:43:29.985160Z"
    },
    "scrolled": true
   },
   "outputs": [
    {
     "data": {
      "text/html": [
       "<div>\n",
       "<style scoped>\n",
       "    .dataframe tbody tr th:only-of-type {\n",
       "        vertical-align: middle;\n",
       "    }\n",
       "\n",
       "    .dataframe tbody tr th {\n",
       "        vertical-align: top;\n",
       "    }\n",
       "\n",
       "    .dataframe thead th {\n",
       "        text-align: right;\n",
       "    }\n",
       "</style>\n",
       "<table border=\"1\" class=\"dataframe\">\n",
       "  <thead>\n",
       "    <tr style=\"text-align: right;\">\n",
       "      <th></th>\n",
       "      <th>product_id</th>\n",
       "      <th>product_category</th>\n",
       "      <th>product_name</th>\n",
       "      <th>product_price</th>\n",
       "      <th>scrapy_datetime</th>\n",
       "      <th>style_id</th>\n",
       "      <th>color_id</th>\n",
       "      <th>color_name</th>\n",
       "      <th>fit</th>\n",
       "      <th>composition</th>\n",
       "      <th>size_number</th>\n",
       "      <th>size_model</th>\n",
       "    </tr>\n",
       "  </thead>\n",
       "  <tbody>\n",
       "    <tr>\n",
       "      <th>72</th>\n",
       "      <td>690449043</td>\n",
       "      <td>men_jeans_ripped</td>\n",
       "      <td>skinny_jeans</td>\n",
       "      <td>39.99</td>\n",
       "      <td>2021-12-13 13:18:24</td>\n",
       "      <td>690449</td>\n",
       "      <td>43</td>\n",
       "      <td>light_denim_blue_trashed</td>\n",
       "      <td>skinny_fit</td>\n",
       "      <td>Cotton 98%, Spandex 2%</td>\n",
       "      <td>187</td>\n",
       "      <td>32/32</td>\n",
       "    </tr>\n",
       "    <tr>\n",
       "      <th>74</th>\n",
       "      <td>690449043</td>\n",
       "      <td>men_jeans_ripped</td>\n",
       "      <td>skinny_jeans</td>\n",
       "      <td>39.99</td>\n",
       "      <td>2021-12-13 13:18:24</td>\n",
       "      <td>690449</td>\n",
       "      <td>43</td>\n",
       "      <td>denim_blue</td>\n",
       "      <td>skinny_fit</td>\n",
       "      <td>Cotton 98%, Spandex 2%</td>\n",
       "      <td>187</td>\n",
       "      <td>32/32</td>\n",
       "    </tr>\n",
       "    <tr>\n",
       "      <th>76</th>\n",
       "      <td>690449043</td>\n",
       "      <td>men_jeans_ripped</td>\n",
       "      <td>skinny_jeans</td>\n",
       "      <td>39.99</td>\n",
       "      <td>2021-12-13 13:18:24</td>\n",
       "      <td>690449</td>\n",
       "      <td>43</td>\n",
       "      <td>black_washed</td>\n",
       "      <td>skinny_fit</td>\n",
       "      <td>Cotton 98%, Spandex 2%</td>\n",
       "      <td>187</td>\n",
       "      <td>32/32</td>\n",
       "    </tr>\n",
       "    <tr>\n",
       "      <th>78</th>\n",
       "      <td>690449043</td>\n",
       "      <td>men_jeans_ripped</td>\n",
       "      <td>skinny_jeans</td>\n",
       "      <td>39.99</td>\n",
       "      <td>2021-12-13 13:18:24</td>\n",
       "      <td>690449</td>\n",
       "      <td>43</td>\n",
       "      <td>light_denim_blue</td>\n",
       "      <td>skinny_fit</td>\n",
       "      <td>Cotton 98%, Spandex 2%</td>\n",
       "      <td>187</td>\n",
       "      <td>32/32</td>\n",
       "    </tr>\n",
       "    <tr>\n",
       "      <th>80</th>\n",
       "      <td>690449043</td>\n",
       "      <td>men_jeans_ripped</td>\n",
       "      <td>skinny_jeans</td>\n",
       "      <td>39.99</td>\n",
       "      <td>2021-12-13 13:18:24</td>\n",
       "      <td>690449</td>\n",
       "      <td>43</td>\n",
       "      <td>black_washed_out</td>\n",
       "      <td>skinny_fit</td>\n",
       "      <td>Cotton 98%, Spandex 2%</td>\n",
       "      <td>187</td>\n",
       "      <td>32/32</td>\n",
       "    </tr>\n",
       "    <tr>\n",
       "      <th>82</th>\n",
       "      <td>690449043</td>\n",
       "      <td>men_jeans_ripped</td>\n",
       "      <td>skinny_jeans</td>\n",
       "      <td>39.99</td>\n",
       "      <td>2021-12-13 13:18:24</td>\n",
       "      <td>690449</td>\n",
       "      <td>43</td>\n",
       "      <td>white</td>\n",
       "      <td>skinny_fit</td>\n",
       "      <td>Cotton 98%, Spandex 2%</td>\n",
       "      <td>187</td>\n",
       "      <td>32/32</td>\n",
       "    </tr>\n",
       "    <tr>\n",
       "      <th>84</th>\n",
       "      <td>690449043</td>\n",
       "      <td>men_jeans_ripped</td>\n",
       "      <td>skinny_jeans</td>\n",
       "      <td>39.99</td>\n",
       "      <td>2021-12-13 13:18:24</td>\n",
       "      <td>690449</td>\n",
       "      <td>43</td>\n",
       "      <td>black_washed</td>\n",
       "      <td>skinny_fit</td>\n",
       "      <td>Cotton 98%, Spandex 2%</td>\n",
       "      <td>187</td>\n",
       "      <td>32/32</td>\n",
       "    </tr>\n",
       "    <tr>\n",
       "      <th>86</th>\n",
       "      <td>690449043</td>\n",
       "      <td>men_jeans_ripped</td>\n",
       "      <td>skinny_jeans</td>\n",
       "      <td>39.99</td>\n",
       "      <td>2021-12-13 13:18:24</td>\n",
       "      <td>690449</td>\n",
       "      <td>43</td>\n",
       "      <td>dark_denim_blue_trashed</td>\n",
       "      <td>skinny_fit</td>\n",
       "      <td>Cotton 98%, Spandex 2%</td>\n",
       "      <td>187</td>\n",
       "      <td>32/32</td>\n",
       "    </tr>\n",
       "    <tr>\n",
       "      <th>88</th>\n",
       "      <td>690449043</td>\n",
       "      <td>men_jeans_ripped</td>\n",
       "      <td>skinny_jeans</td>\n",
       "      <td>39.99</td>\n",
       "      <td>2021-12-13 13:18:24</td>\n",
       "      <td>690449</td>\n",
       "      <td>43</td>\n",
       "      <td>black_trashed</td>\n",
       "      <td>skinny_fit</td>\n",
       "      <td>Cotton 98%, Spandex 2%</td>\n",
       "      <td>187</td>\n",
       "      <td>32/32</td>\n",
       "    </tr>\n",
       "    <tr>\n",
       "      <th>90</th>\n",
       "      <td>690449043</td>\n",
       "      <td>men_jeans_ripped</td>\n",
       "      <td>skinny_jeans</td>\n",
       "      <td>39.99</td>\n",
       "      <td>2021-12-13 13:18:24</td>\n",
       "      <td>690449</td>\n",
       "      <td>43</td>\n",
       "      <td>dark_blue_trashed</td>\n",
       "      <td>skinny_fit</td>\n",
       "      <td>Cotton 98%, Spandex 2%</td>\n",
       "      <td>187</td>\n",
       "      <td>32/32</td>\n",
       "    </tr>\n",
       "    <tr>\n",
       "      <th>92</th>\n",
       "      <td>690449043</td>\n",
       "      <td>men_jeans_ripped</td>\n",
       "      <td>skinny_jeans</td>\n",
       "      <td>39.99</td>\n",
       "      <td>2021-12-13 13:18:24</td>\n",
       "      <td>690449</td>\n",
       "      <td>43</td>\n",
       "      <td>dark_blue_washed_out</td>\n",
       "      <td>skinny_fit</td>\n",
       "      <td>Cotton 98%, Spandex 2%</td>\n",
       "      <td>187</td>\n",
       "      <td>32/32</td>\n",
       "    </tr>\n",
       "    <tr>\n",
       "      <th>94</th>\n",
       "      <td>690449043</td>\n",
       "      <td>men_jeans_ripped</td>\n",
       "      <td>skinny_jeans</td>\n",
       "      <td>39.99</td>\n",
       "      <td>2021-12-13 13:18:24</td>\n",
       "      <td>690449</td>\n",
       "      <td>43</td>\n",
       "      <td>denim_blue_trashed</td>\n",
       "      <td>skinny_fit</td>\n",
       "      <td>Cotton 98%, Spandex 2%</td>\n",
       "      <td>187</td>\n",
       "      <td>32/32</td>\n",
       "    </tr>\n",
       "    <tr>\n",
       "      <th>96</th>\n",
       "      <td>690449043</td>\n",
       "      <td>men_jeans_ripped</td>\n",
       "      <td>skinny_jeans</td>\n",
       "      <td>39.99</td>\n",
       "      <td>2021-12-13 13:18:24</td>\n",
       "      <td>690449</td>\n",
       "      <td>43</td>\n",
       "      <td>black</td>\n",
       "      <td>skinny_fit</td>\n",
       "      <td>Cotton 98%, Spandex 2%</td>\n",
       "      <td>187</td>\n",
       "      <td>32/32</td>\n",
       "    </tr>\n",
       "    <tr>\n",
       "      <th>98</th>\n",
       "      <td>690449043</td>\n",
       "      <td>men_jeans_ripped</td>\n",
       "      <td>skinny_jeans</td>\n",
       "      <td>39.99</td>\n",
       "      <td>2021-12-13 13:18:24</td>\n",
       "      <td>690449</td>\n",
       "      <td>43</td>\n",
       "      <td>denim_gray</td>\n",
       "      <td>skinny_fit</td>\n",
       "      <td>Cotton 98%, Spandex 2%</td>\n",
       "      <td>187</td>\n",
       "      <td>32/32</td>\n",
       "    </tr>\n",
       "    <tr>\n",
       "      <th>100</th>\n",
       "      <td>690449043</td>\n",
       "      <td>men_jeans_ripped</td>\n",
       "      <td>skinny_jeans</td>\n",
       "      <td>39.99</td>\n",
       "      <td>2021-12-13 13:18:24</td>\n",
       "      <td>690449</td>\n",
       "      <td>43</td>\n",
       "      <td>light_denim_gray_trashed</td>\n",
       "      <td>skinny_fit</td>\n",
       "      <td>Cotton 98%, Spandex 2%</td>\n",
       "      <td>187</td>\n",
       "      <td>32/32</td>\n",
       "    </tr>\n",
       "    <tr>\n",
       "      <th>102</th>\n",
       "      <td>690449043</td>\n",
       "      <td>men_jeans_ripped</td>\n",
       "      <td>skinny_jeans</td>\n",
       "      <td>39.99</td>\n",
       "      <td>2021-12-13 13:18:24</td>\n",
       "      <td>690449</td>\n",
       "      <td>43</td>\n",
       "      <td>gray</td>\n",
       "      <td>skinny_fit</td>\n",
       "      <td>Cotton 98%, Spandex 2%</td>\n",
       "      <td>187</td>\n",
       "      <td>32/32</td>\n",
       "    </tr>\n",
       "    <tr>\n",
       "      <th>104</th>\n",
       "      <td>690449043</td>\n",
       "      <td>men_jeans_ripped</td>\n",
       "      <td>skinny_jeans</td>\n",
       "      <td>39.99</td>\n",
       "      <td>2021-12-13 13:18:24</td>\n",
       "      <td>690449</td>\n",
       "      <td>43</td>\n",
       "      <td>light_denim_blue</td>\n",
       "      <td>skinny_fit</td>\n",
       "      <td>Cotton 98%, Spandex 2%</td>\n",
       "      <td>187</td>\n",
       "      <td>32/32</td>\n",
       "    </tr>\n",
       "    <tr>\n",
       "      <th>106</th>\n",
       "      <td>690449043</td>\n",
       "      <td>men_jeans_ripped</td>\n",
       "      <td>skinny_jeans</td>\n",
       "      <td>39.99</td>\n",
       "      <td>2021-12-13 13:18:24</td>\n",
       "      <td>690449</td>\n",
       "      <td>43</td>\n",
       "      <td>light_denim_blue_trashed</td>\n",
       "      <td>skinny_fit</td>\n",
       "      <td>Cotton 98%, Spandex 2%</td>\n",
       "      <td>NaN</td>\n",
       "      <td>NaN</td>\n",
       "    </tr>\n",
       "    <tr>\n",
       "      <th>107</th>\n",
       "      <td>690449043</td>\n",
       "      <td>men_jeans_ripped</td>\n",
       "      <td>skinny_jeans</td>\n",
       "      <td>39.99</td>\n",
       "      <td>2021-12-13 13:18:24</td>\n",
       "      <td>690449</td>\n",
       "      <td>43</td>\n",
       "      <td>denim_blue</td>\n",
       "      <td>skinny_fit</td>\n",
       "      <td>Cotton 98%, Spandex 2%</td>\n",
       "      <td>NaN</td>\n",
       "      <td>NaN</td>\n",
       "    </tr>\n",
       "    <tr>\n",
       "      <th>108</th>\n",
       "      <td>690449043</td>\n",
       "      <td>men_jeans_ripped</td>\n",
       "      <td>skinny_jeans</td>\n",
       "      <td>39.99</td>\n",
       "      <td>2021-12-13 13:18:24</td>\n",
       "      <td>690449</td>\n",
       "      <td>43</td>\n",
       "      <td>black_washed</td>\n",
       "      <td>skinny_fit</td>\n",
       "      <td>Cotton 98%, Spandex 2%</td>\n",
       "      <td>NaN</td>\n",
       "      <td>NaN</td>\n",
       "    </tr>\n",
       "  </tbody>\n",
       "</table>\n",
       "</div>"
      ],
      "text/plain": [
       "     product_id  product_category  product_name  product_price  \\\n",
       "72    690449043  men_jeans_ripped  skinny_jeans          39.99   \n",
       "74    690449043  men_jeans_ripped  skinny_jeans          39.99   \n",
       "76    690449043  men_jeans_ripped  skinny_jeans          39.99   \n",
       "78    690449043  men_jeans_ripped  skinny_jeans          39.99   \n",
       "80    690449043  men_jeans_ripped  skinny_jeans          39.99   \n",
       "82    690449043  men_jeans_ripped  skinny_jeans          39.99   \n",
       "84    690449043  men_jeans_ripped  skinny_jeans          39.99   \n",
       "86    690449043  men_jeans_ripped  skinny_jeans          39.99   \n",
       "88    690449043  men_jeans_ripped  skinny_jeans          39.99   \n",
       "90    690449043  men_jeans_ripped  skinny_jeans          39.99   \n",
       "92    690449043  men_jeans_ripped  skinny_jeans          39.99   \n",
       "94    690449043  men_jeans_ripped  skinny_jeans          39.99   \n",
       "96    690449043  men_jeans_ripped  skinny_jeans          39.99   \n",
       "98    690449043  men_jeans_ripped  skinny_jeans          39.99   \n",
       "100   690449043  men_jeans_ripped  skinny_jeans          39.99   \n",
       "102   690449043  men_jeans_ripped  skinny_jeans          39.99   \n",
       "104   690449043  men_jeans_ripped  skinny_jeans          39.99   \n",
       "106   690449043  men_jeans_ripped  skinny_jeans          39.99   \n",
       "107   690449043  men_jeans_ripped  skinny_jeans          39.99   \n",
       "108   690449043  men_jeans_ripped  skinny_jeans          39.99   \n",
       "\n",
       "        scrapy_datetime  style_id  color_id                color_name  \\\n",
       "72  2021-12-13 13:18:24    690449        43  light_denim_blue_trashed   \n",
       "74  2021-12-13 13:18:24    690449        43                denim_blue   \n",
       "76  2021-12-13 13:18:24    690449        43              black_washed   \n",
       "78  2021-12-13 13:18:24    690449        43          light_denim_blue   \n",
       "80  2021-12-13 13:18:24    690449        43          black_washed_out   \n",
       "82  2021-12-13 13:18:24    690449        43                     white   \n",
       "84  2021-12-13 13:18:24    690449        43              black_washed   \n",
       "86  2021-12-13 13:18:24    690449        43   dark_denim_blue_trashed   \n",
       "88  2021-12-13 13:18:24    690449        43             black_trashed   \n",
       "90  2021-12-13 13:18:24    690449        43         dark_blue_trashed   \n",
       "92  2021-12-13 13:18:24    690449        43      dark_blue_washed_out   \n",
       "94  2021-12-13 13:18:24    690449        43        denim_blue_trashed   \n",
       "96  2021-12-13 13:18:24    690449        43                     black   \n",
       "98  2021-12-13 13:18:24    690449        43                denim_gray   \n",
       "100 2021-12-13 13:18:24    690449        43  light_denim_gray_trashed   \n",
       "102 2021-12-13 13:18:24    690449        43                      gray   \n",
       "104 2021-12-13 13:18:24    690449        43          light_denim_blue   \n",
       "106 2021-12-13 13:18:24    690449        43  light_denim_blue_trashed   \n",
       "107 2021-12-13 13:18:24    690449        43                denim_blue   \n",
       "108 2021-12-13 13:18:24    690449        43              black_washed   \n",
       "\n",
       "            fit             composition size_number size_model  \n",
       "72   skinny_fit  Cotton 98%, Spandex 2%         187      32/32  \n",
       "74   skinny_fit  Cotton 98%, Spandex 2%         187      32/32  \n",
       "76   skinny_fit  Cotton 98%, Spandex 2%         187      32/32  \n",
       "78   skinny_fit  Cotton 98%, Spandex 2%         187      32/32  \n",
       "80   skinny_fit  Cotton 98%, Spandex 2%         187      32/32  \n",
       "82   skinny_fit  Cotton 98%, Spandex 2%         187      32/32  \n",
       "84   skinny_fit  Cotton 98%, Spandex 2%         187      32/32  \n",
       "86   skinny_fit  Cotton 98%, Spandex 2%         187      32/32  \n",
       "88   skinny_fit  Cotton 98%, Spandex 2%         187      32/32  \n",
       "90   skinny_fit  Cotton 98%, Spandex 2%         187      32/32  \n",
       "92   skinny_fit  Cotton 98%, Spandex 2%         187      32/32  \n",
       "94   skinny_fit  Cotton 98%, Spandex 2%         187      32/32  \n",
       "96   skinny_fit  Cotton 98%, Spandex 2%         187      32/32  \n",
       "98   skinny_fit  Cotton 98%, Spandex 2%         187      32/32  \n",
       "100  skinny_fit  Cotton 98%, Spandex 2%         187      32/32  \n",
       "102  skinny_fit  Cotton 98%, Spandex 2%         187      32/32  \n",
       "104  skinny_fit  Cotton 98%, Spandex 2%         187      32/32  \n",
       "106  skinny_fit  Cotton 98%, Spandex 2%         NaN        NaN  \n",
       "107  skinny_fit  Cotton 98%, Spandex 2%         NaN        NaN  \n",
       "108  skinny_fit  Cotton 98%, Spandex 2%         NaN        NaN  "
      ]
     },
     "execution_count": 12,
     "metadata": {},
     "output_type": "execute_result"
    }
   ],
   "source": [
    "#load data\n",
    "data = pd.read_csv( '/home/marxcerqueira/repos/python-ds-ao-dev/products_hm.csv' )\n",
    "#drop unnecessary column\n",
    "data = data.drop('Unnamed: 0', axis = 1)\n",
    "\n",
    "#rename columns\n",
    "data = data.rename(columns = {'Fit': 'fit', 'Composition': 'composition','Size': 'size' ,'Product safety': 'product_safety'} )\n",
    "\n",
    "#####______#####\n",
    "#product name\n",
    "data['product_name'] = data['product_name'].apply(lambda x: x.replace(' ', '_').lower())\n",
    "\n",
    "#product price\n",
    "data['product_price'] = data['product_price'].apply(lambda x: x.replace('$', '')).astype(float)\n",
    "\n",
    "#scrapy datetime\n",
    "data['scrapy_datetime'] = pd.to_datetime(data['scrapy_datetime'], format = '%Y-%m-%d %H:%M:%S')\n",
    "\n",
    "#style_id\n",
    "#color_id\n",
    "#color name\n",
    "data['color_name'] = data['color_name'].apply(lambda x: x.replace(' ', '_').replace('/', '_').lower() if pd.notnull(x) else x)\n",
    "\n",
    "#fit\n",
    "data['fit'] = data['fit'].apply(lambda x: x.replace(' ', '_').lower() if pd.notnull(x) else x)\n",
    "\n",
    "#composition\n",
    "\n",
    "\n",
    "#====  size  ======\n",
    "#size number\n",
    "data['size_number'] = data['size'].apply(lambda x: re.search('\\d{3}cm', x).group(0) if pd.notnull(x) else x)\n",
    "data['size_number'] = data['size_number'].apply(lambda x: re.search('\\d+', x).group(0) if pd.notnull(x) else x) #group(0) locates the whole match expression\n",
    "\n",
    "#size model \n",
    "data['size_model'] = data['size'].str.extract('(\\d+/\\\\d+)') #.str to vectorize the lines, .extracts cant be applied in the whole column\n",
    "\n",
    "#product safety\n",
    "data = data.drop(columns = ['size', 'product_safety'], axis = 1)\n",
    "\n",
    "#composition\n",
    "data = data[~data['composition'].str.contains('Pocket lining:', na = False)] #na = false pula os NAs existentes\n",
    "data = data[~data['composition'].str.contains('Shell:', na = False)]\n",
    "data = data[~data['composition'].str.contains('Lining:', na = False)] \n",
    "\n",
    "#break composition by comma\n",
    "df1 = data['composition'].str.split(',', expand = True)\n",
    "\n",
    "# cotton / polyester / spandex / estasterel\n",
    "# creating empty dataframe as reference to organize the wanted columns and \n",
    "# then concatanete with the main dataframe, but it has to have the same lenght as 'data' dataframe\n",
    "\n",
    "df_ref = pd.DataFrame(index = np.arange(len(data)), columns = ['cotton', 'polyester', 'spandex', 'elasterell'])\n",
    "\n",
    "# #cotton\n",
    "# df_cotton = df1[0]\n",
    "# df_cotton.name = 'cotton'\n",
    "\n",
    "# df_ref = pd.concat([df_ref, df_cotton], axis = 1)\n",
    "# df_ref = df_ref.iloc[:, ~df_ref.columns.duplicated(keep='last')] #exclue colunas duplicadas, mantem as diferentes\n",
    "\n",
    "# #polyester\n",
    "# df_polyester = df1[1]\n",
    "# df_polyester.name = 'polyester'\n",
    "\n",
    "# df_ref = pd.concat([df_ref, df_polyester], axis = 1)\n",
    "# df_ref = df_ref.iloc[:, ~df_ref.columns.duplicated(keep='last')] #exclue colunas duplicadas, mantem as diferentes\n",
    "\n",
    "# #spandex\n",
    "# df_spandex = df1[1]\n",
    "# df_spandex.name = 'spandex'\n",
    "\n",
    "# df_ref = pd.concat([df_ref, df_spandex], axis = 1)\n",
    "# df_ref = df_ref.iloc[:, ~df_ref.columns.duplicated(keep='last')] #exclue colunas duplicadas, mantem as diferentes\n",
    "\n",
    "# #elasterell\n",
    "# df_spandex2  = df1[2]\n",
    "# df_spandex2.name = 'spandex'\n",
    "\n",
    "# df_ref = pd.concat([df_ref, df_spandex2 ], axis = 1)\n",
    "# df_ref = df_ref.iloc[:, ~df_ref.columns.duplicated(keep='last')] #exclue colunas duplicadas, mantem as diferentes\n",
    "\n",
    "# #final join\n",
    "# data = pd.concat([data,  df_ref], axis = 1)\n",
    "\n",
    "# # format composition data\n",
    "# data['cotton']     = data['cotton'].apply(lambda x: int(re.search('\\d+', x).group(0))/100 if pd.notnull(x) else x)\n",
    "# data['polyester']  = data['polyester'].apply( lambda x: int( re.search( '\\d+', x).group(0) ) / 100 if pd.notnull( x ) else x )\n",
    "# data['spandex']   = data['spandex'].apply( lambda x: int( re.search( '\\d+', x ).group(0) ) / 100 if pd.notnull( x ) else x )\n",
    "# data['elasterell'] = data['elasterell'].apply( lambda x: int( re.search('\\d+',x ).group(0) ) / 100 if pd.notnull( x ) else x )\n",
    "\n",
    "data.head(20)"
   ]
  },
  {
   "cell_type": "code",
   "execution_count": 82,
   "id": "8140c8a9",
   "metadata": {
    "ExecuteTime": {
     "end_time": "2022-02-01T00:42:51.237144Z",
     "start_time": "2022-02-01T00:42:51.228634Z"
    }
   },
   "outputs": [
    {
     "data": {
      "text/plain": [
       "array(['Cotton 98%, Spandex 2%', 'Cotton 99%, Spandex 1%',\n",
       "       'Cotton 89%, Polyester 10%, Spandex 1%',\n",
       "       'Cotton 93%, Polyester 6%, Spandex 1%', 'Cotton 100%', nan,\n",
       "       'Cotton 90%, Elasterell-P 8%, Spandex 2%',\n",
       "       'Cotton 79%, Polyester 20%, Spandex 1%',\n",
       "       'Cotton 77%, Polyester 21%, Spandex 2%'], dtype=object)"
      ]
     },
     "execution_count": 82,
     "metadata": {},
     "output_type": "execute_result"
    }
   ],
   "source": [
    "data['composition'].unique()"
   ]
  },
  {
   "cell_type": "code",
   "execution_count": 99,
   "id": "2c2abb84",
   "metadata": {
    "ExecuteTime": {
     "end_time": "2022-02-01T00:49:53.827525Z",
     "start_time": "2022-02-01T00:49:53.815971Z"
    },
    "scrolled": true
   },
   "outputs": [
    {
     "data": {
      "text/html": [
       "<div>\n",
       "<style scoped>\n",
       "    .dataframe tbody tr th:only-of-type {\n",
       "        vertical-align: middle;\n",
       "    }\n",
       "\n",
       "    .dataframe tbody tr th {\n",
       "        vertical-align: top;\n",
       "    }\n",
       "\n",
       "    .dataframe thead th {\n",
       "        text-align: right;\n",
       "    }\n",
       "</style>\n",
       "<table border=\"1\" class=\"dataframe\">\n",
       "  <thead>\n",
       "    <tr style=\"text-align: right;\">\n",
       "      <th></th>\n",
       "      <th>cotton</th>\n",
       "      <th>polyester</th>\n",
       "      <th>spandex</th>\n",
       "      <th>elasterell</th>\n",
       "    </tr>\n",
       "  </thead>\n",
       "  <tbody>\n",
       "    <tr>\n",
       "      <th>0</th>\n",
       "      <td>NaN</td>\n",
       "      <td>NaN</td>\n",
       "      <td>NaN</td>\n",
       "      <td>NaN</td>\n",
       "    </tr>\n",
       "    <tr>\n",
       "      <th>1</th>\n",
       "      <td>NaN</td>\n",
       "      <td>NaN</td>\n",
       "      <td>NaN</td>\n",
       "      <td>NaN</td>\n",
       "    </tr>\n",
       "    <tr>\n",
       "      <th>2</th>\n",
       "      <td>NaN</td>\n",
       "      <td>NaN</td>\n",
       "      <td>NaN</td>\n",
       "      <td>NaN</td>\n",
       "    </tr>\n",
       "    <tr>\n",
       "      <th>3</th>\n",
       "      <td>NaN</td>\n",
       "      <td>NaN</td>\n",
       "      <td>NaN</td>\n",
       "      <td>NaN</td>\n",
       "    </tr>\n",
       "    <tr>\n",
       "      <th>4</th>\n",
       "      <td>NaN</td>\n",
       "      <td>NaN</td>\n",
       "      <td>NaN</td>\n",
       "      <td>NaN</td>\n",
       "    </tr>\n",
       "  </tbody>\n",
       "</table>\n",
       "</div>"
      ],
      "text/plain": [
       "  cotton polyester spandex elasterell\n",
       "0    NaN       NaN     NaN        NaN\n",
       "1    NaN       NaN     NaN        NaN\n",
       "2    NaN       NaN     NaN        NaN\n",
       "3    NaN       NaN     NaN        NaN\n",
       "4    NaN       NaN     NaN        NaN"
      ]
     },
     "execution_count": 99,
     "metadata": {},
     "output_type": "execute_result"
    }
   ],
   "source": [
    "df_ref.head() "
   ]
  },
  {
   "cell_type": "code",
   "execution_count": 94,
   "id": "33fae527",
   "metadata": {
    "ExecuteTime": {
     "end_time": "2022-02-01T00:44:55.688078Z",
     "start_time": "2022-02-01T00:44:55.681154Z"
    }
   },
   "outputs": [
    {
     "data": {
      "text/html": [
       "<div>\n",
       "<style scoped>\n",
       "    .dataframe tbody tr th:only-of-type {\n",
       "        vertical-align: middle;\n",
       "    }\n",
       "\n",
       "    .dataframe tbody tr th {\n",
       "        vertical-align: top;\n",
       "    }\n",
       "\n",
       "    .dataframe thead th {\n",
       "        text-align: right;\n",
       "    }\n",
       "</style>\n",
       "<table border=\"1\" class=\"dataframe\">\n",
       "  <thead>\n",
       "    <tr style=\"text-align: right;\">\n",
       "      <th></th>\n",
       "      <th>0</th>\n",
       "      <th>1</th>\n",
       "      <th>2</th>\n",
       "    </tr>\n",
       "  </thead>\n",
       "  <tbody>\n",
       "    <tr>\n",
       "      <th>72</th>\n",
       "      <td>Cotton 98%</td>\n",
       "      <td>Spandex 2%</td>\n",
       "      <td>None</td>\n",
       "    </tr>\n",
       "    <tr>\n",
       "      <th>74</th>\n",
       "      <td>Cotton 98%</td>\n",
       "      <td>Spandex 2%</td>\n",
       "      <td>None</td>\n",
       "    </tr>\n",
       "    <tr>\n",
       "      <th>76</th>\n",
       "      <td>Cotton 98%</td>\n",
       "      <td>Spandex 2%</td>\n",
       "      <td>None</td>\n",
       "    </tr>\n",
       "    <tr>\n",
       "      <th>78</th>\n",
       "      <td>Cotton 98%</td>\n",
       "      <td>Spandex 2%</td>\n",
       "      <td>None</td>\n",
       "    </tr>\n",
       "    <tr>\n",
       "      <th>80</th>\n",
       "      <td>Cotton 98%</td>\n",
       "      <td>Spandex 2%</td>\n",
       "      <td>None</td>\n",
       "    </tr>\n",
       "  </tbody>\n",
       "</table>\n",
       "</div>"
      ],
      "text/plain": [
       "             0            1     2\n",
       "72  Cotton 98%   Spandex 2%  None\n",
       "74  Cotton 98%   Spandex 2%  None\n",
       "76  Cotton 98%   Spandex 2%  None\n",
       "78  Cotton 98%   Spandex 2%  None\n",
       "80  Cotton 98%   Spandex 2%  None"
      ]
     },
     "execution_count": 94,
     "metadata": {},
     "output_type": "execute_result"
    }
   ],
   "source": [
    "df1.head()"
   ]
  },
  {
   "cell_type": "code",
   "execution_count": 98,
   "id": "525966a4",
   "metadata": {
    "ExecuteTime": {
     "end_time": "2022-02-01T00:45:48.700867Z",
     "start_time": "2022-02-01T00:45:48.691967Z"
    }
   },
   "outputs": [
    {
     "data": {
      "text/plain": [
       "array([' Spandex 2%', ' Spandex 1%', ' Polyester 10%', ' Polyester 6%',\n",
       "       None, nan, ' Elasterell-P 8%', ' Polyester 20%', ' Polyester 21%'],\n",
       "      dtype=object)"
      ]
     },
     "execution_count": 98,
     "metadata": {},
     "output_type": "execute_result"
    }
   ],
   "source": [
    "df1[1].unique()"
   ]
  },
  {
   "cell_type": "code",
   "execution_count": 88,
   "id": "2222fd9e",
   "metadata": {
    "ExecuteTime": {
     "end_time": "2022-02-01T00:43:40.147512Z",
     "start_time": "2022-02-01T00:43:40.129925Z"
    }
   },
   "outputs": [
    {
     "data": {
      "text/html": [
       "<div>\n",
       "<style scoped>\n",
       "    .dataframe tbody tr th:only-of-type {\n",
       "        vertical-align: middle;\n",
       "    }\n",
       "\n",
       "    .dataframe tbody tr th {\n",
       "        vertical-align: top;\n",
       "    }\n",
       "\n",
       "    .dataframe thead th {\n",
       "        text-align: right;\n",
       "    }\n",
       "</style>\n",
       "<table border=\"1\" class=\"dataframe\">\n",
       "  <thead>\n",
       "    <tr style=\"text-align: right;\">\n",
       "      <th></th>\n",
       "      <th>0</th>\n",
       "      <th>1</th>\n",
       "      <th>2</th>\n",
       "    </tr>\n",
       "  </thead>\n",
       "  <tbody>\n",
       "    <tr>\n",
       "      <th>72</th>\n",
       "      <td>Cotton 98%</td>\n",
       "      <td>Spandex 2%</td>\n",
       "      <td>None</td>\n",
       "    </tr>\n",
       "    <tr>\n",
       "      <th>74</th>\n",
       "      <td>Cotton 98%</td>\n",
       "      <td>Spandex 2%</td>\n",
       "      <td>None</td>\n",
       "    </tr>\n",
       "    <tr>\n",
       "      <th>76</th>\n",
       "      <td>Cotton 98%</td>\n",
       "      <td>Spandex 2%</td>\n",
       "      <td>None</td>\n",
       "    </tr>\n",
       "    <tr>\n",
       "      <th>78</th>\n",
       "      <td>Cotton 98%</td>\n",
       "      <td>Spandex 2%</td>\n",
       "      <td>None</td>\n",
       "    </tr>\n",
       "    <tr>\n",
       "      <th>80</th>\n",
       "      <td>Cotton 98%</td>\n",
       "      <td>Spandex 2%</td>\n",
       "      <td>None</td>\n",
       "    </tr>\n",
       "  </tbody>\n",
       "</table>\n",
       "</div>"
      ],
      "text/plain": [
       "             0            1     2\n",
       "72  Cotton 98%   Spandex 2%  None\n",
       "74  Cotton 98%   Spandex 2%  None\n",
       "76  Cotton 98%   Spandex 2%  None\n",
       "78  Cotton 98%   Spandex 2%  None\n",
       "80  Cotton 98%   Spandex 2%  None"
      ]
     },
     "execution_count": 88,
     "metadata": {},
     "output_type": "execute_result"
    }
   ],
   "source": [
    "df1.head()"
   ]
  },
  {
   "cell_type": "code",
   "execution_count": 63,
   "id": "8f5e3ff7",
   "metadata": {
    "ExecuteTime": {
     "end_time": "2022-02-01T00:12:12.391127Z",
     "start_time": "2022-02-01T00:12:12.385753Z"
    }
   },
   "outputs": [
    {
     "data": {
      "text/plain": [
       "array(['Cotton 98%, Spandex 2%', 'Cotton 99%, Spandex 1%',\n",
       "       'Cotton 89%, Polyester 10%, Spandex 1%',\n",
       "       'Cotton 93%, Polyester 6%, Spandex 1%', 'Cotton 100%', nan,\n",
       "       'Cotton 90%, Elasterell-P 8%, Spandex 2%',\n",
       "       'Cotton 79%, Polyester 20%, Spandex 1%',\n",
       "       'Cotton 77%, Polyester 21%, Spandex 2%'], dtype=object)"
      ]
     },
     "execution_count": 63,
     "metadata": {},
     "output_type": "execute_result"
    }
   ],
   "source": [
    "data['composition'].unique()"
   ]
  },
  {
   "cell_type": "code",
   "execution_count": 59,
   "id": "7222bfd6",
   "metadata": {
    "ExecuteTime": {
     "end_time": "2022-02-01T00:10:55.475086Z",
     "start_time": "2022-02-01T00:10:55.454363Z"
    }
   },
   "outputs": [
    {
     "data": {
      "text/html": [
       "<div>\n",
       "<style scoped>\n",
       "    .dataframe tbody tr th:only-of-type {\n",
       "        vertical-align: middle;\n",
       "    }\n",
       "\n",
       "    .dataframe tbody tr th {\n",
       "        vertical-align: top;\n",
       "    }\n",
       "\n",
       "    .dataframe thead th {\n",
       "        text-align: right;\n",
       "    }\n",
       "</style>\n",
       "<table border=\"1\" class=\"dataframe\">\n",
       "  <thead>\n",
       "    <tr style=\"text-align: right;\">\n",
       "      <th></th>\n",
       "      <th>elastano</th>\n",
       "      <th>cotton</th>\n",
       "      <th>polyester</th>\n",
       "      <th>elastane</th>\n",
       "      <th>elasterell</th>\n",
       "    </tr>\n",
       "  </thead>\n",
       "  <tbody>\n",
       "    <tr>\n",
       "      <th>0</th>\n",
       "      <td>NaN</td>\n",
       "      <td>NaN</td>\n",
       "      <td>NaN</td>\n",
       "      <td>NaN</td>\n",
       "      <td>NaN</td>\n",
       "    </tr>\n",
       "    <tr>\n",
       "      <th>1</th>\n",
       "      <td>NaN</td>\n",
       "      <td>NaN</td>\n",
       "      <td>NaN</td>\n",
       "      <td>NaN</td>\n",
       "      <td>NaN</td>\n",
       "    </tr>\n",
       "    <tr>\n",
       "      <th>2</th>\n",
       "      <td>NaN</td>\n",
       "      <td>NaN</td>\n",
       "      <td>NaN</td>\n",
       "      <td>NaN</td>\n",
       "      <td>NaN</td>\n",
       "    </tr>\n",
       "    <tr>\n",
       "      <th>3</th>\n",
       "      <td>NaN</td>\n",
       "      <td>NaN</td>\n",
       "      <td>NaN</td>\n",
       "      <td>NaN</td>\n",
       "      <td>NaN</td>\n",
       "    </tr>\n",
       "    <tr>\n",
       "      <th>4</th>\n",
       "      <td>NaN</td>\n",
       "      <td>NaN</td>\n",
       "      <td>NaN</td>\n",
       "      <td>NaN</td>\n",
       "      <td>NaN</td>\n",
       "    </tr>\n",
       "  </tbody>\n",
       "</table>\n",
       "</div>"
      ],
      "text/plain": [
       "  elastano cotton polyester elastane elasterell\n",
       "0      NaN    NaN       NaN      NaN        NaN\n",
       "1      NaN    NaN       NaN      NaN        NaN\n",
       "2      NaN    NaN       NaN      NaN        NaN\n",
       "3      NaN    NaN       NaN      NaN        NaN\n",
       "4      NaN    NaN       NaN      NaN        NaN"
      ]
     },
     "execution_count": 59,
     "metadata": {},
     "output_type": "execute_result"
    }
   ],
   "source": [
    "df_ref.head()"
   ]
  },
  {
   "cell_type": "code",
   "execution_count": 51,
   "id": "3141b438",
   "metadata": {
    "ExecuteTime": {
     "end_time": "2022-01-31T23:56:32.631246Z",
     "start_time": "2022-01-31T23:56:32.628136Z"
    }
   },
   "outputs": [
    {
     "data": {
      "text/plain": [
       "array(['Cotton 98%', 'Cotton 99%', 'Cotton 89%', 'Cotton 93%',\n",
       "       'Cotton 100%', nan, 'Cotton 90%', 'Cotton 79%', 'Cotton 77%'],\n",
       "      dtype=object)"
      ]
     },
     "execution_count": 51,
     "metadata": {},
     "output_type": "execute_result"
    }
   ],
   "source": [
    "df1[0].unique()"
   ]
  },
  {
   "cell_type": "code",
   "execution_count": 50,
   "id": "0a76f521",
   "metadata": {
    "ExecuteTime": {
     "end_time": "2022-01-31T23:56:01.292882Z",
     "start_time": "2022-01-31T23:56:01.279768Z"
    }
   },
   "outputs": [
    {
     "data": {
      "text/plain": [
       "array([None, ' Spandex 1%', nan, ' Spandex 2%'], dtype=object)"
      ]
     },
     "execution_count": 50,
     "metadata": {},
     "output_type": "execute_result"
    }
   ],
   "source": [
    "df1[2].unique()"
   ]
  },
  {
   "cell_type": "code",
   "execution_count": 52,
   "id": "54ffb284",
   "metadata": {
    "ExecuteTime": {
     "end_time": "2022-02-01T00:04:56.713038Z",
     "start_time": "2022-02-01T00:04:56.697110Z"
    }
   },
   "outputs": [
    {
     "ename": "TypeError",
     "evalue": "concat() got multiple values for argument 'axis'",
     "output_type": "error",
     "traceback": [
      "\u001b[0;31m---------------------------------------------------------------------------\u001b[0m",
      "\u001b[0;31mTypeError\u001b[0m                                 Traceback (most recent call last)",
      "\u001b[0;32m<ipython-input-52-bfd8fb5a8c3c>\u001b[0m in \u001b[0;36m<module>\u001b[0;34m\u001b[0m\n\u001b[1;32m      9\u001b[0m \u001b[0mdf_cotton\u001b[0m\u001b[0;34m.\u001b[0m\u001b[0mname\u001b[0m \u001b[0;34m=\u001b[0m \u001b[0;34m'cotton'\u001b[0m\u001b[0;34m\u001b[0m\u001b[0;34m\u001b[0m\u001b[0m\n\u001b[1;32m     10\u001b[0m \u001b[0;34m\u001b[0m\u001b[0m\n\u001b[0;32m---> 11\u001b[0;31m \u001b[0mdf_ref\u001b[0m \u001b[0;34m=\u001b[0m \u001b[0mpd\u001b[0m\u001b[0;34m.\u001b[0m\u001b[0mconcat\u001b[0m\u001b[0;34m(\u001b[0m\u001b[0;34m[\u001b[0m\u001b[0mdf_ref\u001b[0m\u001b[0;34m]\u001b[0m\u001b[0;34m,\u001b[0m \u001b[0mdf_cotton\u001b[0m\u001b[0;34m,\u001b[0m \u001b[0maxis\u001b[0m \u001b[0;34m=\u001b[0m \u001b[0;36m1\u001b[0m\u001b[0;34m)\u001b[0m\u001b[0;34m\u001b[0m\u001b[0;34m\u001b[0m\u001b[0m\n\u001b[0m\u001b[1;32m     12\u001b[0m \u001b[0mdf_ref\u001b[0m \u001b[0;34m=\u001b[0m \u001b[0mdf_ref\u001b[0m\u001b[0;34m.\u001b[0m\u001b[0miloc\u001b[0m\u001b[0;34m[\u001b[0m\u001b[0;34m:\u001b[0m\u001b[0;34m,\u001b[0m \u001b[0;34m~\u001b[0m\u001b[0mdf_ref\u001b[0m\u001b[0;34m.\u001b[0m\u001b[0mcolumns\u001b[0m\u001b[0;34m.\u001b[0m\u001b[0mduplicated\u001b[0m\u001b[0;34m(\u001b[0m\u001b[0mkeep\u001b[0m\u001b[0;34m=\u001b[0m\u001b[0;34m'last'\u001b[0m\u001b[0;34m)\u001b[0m\u001b[0;34m]\u001b[0m \u001b[0;31m#exclue colunas duplicadas, mantem as diferentes\u001b[0m\u001b[0;34m\u001b[0m\u001b[0;34m\u001b[0m\u001b[0m\n\u001b[1;32m     13\u001b[0m \u001b[0;34m\u001b[0m\u001b[0m\n",
      "\u001b[0;31mTypeError\u001b[0m: concat() got multiple values for argument 'axis'"
     ]
    }
   ],
   "source": [
    "# cotton / polyester / elastano /estasterel\n",
    "# creating empty dataframe as reference to organize the wanted columns and \n",
    "# then concatanete with the main dataframe, but it has to have the same lenght as 'data' dataframe\n",
    "\n",
    "df_ref = pd.DataFrame(index = np.arange(len(data)), columns = ['cotton', 'polyester', 'elastano', 'elasterell'])\n",
    "\n",
    "#cotton\n",
    "df_cotton = df1[0]\n",
    "df_cotton.name = 'cotton'\n",
    "\n",
    "df_ref = pd.concat([df_ref, df_cotton], axis = 1)\n",
    "df_ref = df_ref.iloc[:, ~df_ref.columns.duplicated(keep='last')] #exclue colunas duplicadas, mantem as diferentes\n",
    "\n",
    "#polyester\n",
    "df_polyester = df1[0]\n",
    "df_polyester.name = 'polyester'\n",
    "\n",
    "df_ref = pd.concat([df_ref, df_polyester], axis = 1)\n",
    "df_ref = df_ref.iloc[:, ~df_ref.columns.duplicated(keep='last')] #exclue colunas duplicadas, mantem as diferentes\n",
    "\n",
    "#elastane\n",
    "df_elastane = df1[0]\n",
    "df_elastane.name = 'elastane'\n",
    "\n",
    "df_ref = pd.concat([df_ref, df_elastane], axis = 1)\n",
    "df_ref = df_ref.iloc[:, ~df_ref.columns.duplicated(keep='last')] #exclue colunas duplicadas, mantem as diferentes\n",
    "\n",
    "#elasterell\n",
    "df_elasterell = df1[0]\n",
    "df_elasterell.name = 'elasterell'\n",
    "\n",
    "df_ref = pd.concat([df_ref, df_elasterell], axis = 1)\n",
    "df_ref = df_ref.iloc[:, ~df_ref.columns.duplicated(keep='last')] #exclue colunas duplicadas, mantem as diferentes\n",
    "\n",
    "#final join\n",
    "pd.concat([data, df_ref], axis = 1)\n",
    "\n",
    "# format composition data\n",
    "data['cotton']     = data['cotton'].apply(lambda x: int(re.search('\\d+', x).group(0))/100 if pd.notnull(x) else x)\n",
    "data['polyester']  = data['polyester'].apply( lambda x: int( re.search( '\\d+', x).group(0) ) / 100 if pd.notnull( x ) else x )\n",
    "data['elastane']   = data['elastane'].apply( lambda x: int( re.search( '\\d+', x ).group(0) ) / 100 if pd.notnull( x ) else x )\n",
    "data['elasterell'] = data['elasterell'].apply( lambda x: int( re.search('\\d+',x ).group(0) ) / 100 if pd.notnull( x ) else x )\n",
    "\n",
    "data.head()"
   ]
  },
  {
   "cell_type": "code",
   "execution_count": 37,
   "id": "be2fb283",
   "metadata": {
    "ExecuteTime": {
     "end_time": "2022-01-31T23:05:39.883568Z",
     "start_time": "2022-01-31T23:05:39.877950Z"
    }
   },
   "outputs": [
    {
     "data": {
      "text/html": [
       "<div>\n",
       "<style scoped>\n",
       "    .dataframe tbody tr th:only-of-type {\n",
       "        vertical-align: middle;\n",
       "    }\n",
       "\n",
       "    .dataframe tbody tr th {\n",
       "        vertical-align: top;\n",
       "    }\n",
       "\n",
       "    .dataframe thead th {\n",
       "        text-align: right;\n",
       "    }\n",
       "</style>\n",
       "<table border=\"1\" class=\"dataframe\">\n",
       "  <thead>\n",
       "    <tr style=\"text-align: right;\">\n",
       "      <th></th>\n",
       "      <th>cotton</th>\n",
       "      <th>polyester</th>\n",
       "      <th>elastano</th>\n",
       "      <th>elasterell</th>\n",
       "    </tr>\n",
       "  </thead>\n",
       "  <tbody>\n",
       "    <tr>\n",
       "      <th>0</th>\n",
       "      <td>NaN</td>\n",
       "      <td>NaN</td>\n",
       "      <td>NaN</td>\n",
       "      <td>NaN</td>\n",
       "    </tr>\n",
       "    <tr>\n",
       "      <th>1</th>\n",
       "      <td>NaN</td>\n",
       "      <td>NaN</td>\n",
       "      <td>NaN</td>\n",
       "      <td>NaN</td>\n",
       "    </tr>\n",
       "    <tr>\n",
       "      <th>2</th>\n",
       "      <td>NaN</td>\n",
       "      <td>NaN</td>\n",
       "      <td>NaN</td>\n",
       "      <td>NaN</td>\n",
       "    </tr>\n",
       "    <tr>\n",
       "      <th>3</th>\n",
       "      <td>NaN</td>\n",
       "      <td>NaN</td>\n",
       "      <td>NaN</td>\n",
       "      <td>NaN</td>\n",
       "    </tr>\n",
       "    <tr>\n",
       "      <th>4</th>\n",
       "      <td>NaN</td>\n",
       "      <td>NaN</td>\n",
       "      <td>NaN</td>\n",
       "      <td>NaN</td>\n",
       "    </tr>\n",
       "  </tbody>\n",
       "</table>\n",
       "</div>"
      ],
      "text/plain": [
       "  cotton polyester elastano elasterell\n",
       "0    NaN       NaN      NaN        NaN\n",
       "1    NaN       NaN      NaN        NaN\n",
       "2    NaN       NaN      NaN        NaN\n",
       "3    NaN       NaN      NaN        NaN\n",
       "4    NaN       NaN      NaN        NaN"
      ]
     },
     "execution_count": 37,
     "metadata": {},
     "output_type": "execute_result"
    }
   ],
   "source": [
    "df_ref.head()"
   ]
  },
  {
   "cell_type": "code",
   "execution_count": 35,
   "id": "442e8afc",
   "metadata": {
    "ExecuteTime": {
     "end_time": "2022-01-31T23:04:02.356436Z",
     "start_time": "2022-01-31T23:04:02.347836Z"
    }
   },
   "outputs": [
    {
     "data": {
      "text/plain": [
       "(436, 4)"
      ]
     },
     "execution_count": 35,
     "metadata": {},
     "output_type": "execute_result"
    }
   ],
   "source": [
    "df_ref.shape"
   ]
  },
  {
   "cell_type": "code",
   "execution_count": 33,
   "id": "0bf29821",
   "metadata": {
    "ExecuteTime": {
     "end_time": "2022-01-31T23:02:08.523323Z",
     "start_time": "2022-01-31T23:02:08.506856Z"
    }
   },
   "outputs": [
    {
     "data": {
      "text/html": [
       "<div>\n",
       "<style scoped>\n",
       "    .dataframe tbody tr th:only-of-type {\n",
       "        vertical-align: middle;\n",
       "    }\n",
       "\n",
       "    .dataframe tbody tr th {\n",
       "        vertical-align: top;\n",
       "    }\n",
       "\n",
       "    .dataframe thead th {\n",
       "        text-align: right;\n",
       "    }\n",
       "</style>\n",
       "<table border=\"1\" class=\"dataframe\">\n",
       "  <thead>\n",
       "    <tr style=\"text-align: right;\">\n",
       "      <th></th>\n",
       "      <th>0</th>\n",
       "      <th>1</th>\n",
       "      <th>2</th>\n",
       "    </tr>\n",
       "  </thead>\n",
       "  <tbody>\n",
       "    <tr>\n",
       "      <th>72</th>\n",
       "      <td>Cotton 98%</td>\n",
       "      <td>Spandex 2%</td>\n",
       "      <td>None</td>\n",
       "    </tr>\n",
       "    <tr>\n",
       "      <th>74</th>\n",
       "      <td>Cotton 98%</td>\n",
       "      <td>Spandex 2%</td>\n",
       "      <td>None</td>\n",
       "    </tr>\n",
       "    <tr>\n",
       "      <th>76</th>\n",
       "      <td>Cotton 98%</td>\n",
       "      <td>Spandex 2%</td>\n",
       "      <td>None</td>\n",
       "    </tr>\n",
       "    <tr>\n",
       "      <th>78</th>\n",
       "      <td>Cotton 98%</td>\n",
       "      <td>Spandex 2%</td>\n",
       "      <td>None</td>\n",
       "    </tr>\n",
       "    <tr>\n",
       "      <th>80</th>\n",
       "      <td>Cotton 98%</td>\n",
       "      <td>Spandex 2%</td>\n",
       "      <td>None</td>\n",
       "    </tr>\n",
       "  </tbody>\n",
       "</table>\n",
       "</div>"
      ],
      "text/plain": [
       "             0            1     2\n",
       "72  Cotton 98%   Spandex 2%  None\n",
       "74  Cotton 98%   Spandex 2%  None\n",
       "76  Cotton 98%   Spandex 2%  None\n",
       "78  Cotton 98%   Spandex 2%  None\n",
       "80  Cotton 98%   Spandex 2%  None"
      ]
     },
     "execution_count": 33,
     "metadata": {},
     "output_type": "execute_result"
    }
   ],
   "source": [
    "df1.head()"
   ]
  },
  {
   "cell_type": "code",
   "execution_count": 29,
   "id": "0a94e7c5",
   "metadata": {
    "ExecuteTime": {
     "end_time": "2022-01-31T22:46:49.601388Z",
     "start_time": "2022-01-31T22:46:49.592129Z"
    },
    "scrolled": false
   },
   "outputs": [
    {
     "data": {
      "text/plain": [
       "array(['Cotton 98%, Spandex 2%', 'Cotton 99%, Spandex 1%',\n",
       "       'Cotton 89%, Polyester 10%, Spandex 1%',\n",
       "       'Cotton 93%, Polyester 6%, Spandex 1%', 'Cotton 100%', nan,\n",
       "       'Cotton 90%, Elasterell-P 8%, Spandex 2%',\n",
       "       'Cotton 79%, Polyester 20%, Spandex 1%',\n",
       "       'Cotton 77%, Polyester 21%, Spandex 2%'], dtype=object)"
      ]
     },
     "execution_count": 29,
     "metadata": {},
     "output_type": "execute_result"
    }
   ],
   "source": [
    "data['composition'].unique()"
   ]
  },
  {
   "cell_type": "code",
   "execution_count": 30,
   "id": "3de8e297",
   "metadata": {
    "ExecuteTime": {
     "end_time": "2022-01-31T22:47:14.922439Z",
     "start_time": "2022-01-31T22:47:14.902963Z"
    }
   },
   "outputs": [
    {
     "data": {
      "text/html": [
       "<div>\n",
       "<style scoped>\n",
       "    .dataframe tbody tr th:only-of-type {\n",
       "        vertical-align: middle;\n",
       "    }\n",
       "\n",
       "    .dataframe tbody tr th {\n",
       "        vertical-align: top;\n",
       "    }\n",
       "\n",
       "    .dataframe thead th {\n",
       "        text-align: right;\n",
       "    }\n",
       "</style>\n",
       "<table border=\"1\" class=\"dataframe\">\n",
       "  <thead>\n",
       "    <tr style=\"text-align: right;\">\n",
       "      <th></th>\n",
       "      <th>product_id</th>\n",
       "      <th>composition</th>\n",
       "    </tr>\n",
       "  </thead>\n",
       "  <tbody>\n",
       "    <tr>\n",
       "      <th>1087</th>\n",
       "      <td>1004476003</td>\n",
       "      <td>Cotton 90%, Elasterell-P 8%, Spandex 2%</td>\n",
       "    </tr>\n",
       "    <tr>\n",
       "      <th>703</th>\n",
       "      <td>427159006</td>\n",
       "      <td>Cotton 93%, Polyester 6%, Spandex 1%</td>\n",
       "    </tr>\n",
       "    <tr>\n",
       "      <th>479</th>\n",
       "      <td>811993036</td>\n",
       "      <td>Cotton 99%, Spandex 1%</td>\n",
       "    </tr>\n",
       "    <tr>\n",
       "      <th>110</th>\n",
       "      <td>690449043</td>\n",
       "      <td>Cotton 98%, Spandex 2%</td>\n",
       "    </tr>\n",
       "    <tr>\n",
       "      <th>215</th>\n",
       "      <td>690449051</td>\n",
       "      <td>Cotton 98%, Spandex 2%</td>\n",
       "    </tr>\n",
       "    <tr>\n",
       "      <th>94</th>\n",
       "      <td>690449043</td>\n",
       "      <td>Cotton 98%, Spandex 2%</td>\n",
       "    </tr>\n",
       "    <tr>\n",
       "      <th>1365</th>\n",
       "      <td>1004476004</td>\n",
       "      <td>Cotton 90%, Elasterell-P 8%, Spandex 2%</td>\n",
       "    </tr>\n",
       "    <tr>\n",
       "      <th>1098</th>\n",
       "      <td>1004199001</td>\n",
       "      <td>Cotton 99%, Spandex 1%</td>\n",
       "    </tr>\n",
       "    <tr>\n",
       "      <th>482</th>\n",
       "      <td>811993036</td>\n",
       "      <td>Cotton 99%, Spandex 1%</td>\n",
       "    </tr>\n",
       "    <tr>\n",
       "      <th>1535</th>\n",
       "      <td>1004199003</td>\n",
       "      <td>Cotton 99%, Spandex 1%</td>\n",
       "    </tr>\n",
       "  </tbody>\n",
       "</table>\n",
       "</div>"
      ],
      "text/plain": [
       "      product_id                              composition\n",
       "1087  1004476003  Cotton 90%, Elasterell-P 8%, Spandex 2%\n",
       "703    427159006     Cotton 93%, Polyester 6%, Spandex 1%\n",
       "479    811993036                   Cotton 99%, Spandex 1%\n",
       "110    690449043                   Cotton 98%, Spandex 2%\n",
       "215    690449051                   Cotton 98%, Spandex 2%\n",
       "94     690449043                   Cotton 98%, Spandex 2%\n",
       "1365  1004476004  Cotton 90%, Elasterell-P 8%, Spandex 2%\n",
       "1098  1004199001                   Cotton 99%, Spandex 1%\n",
       "482    811993036                   Cotton 99%, Spandex 1%\n",
       "1535  1004199003                   Cotton 99%, Spandex 1%"
      ]
     },
     "execution_count": 30,
     "metadata": {},
     "output_type": "execute_result"
    }
   ],
   "source": [
    "data[['product_id', 'composition']].sample(10) "
   ]
  },
  {
   "cell_type": "code",
   "execution_count": null,
   "id": "73ef6887",
   "metadata": {},
   "outputs": [],
   "source": []
  },
  {
   "cell_type": "code",
   "execution_count": null,
   "id": "1d0863ac",
   "metadata": {},
   "outputs": [],
   "source": []
  },
  {
   "cell_type": "code",
   "execution_count": null,
   "id": "a2628029",
   "metadata": {},
   "outputs": [],
   "source": []
  },
  {
   "cell_type": "code",
   "execution_count": null,
   "id": "76db07c3",
   "metadata": {
    "ExecuteTime": {
     "end_time": "2021-12-13T18:53:23.630263Z",
     "start_time": "2021-12-13T18:53:23.625219Z"
    }
   },
   "outputs": [],
   "source": [
    "df = data.copy()"
   ]
  },
  {
   "cell_type": "code",
   "execution_count": null,
   "id": "ce0b84e7",
   "metadata": {},
   "outputs": [],
   "source": []
  },
  {
   "cell_type": "code",
   "execution_count": null,
   "id": "9feaa417",
   "metadata": {},
   "outputs": [],
   "source": []
  },
  {
   "cell_type": "code",
   "execution_count": null,
   "id": "6ff2db45",
   "metadata": {},
   "outputs": [],
   "source": []
  },
  {
   "cell_type": "code",
   "execution_count": null,
   "id": "ca6839fe",
   "metadata": {},
   "outputs": [],
   "source": []
  },
  {
   "cell_type": "code",
   "execution_count": null,
   "id": "467f489f",
   "metadata": {},
   "outputs": [],
   "source": []
  },
  {
   "cell_type": "code",
   "execution_count": null,
   "id": "d5b39c20",
   "metadata": {
    "ExecuteTime": {
     "end_time": "2021-06-02T13:50:05.224161Z",
     "start_time": "2021-06-02T13:50:05.222044Z"
    }
   },
   "outputs": [],
   "source": [
    "cols = ['product_id','product_category','product_name','product_price','scrapy_datetime','style_id','color_id','color_name','fit','composition','size', 'product_safety']"
   ]
  },
  {
   "cell_type": "code",
   "execution_count": null,
   "id": "cb191a60",
   "metadata": {},
   "outputs": [],
   "source": []
  },
  {
   "cell_type": "code",
   "execution_count": null,
   "id": "933429d5",
   "metadata": {
    "ExecuteTime": {
     "end_time": "2021-06-02T12:55:52.270311Z",
     "start_time": "2021-06-02T12:55:52.265564Z"
    },
    "scrolled": false
   },
   "outputs": [],
   "source": [
    "#checkin NA\n",
    "data.isna().sum()"
   ]
  },
  {
   "cell_type": "code",
   "execution_count": null,
   "id": "8bed9751",
   "metadata": {},
   "outputs": [],
   "source": [
    "data[data['product_category'].iloc[471:]]"
   ]
  },
  {
   "cell_type": "code",
   "execution_count": null,
   "id": "990d95d4",
   "metadata": {
    "ExecuteTime": {
     "end_time": "2021-06-02T13:15:45.952381Z",
     "start_time": "2021-06-02T13:15:45.930524Z"
    }
   },
   "outputs": [],
   "source": [
    "# check product_category NA rows\n",
    "data[data['product_category'].isna()]"
   ]
  },
  {
   "cell_type": "code",
   "execution_count": null,
   "id": "59bbdf79",
   "metadata": {
    "ExecuteTime": {
     "end_time": "2021-06-02T13:15:07.902329Z",
     "start_time": "2021-06-02T13:15:07.899397Z"
    },
    "scrolled": true
   },
   "outputs": [],
   "source": [
    "# check unique values in product category\n",
    "data['product_category'].unique()"
   ]
  },
  {
   "cell_type": "code",
   "execution_count": null,
   "id": "589a93c5",
   "metadata": {
    "ExecuteTime": {
     "end_time": "2021-06-02T13:43:50.679584Z",
     "start_time": "2021-06-02T13:43:50.654217Z"
    },
    "scrolled": true
   },
   "outputs": [],
   "source": [
    "data.info()"
   ]
  },
  {
   "cell_type": "code",
   "execution_count": null,
   "id": "23ce86e3",
   "metadata": {
    "ExecuteTime": {
     "end_time": "2021-06-02T15:17:04.915568Z",
     "start_time": "2021-06-02T15:17:04.911399Z"
    },
    "scrolled": true
   },
   "outputs": [],
   "source": [
    "data['composition'].unique()"
   ]
  },
  {
   "cell_type": "code",
   "execution_count": null,
   "id": "21ea1467",
   "metadata": {
    "ExecuteTime": {
     "end_time": "2021-06-03T01:34:53.603196Z",
     "start_time": "2021-06-03T01:34:53.595164Z"
    }
   },
   "outputs": [],
   "source": [
    "data.columns"
   ]
  },
  {
   "cell_type": "code",
   "execution_count": null,
   "id": "77b6e5b3",
   "metadata": {
    "ExecuteTime": {
     "end_time": "2021-06-07T14:30:24.676240Z",
     "start_time": "2021-06-07T14:30:24.592985Z"
    },
    "scrolled": false
   },
   "outputs": [],
   "source": [
    "data = pd.read_csv( '/home/marxcerqueira/repos/python-ds-ao-dev/products_hm.csv' )\n",
    "data = data.drop(['Unnamed: 0'], axis = 1)\n",
    "data.columns = cols\n",
    "\n",
    "# product id\n",
    "data['product_id'] = data['product_id'].astype(int)\n",
    "\n",
    "# product category\n",
    "data = data.dropna(subset = ['product_category'])\n",
    "# product name\n",
    "data['product_name'] = data['product_name'].apply(lambda x: x.replace(' ', '_').lower())\n",
    " \n",
    "# product price\n",
    "data['product_price'] = data['product_price'].apply(lambda x: x.replace('$ ', '')).astype(float)\n",
    " \n",
    "# scrapy datetime\n",
    "data['scrapy_datetime'] = pd.to_datetime(data['scrapy_datetime'], format = '%Y-%m-%d %H:%M:%S')\n",
    "\n",
    "# style id\n",
    "\n",
    "# color id\n",
    " \n",
    "# color name\n",
    "data['color_name'] = data['color_name'].apply(lambda x: x.replace(' ','_').lower() if pd.notnull(x) else x)\n",
    "\n",
    "# fit\n",
    "data['fit'] = data['fit'].apply(lambda x: x.replace(' ', '_').lower() if pd.notnull(x) else x)\n",
    "\n",
    "# size\n",
    "# data['size_number'] = data['size'].apply(lambda x: re.search(̣'\\d{3}cm', x).group(0) if pd.notnull(x) else x)\n",
    "data['size_number'] = data['size'].apply( lambda x: re.search( '\\d{3}cm', x ).group(0) if pd.notnull( x ) else x )\n",
    "data['size_number'] = data['size_number'].apply(lambda x: re.search('\\d+', x).group(0) if pd.notnull(x) else x)        \n",
    "\n",
    "# size model\n",
    "data['size_model'] = data['size'].str.extract('(\\d+/\\\\d+)')\n",
    "\n",
    "# composition\n",
    "data = data[~data['composition'].str.contains('Pocket lining:', na = False)]\n",
    "data = data[~data['composition'].str.contains('Lining:', na = False)]\n",
    "data = data[~data['composition'].str.contains('Shell:', na = False)]\n",
    "\n",
    "# drop duplicates\n",
    "data = data.drop_duplicates( subset = ['product_id', 'product_category', 'product_name', 'product_price',\n",
    "                                       'scrapy_datetime', 'style_id', 'color_id', 'color_name', 'fit'], keep='last' )\n",
    "\n",
    "# reset index after dropping a row\n",
    "data = data.reset_index(drop = True)\n",
    "\n",
    "#break composition by comma\n",
    "df1 = data['composition'].str.split(',', expand = True)\n",
    "\n",
    "# cottom / polyester / elastano / elasterell\n",
    "df_ref = pd.DataFrame( index = np.arange( len(data) ), columns = ['cotton', 'polyester', 'elastane', 'elasterell'])\n",
    "\n",
    "# cotton\n",
    "df_cotton = df1[0]\n",
    "df_cotton.name = 'cotton'\n",
    "\n",
    "df_ref = pd.concat([df_ref, df_cotton], axis = 1)\n",
    "df_ref = df_ref.iloc[:, ~df_ref.columns.duplicated(keep='last')] #exclue colunas duplicadas, mantem as diferentes\n",
    "df_ref['cotton'] = df_ref['cotton'].fillna('Cotton 0%') \n",
    "\n",
    "# polyester\n",
    "df_polyester = df1.loc[df1[1].str.contains('Polyester', na=True), 1]\n",
    "df_polyester.name = 'polyester'\n",
    "\n",
    "df_ref =pd.concat([df_ref, df_polyester], axis = 1)\n",
    "df_ref = df_ref.iloc[:, ~df_ref.columns.duplicated(keep='last')]\n",
    "df_ref['polyester'] = df_ref['polyester'].fillna('Polyester 0%') \n",
    "\n",
    "\n",
    "# elastane\n",
    "df_elastane = df1.loc[df1[1].str.contains('Elastane', na=True), 1]\n",
    "df_elastane.name = 'elastane'\n",
    "\n",
    "\n",
    "# combine elastane from both columns 1 ans 2\n",
    "df_elastane = df_elastane.combine_first(df1[2])\n",
    "\n",
    "df_ref = pd.concat([df_ref, df_elastane], axis = 1)\n",
    "df_ref = df_ref.iloc[:, ~df_ref.columns.duplicated(keep ='last')]\n",
    "df_ref['elastane'] = df_ref['elastane'].fillna('Elastane 0%') \n",
    "\n",
    "# elasterell\n",
    "df_elasterell = df1.loc[df1[1].str.contains( 'Elasterell', na=True ), 1]\n",
    "df_elasterell.name = 'elasterell'\n",
    "\n",
    "df_ref = pd.concat( [df_ref, df_elasterell], axis=1 )\n",
    "df_ref = df_ref.iloc[:, ~df_ref.columns.duplicated( keep='last') ]\n",
    "df_ref['elasterell'] = df_ref['elasterell'].fillna('Elasterell-P 0%') \n",
    "\n",
    "# final join\n",
    "data = pd.concat([data, df_ref], axis = 1)\n",
    "   \n",
    "# format composition data\n",
    "data['cotton'] = data['cotton'].apply(lambda x: int(re.search('\\d+', x).group(0))/100 if pd.notnull(x) else x)\n",
    "data['polyester'] = data['polyester'].apply( lambda x: int( re.search( '\\d+', x).group(0) ) / 100 if pd.notnull( x ) else x )\n",
    "data['elastane'] = data['elastane'].apply( lambda x: int( re.search( '\\d+', x ).group(0) ) / 100 if pd.notnull( x ) else x )\n",
    "data['elasterell'] = data['elasterell'].apply( lambda x: int( re.search('\\d+',x ).group(0) ) / 100 if pd.notnull( x ) else x )\n",
    "\n",
    "# Drop columns\n",
    "data = data.drop(['size', 'product_safety', 'composition'], axis = 1)\n",
    "\n",
    "# Drop duplicates\n",
    "data = data.drop_duplicates()\n",
    "# data.head()"
   ]
  },
  {
   "cell_type": "code",
   "execution_count": null,
   "id": "88d84f73",
   "metadata": {
    "ExecuteTime": {
     "end_time": "2021-06-07T14:34:19.342080Z",
     "start_time": "2021-06-07T14:34:19.326083Z"
    }
   },
   "outputs": [],
   "source": [
    "# save new raw dataset after cleaning it\n",
    "data.to_csv('products_hm_cleaned.csv')"
   ]
  },
  {
   "cell_type": "code",
   "execution_count": null,
   "id": "254cf7c5",
   "metadata": {
    "ExecuteTime": {
     "end_time": "2021-06-07T15:34:10.367608Z",
     "start_time": "2021-06-07T15:34:10.342927Z"
    },
    "scrolled": true
   },
   "outputs": [],
   "source": [
    "data.head()"
   ]
  },
  {
   "cell_type": "code",
   "execution_count": null,
   "id": "d7c76b0f",
   "metadata": {
    "ExecuteTime": {
     "end_time": "2021-06-07T14:28:18.417520Z",
     "start_time": "2021-06-07T14:28:18.387458Z"
    }
   },
   "outputs": [],
   "source": [
    "data.sample(20)"
   ]
  },
  {
   "cell_type": "code",
   "execution_count": null,
   "id": "fc288ea0",
   "metadata": {
    "ExecuteTime": {
     "end_time": "2021-06-07T14:07:34.781745Z",
     "start_time": "2021-06-07T14:07:34.754413Z"
    }
   },
   "outputs": [],
   "source": [
    "df_polyester.unique()"
   ]
  },
  {
   "cell_type": "code",
   "execution_count": null,
   "id": "3e2e684e",
   "metadata": {
    "ExecuteTime": {
     "end_time": "2021-06-07T14:18:25.223444Z",
     "start_time": "2021-06-07T14:18:25.203474Z"
    }
   },
   "outputs": [],
   "source": [
    "df1.head()"
   ]
  },
  {
   "cell_type": "code",
   "execution_count": null,
   "id": "141357ae",
   "metadata": {
    "ExecuteTime": {
     "end_time": "2021-06-07T14:24:11.633533Z",
     "start_time": "2021-06-07T14:24:11.617197Z"
    }
   },
   "outputs": [],
   "source": [
    "df_ref.isna().sum()"
   ]
  },
  {
   "cell_type": "code",
   "execution_count": null,
   "id": "04eaeae4",
   "metadata": {
    "ExecuteTime": {
     "end_time": "2021-06-07T14:21:32.423108Z",
     "start_time": "2021-06-07T14:21:32.414811Z"
    }
   },
   "outputs": [],
   "source": [
    "df_elastane.unique()"
   ]
  },
  {
   "cell_type": "code",
   "execution_count": null,
   "id": "3bfcf456",
   "metadata": {
    "ExecuteTime": {
     "end_time": "2021-06-07T14:21:52.680439Z",
     "start_time": "2021-06-07T14:21:52.665401Z"
    }
   },
   "outputs": [],
   "source": [
    "df_elastane[df_elastane.isna()]"
   ]
  },
  {
   "cell_type": "code",
   "execution_count": null,
   "id": "381f2212",
   "metadata": {
    "ExecuteTime": {
     "end_time": "2021-06-03T01:50:51.161320Z",
     "start_time": "2021-06-03T01:50:51.138328Z"
    },
    "scrolled": false
   },
   "outputs": [],
   "source": [
    "data.head(20)"
   ]
  },
  {
   "cell_type": "code",
   "execution_count": null,
   "id": "737afa47",
   "metadata": {
    "ExecuteTime": {
     "end_time": "2021-06-03T01:09:08.420649Z",
     "start_time": "2021-06-03T01:09:08.413701Z"
    },
    "scrolled": true
   },
   "outputs": [],
   "source": [
    "data.shape"
   ]
  },
  {
   "cell_type": "code",
   "execution_count": null,
   "id": "366c400b",
   "metadata": {
    "ExecuteTime": {
     "end_time": "2021-06-03T01:09:11.959660Z",
     "start_time": "2021-06-03T01:09:11.945359Z"
    },
    "scrolled": true
   },
   "outputs": [],
   "source": [
    "df_aux = data[data['product_id'] == 720504001].sort_values('color_name')\n",
    "\n",
    "df_aux.shape"
   ]
  },
  {
   "cell_type": "code",
   "execution_count": null,
   "id": "8bf07e43",
   "metadata": {
    "ExecuteTime": {
     "end_time": "2021-06-03T01:06:46.675634Z",
     "start_time": "2021-06-03T01:06:46.670629Z"
    }
   },
   "outputs": [],
   "source": [
    "# verificando quantidade de cores unicas, provavelmente a granularidade será por cor. \n",
    "# Temos 9 cores mas 30 itens, provavelmente duplicados\n",
    "df_aux.apply(lambda x: len(x.unique()))"
   ]
  },
  {
   "cell_type": "code",
   "execution_count": null,
   "id": "18a12e0c",
   "metadata": {
    "ExecuteTime": {
     "end_time": "2021-06-03T01:51:01.032857Z",
     "start_time": "2021-06-03T01:51:01.022620Z"
    }
   },
   "outputs": [],
   "source": [
    "df1.head(50)"
   ]
  },
  {
   "cell_type": "code",
   "execution_count": null,
   "id": "54520a4a",
   "metadata": {
    "ExecuteTime": {
     "end_time": "2021-06-03T01:51:27.362138Z",
     "start_time": "2021-06-03T01:51:27.350712Z"
    }
   },
   "outputs": [],
   "source": [
    "df_ref.isna().sum()"
   ]
  },
  {
   "cell_type": "code",
   "execution_count": null,
   "id": "68383cbd",
   "metadata": {
    "ExecuteTime": {
     "end_time": "2021-06-03T01:14:44.099161Z",
     "start_time": "2021-06-03T01:14:44.088500Z"
    }
   },
   "outputs": [],
   "source": [
    "df1[0].unique()"
   ]
  },
  {
   "cell_type": "code",
   "execution_count": null,
   "id": "dd7dbbba",
   "metadata": {
    "ExecuteTime": {
     "end_time": "2021-06-03T01:14:54.440148Z",
     "start_time": "2021-06-03T01:14:54.429559Z"
    }
   },
   "outputs": [],
   "source": [
    "df1[1].unique()"
   ]
  },
  {
   "cell_type": "code",
   "execution_count": null,
   "id": "8b9af7c9",
   "metadata": {
    "ExecuteTime": {
     "end_time": "2021-06-03T01:31:16.275303Z",
     "start_time": "2021-06-03T01:31:16.269943Z"
    }
   },
   "outputs": [],
   "source": [
    "#checkin Na rows position\n",
    "df1[df1[0].isna()]"
   ]
  },
  {
   "cell_type": "code",
   "execution_count": null,
   "id": "31c1333e",
   "metadata": {
    "ExecuteTime": {
     "end_time": "2021-06-03T01:31:53.170418Z",
     "start_time": "2021-06-03T01:31:53.162005Z"
    }
   },
   "outputs": [],
   "source": [
    "df1[0].unique()"
   ]
  },
  {
   "cell_type": "code",
   "execution_count": null,
   "id": "5181054e",
   "metadata": {
    "ExecuteTime": {
     "end_time": "2021-06-03T01:32:57.055681Z",
     "start_time": "2021-06-03T01:32:57.043900Z"
    }
   },
   "outputs": [],
   "source": [
    "data.loc[475, :]"
   ]
  },
  {
   "cell_type": "code",
   "execution_count": null,
   "id": "9fdbee5e",
   "metadata": {
    "ExecuteTime": {
     "end_time": "2021-06-03T01:33:12.185137Z",
     "start_time": "2021-06-03T01:33:12.154362Z"
    }
   },
   "outputs": [],
   "source": [
    "data[data['product_id'] == 753512001].head()"
   ]
  },
  {
   "cell_type": "code",
   "execution_count": null,
   "id": "452c153d",
   "metadata": {},
   "outputs": [],
   "source": []
  }
 ],
 "metadata": {
  "kernelspec": {
   "display_name": "Python 3",
   "language": "python",
   "name": "python3"
  },
  "language_info": {
   "codemirror_mode": {
    "name": "ipython",
    "version": 3
   },
   "file_extension": ".py",
   "mimetype": "text/x-python",
   "name": "python",
   "nbconvert_exporter": "python",
   "pygments_lexer": "ipython3",
   "version": "3.9.1"
  },
  "toc": {
   "base_numbering": 1,
   "nav_menu": {},
   "number_sections": true,
   "sideBar": true,
   "skip_h1_title": false,
   "title_cell": "Table of Contents",
   "title_sidebar": "Contents",
   "toc_cell": false,
   "toc_position": {},
   "toc_section_display": true,
   "toc_window_display": false
  }
 },
 "nbformat": 4,
 "nbformat_minor": 5
}
