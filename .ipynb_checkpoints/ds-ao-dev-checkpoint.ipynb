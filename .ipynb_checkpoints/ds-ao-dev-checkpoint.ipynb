{
 "cells": [
  {
   "cell_type": "markdown",
   "id": "932442ec",
   "metadata": {},
   "source": [
    "# Python DS-ao-Dev"
   ]
  },
  {
   "cell_type": "markdown",
   "id": "b09cf467",
   "metadata": {
    "heading_collapsed": true
   },
   "source": [
    "## Bussiness Problem"
   ]
  },
  {
   "cell_type": "markdown",
   "id": "de93f19c",
   "metadata": {
    "hidden": true
   },
   "source": [
    "**Star Jeans Company**\n",
    "\n",
    "- Eduardo e Marcelo são dois brasileiros, amigos e sócios de empreendimento. Depois de vários negócio bem sucedidos, eles estão planejando entrar no mercado de moda dos USA como um modelo de negócio do tipo E-commerce.\n",
    "\n",
    "- A idéia inicial é entrar no mercado com apenas um produto e para um público específico, no caso o produto seria calças Jenas para o público masculino. O objetivo é manter o custo de operação baixo e escalar a medida que forem conseguindo clientes.\n",
    "\n",
    "- Porém, mesmo com o produto de entrada e a audiência definidos, os dois sócios não tem experiência nesse mercado de moda e portanto não sabem definir coisas básicas como preço, o tipo de calça e o material para a fabricação de cada peça.\n",
    "\n",
    "- Assim, os dois sócios contrataram uma consultoria de Ciência de Dados para responder as seguintes perguntas: ]\n",
    "    1. Qual o melhor preço de venda para as calças? \n",
    "    2. Quantos tipos de calças e suas cores para o produto inicial? \n",
    "    3. Quais as matérias-prima necessárias para confeccionar as calças?\n",
    "    \n",
    "- As principais concorrentes da empresa Start Jeans são as americadas H&M e Macys."
   ]
  },
  {
   "cell_type": "markdown",
   "id": "ced630a8",
   "metadata": {
    "heading_collapsed": true
   },
   "source": [
    "## Solution Planning (Input-Output-Tasks)"
   ]
  },
  {
   "cell_type": "markdown",
   "id": "6f0b273c",
   "metadata": {
    "hidden": true
   },
   "source": [
    "**Bussiness Question**\n",
    "\n",
    "- Which is the best price for jeans?\n",
    "\n",
    "1. Input:\n",
    "    1. Fonte de dados\n",
    "        - Site da H&M: https://www2.hm.com/en_us/men/products/jeans.html\n",
    "        - Site da Macys: https://www.macys.com/shop/mens-clothing/mens-jeans\n",
    "    2. Ferramentas\n",
    "        - Python 3.8.0\n",
    "        - Bibliotecas de Webscrapping ( BS4, Selenium )\n",
    "        - PyCharm\n",
    "        - Jupyter Notebook ( Analise e prototipagens )\n",
    "        - Crontjob, Airflow\n",
    "        - Streamlit\n",
    "    \n",
    "2. Output:\n",
    "    1. A resposta para a pergunta.\n",
    "        - Mediana dos preços dos concorrents.\n",
    "    2. Formato da entrega\n",
    "        - Tabela ou gráfico\n",
    "    3. Local da entrega\n",
    "        - App Streamlit\n",
    "    \n",
    "3. Tasks:\n",
    "    1. Passo a passso para construir o cálculo da mediana ou média\n",
    "        - Realizar o calculo da mediana sobre o produto, tipo e cor\n",
    "    2. Definir o formato da entrega ( Visualização, Tabela, Frase )\n",
    "        - Gráfico de barras com a mediana dos preço dos produtos, por tipo e cor dos últimos 30 dia\n",
    "        - Tabela com as seguintes colunas: id | product_name | product_type | product_color | produ\n",
    "        - Definição do schema: Colunas e seu tipo\n",
    "        - Definição a infraestrutura de armazenamento ( SQLITE3 )\n",
    "        - Design do ETL ( Scripts de Extração, Transformação e Carga )\n",
    "        - Planejamento de Agendamento dos scripts ( dependencias entre os scripts )\n",
    "        - Fazer as visualizações\n",
    "        - Entrega do produto final\n",
    "    3. Decidir o local de entrega ( PowerBi, Telegram, Email, Streamlit, Intranet ),\n",
    "        - App com Streamlit"
   ]
  },
  {
   "cell_type": "markdown",
   "id": "59cf7cf1",
   "metadata": {
    "heading_collapsed": true
   },
   "source": [
    "## Bussiness Models"
   ]
  },
  {
   "cell_type": "markdown",
   "id": "f41a62ba",
   "metadata": {
    "hidden": true
   },
   "source": [
    "“Como você planeja ganhar dinheiro”, Michael Lewis\n",
    "\n",
    "“Um modelo de negócio descreve a lógica de criação, entrega e captura de valor por\n",
    "parte de uma organização”, Alexander Osterwalder"
   ]
  },
  {
   "cell_type": "markdown",
   "id": "25000fe7",
   "metadata": {
    "hidden": true
   },
   "source": [
    "- E-commerce:\n",
    "    1. Faturamento: Vendas de um produto.\n",
    "    2. Exemplo: Lojas Riachuelo, Submarino, Magazine Luiza, etc\n",
    "        \n",
    "- Software AS a Service ( SaaS ):\n",
    "    1. Faturamento: Assinatura mensal/anual de utilização ou por usuário.\n",
    "    2. Exemplo: Looker, Asana, Gmail, Salesforce.\n",
    "    \n",
    "- Serviço:\n",
    "    1. Faturamento: Prestação de serviço por tempo ou projeto.\n",
    "    2. Exemplo: Sul América, Porto Seguro, Mapfre.\n",
    "    \n",
    "- Mobile App:\n",
    "    1. Faturamento: Venda de upgrades.\n",
    "    2. Exemplo: Wildlife, Ubisoft, Games Mobile.\n",
    "    \n",
    "- Media Site:\n",
    "    1. Faturamento: Cobrança por clicks ou visualizações de um determinado anúncio.\n",
    "    2. Exemplo: Facebook, Google, UOL, G1, etc.\n",
    "    \n",
    "- Marketplace:\n",
    "    1. Faturamento: Taxa sobre a transação entre o passageiro e o motorista.\n",
    "    2. Exemplo: Uber, Ifood, 99, Elo7, Submarino."
   ]
  },
  {
   "cell_type": "markdown",
   "id": "0d5df70f",
   "metadata": {
    "heading_collapsed": true
   },
   "source": [
    "## E-commerce Metrics"
   ]
  },
  {
   "cell_type": "markdown",
   "id": "801068cb",
   "metadata": {
    "hidden": true
   },
   "source": [
    "- **Growth Metrics**:\n",
    "    1. Porcentagem do Marketshare\n",
    "    2. Número de Clientes Novos\n",
    "- **Revenue Metrics**:\n",
    "    1. Número de Vendas\n",
    "    2. Ticket Médio\n",
    "    3. LTV ( Long Time Value )\n",
    "    4. Recência Média\n",
    "    5. Basket Size Médio\n",
    "    6. Markup médio\n",
    "- **Cost Metrics**:\n",
    "    1. CAC ( Custo de aquisição de Clientes )\n",
    "    2. Desconto médio\n",
    "    3. Custo de Produção\n",
    "    4. Taxa de devolução\n",
    "    5. Custos Fixos ( Folha de pagamento, escritório, softwares )\n",
    "    6. Impostos"
   ]
  },
  {
   "cell_type": "code",
   "execution_count": null,
   "id": "0a9bc66b",
   "metadata": {
    "ExecuteTime": {
     "end_time": "2021-05-31T22:36:59.111827Z",
     "start_time": "2021-05-31T22:36:59.090500Z"
    },
    "hidden": true
   },
   "outputs": [],
   "source": [
    "from IPython.display import Image\n",
    "Image(filename='/home/marxcerqueira/repos/Data-Science-Projects/pa005_insiders_clustering/pa005_marx_cerqueira/reports/figures/mapa_metricas_e_commerce.png')"
   ]
  },
  {
   "cell_type": "markdown",
   "id": "771623b6",
   "metadata": {},
   "source": [
    "# Imports"
   ]
  },
  {
   "cell_type": "code",
   "execution_count": 1,
   "id": "56ce2616",
   "metadata": {
    "ExecuteTime": {
     "end_time": "2021-06-01T11:40:59.024470Z",
     "start_time": "2021-06-01T11:40:58.539393Z"
    }
   },
   "outputs": [],
   "source": [
    "import pandas as pd\n",
    "import numpy as np\n",
    "\n",
    "from datetime import datetime\n",
    "\n",
    "from bs4 import BeautifulSoup\n",
    "import requests"
   ]
  },
  {
   "cell_type": "markdown",
   "id": "2f8e35db",
   "metadata": {},
   "source": [
    "# Loading Data (Web Scrapping)"
   ]
  },
  {
   "cell_type": "markdown",
   "id": "b4d7a012",
   "metadata": {},
   "source": [
    "## Beautiful Soup - Pratica I"
   ]
  },
  {
   "cell_type": "code",
   "execution_count": null,
   "id": "a49dd108",
   "metadata": {
    "ExecuteTime": {
     "end_time": "2021-05-31T13:01:39.367511Z",
     "start_time": "2021-05-31T13:01:39.365863Z"
    }
   },
   "outputs": [],
   "source": [
    "# Preciso extrair\n",
    "# id\n",
    "# product_name\n",
    "# product_type\n",
    "# product_color\n",
    "# composition\n",
    "# priceb"
   ]
  },
  {
   "cell_type": "code",
   "execution_count": 17,
   "id": "97e9d582",
   "metadata": {
    "ExecuteTime": {
     "end_time": "2021-06-01T11:57:01.865956Z",
     "start_time": "2021-06-01T11:57:00.386619Z"
    }
   },
   "outputs": [],
   "source": [
    "url = 'https://www2.hm.com/en_us/men/products/jeans.html'\n",
    "\n",
    "headers = {'user-agent': 'my-app/0.0.1'}\n",
    "\n",
    "page = requests.get(url, headers = headers)"
   ]
  },
  {
   "cell_type": "code",
   "execution_count": 18,
   "id": "e3da551a",
   "metadata": {
    "ExecuteTime": {
     "end_time": "2021-06-01T11:57:03.188572Z",
     "start_time": "2021-06-01T11:57:03.057398Z"
    }
   },
   "outputs": [],
   "source": [
    "soup = BeautifulSoup(page.text, 'html.parser')"
   ]
  },
  {
   "cell_type": "code",
   "execution_count": 19,
   "id": "b16079e3",
   "metadata": {
    "ExecuteTime": {
     "end_time": "2021-06-01T11:57:04.123139Z",
     "start_time": "2021-06-01T11:57:04.117246Z"
    }
   },
   "outputs": [],
   "source": [
    "products = soup.find('ul', class_= 'products-listing small')"
   ]
  },
  {
   "cell_type": "code",
   "execution_count": 20,
   "id": "2f26fe34",
   "metadata": {
    "ExecuteTime": {
     "end_time": "2021-06-01T11:57:05.036494Z",
     "start_time": "2021-06-01T11:57:05.029836Z"
    },
    "scrolled": true
   },
   "outputs": [
    {
     "data": {
      "text/plain": [
       "36"
      ]
     },
     "execution_count": 20,
     "metadata": {},
     "output_type": "execute_result"
    }
   ],
   "source": [
    "product_list = products.find_all('article', class_= 'hm-product-item')\n",
    "len(product_list)"
   ]
  },
  {
   "cell_type": "code",
   "execution_count": 21,
   "id": "7e69c10d",
   "metadata": {
    "ExecuteTime": {
     "end_time": "2021-06-01T11:57:08.667547Z",
     "start_time": "2021-06-01T11:57:08.659379Z"
    }
   },
   "outputs": [
    {
     "data": {
      "text/plain": [
       "'0636207010'"
      ]
     },
     "execution_count": 21,
     "metadata": {},
     "output_type": "execute_result"
    }
   ],
   "source": [
    "#teste product_id\n",
    "product_list[4].get('data-articlecode')"
   ]
  },
  {
   "cell_type": "code",
   "execution_count": null,
   "id": "a50a7447",
   "metadata": {
    "ExecuteTime": {
     "end_time": "2021-05-31T13:53:15.330067Z",
     "start_time": "2021-05-31T13:53:15.317419Z"
    }
   },
   "outputs": [],
   "source": []
  },
  {
   "cell_type": "code",
   "execution_count": null,
   "id": "518c254f",
   "metadata": {
    "ExecuteTime": {
     "end_time": "2021-05-31T13:53:19.028332Z",
     "start_time": "2021-05-31T13:53:19.025720Z"
    }
   },
   "outputs": [],
   "source": [
    "product_list"
   ]
  },
  {
   "cell_type": "code",
   "execution_count": 22,
   "id": "dbeb1050",
   "metadata": {
    "ExecuteTime": {
     "end_time": "2021-06-01T11:57:11.651091Z",
     "start_time": "2021-06-01T11:57:11.647553Z"
    }
   },
   "outputs": [],
   "source": [
    "product_list = products.find_all('article', class_ = 'hm-product-item')\n",
    "\n",
    "# product id\n",
    "product_id = [p.get('data-articlecode') for p in product_list]\n",
    "\n",
    "# product_category\n",
    "product_category = [p.get('data-category') for p in product_list]"
   ]
  },
  {
   "cell_type": "code",
   "execution_count": 23,
   "id": "eacda31d",
   "metadata": {
    "ExecuteTime": {
     "end_time": "2021-06-01T11:57:23.005321Z",
     "start_time": "2021-06-01T11:57:22.998154Z"
    }
   },
   "outputs": [],
   "source": [
    "# product name\n",
    "product_list = products.find_all('a', class_ = 'link')\n",
    "product_name = [p.get_text() for p in product_list]"
   ]
  },
  {
   "cell_type": "code",
   "execution_count": 24,
   "id": "0cfd5aa5",
   "metadata": {
    "ExecuteTime": {
     "end_time": "2021-06-01T11:57:24.830473Z",
     "start_time": "2021-06-01T11:57:24.827001Z"
    }
   },
   "outputs": [],
   "source": [
    "#price\n",
    "product_list = products.find_all('span', class_ = 'price regular')\n",
    "product_price = [p.get_text() for p in product_list]"
   ]
  },
  {
   "cell_type": "code",
   "execution_count": null,
   "id": "90a63aa3",
   "metadata": {
    "ExecuteTime": {
     "end_time": "2021-05-31T13:58:33.423541Z",
     "start_time": "2021-05-31T13:58:33.419722Z"
    }
   },
   "outputs": [],
   "source": [
    "# product color"
   ]
  },
  {
   "cell_type": "code",
   "execution_count": null,
   "id": "0cec94af",
   "metadata": {
    "ExecuteTime": {
     "end_time": "2021-05-31T13:58:38.905585Z",
     "start_time": "2021-05-31T13:58:38.901422Z"
    }
   },
   "outputs": [],
   "source": [
    "# product composition"
   ]
  },
  {
   "cell_type": "code",
   "execution_count": 25,
   "id": "35887e18",
   "metadata": {
    "ExecuteTime": {
     "end_time": "2021-06-01T11:57:37.333220Z",
     "start_time": "2021-06-01T11:57:37.327837Z"
    }
   },
   "outputs": [],
   "source": [
    "data = pd.DataFrame([product_id, product_category, product_name, product_price]).T\n",
    "data.columns = ['product_id', 'product_category', 'product_name', 'product_price']\n",
    "\n",
    "# scrapy time\n",
    "data['scrapy_datetime'] = datetime.now().strftime('%Y-%m-%d %H:%M:%S')"
   ]
  },
  {
   "cell_type": "code",
   "execution_count": 26,
   "id": "230f6786",
   "metadata": {
    "ExecuteTime": {
     "end_time": "2021-06-01T11:57:38.933237Z",
     "start_time": "2021-06-01T11:57:38.927142Z"
    }
   },
   "outputs": [
    {
     "data": {
      "text/html": [
       "<div>\n",
       "<style scoped>\n",
       "    .dataframe tbody tr th:only-of-type {\n",
       "        vertical-align: middle;\n",
       "    }\n",
       "\n",
       "    .dataframe tbody tr th {\n",
       "        vertical-align: top;\n",
       "    }\n",
       "\n",
       "    .dataframe thead th {\n",
       "        text-align: right;\n",
       "    }\n",
       "</style>\n",
       "<table border=\"1\" class=\"dataframe\">\n",
       "  <thead>\n",
       "    <tr style=\"text-align: right;\">\n",
       "      <th></th>\n",
       "      <th>product_id</th>\n",
       "      <th>product_category</th>\n",
       "      <th>product_name</th>\n",
       "      <th>product_price</th>\n",
       "      <th>scrapy_datetime</th>\n",
       "    </tr>\n",
       "  </thead>\n",
       "  <tbody>\n",
       "    <tr>\n",
       "      <th>0</th>\n",
       "      <td>0690449022</td>\n",
       "      <td>men_jeans_skinny</td>\n",
       "      <td>Skinny Jeans</td>\n",
       "      <td>$ 39.99</td>\n",
       "      <td>2021-06-01 08:57:37</td>\n",
       "    </tr>\n",
       "    <tr>\n",
       "      <th>1</th>\n",
       "      <td>0636207006</td>\n",
       "      <td>men_jeans_slim</td>\n",
       "      <td>Slim Jeans</td>\n",
       "      <td>$ 19.99</td>\n",
       "      <td>2021-06-01 08:57:37</td>\n",
       "    </tr>\n",
       "    <tr>\n",
       "      <th>2</th>\n",
       "      <td>0427159006</td>\n",
       "      <td>men_jeans_skinny</td>\n",
       "      <td>Trashed Skinny Jeans</td>\n",
       "      <td>$ 39.99</td>\n",
       "      <td>2021-06-01 08:57:37</td>\n",
       "    </tr>\n",
       "    <tr>\n",
       "      <th>3</th>\n",
       "      <td>0730863005</td>\n",
       "      <td>men_jeans_skinny</td>\n",
       "      <td>Skinny Jeans</td>\n",
       "      <td>$ 29.99</td>\n",
       "      <td>2021-06-01 08:57:37</td>\n",
       "    </tr>\n",
       "    <tr>\n",
       "      <th>4</th>\n",
       "      <td>0636207010</td>\n",
       "      <td>men_jeans_slim</td>\n",
       "      <td>Slim Jeans</td>\n",
       "      <td>$ 19.99</td>\n",
       "      <td>2021-06-01 08:57:37</td>\n",
       "    </tr>\n",
       "  </tbody>\n",
       "</table>\n",
       "</div>"
      ],
      "text/plain": [
       "   product_id  product_category          product_name product_price  \\\n",
       "0  0690449022  men_jeans_skinny          Skinny Jeans       $ 39.99   \n",
       "1  0636207006    men_jeans_slim            Slim Jeans       $ 19.99   \n",
       "2  0427159006  men_jeans_skinny  Trashed Skinny Jeans       $ 39.99   \n",
       "3  0730863005  men_jeans_skinny          Skinny Jeans       $ 29.99   \n",
       "4  0636207010    men_jeans_slim            Slim Jeans       $ 19.99   \n",
       "\n",
       "       scrapy_datetime  \n",
       "0  2021-06-01 08:57:37  \n",
       "1  2021-06-01 08:57:37  \n",
       "2  2021-06-01 08:57:37  \n",
       "3  2021-06-01 08:57:37  \n",
       "4  2021-06-01 08:57:37  "
      ]
     },
     "execution_count": 26,
     "metadata": {},
     "output_type": "execute_result"
    }
   ],
   "source": [
    "data.head()"
   ]
  },
  {
   "cell_type": "markdown",
   "id": "f29e1420",
   "metadata": {
    "heading_collapsed": true
   },
   "source": [
    "## Beautiful Soup - Pratica II"
   ]
  },
  {
   "cell_type": "code",
   "execution_count": null,
   "id": "34151350",
   "metadata": {
    "ExecuteTime": {
     "end_time": "2021-05-31T22:39:48.895952Z",
     "start_time": "2021-05-31T22:39:48.800442Z"
    },
    "hidden": true
   },
   "outputs": [],
   "source": [
    "url = 'https://www2.hm.com/en_us/men/products/jeans.html'\n",
    "\n",
    "headers = {'user-agent': 'my-app/0.0.1'}\n",
    "\n",
    "page = requests.get(url, headers = headers)"
   ]
  },
  {
   "cell_type": "code",
   "execution_count": null,
   "id": "c1d5d36c",
   "metadata": {
    "ExecuteTime": {
     "end_time": "2021-05-31T22:39:50.618866Z",
     "start_time": "2021-05-31T22:39:50.497691Z"
    },
    "hidden": true
   },
   "outputs": [],
   "source": [
    "soup = BeautifulSoup(page.text, 'html.parser')"
   ]
  },
  {
   "cell_type": "code",
   "execution_count": null,
   "id": "ec5188c2",
   "metadata": {
    "ExecuteTime": {
     "end_time": "2021-05-31T22:39:52.032366Z",
     "start_time": "2021-05-31T22:39:52.021549Z"
    },
    "hidden": true,
    "scrolled": true
   },
   "outputs": [],
   "source": [
    "# get all the items\n",
    "total_item = soup.find_all('h2', class_ = 'load-more-heading')[0].get('data-total')\n",
    "total_item"
   ]
  },
  {
   "cell_type": "code",
   "execution_count": null,
   "id": "6cb3b3ff",
   "metadata": {
    "ExecuteTime": {
     "end_time": "2021-05-31T22:39:53.926596Z",
     "start_time": "2021-05-31T22:39:53.913512Z"
    },
    "hidden": true
   },
   "outputs": [],
   "source": [
    "# get the page number (paginação)\n",
    "page_number = np.ceil(int(total_item)/36) #np.ceil rounds up the number\n",
    "page_number"
   ]
  },
  {
   "cell_type": "code",
   "execution_count": null,
   "id": "87dadc67",
   "metadata": {
    "ExecuteTime": {
     "end_time": "2021-05-31T22:39:55.243047Z",
     "start_time": "2021-05-31T22:39:55.240322Z"
    },
    "hidden": true
   },
   "outputs": [],
   "source": [
    "url02 = url + '?page-size=' + str(int(page_number*36))\n",
    "url02"
   ]
  },
  {
   "cell_type": "markdown",
   "id": "d74f056b",
   "metadata": {},
   "source": [
    "## Beautiful Soup - Pratica III"
   ]
  },
  {
   "cell_type": "markdown",
   "id": "a753b813",
   "metadata": {},
   "source": [
    "### One product"
   ]
  },
  {
   "cell_type": "code",
   "execution_count": 27,
   "id": "8ceae234",
   "metadata": {
    "ExecuteTime": {
     "end_time": "2021-06-01T11:58:06.581450Z",
     "start_time": "2021-06-01T11:58:05.879058Z"
    }
   },
   "outputs": [],
   "source": [
    "url = 'https://www2.hm.com/en_us/productpage.0636207010.html'\n",
    "\n",
    "headers = {'user-agent': 'my-app/0.0.1'}\n",
    "\n",
    "page = requests.get(url, headers = headers)"
   ]
  },
  {
   "cell_type": "code",
   "execution_count": 28,
   "id": "a00d8413",
   "metadata": {
    "ExecuteTime": {
     "end_time": "2021-06-01T11:58:08.120312Z",
     "start_time": "2021-06-01T11:58:08.049903Z"
    }
   },
   "outputs": [],
   "source": [
    "soup = BeautifulSoup(page.text, 'html.parser')"
   ]
  },
  {
   "cell_type": "code",
   "execution_count": 29,
   "id": "99489f66",
   "metadata": {
    "ExecuteTime": {
     "end_time": "2021-06-01T11:58:10.838176Z",
     "start_time": "2021-06-01T11:58:10.827922Z"
    }
   },
   "outputs": [],
   "source": [
    "# color name\n",
    "product_list = soup.find_all( 'a', class_='filter-option miniature' )\n",
    "color_name = [p.get( 'data-color' ) for p in product_list]\n",
    "\n",
    "# product id\n",
    "product_id = [p.get( 'data-articlecode' ) for p in product_list]\n",
    "\n",
    "df_color = pd.DataFrame( [product_id, color_name] ).T\n",
    "df_color.columns = ['product_id', 'color_name']\n",
    "\n",
    "# generate style id + color id\n",
    "df_color['style_id'] = df_color['product_id'].apply( lambda x: x[:-3] )\n",
    "df_color['color_id'] = df_color['product_id'].apply( lambda x: x[-3:] )"
   ]
  },
  {
   "cell_type": "code",
   "execution_count": 30,
   "id": "f631deeb",
   "metadata": {
    "ExecuteTime": {
     "end_time": "2021-06-01T11:58:12.628838Z",
     "start_time": "2021-06-01T11:58:12.622781Z"
    }
   },
   "outputs": [
    {
     "data": {
      "text/html": [
       "<div>\n",
       "<style scoped>\n",
       "    .dataframe tbody tr th:only-of-type {\n",
       "        vertical-align: middle;\n",
       "    }\n",
       "\n",
       "    .dataframe tbody tr th {\n",
       "        vertical-align: top;\n",
       "    }\n",
       "\n",
       "    .dataframe thead th {\n",
       "        text-align: right;\n",
       "    }\n",
       "</style>\n",
       "<table border=\"1\" class=\"dataframe\">\n",
       "  <thead>\n",
       "    <tr style=\"text-align: right;\">\n",
       "      <th></th>\n",
       "      <th>product_id</th>\n",
       "      <th>color_name</th>\n",
       "      <th>style_id</th>\n",
       "      <th>color_id</th>\n",
       "    </tr>\n",
       "  </thead>\n",
       "  <tbody>\n",
       "    <tr>\n",
       "      <th>0</th>\n",
       "      <td>0636207001</td>\n",
       "      <td>Dark denim blue</td>\n",
       "      <td>0636207</td>\n",
       "      <td>001</td>\n",
       "    </tr>\n",
       "    <tr>\n",
       "      <th>1</th>\n",
       "      <td>0636207002</td>\n",
       "      <td>Dark gray denim</td>\n",
       "      <td>0636207</td>\n",
       "      <td>002</td>\n",
       "    </tr>\n",
       "    <tr>\n",
       "      <th>2</th>\n",
       "      <td>0636207004</td>\n",
       "      <td>Denim blue</td>\n",
       "      <td>0636207</td>\n",
       "      <td>004</td>\n",
       "    </tr>\n",
       "    <tr>\n",
       "      <th>3</th>\n",
       "      <td>0636207005</td>\n",
       "      <td>Gray</td>\n",
       "      <td>0636207</td>\n",
       "      <td>005</td>\n",
       "    </tr>\n",
       "    <tr>\n",
       "      <th>4</th>\n",
       "      <td>0636207006</td>\n",
       "      <td>Black</td>\n",
       "      <td>0636207</td>\n",
       "      <td>006</td>\n",
       "    </tr>\n",
       "    <tr>\n",
       "      <th>5</th>\n",
       "      <td>0636207011</td>\n",
       "      <td>Midnight blue</td>\n",
       "      <td>0636207</td>\n",
       "      <td>011</td>\n",
       "    </tr>\n",
       "    <tr>\n",
       "      <th>6</th>\n",
       "      <td>0636207014</td>\n",
       "      <td>Dark gray</td>\n",
       "      <td>0636207</td>\n",
       "      <td>014</td>\n",
       "    </tr>\n",
       "    <tr>\n",
       "      <th>7</th>\n",
       "      <td>0636207015</td>\n",
       "      <td>Denim blue</td>\n",
       "      <td>0636207</td>\n",
       "      <td>015</td>\n",
       "    </tr>\n",
       "    <tr>\n",
       "      <th>8</th>\n",
       "      <td>0636207017</td>\n",
       "      <td>White</td>\n",
       "      <td>0636207</td>\n",
       "      <td>017</td>\n",
       "    </tr>\n",
       "    <tr>\n",
       "      <th>9</th>\n",
       "      <td>0636207019</td>\n",
       "      <td>Pale denim blue</td>\n",
       "      <td>0636207</td>\n",
       "      <td>019</td>\n",
       "    </tr>\n",
       "  </tbody>\n",
       "</table>\n",
       "</div>"
      ],
      "text/plain": [
       "   product_id       color_name style_id color_id\n",
       "0  0636207001  Dark denim blue  0636207      001\n",
       "1  0636207002  Dark gray denim  0636207      002\n",
       "2  0636207004       Denim blue  0636207      004\n",
       "3  0636207005             Gray  0636207      005\n",
       "4  0636207006            Black  0636207      006\n",
       "5  0636207011    Midnight blue  0636207      011\n",
       "6  0636207014        Dark gray  0636207      014\n",
       "7  0636207015       Denim blue  0636207      015\n",
       "8  0636207017            White  0636207      017\n",
       "9  0636207019  Pale denim blue  0636207      019"
      ]
     },
     "execution_count": 30,
     "metadata": {},
     "output_type": "execute_result"
    }
   ],
   "source": [
    "df_color"
   ]
  },
  {
   "cell_type": "code",
   "execution_count": 31,
   "id": "4a0f2ccf",
   "metadata": {
    "ExecuteTime": {
     "end_time": "2021-06-01T11:58:16.280087Z",
     "start_time": "2021-06-01T11:58:16.267992Z"
    }
   },
   "outputs": [],
   "source": [
    "# composition\n",
    "product_composition_list = soup.find_all( 'div', class_='pdp-description-list-item' )\n",
    "product_composition = [list( filter( None, p.get_text().split( '\\n' ) ) ) for p in product_composition_list]\n",
    "\n",
    "# rename dataframe\n",
    "df_composition = pd.DataFrame(product_composition).T\n",
    "df_composition.columns = df_composition.iloc[0]\n",
    "\n",
    "# delete first row\n",
    "df_composition = df_composition.iloc[1:].fillna(method = 'ffill')\n",
    "\n",
    "# generate style id + color id\n",
    "df_composition['style_id'] = df_composition['Art. No.'].apply(lambda x: x[:-3])\n",
    "df_composition['color_id'] = df_composition['Art. No.'].apply(lambda x: x[-3:])\n",
    "\n",
    "# merge data color + composition\n",
    "\n",
    "data_sku = pd.merge( df_color, df_composition[['style_id', 'Fit', 'Composition']], how = 'left', on = 'style_id')"
   ]
  },
  {
   "cell_type": "code",
   "execution_count": 38,
   "id": "d7dfbaeb",
   "metadata": {
    "ExecuteTime": {
     "end_time": "2021-06-01T12:16:58.904647Z",
     "start_time": "2021-06-01T12:16:58.898960Z"
    }
   },
   "outputs": [
    {
     "data": {
      "text/html": [
       "<div>\n",
       "<style scoped>\n",
       "    .dataframe tbody tr th:only-of-type {\n",
       "        vertical-align: middle;\n",
       "    }\n",
       "\n",
       "    .dataframe tbody tr th {\n",
       "        vertical-align: top;\n",
       "    }\n",
       "\n",
       "    .dataframe thead th {\n",
       "        text-align: right;\n",
       "    }\n",
       "</style>\n",
       "<table border=\"1\" class=\"dataframe\">\n",
       "  <thead>\n",
       "    <tr style=\"text-align: right;\">\n",
       "      <th></th>\n",
       "      <th>Fit</th>\n",
       "      <th>Composition</th>\n",
       "      <th>Art. No.</th>\n",
       "      <th>style_id</th>\n",
       "      <th>color_id</th>\n",
       "    </tr>\n",
       "  </thead>\n",
       "  <tbody>\n",
       "    <tr>\n",
       "      <th>1</th>\n",
       "      <td>Slim fit</td>\n",
       "      <td>Cotton 88%, Polyester 10%, Elastane 2%</td>\n",
       "      <td>0636207010</td>\n",
       "      <td>0636207</td>\n",
       "      <td>010</td>\n",
       "    </tr>\n",
       "    <tr>\n",
       "      <th>2</th>\n",
       "      <td>Slim fit</td>\n",
       "      <td>Pocket lining: Cotton 100%</td>\n",
       "      <td>0636207010</td>\n",
       "      <td>0636207</td>\n",
       "      <td>010</td>\n",
       "    </tr>\n",
       "  </tbody>\n",
       "</table>\n",
       "</div>"
      ],
      "text/plain": [
       "0       Fit                             Composition    Art. No. style_id  \\\n",
       "1  Slim fit  Cotton 88%, Polyester 10%, Elastane 2%  0636207010  0636207   \n",
       "2  Slim fit              Pocket lining: Cotton 100%  0636207010  0636207   \n",
       "\n",
       "0 color_id  \n",
       "1      010  \n",
       "2      010  "
      ]
     },
     "execution_count": 38,
     "metadata": {},
     "output_type": "execute_result"
    }
   ],
   "source": [
    "df_composition"
   ]
  },
  {
   "cell_type": "code",
   "execution_count": 32,
   "id": "242328a2",
   "metadata": {
    "ExecuteTime": {
     "end_time": "2021-06-01T11:58:17.696401Z",
     "start_time": "2021-06-01T11:58:17.688670Z"
    }
   },
   "outputs": [
    {
     "data": {
      "text/html": [
       "<div>\n",
       "<style scoped>\n",
       "    .dataframe tbody tr th:only-of-type {\n",
       "        vertical-align: middle;\n",
       "    }\n",
       "\n",
       "    .dataframe tbody tr th {\n",
       "        vertical-align: top;\n",
       "    }\n",
       "\n",
       "    .dataframe thead th {\n",
       "        text-align: right;\n",
       "    }\n",
       "</style>\n",
       "<table border=\"1\" class=\"dataframe\">\n",
       "  <thead>\n",
       "    <tr style=\"text-align: right;\">\n",
       "      <th></th>\n",
       "      <th>product_id</th>\n",
       "      <th>color_name</th>\n",
       "      <th>style_id</th>\n",
       "      <th>color_id</th>\n",
       "      <th>Fit</th>\n",
       "      <th>Composition</th>\n",
       "    </tr>\n",
       "  </thead>\n",
       "  <tbody>\n",
       "    <tr>\n",
       "      <th>0</th>\n",
       "      <td>0636207001</td>\n",
       "      <td>Dark denim blue</td>\n",
       "      <td>0636207</td>\n",
       "      <td>001</td>\n",
       "      <td>Slim fit</td>\n",
       "      <td>Cotton 88%, Polyester 10%, Elastane 2%</td>\n",
       "    </tr>\n",
       "    <tr>\n",
       "      <th>1</th>\n",
       "      <td>0636207001</td>\n",
       "      <td>Dark denim blue</td>\n",
       "      <td>0636207</td>\n",
       "      <td>001</td>\n",
       "      <td>Slim fit</td>\n",
       "      <td>Pocket lining: Cotton 100%</td>\n",
       "    </tr>\n",
       "    <tr>\n",
       "      <th>2</th>\n",
       "      <td>0636207002</td>\n",
       "      <td>Dark gray denim</td>\n",
       "      <td>0636207</td>\n",
       "      <td>002</td>\n",
       "      <td>Slim fit</td>\n",
       "      <td>Cotton 88%, Polyester 10%, Elastane 2%</td>\n",
       "    </tr>\n",
       "    <tr>\n",
       "      <th>3</th>\n",
       "      <td>0636207002</td>\n",
       "      <td>Dark gray denim</td>\n",
       "      <td>0636207</td>\n",
       "      <td>002</td>\n",
       "      <td>Slim fit</td>\n",
       "      <td>Pocket lining: Cotton 100%</td>\n",
       "    </tr>\n",
       "    <tr>\n",
       "      <th>4</th>\n",
       "      <td>0636207004</td>\n",
       "      <td>Denim blue</td>\n",
       "      <td>0636207</td>\n",
       "      <td>004</td>\n",
       "      <td>Slim fit</td>\n",
       "      <td>Cotton 88%, Polyester 10%, Elastane 2%</td>\n",
       "    </tr>\n",
       "  </tbody>\n",
       "</table>\n",
       "</div>"
      ],
      "text/plain": [
       "   product_id       color_name style_id color_id       Fit  \\\n",
       "0  0636207001  Dark denim blue  0636207      001  Slim fit   \n",
       "1  0636207001  Dark denim blue  0636207      001  Slim fit   \n",
       "2  0636207002  Dark gray denim  0636207      002  Slim fit   \n",
       "3  0636207002  Dark gray denim  0636207      002  Slim fit   \n",
       "4  0636207004       Denim blue  0636207      004  Slim fit   \n",
       "\n",
       "                              Composition  \n",
       "0  Cotton 88%, Polyester 10%, Elastane 2%  \n",
       "1              Pocket lining: Cotton 100%  \n",
       "2  Cotton 88%, Polyester 10%, Elastane 2%  \n",
       "3              Pocket lining: Cotton 100%  \n",
       "4  Cotton 88%, Polyester 10%, Elastane 2%  "
      ]
     },
     "execution_count": 32,
     "metadata": {},
     "output_type": "execute_result"
    }
   ],
   "source": [
    "data_sku.head()"
   ]
  },
  {
   "cell_type": "markdown",
   "id": "aa6239ca",
   "metadata": {},
   "source": [
    "### Multiple product"
   ]
  },
  {
   "cell_type": "code",
   "execution_count": 42,
   "id": "cd1c49a7",
   "metadata": {
    "ExecuteTime": {
     "end_time": "2021-06-01T12:21:43.268157Z",
     "start_time": "2021-06-01T12:21:43.262033Z"
    }
   },
   "outputs": [],
   "source": [
    "headers = {'user-agent': 'my-app/0.0.1'}\n",
    "\n",
    "#empty dataframe\n",
    "df_details = pd.DataFrame()\n",
    "\n",
    "# unique columns for all products\n",
    "aux = []\n",
    "\n",
    "cols = ['Art. No.', 'Composition', 'Fit', 'Product safety', 'Size']\n",
    "df_pattern = pd.DataFrame(columns = cols)"
   ]
  },
  {
   "cell_type": "code",
   "execution_count": 37,
   "id": "b928f74d",
   "metadata": {
    "ExecuteTime": {
     "end_time": "2021-06-01T12:14:26.453350Z",
     "start_time": "2021-06-01T12:14:26.446798Z"
    }
   },
   "outputs": [
    {
     "data": {
      "text/html": [
       "<div>\n",
       "<style scoped>\n",
       "    .dataframe tbody tr th:only-of-type {\n",
       "        vertical-align: middle;\n",
       "    }\n",
       "\n",
       "    .dataframe tbody tr th {\n",
       "        vertical-align: top;\n",
       "    }\n",
       "\n",
       "    .dataframe thead th {\n",
       "        text-align: right;\n",
       "    }\n",
       "</style>\n",
       "<table border=\"1\" class=\"dataframe\">\n",
       "  <thead>\n",
       "    <tr style=\"text-align: right;\">\n",
       "      <th></th>\n",
       "      <th>Art. No.</th>\n",
       "      <th>Composition</th>\n",
       "      <th>Fit</th>\n",
       "      <th>Product safety</th>\n",
       "      <th>Size</th>\n",
       "    </tr>\n",
       "  </thead>\n",
       "  <tbody>\n",
       "  </tbody>\n",
       "</table>\n",
       "</div>"
      ],
      "text/plain": [
       "Empty DataFrame\n",
       "Columns: [Art. No., Composition, Fit, Product safety, Size]\n",
       "Index: []"
      ]
     },
     "execution_count": 37,
     "metadata": {},
     "output_type": "execute_result"
    }
   ],
   "source": [
    "df_pattern"
   ]
  },
  {
   "cell_type": "code",
   "execution_count": 49,
   "id": "f57c5754",
   "metadata": {
    "ExecuteTime": {
     "end_time": "2021-06-01T12:29:01.126368Z",
     "start_time": "2021-06-01T12:28:27.428834Z"
    }
   },
   "outputs": [],
   "source": [
    "for i in range(len(data)):\n",
    "    # API Request\n",
    "    url = 'https://www2.hm.com/en_us/productpage.' + data.loc[i, 'product_id'] + '.html'\n",
    "    page = requests.get(url, headers = headers)\n",
    "    \n",
    "    # Beautiful Soup object\n",
    "    soup = BeautifulSoup(page.text, 'html.parser')\n",
    "    \n",
    "    # ==================== color name =================================\n",
    "    # color name\n",
    "    product_list = soup.find_all( 'a', class_='filter-option miniature' )\n",
    "    color_name = [p.get( 'data-color' ) for p in product_list]\n",
    "    \n",
    "    # product id\n",
    "    product_id = [p.get( 'data-articlecode' ) for p in product_list]\n",
    "    \n",
    "    df_color = pd.DataFrame( [product_id, color_name] ).T\n",
    "    df_color.columns = ['product_id', 'color_name']\n",
    "    \n",
    "    # generate style id + color id\n",
    "    df_color['style_id'] = df_color['product_id'].apply( lambda x: x[:-3] )\n",
    "    df_color['color_id'] = df_color['product_id'].apply( lambda x: x[-3:] )\n",
    "    \n",
    "    # ==================== composition =================================\n",
    "    product_composition_list = soup.find_all( 'div', class_='pdp-description-list-item' )\n",
    "    product_composition = [list( filter( None, p.get_text().split( '\\n' ) ) ) for p in product_composition_list]\n",
    "    \n",
    "    # rename dataframe\n",
    "    df_composition = pd.DataFrame(product_composition).T\n",
    "    df_composition.columns = df_composition.iloc[0]\n",
    "    \n",
    "    # delete first row\n",
    "    df_composition = df_composition.iloc[1:].fillna(method = 'ffill')\n",
    "    \n",
    "    # garantee the same number of columns\n",
    "    df_composition = pd.concat( [df_pattern, df_composition], axis=0 )\n",
    "    \n",
    "    # generate style id + color id\n",
    "    df_composition['style_id'] = df_composition['Art. No.'].apply(lambda x: x[:-3])\n",
    "    df_composition['color_id'] = df_composition['Art. No.'].apply(lambda x: x[-3:])\n",
    "    \n",
    "    aux = aux + df_composition.columns.tolist()\n",
    "    \n",
    "    # merge data color + composition\n",
    "    \n",
    "    data_sku = pd.merge( df_color, df_composition[['style_id','Fit','Composition', 'Size','Product safety']], how = 'left', on = 'style_id')\n",
    "    \n",
    "    # all details products\n",
    "    df_details = pd.concat([df_details, data_sku], axis = 0)\n",
    "    \n",
    "# Join Showroom data + details\n",
    "data['style_id'] = data['product_id'].apply( lambda x: x[:-3] )\n",
    "data['color_id'] = data['product_id'].apply( lambda x: x[-3:] )\n",
    "\n",
    "data_raw = pd.merge( data, df_details[['style_id','color_name','Fit','Composition', 'Size','Product safety']], how = 'left', on = 'style_id')"
   ]
  },
  {
   "cell_type": "code",
   "execution_count": 50,
   "id": "d57a2cd0",
   "metadata": {
    "ExecuteTime": {
     "end_time": "2021-06-01T12:29:08.888605Z",
     "start_time": "2021-06-01T12:29:08.875394Z"
    }
   },
   "outputs": [
    {
     "data": {
      "text/html": [
       "<div>\n",
       "<style scoped>\n",
       "    .dataframe tbody tr th:only-of-type {\n",
       "        vertical-align: middle;\n",
       "    }\n",
       "\n",
       "    .dataframe tbody tr th {\n",
       "        vertical-align: top;\n",
       "    }\n",
       "\n",
       "    .dataframe thead th {\n",
       "        text-align: right;\n",
       "    }\n",
       "</style>\n",
       "<table border=\"1\" class=\"dataframe\">\n",
       "  <thead>\n",
       "    <tr style=\"text-align: right;\">\n",
       "      <th></th>\n",
       "      <th>product_id</th>\n",
       "      <th>product_category</th>\n",
       "      <th>product_name</th>\n",
       "      <th>product_price</th>\n",
       "      <th>scrapy_datetime</th>\n",
       "      <th>style_id</th>\n",
       "      <th>color_id</th>\n",
       "      <th>color_name</th>\n",
       "      <th>Fit</th>\n",
       "      <th>Composition</th>\n",
       "      <th>Size</th>\n",
       "      <th>Product safety</th>\n",
       "    </tr>\n",
       "  </thead>\n",
       "  <tbody>\n",
       "    <tr>\n",
       "      <th>0</th>\n",
       "      <td>0690449022</td>\n",
       "      <td>men_jeans_skinny</td>\n",
       "      <td>Skinny Jeans</td>\n",
       "      <td>$ 39.99</td>\n",
       "      <td>2021-06-01 08:57:37</td>\n",
       "      <td>0690449</td>\n",
       "      <td>022</td>\n",
       "      <td>Light denim blue/trashed</td>\n",
       "      <td>Skinny fit</td>\n",
       "      <td>Lining: Polyester 100%</td>\n",
       "      <td>The model is 184cm/6'0\" and wears a size 31/32</td>\n",
       "      <td>NaN</td>\n",
       "    </tr>\n",
       "    <tr>\n",
       "      <th>1</th>\n",
       "      <td>0690449022</td>\n",
       "      <td>men_jeans_skinny</td>\n",
       "      <td>Skinny Jeans</td>\n",
       "      <td>$ 39.99</td>\n",
       "      <td>2021-06-01 08:57:37</td>\n",
       "      <td>0690449</td>\n",
       "      <td>022</td>\n",
       "      <td>Light denim blue/trashed</td>\n",
       "      <td>Skinny fit</td>\n",
       "      <td>Cotton 98%, Elastane 2%</td>\n",
       "      <td>The model is 184cm/6'0\" and wears a size 31/32</td>\n",
       "      <td>NaN</td>\n",
       "    </tr>\n",
       "    <tr>\n",
       "      <th>2</th>\n",
       "      <td>0690449022</td>\n",
       "      <td>men_jeans_skinny</td>\n",
       "      <td>Skinny Jeans</td>\n",
       "      <td>$ 39.99</td>\n",
       "      <td>2021-06-01 08:57:37</td>\n",
       "      <td>0690449</td>\n",
       "      <td>022</td>\n",
       "      <td>Denim blue</td>\n",
       "      <td>Skinny fit</td>\n",
       "      <td>Lining: Polyester 100%</td>\n",
       "      <td>The model is 184cm/6'0\" and wears a size 31/32</td>\n",
       "      <td>NaN</td>\n",
       "    </tr>\n",
       "    <tr>\n",
       "      <th>3</th>\n",
       "      <td>0690449022</td>\n",
       "      <td>men_jeans_skinny</td>\n",
       "      <td>Skinny Jeans</td>\n",
       "      <td>$ 39.99</td>\n",
       "      <td>2021-06-01 08:57:37</td>\n",
       "      <td>0690449</td>\n",
       "      <td>022</td>\n",
       "      <td>Denim blue</td>\n",
       "      <td>Skinny fit</td>\n",
       "      <td>Cotton 98%, Elastane 2%</td>\n",
       "      <td>The model is 184cm/6'0\" and wears a size 31/32</td>\n",
       "      <td>NaN</td>\n",
       "    </tr>\n",
       "    <tr>\n",
       "      <th>4</th>\n",
       "      <td>0690449022</td>\n",
       "      <td>men_jeans_skinny</td>\n",
       "      <td>Skinny Jeans</td>\n",
       "      <td>$ 39.99</td>\n",
       "      <td>2021-06-01 08:57:37</td>\n",
       "      <td>0690449</td>\n",
       "      <td>022</td>\n",
       "      <td>Black/washed</td>\n",
       "      <td>Skinny fit</td>\n",
       "      <td>Lining: Polyester 100%</td>\n",
       "      <td>The model is 184cm/6'0\" and wears a size 31/32</td>\n",
       "      <td>NaN</td>\n",
       "    </tr>\n",
       "    <tr>\n",
       "      <th>...</th>\n",
       "      <td>...</td>\n",
       "      <td>...</td>\n",
       "      <td>...</td>\n",
       "      <td>...</td>\n",
       "      <td>...</td>\n",
       "      <td>...</td>\n",
       "      <td>...</td>\n",
       "      <td>...</td>\n",
       "      <td>...</td>\n",
       "      <td>...</td>\n",
       "      <td>...</td>\n",
       "      <td>...</td>\n",
       "    </tr>\n",
       "    <tr>\n",
       "      <th>1856</th>\n",
       "      <td>0814620001</td>\n",
       "      <td>men_jeans_skinny</td>\n",
       "      <td>Freefit® Skinny Jeans</td>\n",
       "      <td>$ 49.99</td>\n",
       "      <td>2021-06-01 08:57:37</td>\n",
       "      <td>0814620</td>\n",
       "      <td>001</td>\n",
       "      <td>Denim blue</td>\n",
       "      <td>Skinny fit</td>\n",
       "      <td>Cotton 90%, Elasterell-P 8%, Elastane 2%</td>\n",
       "      <td>NaN</td>\n",
       "      <td>NaN</td>\n",
       "    </tr>\n",
       "    <tr>\n",
       "      <th>1857</th>\n",
       "      <td>0814620001</td>\n",
       "      <td>men_jeans_skinny</td>\n",
       "      <td>Freefit® Skinny Jeans</td>\n",
       "      <td>$ 49.99</td>\n",
       "      <td>2021-06-01 08:57:37</td>\n",
       "      <td>0814620</td>\n",
       "      <td>001</td>\n",
       "      <td>Dark blue</td>\n",
       "      <td>Skinny fit</td>\n",
       "      <td>Cotton 90%, Elasterell-P 8%, Elastane 2%</td>\n",
       "      <td>The model is 186cm/6'1\" and wears a size 31/30</td>\n",
       "      <td>NaN</td>\n",
       "    </tr>\n",
       "    <tr>\n",
       "      <th>1858</th>\n",
       "      <td>0814620001</td>\n",
       "      <td>men_jeans_skinny</td>\n",
       "      <td>Freefit® Skinny Jeans</td>\n",
       "      <td>$ 49.99</td>\n",
       "      <td>2021-06-01 08:57:37</td>\n",
       "      <td>0814620</td>\n",
       "      <td>001</td>\n",
       "      <td>Light denim blue</td>\n",
       "      <td>Skinny fit</td>\n",
       "      <td>Cotton 90%, Elasterell-P 8%, Elastane 2%</td>\n",
       "      <td>The model is 186cm/6'1\" and wears a size 31/30</td>\n",
       "      <td>NaN</td>\n",
       "    </tr>\n",
       "    <tr>\n",
       "      <th>1859</th>\n",
       "      <td>0814620001</td>\n",
       "      <td>men_jeans_skinny</td>\n",
       "      <td>Freefit® Skinny Jeans</td>\n",
       "      <td>$ 49.99</td>\n",
       "      <td>2021-06-01 08:57:37</td>\n",
       "      <td>0814620</td>\n",
       "      <td>001</td>\n",
       "      <td>Blue-gray</td>\n",
       "      <td>Skinny fit</td>\n",
       "      <td>Cotton 90%, Elasterell-P 8%, Elastane 2%</td>\n",
       "      <td>The model is 186cm/6'1\" and wears a size 31/30</td>\n",
       "      <td>NaN</td>\n",
       "    </tr>\n",
       "    <tr>\n",
       "      <th>1860</th>\n",
       "      <td>0814620001</td>\n",
       "      <td>men_jeans_skinny</td>\n",
       "      <td>Freefit® Skinny Jeans</td>\n",
       "      <td>$ 49.99</td>\n",
       "      <td>2021-06-01 08:57:37</td>\n",
       "      <td>0814620</td>\n",
       "      <td>001</td>\n",
       "      <td>Denim blue</td>\n",
       "      <td>Skinny fit</td>\n",
       "      <td>Cotton 90%, Elasterell-P 8%, Elastane 2%</td>\n",
       "      <td>The model is 186cm/6'1\" and wears a size 31/30</td>\n",
       "      <td>NaN</td>\n",
       "    </tr>\n",
       "  </tbody>\n",
       "</table>\n",
       "<p>1861 rows × 12 columns</p>\n",
       "</div>"
      ],
      "text/plain": [
       "      product_id  product_category           product_name product_price  \\\n",
       "0     0690449022  men_jeans_skinny           Skinny Jeans       $ 39.99   \n",
       "1     0690449022  men_jeans_skinny           Skinny Jeans       $ 39.99   \n",
       "2     0690449022  men_jeans_skinny           Skinny Jeans       $ 39.99   \n",
       "3     0690449022  men_jeans_skinny           Skinny Jeans       $ 39.99   \n",
       "4     0690449022  men_jeans_skinny           Skinny Jeans       $ 39.99   \n",
       "...          ...               ...                    ...           ...   \n",
       "1856  0814620001  men_jeans_skinny  Freefit® Skinny Jeans       $ 49.99   \n",
       "1857  0814620001  men_jeans_skinny  Freefit® Skinny Jeans       $ 49.99   \n",
       "1858  0814620001  men_jeans_skinny  Freefit® Skinny Jeans       $ 49.99   \n",
       "1859  0814620001  men_jeans_skinny  Freefit® Skinny Jeans       $ 49.99   \n",
       "1860  0814620001  men_jeans_skinny  Freefit® Skinny Jeans       $ 49.99   \n",
       "\n",
       "          scrapy_datetime style_id color_id                color_name  \\\n",
       "0     2021-06-01 08:57:37  0690449      022  Light denim blue/trashed   \n",
       "1     2021-06-01 08:57:37  0690449      022  Light denim blue/trashed   \n",
       "2     2021-06-01 08:57:37  0690449      022                Denim blue   \n",
       "3     2021-06-01 08:57:37  0690449      022                Denim blue   \n",
       "4     2021-06-01 08:57:37  0690449      022              Black/washed   \n",
       "...                   ...      ...      ...                       ...   \n",
       "1856  2021-06-01 08:57:37  0814620      001                Denim blue   \n",
       "1857  2021-06-01 08:57:37  0814620      001                 Dark blue   \n",
       "1858  2021-06-01 08:57:37  0814620      001          Light denim blue   \n",
       "1859  2021-06-01 08:57:37  0814620      001                 Blue-gray   \n",
       "1860  2021-06-01 08:57:37  0814620      001                Denim blue   \n",
       "\n",
       "             Fit                               Composition  \\\n",
       "0     Skinny fit                    Lining: Polyester 100%   \n",
       "1     Skinny fit                   Cotton 98%, Elastane 2%   \n",
       "2     Skinny fit                    Lining: Polyester 100%   \n",
       "3     Skinny fit                   Cotton 98%, Elastane 2%   \n",
       "4     Skinny fit                    Lining: Polyester 100%   \n",
       "...          ...                                       ...   \n",
       "1856  Skinny fit  Cotton 90%, Elasterell-P 8%, Elastane 2%   \n",
       "1857  Skinny fit  Cotton 90%, Elasterell-P 8%, Elastane 2%   \n",
       "1858  Skinny fit  Cotton 90%, Elasterell-P 8%, Elastane 2%   \n",
       "1859  Skinny fit  Cotton 90%, Elasterell-P 8%, Elastane 2%   \n",
       "1860  Skinny fit  Cotton 90%, Elasterell-P 8%, Elastane 2%   \n",
       "\n",
       "                                                Size Product safety  \n",
       "0     The model is 184cm/6'0\" and wears a size 31/32            NaN  \n",
       "1     The model is 184cm/6'0\" and wears a size 31/32            NaN  \n",
       "2     The model is 184cm/6'0\" and wears a size 31/32            NaN  \n",
       "3     The model is 184cm/6'0\" and wears a size 31/32            NaN  \n",
       "4     The model is 184cm/6'0\" and wears a size 31/32            NaN  \n",
       "...                                              ...            ...  \n",
       "1856                                             NaN            NaN  \n",
       "1857  The model is 186cm/6'1\" and wears a size 31/30            NaN  \n",
       "1858  The model is 186cm/6'1\" and wears a size 31/30            NaN  \n",
       "1859  The model is 186cm/6'1\" and wears a size 31/30            NaN  \n",
       "1860  The model is 186cm/6'1\" and wears a size 31/30            NaN  \n",
       "\n",
       "[1861 rows x 12 columns]"
      ]
     },
     "execution_count": 50,
     "metadata": {},
     "output_type": "execute_result"
    }
   ],
   "source": [
    "data_raw"
   ]
  },
  {
   "cell_type": "markdown",
   "id": "9793111b",
   "metadata": {
    "heading_collapsed": true
   },
   "source": [
    "# Loading Data (Web Scrapping)"
   ]
  },
  {
   "cell_type": "code",
   "execution_count": 1,
   "id": "f5e14627",
   "metadata": {
    "ExecuteTime": {
     "end_time": "2021-05-31T23:22:40.697770Z",
     "start_time": "2021-05-31T23:22:40.514250Z"
    },
    "hidden": true
   },
   "outputs": [],
   "source": [
    "import re\n",
    "import numpy as np\n",
    "import pandas as pd"
   ]
  },
  {
   "cell_type": "code",
   "execution_count": null,
   "id": "35d88a89",
   "metadata": {
    "hidden": true
   },
   "outputs": [],
   "source": [
    "data = pd.read_csv( '/Users/meigarom.lopes/repos/python-ds-ao-dev/Module01/\n",
    ",→products_hm.csv' )\n",
    "# product id\n",
    "data = data.dropna( subset=['product_id'] )\n",
    "data['product_id'] = data['product_id'].astype( int )\n",
    "# product name\n",
    "data['product_name'] = data['product_name'].apply( lambda x: x.replace( ' ',␣\n",
    ",→'_' ).lower() )\n",
    "                   \n",
    "# product price\n",
    "data['product_price'] = data['product_price'].apply( lambda x: x.replace( '$ ',␣\n",
    ",→'' ) ).astype( float )\n",
    "                   \n",
    "# scrapy datetime\n",
    "data['scrapy_datetime'] = pd.to_datetime( data['scrapy_datetime'],␣\n",
    ",→format='%Y-%m-%d %H:%M:%S' )\n",
    "                   \n",
    "# style id\n",
    "data['style_id'] = data['style_id'].astype( int )\n",
    "                   \n",
    "# color id\n",
    "data['color_id'] = data['color_id'].astype( int )\n",
    "                   \n",
    "# color name\n",
    "data['color_name'] = data['color_name'].apply( lambda x: x.replace( ' ', '_' ).\n",
    ",→replace( '/', '_' ).lower() if pd.notnull( x ) else x )\n",
    "                   \n",
    "# fit\n",
    "data['fit'] = data['fit'].apply( lambda x: x.replace( ' ', '_' ).lower() if pd.\n",
    ",→notnull( x ) else x )\n",
    "                   \n",
    "# size number\n",
    "data['size_number'] = data['size'].apply( lambda x: re.search( '\\d{3}cm', x ).\n",
    ",→group(0) if pd.notnull( x ) else x )\n",
    "                   \n",
    "data['size_number'] = data['size_number'].apply( lambda x: re.search( '\\d+', x␣\n",
    ",→).group(0) if pd.notnull( x ) else x )\n",
    "                   \n",
    "# size model\n",
    "        \n",
    "data['size_model'] = data['size'].str.extract( '(\\d+/\\\\d+)' )\n",
    "                   \n",
    "# composition\n",
    "data = data[~data['composition'].str.contains( 'Pocket lining:', na=False )]\n",
    "data = data[~data['composition'].str.contains( 'Lining:', na=False )]\n",
    "data = data[~data['composition'].str.contains( 'Shell:', na=False )]\n",
    "                   \n",
    "# drop duplicates\n",
    "data = data.drop_duplicates( subset=['product_id', 'product_category',␣\n",
    ",→'product_name', 'product_price',\n",
    "'scrapy_datetime', 'style_id', 'color_id',␣\n",
    ",→'color_name', 'fit'], keep='last' )\n",
    "                   \n",
    "# reset index\n",
    "data = data.reset_index( drop=True )\n",
    "                   \n",
    "# break composition by comma\n",
    "df1 = data['composition'].str.split( ',', expand=True )\n",
    "                   \n",
    "# cotton | polyester | elastano | elasterell\n",
    "df_ref = pd.DataFrame( index=np.arange( len( data ) ),␣\n",
    ",→columns=['cotton','polyester', 'elastane', 'elasterell'] )\n",
    "                   \n",
    "# cotton\n",
    "df_cotton = df1[0]\n",
    "                   \n",
    "df_cotton.name = 'cotton'\n",
    "df_ref = pd.concat( [df_ref, df_cotton ], axis=1 )\n",
    "df_ref = df_ref.iloc[:, ~df_ref.columns.duplicated( keep='last')]\n",
    "df_ref['cotton'] = df_ref['cotton'].fillna( 'Cotton 0%' )\n",
    "                   \n",
    "# polyester\n",
    "                \n",
    "df_polyester = df1.loc[df1[1].str.contains( 'Polyester', na=True ), 1]\n",
    "df_polyester.name = 'polyester'\n",
    "df_ref = pd.concat( [df_ref, df_polyester], axis=1 )\n",
    "df_ref = df_ref.iloc[:, ~df_ref.columns.duplicated( keep='last') ]\n",
    "df_ref['polyester'] = df_ref['polyester'].fillna( 'Polyester 0%' )\n",
    "                   \n",
    "# elastano\n",
    "df_elastane = df1.loc[df1[1].str.contains( 'Elastane', na=True ), 1]\n",
    "df_elastane.name = 'elastane'\n",
    "                   \n",
    "# combine elastane from both columns 1 and 2\n",
    "df_elastane = df_elastane.combine_first( df1[2] )\n",
    "df_ref = pd.concat( [df_ref, df_elastane], axis=1 )\n",
    "df_ref = df_ref.iloc[:, ~df_ref.columns.duplicated( keep='last') ]\n",
    "df_ref['elastane'] = df_ref['elastane'].fillna( 'Elastane 0%' )\n",
    "                   \n",
    "# elasterell\n",
    "df_elasterell = df1.loc[df1[1].str.contains( 'Elasterell', na=True ), 1]\n",
    "df_elasterell.name = 'elasterell'\n",
    "df_ref = pd.concat( [df_ref, df_elasterell], axis=1 )\n",
    "df_ref = df_ref.iloc[:, ~df_ref.columns.duplicated( keep='last') ]\n",
    "df_ref['elasterell'] = df_ref['elasterell'].fillna( 'Elasterell-P 0%' )\n",
    "                   \n",
    "# final join\n",
    "                \n",
    "data = pd.concat( [data, df_ref], axis=1 )\n",
    "                   \n",
    "# format composition data\n",
    "        \n",
    "data['cotton'] = data['cotton'].apply( lambda x: int( re.search( '\\d+', x ).\n",
    ",→group(0) ) / 100 if pd.notnull( x ) else x )\n",
    "data['polyester'] = data['polyester'].apply( lambda x: int( re.search( '\\d+', x␣\n",
    ",→).group(0) ) / 100 if pd.notnull( x ) else x )\n",
    "data['elastane'] = data['elastane'].apply( lambda x: int( re.search( '\\d+', x ).\n",
    ",→group(0) ) / 100 if pd.notnull( x ) else x )\n",
    "data['elasterell'] = data['elasterell'].apply( lambda x: int( re.search(␣\n",
    ",→'\\d+',x ).group(0) ) / 100 if pd.notnull( x ) else x )\n",
    "                   \n",
    "# Drop columns\n",
    "\n",
    "data = data.drop( columns=['size', 'product safety', 'composition'], axis=1 )\n",
    "# Drop duplicates\n",
    "            \n",
    "data = data.drop_duplicates()\n",
    "data.shape        \n",
    "        "
   ]
  }
 ],
 "metadata": {
  "kernelspec": {
   "display_name": "Python 3",
   "language": "python",
   "name": "python3"
  },
  "language_info": {
   "codemirror_mode": {
    "name": "ipython",
    "version": 3
   },
   "file_extension": ".py",
   "mimetype": "text/x-python",
   "name": "python",
   "nbconvert_exporter": "python",
   "pygments_lexer": "ipython3",
   "version": "3.9.1"
  },
  "toc": {
   "base_numbering": 1,
   "nav_menu": {},
   "number_sections": true,
   "sideBar": true,
   "skip_h1_title": false,
   "title_cell": "Table of Contents",
   "title_sidebar": "Contents",
   "toc_cell": false,
   "toc_position": {},
   "toc_section_display": true,
   "toc_window_display": false
  }
 },
 "nbformat": 4,
 "nbformat_minor": 5
}
