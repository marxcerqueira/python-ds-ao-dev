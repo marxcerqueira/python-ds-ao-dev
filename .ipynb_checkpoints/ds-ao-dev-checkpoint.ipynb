{
 "cells": [
  {
   "cell_type": "markdown",
   "id": "932442ec",
   "metadata": {},
   "source": [
    "# Python DS-ao-Dev"
   ]
  },
  {
   "cell_type": "markdown",
   "id": "b09cf467",
   "metadata": {
    "heading_collapsed": true
   },
   "source": [
    "## Bussiness Problem"
   ]
  },
  {
   "cell_type": "markdown",
   "id": "de93f19c",
   "metadata": {
    "hidden": true
   },
   "source": [
    "**Star Jeans Company**\n",
    "\n",
    "- Eduardo e Marcelo são dois brasileiros, amigos e sócios de empreendimento. Depois de vários negócio bem sucedidos, eles estão planejando entrar no mercado de moda dos USA como um modelo de negócio do tipo E-commerce.\n",
    "\n",
    "- A idéia inicial é entrar no mercado com apenas um produto e para um público específico, no caso o produto seria calças Jenas para o público masculino. O objetivo é manter o custo de operação baixo e escalar a medida que forem conseguindo clientes.\n",
    "\n",
    "- Porém, mesmo com o produto de entrada e a audiência definidos, os dois sócios não tem experiência nesse mercado de moda e portanto não sabem definir coisas básicas como preço, o tipo de calça e o material para a fabricação de cada peça.\n",
    "\n",
    "- Assim, os dois sócios contrataram uma consultoria de Ciência de Dados para responder as seguintes perguntas: ]\n",
    "    1. Qual o melhor preço de venda para as calças? \n",
    "    2. Quantos tipos de calças e suas cores para o produto inicial? \n",
    "    3. Quais as matérias-prima necessárias para confeccionar as calças?\n",
    "    \n",
    "- As principais concorrentes da empresa Start Jeans são as americadas H&M e Macys."
   ]
  },
  {
   "cell_type": "markdown",
   "id": "ced630a8",
   "metadata": {
    "heading_collapsed": true
   },
   "source": [
    "## Solution Planning (Input-Output-Tasks)"
   ]
  },
  {
   "cell_type": "markdown",
   "id": "6f0b273c",
   "metadata": {
    "hidden": true
   },
   "source": [
    "**Bussiness Question**\n",
    "\n",
    "- Which is the best price for jeans?\n",
    "\n",
    "1. Input:\n",
    "    1. Fonte de dados\n",
    "        - Site da H&M: https://www2.hm.com/en_us/men/products/jeans.html\n",
    "        - Site da Macys: https://www.macys.com/shop/mens-clothing/mens-jeans\n",
    "    2. Ferramentas\n",
    "        - Python 3.8.0\n",
    "        - Bibliotecas de Webscrapping ( BS4, Selenium )\n",
    "        - PyCharm\n",
    "        - Jupyter Notebook ( Analise e prototipagens )\n",
    "        - Crontjob, Airflow\n",
    "        - Streamlit\n",
    "    \n",
    "2. Output:\n",
    "    1. A resposta para a pergunta.\n",
    "        - Mediana dos preços dos concorrents.\n",
    "    2. Formato da entrega\n",
    "        - Tabela ou gráfico\n",
    "    3. Local da entrega\n",
    "        - App Streamlit\n",
    "    \n",
    "3. Tasks:\n",
    "    1. Passo a passso para construir o cálculo da mediana ou média\n",
    "        - Realizar o calculo da mediana sobre o produto, tipo e cor\n",
    "    2. Definir o formato da entrega ( Visualização, Tabela, Frase )\n",
    "        - Gráfico de barras com a mediana dos preço dos produtos, por tipo e cor dos últimos 30 dia\n",
    "        - Tabela com as seguintes colunas: id | product_name | product_type | product_color | produ\n",
    "        - Definição do schema: Colunas e seu tipo\n",
    "        - Definição a infraestrutura de armazenamento ( SQLITE3 )\n",
    "        - Design do ETL ( Scripts de Extração, Transformação e Carga )\n",
    "        - Planejamento de Agendamento dos scripts ( dependencias entre os scripts )\n",
    "        - Fazer as visualizações\n",
    "        - Entrega do produto final\n",
    "    3. Decidir o local de entrega ( PowerBi, Telegram, Email, Streamlit, Intranet ),\n",
    "        - App com Streamlit"
   ]
  },
  {
   "cell_type": "markdown",
   "id": "59cf7cf1",
   "metadata": {
    "heading_collapsed": true
   },
   "source": [
    "## Bussiness Models"
   ]
  },
  {
   "cell_type": "markdown",
   "id": "f41a62ba",
   "metadata": {
    "hidden": true
   },
   "source": [
    "“Como você planeja ganhar dinheiro”, Michael Lewis\n",
    "\n",
    "“Um modelo de negócio descreve a lógica de criação, entrega e captura de valor por\n",
    "parte de uma organização”, Alexander Osterwalder"
   ]
  },
  {
   "cell_type": "markdown",
   "id": "25000fe7",
   "metadata": {
    "hidden": true
   },
   "source": [
    "- E-commerce:\n",
    "    1. Faturamento: Vendas de um produto.\n",
    "    2. Exemplo: Lojas Riachuelo, Submarino, Magazine Luiza, etc\n",
    "        \n",
    "- Software AS a Service ( SaaS ):\n",
    "    1. Faturamento: Assinatura mensal/anual de utilização ou por usuário.\n",
    "    2. Exemplo: Looker, Asana, Gmail, Salesforce.\n",
    "    \n",
    "- Serviço:\n",
    "    1. Faturamento: Prestação de serviço por tempo ou projeto.\n",
    "    2. Exemplo: Sul América, Porto Seguro, Mapfre.\n",
    "    \n",
    "- Mobile App:\n",
    "    1. Faturamento: Venda de upgrades.\n",
    "    2. Exemplo: Wildlife, Ubisoft, Games Mobile.\n",
    "    \n",
    "- Media Site:\n",
    "    1. Faturamento: Cobrança por clicks ou visualizações de um determinado anúncio.\n",
    "    2. Exemplo: Facebook, Google, UOL, G1, etc.\n",
    "    \n",
    "- Marketplace:\n",
    "    1. Faturamento: Taxa sobre a transação entre o passageiro e o motorista.\n",
    "    2. Exemplo: Uber, Ifood, 99, Elo7, Submarino."
   ]
  },
  {
   "cell_type": "markdown",
   "id": "0d5df70f",
   "metadata": {
    "heading_collapsed": true
   },
   "source": [
    "## E-commerce Metrics"
   ]
  },
  {
   "cell_type": "markdown",
   "id": "801068cb",
   "metadata": {
    "hidden": true
   },
   "source": [
    "- **Growth Metrics**:\n",
    "    1. Porcentagem do Marketshare\n",
    "    2. Número de Clientes Novos\n",
    "- **Revenue Metrics**:\n",
    "    1. Número de Vendas\n",
    "    2. Ticket Médio\n",
    "    3. LTV ( Long Time Value )\n",
    "    4. Recência Média\n",
    "    5. Basket Size Médio\n",
    "    6. Markup médio\n",
    "- **Cost Metrics**:\n",
    "    1. CAC ( Custo de aquisição de Clientes )\n",
    "    2. Desconto médio\n",
    "    3. Custo de Produção\n",
    "    4. Taxa de devolução\n",
    "    5. Custos Fixos ( Folha de pagamento, escritório, softwares )\n",
    "    6. Impostos"
   ]
  },
  {
   "cell_type": "code",
   "execution_count": null,
   "id": "0a9bc66b",
   "metadata": {
    "ExecuteTime": {
     "end_time": "2021-05-31T22:36:59.111827Z",
     "start_time": "2021-05-31T22:36:59.090500Z"
    },
    "hidden": true
   },
   "outputs": [],
   "source": [
    "from IPython.display import Image\n",
    "Image(filename='/home/marxcerqueira/repos/Data-Science-Projects/pa005_insiders_clustering/pa005_marx_cerqueira/reports/figures/mapa_metricas_e_commerce.png')"
   ]
  },
  {
   "cell_type": "markdown",
   "id": "771623b6",
   "metadata": {},
   "source": [
    "# Imports"
   ]
  },
  {
   "cell_type": "code",
   "execution_count": null,
   "id": "56ce2616",
   "metadata": {
    "ExecuteTime": {
     "end_time": "2021-05-31T22:37:01.776644Z",
     "start_time": "2021-05-31T22:37:01.313348Z"
    }
   },
   "outputs": [],
   "source": [
    "import pandas as pd\n",
    "import numpy as np\n",
    "\n",
    "from datetime import datetime\n",
    "\n",
    "from bs4 import BeautifulSoup\n",
    "import requests"
   ]
  },
  {
   "cell_type": "markdown",
   "id": "2f8e35db",
   "metadata": {},
   "source": [
    "# Loading Data (Web Scrapping)"
   ]
  },
  {
   "cell_type": "markdown",
   "id": "b4d7a012",
   "metadata": {
    "heading_collapsed": true
   },
   "source": [
    "## Beautiful Soup - Pratica I"
   ]
  },
  {
   "cell_type": "code",
   "execution_count": null,
   "id": "a49dd108",
   "metadata": {
    "ExecuteTime": {
     "end_time": "2021-05-31T13:01:39.367511Z",
     "start_time": "2021-05-31T13:01:39.365863Z"
    },
    "hidden": true
   },
   "outputs": [],
   "source": [
    "# Preciso extrair\n",
    "# id\n",
    "# product_name\n",
    "# product_type\n",
    "# product_color\n",
    "# composition\n",
    "# priceb"
   ]
  },
  {
   "cell_type": "code",
   "execution_count": null,
   "id": "97e9d582",
   "metadata": {
    "ExecuteTime": {
     "end_time": "2021-05-31T22:39:02.192555Z",
     "start_time": "2021-05-31T22:39:02.049925Z"
    },
    "hidden": true
   },
   "outputs": [],
   "source": [
    "url = 'https://www2.hm.com/en_us/men/products/jeans.html'\n",
    "\n",
    "headers = {'user-agent': 'my-app/0.0.1'}\n",
    "\n",
    "page = requests.get(url, headers = headers)"
   ]
  },
  {
   "cell_type": "code",
   "execution_count": null,
   "id": "e3da551a",
   "metadata": {
    "ExecuteTime": {
     "end_time": "2021-05-31T22:39:04.040229Z",
     "start_time": "2021-05-31T22:39:03.909916Z"
    },
    "hidden": true
   },
   "outputs": [],
   "source": [
    "soup = BeautifulSoup(page.text, 'html.parser')"
   ]
  },
  {
   "cell_type": "code",
   "execution_count": null,
   "id": "b16079e3",
   "metadata": {
    "ExecuteTime": {
     "end_time": "2021-05-31T22:39:20.676784Z",
     "start_time": "2021-05-31T22:39:20.670329Z"
    },
    "hidden": true
   },
   "outputs": [],
   "source": [
    "products = soup.find('ul', class_= 'products-listing small')"
   ]
  },
  {
   "cell_type": "code",
   "execution_count": null,
   "id": "2f26fe34",
   "metadata": {
    "ExecuteTime": {
     "end_time": "2021-05-31T22:39:22.238428Z",
     "start_time": "2021-05-31T22:39:22.213033Z"
    },
    "hidden": true,
    "scrolled": true
   },
   "outputs": [],
   "source": [
    "product_list = products.find_all('article', class_= 'hm-product-item')\n",
    "len(product_list)"
   ]
  },
  {
   "cell_type": "code",
   "execution_count": null,
   "id": "7e69c10d",
   "metadata": {
    "ExecuteTime": {
     "end_time": "2021-05-31T22:39:24.479775Z",
     "start_time": "2021-05-31T22:39:24.471629Z"
    },
    "hidden": true
   },
   "outputs": [],
   "source": [
    "#teste product_id\n",
    "product_list[4].get('data-articlecode')"
   ]
  },
  {
   "cell_type": "code",
   "execution_count": null,
   "id": "a50a7447",
   "metadata": {
    "ExecuteTime": {
     "end_time": "2021-05-31T13:53:15.330067Z",
     "start_time": "2021-05-31T13:53:15.317419Z"
    },
    "hidden": true
   },
   "outputs": [],
   "source": []
  },
  {
   "cell_type": "code",
   "execution_count": null,
   "id": "518c254f",
   "metadata": {
    "ExecuteTime": {
     "end_time": "2021-05-31T13:53:19.028332Z",
     "start_time": "2021-05-31T13:53:19.025720Z"
    },
    "hidden": true
   },
   "outputs": [],
   "source": [
    "product_list"
   ]
  },
  {
   "cell_type": "code",
   "execution_count": null,
   "id": "dbeb1050",
   "metadata": {
    "ExecuteTime": {
     "end_time": "2021-05-31T22:39:27.055881Z",
     "start_time": "2021-05-31T22:39:27.048884Z"
    },
    "hidden": true
   },
   "outputs": [],
   "source": [
    "product_list = products.find_all('article', class_ = 'hm-product-item')\n",
    "\n",
    "# product id\n",
    "product_id = [p.get('data-articlecode') for p in product_list]\n",
    "\n",
    "# product_category\n",
    "product_category = [p.get('data-category') for p in product_list]"
   ]
  },
  {
   "cell_type": "code",
   "execution_count": null,
   "id": "eacda31d",
   "metadata": {
    "ExecuteTime": {
     "end_time": "2021-05-31T22:39:28.771200Z",
     "start_time": "2021-05-31T22:39:28.765205Z"
    },
    "hidden": true
   },
   "outputs": [],
   "source": [
    "# product name\n",
    "product_list = products.find_all('a', class_ = 'link')\n",
    "product_name = [p.get_text() for p in product_list]"
   ]
  },
  {
   "cell_type": "code",
   "execution_count": null,
   "id": "0cfd5aa5",
   "metadata": {
    "ExecuteTime": {
     "end_time": "2021-05-31T22:39:30.277798Z",
     "start_time": "2021-05-31T22:39:30.270948Z"
    },
    "hidden": true
   },
   "outputs": [],
   "source": [
    "#price\n",
    "product_list = products.find_all('span', class_ = 'price regular')\n",
    "product_price = [p.get_text() for p in product_list]"
   ]
  },
  {
   "cell_type": "code",
   "execution_count": null,
   "id": "90a63aa3",
   "metadata": {
    "ExecuteTime": {
     "end_time": "2021-05-31T13:58:33.423541Z",
     "start_time": "2021-05-31T13:58:33.419722Z"
    },
    "hidden": true
   },
   "outputs": [],
   "source": [
    "# product color"
   ]
  },
  {
   "cell_type": "code",
   "execution_count": null,
   "id": "0cec94af",
   "metadata": {
    "ExecuteTime": {
     "end_time": "2021-05-31T13:58:38.905585Z",
     "start_time": "2021-05-31T13:58:38.901422Z"
    },
    "hidden": true
   },
   "outputs": [],
   "source": [
    "# product composition"
   ]
  },
  {
   "cell_type": "code",
   "execution_count": null,
   "id": "35887e18",
   "metadata": {
    "ExecuteTime": {
     "end_time": "2021-05-31T22:39:35.325356Z",
     "start_time": "2021-05-31T22:39:35.319589Z"
    },
    "hidden": true
   },
   "outputs": [],
   "source": [
    "data = pd.DataFrame([product_id, product_category, product_name, product_price]).T\n",
    "data.columns = ['product_id', 'product_category', 'product_name', 'product_price']\n",
    "\n",
    "# scrapy time\n",
    "data['scrapy_datetime'] = datetime.now().strftime('%Y-%m-%d %H:%M:%S')"
   ]
  },
  {
   "cell_type": "code",
   "execution_count": null,
   "id": "230f6786",
   "metadata": {
    "ExecuteTime": {
     "end_time": "2021-05-31T22:39:37.644921Z",
     "start_time": "2021-05-31T22:39:37.630024Z"
    },
    "hidden": true
   },
   "outputs": [],
   "source": [
    "data.head()"
   ]
  },
  {
   "cell_type": "markdown",
   "id": "f29e1420",
   "metadata": {
    "heading_collapsed": true
   },
   "source": [
    "## Beautiful Soup - Pratica II"
   ]
  },
  {
   "cell_type": "code",
   "execution_count": null,
   "id": "34151350",
   "metadata": {
    "ExecuteTime": {
     "end_time": "2021-05-31T22:39:48.895952Z",
     "start_time": "2021-05-31T22:39:48.800442Z"
    },
    "hidden": true
   },
   "outputs": [],
   "source": [
    "url = 'https://www2.hm.com/en_us/men/products/jeans.html'\n",
    "\n",
    "headers = {'user-agent': 'my-app/0.0.1'}\n",
    "\n",
    "page = requests.get(url, headers = headers)"
   ]
  },
  {
   "cell_type": "code",
   "execution_count": null,
   "id": "c1d5d36c",
   "metadata": {
    "ExecuteTime": {
     "end_time": "2021-05-31T22:39:50.618866Z",
     "start_time": "2021-05-31T22:39:50.497691Z"
    },
    "hidden": true
   },
   "outputs": [],
   "source": [
    "soup = BeautifulSoup(page.text, 'html.parser')"
   ]
  },
  {
   "cell_type": "code",
   "execution_count": null,
   "id": "ec5188c2",
   "metadata": {
    "ExecuteTime": {
     "end_time": "2021-05-31T22:39:52.032366Z",
     "start_time": "2021-05-31T22:39:52.021549Z"
    },
    "hidden": true,
    "scrolled": true
   },
   "outputs": [],
   "source": [
    "# get all the items\n",
    "total_item = soup.find_all('h2', class_ = 'load-more-heading')[0].get('data-total')\n",
    "total_item"
   ]
  },
  {
   "cell_type": "code",
   "execution_count": null,
   "id": "6cb3b3ff",
   "metadata": {
    "ExecuteTime": {
     "end_time": "2021-05-31T22:39:53.926596Z",
     "start_time": "2021-05-31T22:39:53.913512Z"
    },
    "hidden": true
   },
   "outputs": [],
   "source": [
    "# get the page number (paginação)\n",
    "page_number = np.ceil(int(total_item)/36) #np.ceil rounds up the number\n",
    "page_number"
   ]
  },
  {
   "cell_type": "code",
   "execution_count": null,
   "id": "87dadc67",
   "metadata": {
    "ExecuteTime": {
     "end_time": "2021-05-31T22:39:55.243047Z",
     "start_time": "2021-05-31T22:39:55.240322Z"
    },
    "hidden": true
   },
   "outputs": [],
   "source": [
    "url02 = url + '?page-size=' + str(int(page_number*36))\n",
    "url02"
   ]
  },
  {
   "cell_type": "markdown",
   "id": "d74f056b",
   "metadata": {},
   "source": [
    "## Beautiful Soup - Pratica III"
   ]
  },
  {
   "cell_type": "markdown",
   "id": "a753b813",
   "metadata": {
    "heading_collapsed": true
   },
   "source": [
    "### One product"
   ]
  },
  {
   "cell_type": "code",
   "execution_count": null,
   "id": "8ceae234",
   "metadata": {
    "ExecuteTime": {
     "end_time": "2021-05-31T22:39:58.989603Z",
     "start_time": "2021-05-31T22:39:58.882615Z"
    },
    "hidden": true
   },
   "outputs": [],
   "source": [
    "url = 'https://www2.hm.com/en_us/productpage.0636207010.html'\n",
    "\n",
    "headers = {'user-agent': 'my-app/0.0.1'}\n",
    "\n",
    "page = requests.get(url, headers = headers)"
   ]
  },
  {
   "cell_type": "code",
   "execution_count": null,
   "id": "a00d8413",
   "metadata": {
    "ExecuteTime": {
     "end_time": "2021-05-31T22:40:00.529508Z",
     "start_time": "2021-05-31T22:40:00.450901Z"
    },
    "hidden": true
   },
   "outputs": [],
   "source": [
    "soup = BeautifulSoup(page.text, 'html.parser')"
   ]
  },
  {
   "cell_type": "code",
   "execution_count": null,
   "id": "99489f66",
   "metadata": {
    "ExecuteTime": {
     "end_time": "2021-05-31T22:40:05.706144Z",
     "start_time": "2021-05-31T22:40:05.693021Z"
    },
    "hidden": true
   },
   "outputs": [],
   "source": [
    "# color name\n",
    "product_list = soup.find_all( 'a', class_='filter-option miniature' )\n",
    "color_name = [p.get( 'data-color' ) for p in product_list]\n",
    "\n",
    "# product id\n",
    "product_id = [p.get( 'data-articlecode' ) for p in product_list]\n",
    "\n",
    "df_color = pd.DataFrame( [product_id, color_name] ).T\n",
    "df_color.columns = ['product_id', 'color_name']\n",
    "\n",
    "3# generate style id + color id\n",
    "df_color['style_id'] = df_color['product_id'].apply( lambda x: x[:-3] )\n",
    "df_color['color_id'] = df_color['product_id'].apply( lambda x: x[-3:] )\n",
    "\n"
   ]
  },
  {
   "cell_type": "code",
   "execution_count": null,
   "id": "f631deeb",
   "metadata": {
    "ExecuteTime": {
     "end_time": "2021-05-31T14:54:13.354563Z",
     "start_time": "2021-05-31T14:54:13.349931Z"
    },
    "hidden": true
   },
   "outputs": [],
   "source": [
    "df_color"
   ]
  },
  {
   "cell_type": "code",
   "execution_count": null,
   "id": "4a0f2ccf",
   "metadata": {
    "ExecuteTime": {
     "end_time": "2021-05-31T22:40:08.227840Z",
     "start_time": "2021-05-31T22:40:08.206230Z"
    },
    "hidden": true
   },
   "outputs": [],
   "source": [
    "# composition\n",
    "product_composition_list = soup.find_all( 'div', class_='pdp-description-list-item' )\n",
    "product_composition = [list( filter( None, p.get_text().split( '\\n' ) ) ) for p in product_composition_list]\n",
    "\n",
    "# rename dataframe\n",
    "df_composition = pd.DataFrame(product_composition).T\n",
    "df_composition.columns = df_composition.iloc[0]\n",
    "\n",
    "# delete first row\n",
    "df_composition = df_composition.iloc[1:].fillna(method = 'ffill')\n",
    "\n",
    "# generate style id + color id\n",
    "df_composition['style_id'] = df_composition['Art. No.'].apply(lambda x: x[:-3])\n",
    "df_composition['color_id'] = df_composition['Art. No.'].apply(lambda x: x[-3:])\n",
    "\n",
    "# merge data color + composition\n",
    "\n",
    "data_sku = pd.merge( df_color, df_composition[['style_id', 'Fit', 'Composition']], how = 'left', on = 'style_id')"
   ]
  },
  {
   "cell_type": "code",
   "execution_count": null,
   "id": "c322b6de",
   "metadata": {
    "ExecuteTime": {
     "end_time": "2021-05-31T18:11:27.254060Z",
     "start_time": "2021-05-31T18:11:27.235095Z"
    },
    "hidden": true
   },
   "outputs": [],
   "source": [
    "df_composition.head()"
   ]
  },
  {
   "cell_type": "code",
   "execution_count": null,
   "id": "242328a2",
   "metadata": {
    "ExecuteTime": {
     "end_time": "2021-05-31T22:40:10.338918Z",
     "start_time": "2021-05-31T22:40:10.330395Z"
    },
    "hidden": true
   },
   "outputs": [],
   "source": [
    "data_sku"
   ]
  },
  {
   "cell_type": "markdown",
   "id": "aa6239ca",
   "metadata": {
    "heading_collapsed": true
   },
   "source": [
    "### Multiple product"
   ]
  },
  {
   "cell_type": "markdown",
   "id": "9793111b",
   "metadata": {},
   "source": [
    "# Loading Data (Web Scrapping)"
   ]
  },
  {
   "cell_type": "code",
   "execution_count": 1,
   "id": "f5e14627",
   "metadata": {
    "ExecuteTime": {
     "end_time": "2021-05-31T23:22:40.697770Z",
     "start_time": "2021-05-31T23:22:40.514250Z"
    }
   },
   "outputs": [],
   "source": [
    "import re\n",
    "import numpy as np\n",
    "import pandas as pd"
   ]
  },
  {
   "cell_type": "code",
   "execution_count": null,
   "id": "35d88a89",
   "metadata": {},
   "outputs": [],
   "source": [
    "data = pd.read_csv( '/Users/meigarom.lopes/repos/python-ds-ao-dev/Module01/\n",
    ",→products_hm.csv' )\n",
    "# product id\n",
    "data = data.dropna( subset=['product_id'] )\n",
    "data['product_id'] = data['product_id'].astype( int )\n",
    "# product name\n",
    "data['product_name'] = data['product_name'].apply( lambda x: x.replace( ' ',␣\n",
    ",→'_' ).lower() )\n",
    "                   \n",
    "# product price\n",
    "data['product_price'] = data['product_price'].apply( lambda x: x.replace( '$ ',␣\n",
    ",→'' ) ).astype( float )\n",
    "                   \n",
    "# scrapy datetime\n",
    "data['scrapy_datetime'] = pd.to_datetime( data['scrapy_datetime'],␣\n",
    ",→format='%Y-%m-%d %H:%M:%S' )\n",
    "                   \n",
    "# style id\n",
    "data['style_id'] = data['style_id'].astype( int )\n",
    "                   \n",
    "# color id\n",
    "data['color_id'] = data['color_id'].astype( int )\n",
    "                   \n",
    "# color name\n",
    "data['color_name'] = data['color_name'].apply( lambda x: x.replace( ' ', '_' ).\n",
    ",→replace( '/', '_' ).lower() if pd.notnull( x ) else x )\n",
    "                   \n",
    "# fit\n",
    "data['fit'] = data['fit'].apply( lambda x: x.replace( ' ', '_' ).lower() if pd.\n",
    ",→notnull( x ) else x )\n",
    "                   \n",
    "# size number\n",
    "data['size_number'] = data['size'].apply( lambda x: re.search( '\\d{3}cm', x ).\n",
    ",→group(0) if pd.notnull( x ) else x )\n",
    "                   \n",
    "data['size_number'] = data['size_number'].apply( lambda x: re.search( '\\d+', x␣\n",
    ",→).group(0) if pd.notnull( x ) else x )\n",
    "                   \n",
    "# size model\n",
    "        \n",
    "data['size_model'] = data['size'].str.extract( '(\\d+/\\\\d+)' )\n",
    "                   \n",
    "# composition\n",
    "data = data[~data['composition'].str.contains( 'Pocket lining:', na=False )]\n",
    "data = data[~data['composition'].str.contains( 'Lining:', na=False )]\n",
    "data = data[~data['composition'].str.contains( 'Shell:', na=False )]\n",
    "                   \n",
    "# drop duplicates\n",
    "data = data.drop_duplicates( subset=['product_id', 'product_category',␣\n",
    ",→'product_name', 'product_price',\n",
    "'scrapy_datetime', 'style_id', 'color_id',␣\n",
    ",→'color_name', 'fit'], keep='last' )\n",
    "                   \n",
    "# reset index\n",
    "data = data.reset_index( drop=True )\n",
    "                   \n",
    "# break composition by comma\n",
    "df1 = data['composition'].str.split( ',', expand=True )\n",
    "                   \n",
    "# cotton | polyester | elastano | elasterell\n",
    "df_ref = pd.DataFrame( index=np.arange( len( data ) ),␣\n",
    ",→columns=['cotton','polyester', 'elastane', 'elasterell'] )\n",
    "                   \n",
    "# cotton\n",
    "df_cotton = df1[0]\n",
    "                   \n",
    "df_cotton.name = 'cotton'\n",
    "df_ref = pd.concat( [df_ref, df_cotton ], axis=1 )\n",
    "df_ref = df_ref.iloc[:, ~df_ref.columns.duplicated( keep='last')]\n",
    "df_ref['cotton'] = df_ref['cotton'].fillna( 'Cotton 0%' )\n",
    "                   \n",
    "# polyester\n",
    "                \n",
    "df_polyester = df1.loc[df1[1].str.contains( 'Polyester', na=True ), 1]\n",
    "df_polyester.name = 'polyester'\n",
    "df_ref = pd.concat( [df_ref, df_polyester], axis=1 )\n",
    "df_ref = df_ref.iloc[:, ~df_ref.columns.duplicated( keep='last') ]\n",
    "df_ref['polyester'] = df_ref['polyester'].fillna( 'Polyester 0%' )\n",
    "                   \n",
    "# elastano\n",
    "df_elastane = df1.loc[df1[1].str.contains( 'Elastane', na=True ), 1]\n",
    "df_elastane.name = 'elastane'\n",
    "                   \n",
    "# combine elastane from both columns 1 and 2\n",
    "df_elastane = df_elastane.combine_first( df1[2] )\n",
    "df_ref = pd.concat( [df_ref, df_elastane], axis=1 )\n",
    "df_ref = df_ref.iloc[:, ~df_ref.columns.duplicated( keep='last') ]\n",
    "df_ref['elastane'] = df_ref['elastane'].fillna( 'Elastane 0%' )\n",
    "                   \n",
    "# elasterell\n",
    "df_elasterell = df1.loc[df1[1].str.contains( 'Elasterell', na=True ), 1]\n",
    "df_elasterell.name = 'elasterell'\n",
    "df_ref = pd.concat( [df_ref, df_elasterell], axis=1 )\n",
    "df_ref = df_ref.iloc[:, ~df_ref.columns.duplicated( keep='last') ]\n",
    "df_ref['elasterell'] = df_ref['elasterell'].fillna( 'Elasterell-P 0%' )\n",
    "                   \n",
    "# final join\n",
    "                \n",
    "data = pd.concat( [data, df_ref], axis=1 )\n",
    "                   \n",
    "# format composition data\n",
    "        \n",
    "data['cotton'] = data['cotton'].apply( lambda x: int( re.search( '\\d+', x ).\n",
    ",→group(0) ) / 100 if pd.notnull( x ) else x )\n",
    "data['polyester'] = data['polyester'].apply( lambda x: int( re.search( '\\d+', x␣\n",
    ",→).group(0) ) / 100 if pd.notnull( x ) else x )\n",
    "data['elastane'] = data['elastane'].apply( lambda x: int( re.search( '\\d+', x ).\n",
    ",→group(0) ) / 100 if pd.notnull( x ) else x )\n",
    "data['elasterell'] = data['elasterell'].apply( lambda x: int( re.search(␣\n",
    ",→'\\d+',x ).group(0) ) / 100 if pd.notnull( x ) else x )\n",
    "                   \n",
    "# Drop columns\n",
    "\n",
    "data = data.drop( columns=['size', 'product safety', 'composition'], axis=1 )\n",
    "# Drop duplicates\n",
    "            \n",
    "data = data.drop_duplicates()\n",
    "data.shape        \n",
    "        "
   ]
  }
 ],
 "metadata": {
  "kernelspec": {
   "display_name": "Python 3",
   "language": "python",
   "name": "python3"
  },
  "language_info": {
   "codemirror_mode": {
    "name": "ipython",
    "version": 3
   },
   "file_extension": ".py",
   "mimetype": "text/x-python",
   "name": "python",
   "nbconvert_exporter": "python",
   "pygments_lexer": "ipython3",
   "version": "3.9.1"
  },
  "toc": {
   "base_numbering": 1,
   "nav_menu": {},
   "number_sections": true,
   "sideBar": true,
   "skip_h1_title": false,
   "title_cell": "Table of Contents",
   "title_sidebar": "Contents",
   "toc_cell": false,
   "toc_position": {},
   "toc_section_display": true,
   "toc_window_display": false
  }
 },
 "nbformat": 4,
 "nbformat_minor": 5
}
