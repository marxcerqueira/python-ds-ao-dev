{
 "cells": [
  {
   "cell_type": "markdown",
   "id": "932442ec",
   "metadata": {},
   "source": [
    "\n",
    "# Python DS-ao-Dev"
   ]
  },
  {
   "cell_type": "markdown",
   "id": "b09cf467",
   "metadata": {},
   "source": [
    "## Bussiness Problem"
   ]
  },
  {
   "cell_type": "markdown",
   "id": "de93f19c",
   "metadata": {},
   "source": [
    "**Star Jeans Company**\n",
    "\n",
    "- Eduardo e Marcelo são dois brasileiros, amigos e sócios de empreendimento. Depois de vários negócio bem sucedidos, eles estão planejando entrar no mercado de moda dos USA como um modelo de negócio do tipo E-commerce.\n",
    "\n",
    "- A idéia inicial é entrar no mercado com apenas um produto e para um público específico, no caso o produto seria calças Jenas para o público masculino. O objetivo é manter o custo de operação baixo e escalar a medida que forem conseguindo clientes.\n",
    "\n",
    "- Porém, mesmo com o produto de entrada e a audiência definidos, os dois sócios não tem experiência nesse mercado de moda e portanto não sabem definir coisas básicas como preço, o tipo de calça e o material para a fabricação de cada peça.\n",
    "\n",
    "- Assim, os dois sócios contrataram uma consultoria de Ciência de Dados para responder as seguintes perguntas: ]\n",
    "    1. Qual o melhor preço de venda para as calças? \n",
    "    2. Quantos tipos de calças e suas cores para o produto inicial? \n",
    "    3. Quais as matérias-prima necessárias para confeccionar as calças?\n",
    "    \n",
    "- As principais concorrentes da empresa Start Jeans são as americadas H&M e Macys."
   ]
  },
  {
   "cell_type": "markdown",
   "id": "ced630a8",
   "metadata": {},
   "source": [
    "## Solution Planning (Input-Output-Tasks)"
   ]
  },
  {
   "cell_type": "markdown",
   "id": "6f0b273c",
   "metadata": {},
   "source": [
    "**Bussiness Question**\n",
    "\n",
    "- Which is the best price for jeans?\n",
    "\n",
    "1. Input:\n",
    "    1. Fonte de dados\n",
    "        - Site da H&M: https://www2.hm.com/en_us/men/products/jeans.html\n",
    "        - Site da Macys: https://www.macys.com/shop/mens-clothing/mens-jeans\n",
    "    2. Ferramentas\n",
    "        - Python 3.8.0\n",
    "        - Bibliotecas de Webscrapping ( BS4, Selenium )\n",
    "        - PyCharm\n",
    "        - Jupyter Notebook ( Analise e prototipagens )\n",
    "        - Crontjob, Airflow\n",
    "        - Streamlit\n",
    "    \n",
    "2. Output:\n",
    "    1. A resposta para a pergunta.\n",
    "        - Mediana dos preços dos concorrents.\n",
    "    2. Formato da entrega\n",
    "        - Tabela ou gráfico\n",
    "    3. Local da entrega\n",
    "        - App Streamlit\n",
    "    \n",
    "3. Tasks:\n",
    "    1. Passo a passso para construir o cálculo da mediana ou média\n",
    "        - Realizar o calculo da mediana sobre o produto, tipo e cor\n",
    "    2. Definir o formato da entrega ( Visualização, Tabela, Frase )\n",
    "        - Gráfico de barras com a mediana dos preço dos produtos, por tipo e cor dos últimos 30 dia\n",
    "        - Tabela com as seguintes colunas: id | product_name | product_type | product_color | produ\n",
    "        - Definição do schema: Colunas e seu tipo\n",
    "        - Definição a infraestrutura de armazenamento ( SQLITE3 )\n",
    "        - Design do ETL ( Scripts de Extração, Transformação e Carga )\n",
    "        - Planejamento de Agendamento dos scripts ( dependencias entre os scripts )\n",
    "        - Fazer as visualizações\n",
    "        - Entrega do produto final\n",
    "    3. Decidir o local de entrega ( PowerBi, Telegram, Email, Streamlit, Intranet ),\n",
    "        - App com Streamlit"
   ]
  },
  {
   "cell_type": "markdown",
   "id": "59cf7cf1",
   "metadata": {
    "heading_collapsed": true
   },
   "source": [
    "## Bussiness Models"
   ]
  },
  {
   "cell_type": "markdown",
   "id": "f41a62ba",
   "metadata": {
    "hidden": true
   },
   "source": [
    "“Como você planeja ganhar dinheiro”, Michael Lewis\n",
    "\n",
    "“Um modelo de negócio descreve a lógica de criação, entrega e captura de valor por\n",
    "parte de uma organização”, Alexander Osterwalder"
   ]
  },
  {
   "cell_type": "markdown",
   "id": "25000fe7",
   "metadata": {
    "hidden": true
   },
   "source": [
    "- E-commerce:\n",
    "    1. Faturamento: Vendas de um produto.\n",
    "    2. Exemplo: Lojas Riachuelo, Submarino, Magazine Luiza, etc\n",
    "        \n",
    "- Software AS a Service ( SaaS ):\n",
    "    1. Faturamento: Assinatura mensal/anual de utilização ou por usuário.\n",
    "    2. Exemplo: Looker, Asana, Gmail, Salesforce.\n",
    "    \n",
    "- Serviço:\n",
    "    1. Faturamento: Prestação de serviço por tempo ou projeto.\n",
    "    2. Exemplo: Sul América, Porto Seguro, Mapfre.\n",
    "    \n",
    "- Mobile App:\n",
    "    1. Faturamento: Venda de upgrades.\n",
    "    2. Exemplo: Wildlife, Ubisoft, Games Mobile.\n",
    "    \n",
    "- Media Site:\n",
    "    1. Faturamento: Cobrança por clicks ou visualizações de um determinado anúncio.\n",
    "    2. Exemplo: Facebook, Google, UOL, G1, etc.\n",
    "    \n",
    "- Marketplace:\n",
    "    1. Faturamento: Taxa sobre a transação entre o passageiro e o motorista.\n",
    "    2. Exemplo: Uber, Ifood, 99, Elo7, Submarino."
   ]
  },
  {
   "cell_type": "markdown",
   "id": "0d5df70f",
   "metadata": {},
   "source": [
    "## E-commerce Metrics"
   ]
  },
  {
   "cell_type": "code",
   "execution_count": null,
   "id": "66119830",
   "metadata": {},
   "outputs": [],
   "source": []
  },
  {
   "cell_type": "markdown",
   "id": "801068cb",
   "metadata": {},
   "source": [
    "- **Growth Metrics**:\n",
    "    1. Porcentagem do Marketshare\n",
    "    2. Número de Clientes Novos\n",
    "- **Revenue Metrics**:\n",
    "    1. Número de Vendas\n",
    "    2. Ticket Médio\n",
    "    3. LTV ( Long Time Value )\n",
    "    4. Recência Média\n",
    "    5. Basket Size Médio\n",
    "    6. Markup médio\n",
    "- **Cost Metrics**:\n",
    "    1. CAC ( Custo de aquisição de Clientes )\n",
    "    2. Desconto médio\n",
    "    3. Custo de Produção\n",
    "    4. Taxa de devolução\n",
    "    5. Custos Fixos ( Folha de pagamento, escritório, softwares )\n",
    "    6. Impostos"
   ]
  },
  {
   "cell_type": "markdown",
   "id": "bbb7738e",
   "metadata": {},
   "source": [
    "#Ecommerce Products Trees#\n",
    "\n",
    "Style ID\n",
    "    -> Product ID\n",
    "    -> Color ID\n",
    "    -> SKU\n",
    "    \n",
    "Style ID -> Jeans Slim (tipo da roupa da categoria)\n",
    "    Style ID + Color ID -> Product ID (estilo mais a cor)\n",
    "    Style ID + Color ID + Size ID -> SKU (Granularidade mínima de um ecommerce) (estilo+cor+tamanho)"
   ]
  },
  {
   "cell_type": "code",
   "execution_count": null,
   "id": "e5b4b5c5",
   "metadata": {},
   "outputs": [],
   "source": []
  },
  {
   "cell_type": "code",
   "execution_count": null,
   "id": "0a9bc66b",
   "metadata": {
    "ExecuteTime": {
     "end_time": "2021-05-31T22:36:59.111827Z",
     "start_time": "2021-05-31T22:36:59.090500Z"
    }
   },
   "outputs": [],
   "source": [
    "from IPython.display import Image\n",
    "Image(filename='/home/marxcerqueira/repos/Data-Science-Projects/pa005_insiders_clustering/pa005_marx_cerqueira/reports/figures/mapa_metricas_e_commerce.png')"
   ]
  },
  {
   "cell_type": "markdown",
   "id": "b5cfe2c2",
   "metadata": {},
   "source": [
    "## O QUE É UMA API?"
   ]
  },
  {
   "cell_type": "markdown",
   "id": "b38288e0",
   "metadata": {},
   "source": [
    "Application Programming Interface\n",
    "\n",
    "é uma classe com alguns métodos (contratos), estabele o que a função vai receber e vai entregar como resultado\n",
    "\n",
    "1. é um software intermediário que permite com que duas aplicações troquem mensagens entre si.\n",
    "2. é uma forma de comunicação entre dois sistemas\n",
    "3. é uma forma de fornecer um produto/serviço sem expor todo o desenvolvimento interno"
   ]
  },
  {
   "cell_type": "markdown",
   "id": "f16c083b",
   "metadata": {},
   "source": [
    "requisições:\n",
    "\n",
    "são pedidos para a API onde o requisitante fornece dados de entrada e recebe um objeto como saída.Os pedidos são feitos através dos métodos implementados na API"
   ]
  },
  {
   "cell_type": "markdown",
   "id": "10932756",
   "metadata": {},
   "source": [
    "\n",
    "paginação:\n",
    "\n",
    "    quando uma api tem um limite especifico de retorno de html, principalmente em pagina de produtos.\n",
    "    \n",
    "    ao tentar extrair grandes volumes, pode travar a API, por isso ela limita quantidade de produtos por paginas.\n",
    "    \n",
    "    \n",
    " atributos html\n",
    " \n",
    "     page size é o tamanho da vitrine naquele momento\n",
    "     offset para começar no produto X"
   ]
  },
  {
   "cell_type": "markdown",
   "id": "771623b6",
   "metadata": {},
   "source": [
    "# Imports"
   ]
  },
  {
   "cell_type": "code",
   "execution_count": 15,
   "id": "56ce2616",
   "metadata": {
    "ExecuteTime": {
     "end_time": "2021-12-13T15:15:17.089584Z",
     "start_time": "2021-12-13T15:15:17.083337Z"
    }
   },
   "outputs": [],
   "source": [
    "import pandas as pd\n",
    "import numpy as np\n",
    "\n",
    "from datetime import datetime\n",
    "\n",
    "from bs4 import BeautifulSoup\n",
    "import requests"
   ]
  },
  {
   "cell_type": "markdown",
   "id": "2f8e35db",
   "metadata": {},
   "source": [
    "# Loading Data (Web Scrapping)"
   ]
  },
  {
   "cell_type": "markdown",
   "id": "b4d7a012",
   "metadata": {},
   "source": [
    "## Beautiful Soup - Pratica I"
   ]
  },
  {
   "cell_type": "code",
   "execution_count": null,
   "id": "a49dd108",
   "metadata": {
    "ExecuteTime": {
     "end_time": "2021-05-31T13:01:39.367511Z",
     "start_time": "2021-05-31T13:01:39.365863Z"
    }
   },
   "outputs": [],
   "source": [
    "# Preciso extrair:\n",
    "    # id\n",
    "    # product_name\n",
    "    # product_type\n",
    "    # product_color\n",
    "    # composition\n",
    "    # priceb"
   ]
  },
  {
   "cell_type": "code",
   "execution_count": 35,
   "id": "97e9d582",
   "metadata": {
    "ExecuteTime": {
     "end_time": "2021-12-13T16:14:22.709302Z",
     "start_time": "2021-12-13T16:14:22.484565Z"
    }
   },
   "outputs": [],
   "source": [
    "url = 'https://www2.hm.com/en_us/men/products/jeans.html'\n",
    "\n",
    "headers = {'user-agent': 'my-app/0.0.1'}\n",
    "page = requests.get(url, headers = headers)"
   ]
  },
  {
   "cell_type": "code",
   "execution_count": 36,
   "id": "e3da551a",
   "metadata": {
    "ExecuteTime": {
     "end_time": "2021-12-13T16:14:24.001076Z",
     "start_time": "2021-12-13T16:14:23.834324Z"
    }
   },
   "outputs": [],
   "source": [
    "soup = BeautifulSoup(page.text, 'html.parser')"
   ]
  },
  {
   "cell_type": "code",
   "execution_count": 37,
   "id": "b16079e3",
   "metadata": {
    "ExecuteTime": {
     "end_time": "2021-12-13T16:14:26.513228Z",
     "start_time": "2021-12-13T16:14:26.492734Z"
    }
   },
   "outputs": [],
   "source": [
    "#website showcase\n",
    "products = soup.find('ul', class_= 'products-listing small') #find retorna apenas 1 elemento, pois temos apenas 1 UL, uma vitrine, find_all retorna lista"
   ]
  },
  {
   "cell_type": "code",
   "execution_count": 38,
   "id": "2f26fe34",
   "metadata": {
    "ExecuteTime": {
     "end_time": "2021-12-13T16:14:35.648358Z",
     "start_time": "2021-12-13T16:14:35.640914Z"
    },
    "scrolled": true
   },
   "outputs": [
    {
     "data": {
      "text/plain": [
       "36"
      ]
     },
     "execution_count": 38,
     "metadata": {},
     "output_type": "execute_result"
    }
   ],
   "source": [
    "#quantidade de produtos por vitrine (1 pag)\n",
    "product_list = products.find_all('article', class_= 'hm-product-item')\n",
    "len(product_list)"
   ]
  },
  {
   "cell_type": "code",
   "execution_count": 39,
   "id": "7e69c10d",
   "metadata": {
    "ExecuteTime": {
     "end_time": "2021-12-13T16:14:49.312623Z",
     "start_time": "2021-12-13T16:14:49.304409Z"
    }
   },
   "outputs": [
    {
     "data": {
      "text/plain": [
       "'0985197004'"
      ]
     },
     "execution_count": 39,
     "metadata": {},
     "output_type": "execute_result"
    }
   ],
   "source": [
    "#teste product_id\n",
    "product_list[4].get('data-articlecode')"
   ]
  },
  {
   "cell_type": "code",
   "execution_count": 40,
   "id": "dbeb1050",
   "metadata": {
    "ExecuteTime": {
     "end_time": "2021-12-13T16:14:53.140411Z",
     "start_time": "2021-12-13T16:14:53.123383Z"
    }
   },
   "outputs": [],
   "source": [
    "#list comprehension to get all products id and products category from the first page of \n",
    "product_list = products.find_all('article', class_ = 'hm-product-item')\n",
    "\n",
    "# product id\n",
    "product_id = [p.get('data-articlecode') for p in product_list]\n",
    "\n",
    "# product_category\n",
    "product_category = [p.get('data-category') for p in product_list]"
   ]
  },
  {
   "cell_type": "code",
   "execution_count": 41,
   "id": "eacda31d",
   "metadata": {
    "ExecuteTime": {
     "end_time": "2021-12-13T16:14:54.618098Z",
     "start_time": "2021-12-13T16:14:54.603788Z"
    }
   },
   "outputs": [],
   "source": [
    "# product name\n",
    "product_list = products.find_all('a', class_ = 'link')\n",
    "product_name = [p.get_text() for p in product_list]"
   ]
  },
  {
   "cell_type": "code",
   "execution_count": 42,
   "id": "0cfd5aa5",
   "metadata": {
    "ExecuteTime": {
     "end_time": "2021-12-13T16:14:56.207531Z",
     "start_time": "2021-12-13T16:14:56.173626Z"
    }
   },
   "outputs": [],
   "source": [
    "#price\n",
    "product_list = soup.find_all('span', class_ = 'price regular')\n",
    "product_price = [p.get_text() for p in product_list]"
   ]
  },
  {
   "cell_type": "code",
   "execution_count": null,
   "id": "90a63aa3",
   "metadata": {
    "ExecuteTime": {
     "end_time": "2021-05-31T13:58:33.423541Z",
     "start_time": "2021-05-31T13:58:33.419722Z"
    }
   },
   "outputs": [],
   "source": [
    "# product color"
   ]
  },
  {
   "cell_type": "code",
   "execution_count": null,
   "id": "0cec94af",
   "metadata": {
    "ExecuteTime": {
     "end_time": "2021-05-31T13:58:38.905585Z",
     "start_time": "2021-05-31T13:58:38.901422Z"
    }
   },
   "outputs": [],
   "source": [
    "# product composition"
   ]
  },
  {
   "cell_type": "code",
   "execution_count": 46,
   "id": "57ba4214",
   "metadata": {
    "ExecuteTime": {
     "end_time": "2021-12-13T16:18:24.251613Z",
     "start_time": "2021-12-13T16:18:24.234638Z"
    }
   },
   "outputs": [
    {
     "data": {
      "text/html": [
       "<div>\n",
       "<style scoped>\n",
       "    .dataframe tbody tr th:only-of-type {\n",
       "        vertical-align: middle;\n",
       "    }\n",
       "\n",
       "    .dataframe tbody tr th {\n",
       "        vertical-align: top;\n",
       "    }\n",
       "\n",
       "    .dataframe thead th {\n",
       "        text-align: right;\n",
       "    }\n",
       "</style>\n",
       "<table border=\"1\" class=\"dataframe\">\n",
       "  <thead>\n",
       "    <tr style=\"text-align: right;\">\n",
       "      <th></th>\n",
       "      <th>product_id</th>\n",
       "      <th>product_category</th>\n",
       "      <th>product_name</th>\n",
       "      <th>product_price</th>\n",
       "      <th>scrapy_datetime</th>\n",
       "    </tr>\n",
       "  </thead>\n",
       "  <tbody>\n",
       "    <tr>\n",
       "      <th>0</th>\n",
       "      <td>0985197001</td>\n",
       "      <td>men_jeans_slim</td>\n",
       "      <td>Slim Jeans</td>\n",
       "      <td>$ 19.99</td>\n",
       "      <td>2021-12-13 13:18:24</td>\n",
       "    </tr>\n",
       "    <tr>\n",
       "      <th>1</th>\n",
       "      <td>0690449043</td>\n",
       "      <td>men_jeans_ripped</td>\n",
       "      <td>Skinny Jeans</td>\n",
       "      <td>$ 39.99</td>\n",
       "      <td>2021-12-13 13:18:24</td>\n",
       "    </tr>\n",
       "    <tr>\n",
       "      <th>2</th>\n",
       "      <td>0690449051</td>\n",
       "      <td>men_jeans_ripped</td>\n",
       "      <td>Skinny Jeans</td>\n",
       "      <td>$ 39.99</td>\n",
       "      <td>2021-12-13 13:18:24</td>\n",
       "    </tr>\n",
       "    <tr>\n",
       "      <th>3</th>\n",
       "      <td>0751994034</td>\n",
       "      <td>men_jeans_slim</td>\n",
       "      <td>Slim Jeans</td>\n",
       "      <td>$ 29.99</td>\n",
       "      <td>2021-12-13 13:18:24</td>\n",
       "    </tr>\n",
       "    <tr>\n",
       "      <th>4</th>\n",
       "      <td>0985197004</td>\n",
       "      <td>men_jeans_slim</td>\n",
       "      <td>Slim Jeans</td>\n",
       "      <td>$ 19.99</td>\n",
       "      <td>2021-12-13 13:18:24</td>\n",
       "    </tr>\n",
       "  </tbody>\n",
       "</table>\n",
       "</div>"
      ],
      "text/plain": [
       "   product_id  product_category  product_name product_price  \\\n",
       "0  0985197001    men_jeans_slim    Slim Jeans       $ 19.99   \n",
       "1  0690449043  men_jeans_ripped  Skinny Jeans       $ 39.99   \n",
       "2  0690449051  men_jeans_ripped  Skinny Jeans       $ 39.99   \n",
       "3  0751994034    men_jeans_slim    Slim Jeans       $ 29.99   \n",
       "4  0985197004    men_jeans_slim    Slim Jeans       $ 19.99   \n",
       "\n",
       "       scrapy_datetime  \n",
       "0  2021-12-13 13:18:24  \n",
       "1  2021-12-13 13:18:24  \n",
       "2  2021-12-13 13:18:24  \n",
       "3  2021-12-13 13:18:24  \n",
       "4  2021-12-13 13:18:24  "
      ]
     },
     "execution_count": 46,
     "metadata": {},
     "output_type": "execute_result"
    }
   ],
   "source": [
    "data = pd.DataFrame([product_id, product_category, product_name, product_price]).T\n",
    "data.columns = ['product_id', 'product_category', 'product_name', 'product_price']\n",
    "\n",
    "#scrapy time \n",
    "data['scrapy_datetime'] = datetime.now().strftime('%Y-%m-%d %H:%M:%S')\n",
    "data.head()"
   ]
  },
  {
   "cell_type": "markdown",
   "id": "f29e1420",
   "metadata": {
    "heading_collapsed": true
   },
   "source": [
    "## Beautiful Soup - Pratica II"
   ]
  },
  {
   "cell_type": "code",
   "execution_count": 19,
   "id": "34151350",
   "metadata": {
    "ExecuteTime": {
     "end_time": "2021-12-06T20:17:58.779663Z",
     "start_time": "2021-12-06T20:17:58.588268Z"
    },
    "hidden": true
   },
   "outputs": [],
   "source": [
    "url = 'https://www2.hm.com/en_us/men/products/jeans.html'\n",
    "\n",
    "headers = {'user-agent': 'my-app/0.0.1'}\n",
    "\n",
    "page = requests.get(url, headers = headers)"
   ]
  },
  {
   "cell_type": "code",
   "execution_count": 20,
   "id": "c1d5d36c",
   "metadata": {
    "ExecuteTime": {
     "end_time": "2021-12-06T20:17:59.935916Z",
     "start_time": "2021-12-06T20:17:59.738037Z"
    },
    "hidden": true
   },
   "outputs": [],
   "source": [
    "soup = BeautifulSoup(page.text, 'html.parser')"
   ]
  },
  {
   "cell_type": "code",
   "execution_count": 21,
   "id": "ec5188c2",
   "metadata": {
    "ExecuteTime": {
     "end_time": "2021-12-06T20:18:00.555755Z",
     "start_time": "2021-12-06T20:18:00.528191Z"
    },
    "hidden": true,
    "scrolled": true
   },
   "outputs": [
    {
     "data": {
      "text/plain": [
       "'79'"
      ]
     },
     "execution_count": 21,
     "metadata": {},
     "output_type": "execute_result"
    }
   ],
   "source": [
    "# get all the items\n",
    "total_item = soup.find_all('h2', class_ = 'load-more-heading')[0].get('data-total')\n",
    "total_item"
   ]
  },
  {
   "cell_type": "code",
   "execution_count": 22,
   "id": "6cb3b3ff",
   "metadata": {
    "ExecuteTime": {
     "end_time": "2021-12-06T20:18:01.406849Z",
     "start_time": "2021-12-06T20:18:01.398155Z"
    },
    "hidden": true
   },
   "outputs": [
    {
     "data": {
      "text/plain": [
       "3.0"
      ]
     },
     "execution_count": 22,
     "metadata": {},
     "output_type": "execute_result"
    }
   ],
   "source": [
    "# get the page number (paginação)\n",
    "page_number = np.ceil(int(total_item)/36) #np.ceil rounds up the number\n",
    "page_number"
   ]
  },
  {
   "cell_type": "code",
   "execution_count": 23,
   "id": "87dadc67",
   "metadata": {
    "ExecuteTime": {
     "end_time": "2021-12-06T20:18:02.497985Z",
     "start_time": "2021-12-06T20:18:02.489248Z"
    },
    "hidden": true
   },
   "outputs": [
    {
     "data": {
      "text/plain": [
       "'https://www2.hm.com/en_us/men/products/jeans.html?page-size=108'"
      ]
     },
     "execution_count": 23,
     "metadata": {},
     "output_type": "execute_result"
    }
   ],
   "source": [
    "url02 = url + '?page-size=' + str(int(page_number*36))\n",
    "url02"
   ]
  },
  {
   "cell_type": "markdown",
   "id": "d74f056b",
   "metadata": {},
   "source": [
    "## Beautiful Soup - Pratica III"
   ]
  },
  {
   "cell_type": "markdown",
   "id": "a753b813",
   "metadata": {},
   "source": [
    "### One product - Web scraping color and composition for one product"
   ]
  },
  {
   "cell_type": "code",
   "execution_count": 24,
   "id": "8ceae234",
   "metadata": {
    "ExecuteTime": {
     "end_time": "2021-12-13T15:45:49.666104Z",
     "start_time": "2021-12-13T15:45:47.989276Z"
    }
   },
   "outputs": [],
   "source": [
    "#API request\n",
    "url = 'https://www2.hm.com/en_us/productpage.0636207010.html'\n",
    "\n",
    "headers = {'user-agent': 'my-app/0.0.1'}\n",
    "page = requests.get(url, headers = headers)\n",
    "\n",
    "# BeatifulSoup object\n",
    "soup = BeautifulSoup(page.text, 'html.parser')\n",
    "\n",
    "## ================ color name dataframe =============\n",
    "# color name\n",
    "product_list = soup.find_all('a', class_ = 'filter-option miniature')\n",
    "color_name = [p.get('data-color') for p in product_list]\n",
    "\n",
    "#product id\n",
    "product_id = [p.get('data-articlecode') for p in product_list]\n",
    "\n",
    "df_color = pd.DataFrame([product_id, color_name]).T\n",
    "df_color.columns = ['product_id', 'color_name']\n",
    "\n",
    "#merge 2 dataframes by style\n",
    "## the merge was done by style because the granularity, one style has different compositions and colors\n",
    "\n",
    "#create style_id and color_id\n",
    "df_color['style_id'] = df_color['product_id'].apply(lambda x: x[:-3] )\n",
    "df_color['color_id'] = df_color['product_id'].apply(lambda x: x[-3:])\n",
    "\n",
    "## ================ composition dataframe =============\n",
    "#composition\n",
    "product_composition_list = soup.find_all('div', class_ = 'pdp-description-list-item')\n",
    "product_composition = [list(filter(None, p.get_text().split('\\n')) )for p in product_composition_list]\n",
    "\n",
    "#rename dataframe\n",
    "df_composition = pd.DataFrame(product_composition).T\n",
    "df_composition.columns = df_composition.iloc[0]\n",
    "\n",
    "#delete first row and filling None values with method ffill which replaces the none values with the previous row data\n",
    "df_composition = df_composition.iloc[1:].fillna(method = 'ffill')\n",
    "\n",
    "#merge 2 dataframes by style\n",
    "## the merge was done by style because the granularity, one style has different compositions and colors\n",
    "\n",
    "#create style_id and color_id\n",
    "df_composition['style_id'] = df_composition['Art. No.'].apply(lambda x: x[:-3] )\n",
    "df_composition['color_id'] = df_composition['Art. No.'].apply(lambda x: x[-3:])\n",
    "\n",
    "#merge dataframes color + composition\n",
    "data_sku = pd.merge(df_color, df_composition[['style_id','Fit', 'Composition']], how = 'left', on = 'style_id')"
   ]
  },
  {
   "cell_type": "code",
   "execution_count": 25,
   "id": "a00d8413",
   "metadata": {
    "ExecuteTime": {
     "end_time": "2021-12-13T15:45:49.675912Z",
     "start_time": "2021-12-13T15:45:49.667167Z"
    }
   },
   "outputs": [
    {
     "data": {
      "text/html": [
       "<div>\n",
       "<style scoped>\n",
       "    .dataframe tbody tr th:only-of-type {\n",
       "        vertical-align: middle;\n",
       "    }\n",
       "\n",
       "    .dataframe tbody tr th {\n",
       "        vertical-align: top;\n",
       "    }\n",
       "\n",
       "    .dataframe thead th {\n",
       "        text-align: right;\n",
       "    }\n",
       "</style>\n",
       "<table border=\"1\" class=\"dataframe\">\n",
       "  <thead>\n",
       "    <tr style=\"text-align: right;\">\n",
       "      <th></th>\n",
       "      <th>product_id</th>\n",
       "      <th>color_name</th>\n",
       "      <th>style_id</th>\n",
       "      <th>color_id</th>\n",
       "      <th>Fit</th>\n",
       "      <th>Composition</th>\n",
       "    </tr>\n",
       "  </thead>\n",
       "  <tbody>\n",
       "    <tr>\n",
       "      <th>0</th>\n",
       "      <td>0636207001</td>\n",
       "      <td>Dark denim blue</td>\n",
       "      <td>0636207</td>\n",
       "      <td>001</td>\n",
       "      <td>Slim fit</td>\n",
       "      <td>Cotton 88%, Polyester 10%, Spandex 2%</td>\n",
       "    </tr>\n",
       "    <tr>\n",
       "      <th>1</th>\n",
       "      <td>0636207001</td>\n",
       "      <td>Dark denim blue</td>\n",
       "      <td>0636207</td>\n",
       "      <td>001</td>\n",
       "      <td>Slim fit</td>\n",
       "      <td>Pocket lining: Cotton 100%</td>\n",
       "    </tr>\n",
       "    <tr>\n",
       "      <th>2</th>\n",
       "      <td>0636207002</td>\n",
       "      <td>Dark gray denim</td>\n",
       "      <td>0636207</td>\n",
       "      <td>002</td>\n",
       "      <td>Slim fit</td>\n",
       "      <td>Cotton 88%, Polyester 10%, Spandex 2%</td>\n",
       "    </tr>\n",
       "    <tr>\n",
       "      <th>3</th>\n",
       "      <td>0636207002</td>\n",
       "      <td>Dark gray denim</td>\n",
       "      <td>0636207</td>\n",
       "      <td>002</td>\n",
       "      <td>Slim fit</td>\n",
       "      <td>Pocket lining: Cotton 100%</td>\n",
       "    </tr>\n",
       "    <tr>\n",
       "      <th>4</th>\n",
       "      <td>0636207004</td>\n",
       "      <td>Denim blue</td>\n",
       "      <td>0636207</td>\n",
       "      <td>004</td>\n",
       "      <td>Slim fit</td>\n",
       "      <td>Cotton 88%, Polyester 10%, Spandex 2%</td>\n",
       "    </tr>\n",
       "    <tr>\n",
       "      <th>5</th>\n",
       "      <td>0636207004</td>\n",
       "      <td>Denim blue</td>\n",
       "      <td>0636207</td>\n",
       "      <td>004</td>\n",
       "      <td>Slim fit</td>\n",
       "      <td>Pocket lining: Cotton 100%</td>\n",
       "    </tr>\n",
       "    <tr>\n",
       "      <th>6</th>\n",
       "      <td>0636207005</td>\n",
       "      <td>Gray</td>\n",
       "      <td>0636207</td>\n",
       "      <td>005</td>\n",
       "      <td>Slim fit</td>\n",
       "      <td>Cotton 88%, Polyester 10%, Spandex 2%</td>\n",
       "    </tr>\n",
       "    <tr>\n",
       "      <th>7</th>\n",
       "      <td>0636207005</td>\n",
       "      <td>Gray</td>\n",
       "      <td>0636207</td>\n",
       "      <td>005</td>\n",
       "      <td>Slim fit</td>\n",
       "      <td>Pocket lining: Cotton 100%</td>\n",
       "    </tr>\n",
       "    <tr>\n",
       "      <th>8</th>\n",
       "      <td>0636207006</td>\n",
       "      <td>Black</td>\n",
       "      <td>0636207</td>\n",
       "      <td>006</td>\n",
       "      <td>Slim fit</td>\n",
       "      <td>Cotton 88%, Polyester 10%, Spandex 2%</td>\n",
       "    </tr>\n",
       "    <tr>\n",
       "      <th>9</th>\n",
       "      <td>0636207006</td>\n",
       "      <td>Black</td>\n",
       "      <td>0636207</td>\n",
       "      <td>006</td>\n",
       "      <td>Slim fit</td>\n",
       "      <td>Pocket lining: Cotton 100%</td>\n",
       "    </tr>\n",
       "    <tr>\n",
       "      <th>10</th>\n",
       "      <td>0636207011</td>\n",
       "      <td>Midnight blue</td>\n",
       "      <td>0636207</td>\n",
       "      <td>011</td>\n",
       "      <td>Slim fit</td>\n",
       "      <td>Cotton 88%, Polyester 10%, Spandex 2%</td>\n",
       "    </tr>\n",
       "    <tr>\n",
       "      <th>11</th>\n",
       "      <td>0636207011</td>\n",
       "      <td>Midnight blue</td>\n",
       "      <td>0636207</td>\n",
       "      <td>011</td>\n",
       "      <td>Slim fit</td>\n",
       "      <td>Pocket lining: Cotton 100%</td>\n",
       "    </tr>\n",
       "    <tr>\n",
       "      <th>12</th>\n",
       "      <td>0636207014</td>\n",
       "      <td>Dark gray</td>\n",
       "      <td>0636207</td>\n",
       "      <td>014</td>\n",
       "      <td>Slim fit</td>\n",
       "      <td>Cotton 88%, Polyester 10%, Spandex 2%</td>\n",
       "    </tr>\n",
       "    <tr>\n",
       "      <th>13</th>\n",
       "      <td>0636207014</td>\n",
       "      <td>Dark gray</td>\n",
       "      <td>0636207</td>\n",
       "      <td>014</td>\n",
       "      <td>Slim fit</td>\n",
       "      <td>Pocket lining: Cotton 100%</td>\n",
       "    </tr>\n",
       "    <tr>\n",
       "      <th>14</th>\n",
       "      <td>0636207015</td>\n",
       "      <td>Denim blue</td>\n",
       "      <td>0636207</td>\n",
       "      <td>015</td>\n",
       "      <td>Slim fit</td>\n",
       "      <td>Cotton 88%, Polyester 10%, Spandex 2%</td>\n",
       "    </tr>\n",
       "    <tr>\n",
       "      <th>15</th>\n",
       "      <td>0636207015</td>\n",
       "      <td>Denim blue</td>\n",
       "      <td>0636207</td>\n",
       "      <td>015</td>\n",
       "      <td>Slim fit</td>\n",
       "      <td>Pocket lining: Cotton 100%</td>\n",
       "    </tr>\n",
       "    <tr>\n",
       "      <th>16</th>\n",
       "      <td>0636207017</td>\n",
       "      <td>White</td>\n",
       "      <td>0636207</td>\n",
       "      <td>017</td>\n",
       "      <td>Slim fit</td>\n",
       "      <td>Cotton 88%, Polyester 10%, Spandex 2%</td>\n",
       "    </tr>\n",
       "    <tr>\n",
       "      <th>17</th>\n",
       "      <td>0636207017</td>\n",
       "      <td>White</td>\n",
       "      <td>0636207</td>\n",
       "      <td>017</td>\n",
       "      <td>Slim fit</td>\n",
       "      <td>Pocket lining: Cotton 100%</td>\n",
       "    </tr>\n",
       "    <tr>\n",
       "      <th>18</th>\n",
       "      <td>0636207019</td>\n",
       "      <td>Pale denim blue</td>\n",
       "      <td>0636207</td>\n",
       "      <td>019</td>\n",
       "      <td>Slim fit</td>\n",
       "      <td>Cotton 88%, Polyester 10%, Spandex 2%</td>\n",
       "    </tr>\n",
       "    <tr>\n",
       "      <th>19</th>\n",
       "      <td>0636207019</td>\n",
       "      <td>Pale denim blue</td>\n",
       "      <td>0636207</td>\n",
       "      <td>019</td>\n",
       "      <td>Slim fit</td>\n",
       "      <td>Pocket lining: Cotton 100%</td>\n",
       "    </tr>\n",
       "  </tbody>\n",
       "</table>\n",
       "</div>"
      ],
      "text/plain": [
       "    product_id       color_name style_id color_id       Fit  \\\n",
       "0   0636207001  Dark denim blue  0636207      001  Slim fit   \n",
       "1   0636207001  Dark denim blue  0636207      001  Slim fit   \n",
       "2   0636207002  Dark gray denim  0636207      002  Slim fit   \n",
       "3   0636207002  Dark gray denim  0636207      002  Slim fit   \n",
       "4   0636207004       Denim blue  0636207      004  Slim fit   \n",
       "5   0636207004       Denim blue  0636207      004  Slim fit   \n",
       "6   0636207005             Gray  0636207      005  Slim fit   \n",
       "7   0636207005             Gray  0636207      005  Slim fit   \n",
       "8   0636207006            Black  0636207      006  Slim fit   \n",
       "9   0636207006            Black  0636207      006  Slim fit   \n",
       "10  0636207011    Midnight blue  0636207      011  Slim fit   \n",
       "11  0636207011    Midnight blue  0636207      011  Slim fit   \n",
       "12  0636207014        Dark gray  0636207      014  Slim fit   \n",
       "13  0636207014        Dark gray  0636207      014  Slim fit   \n",
       "14  0636207015       Denim blue  0636207      015  Slim fit   \n",
       "15  0636207015       Denim blue  0636207      015  Slim fit   \n",
       "16  0636207017            White  0636207      017  Slim fit   \n",
       "17  0636207017            White  0636207      017  Slim fit   \n",
       "18  0636207019  Pale denim blue  0636207      019  Slim fit   \n",
       "19  0636207019  Pale denim blue  0636207      019  Slim fit   \n",
       "\n",
       "                              Composition  \n",
       "0   Cotton 88%, Polyester 10%, Spandex 2%  \n",
       "1              Pocket lining: Cotton 100%  \n",
       "2   Cotton 88%, Polyester 10%, Spandex 2%  \n",
       "3              Pocket lining: Cotton 100%  \n",
       "4   Cotton 88%, Polyester 10%, Spandex 2%  \n",
       "5              Pocket lining: Cotton 100%  \n",
       "6   Cotton 88%, Polyester 10%, Spandex 2%  \n",
       "7              Pocket lining: Cotton 100%  \n",
       "8   Cotton 88%, Polyester 10%, Spandex 2%  \n",
       "9              Pocket lining: Cotton 100%  \n",
       "10  Cotton 88%, Polyester 10%, Spandex 2%  \n",
       "11             Pocket lining: Cotton 100%  \n",
       "12  Cotton 88%, Polyester 10%, Spandex 2%  \n",
       "13             Pocket lining: Cotton 100%  \n",
       "14  Cotton 88%, Polyester 10%, Spandex 2%  \n",
       "15             Pocket lining: Cotton 100%  \n",
       "16  Cotton 88%, Polyester 10%, Spandex 2%  \n",
       "17             Pocket lining: Cotton 100%  \n",
       "18  Cotton 88%, Polyester 10%, Spandex 2%  \n",
       "19             Pocket lining: Cotton 100%  "
      ]
     },
     "execution_count": 25,
     "metadata": {},
     "output_type": "execute_result"
    }
   ],
   "source": [
    "data_sku"
   ]
  },
  {
   "cell_type": "code",
   "execution_count": 18,
   "id": "b976d68e",
   "metadata": {
    "ExecuteTime": {
     "end_time": "2021-12-13T15:33:36.986243Z",
     "start_time": "2021-12-13T15:33:36.970726Z"
    }
   },
   "outputs": [],
   "source": []
  },
  {
   "cell_type": "code",
   "execution_count": 16,
   "id": "e4422498",
   "metadata": {
    "ExecuteTime": {
     "end_time": "2021-12-13T15:31:32.252233Z",
     "start_time": "2021-12-13T15:31:32.231595Z"
    }
   },
   "outputs": [],
   "source": []
  },
  {
   "cell_type": "code",
   "execution_count": 17,
   "id": "d3be16d5",
   "metadata": {
    "ExecuteTime": {
     "end_time": "2021-12-13T15:31:33.841442Z",
     "start_time": "2021-12-13T15:31:33.826597Z"
    }
   },
   "outputs": [
    {
     "data": {
      "text/html": [
       "<div>\n",
       "<style scoped>\n",
       "    .dataframe tbody tr th:only-of-type {\n",
       "        vertical-align: middle;\n",
       "    }\n",
       "\n",
       "    .dataframe tbody tr th {\n",
       "        vertical-align: top;\n",
       "    }\n",
       "\n",
       "    .dataframe thead th {\n",
       "        text-align: right;\n",
       "    }\n",
       "</style>\n",
       "<table border=\"1\" class=\"dataframe\">\n",
       "  <thead>\n",
       "    <tr style=\"text-align: right;\">\n",
       "      <th></th>\n",
       "      <th>Fit</th>\n",
       "      <th>Composition</th>\n",
       "      <th>Art. No.</th>\n",
       "      <th>style_id</th>\n",
       "      <th>color_id</th>\n",
       "    </tr>\n",
       "  </thead>\n",
       "  <tbody>\n",
       "    <tr>\n",
       "      <th>1</th>\n",
       "      <td>Slim fit</td>\n",
       "      <td>Cotton 88%, Polyester 10%, Spandex 2%</td>\n",
       "      <td>0636207010</td>\n",
       "      <td>0636207</td>\n",
       "      <td>010</td>\n",
       "    </tr>\n",
       "    <tr>\n",
       "      <th>2</th>\n",
       "      <td>Slim fit</td>\n",
       "      <td>Pocket lining: Cotton 100%</td>\n",
       "      <td>0636207010</td>\n",
       "      <td>0636207</td>\n",
       "      <td>010</td>\n",
       "    </tr>\n",
       "  </tbody>\n",
       "</table>\n",
       "</div>"
      ],
      "text/plain": [
       "0       Fit                            Composition    Art. No. style_id  \\\n",
       "1  Slim fit  Cotton 88%, Polyester 10%, Spandex 2%  0636207010  0636207   \n",
       "2  Slim fit             Pocket lining: Cotton 100%  0636207010  0636207   \n",
       "\n",
       "0 color_id  \n",
       "1      010  \n",
       "2      010  "
      ]
     },
     "execution_count": 17,
     "metadata": {},
     "output_type": "execute_result"
    }
   ],
   "source": [
    "df_composition"
   ]
  },
  {
   "cell_type": "code",
   "execution_count": 19,
   "id": "ef067b0c",
   "metadata": {
    "ExecuteTime": {
     "end_time": "2021-12-13T15:33:38.564981Z",
     "start_time": "2021-12-13T15:33:38.539520Z"
    },
    "scrolled": false
   },
   "outputs": [
    {
     "data": {
      "text/html": [
       "<div>\n",
       "<style scoped>\n",
       "    .dataframe tbody tr th:only-of-type {\n",
       "        vertical-align: middle;\n",
       "    }\n",
       "\n",
       "    .dataframe tbody tr th {\n",
       "        vertical-align: top;\n",
       "    }\n",
       "\n",
       "    .dataframe thead th {\n",
       "        text-align: right;\n",
       "    }\n",
       "</style>\n",
       "<table border=\"1\" class=\"dataframe\">\n",
       "  <thead>\n",
       "    <tr style=\"text-align: right;\">\n",
       "      <th></th>\n",
       "      <th>product_id</th>\n",
       "      <th>color_name</th>\n",
       "      <th>style_id</th>\n",
       "      <th>color_id</th>\n",
       "    </tr>\n",
       "  </thead>\n",
       "  <tbody>\n",
       "    <tr>\n",
       "      <th>0</th>\n",
       "      <td>0636207001</td>\n",
       "      <td>Dark denim blue</td>\n",
       "      <td>0636207</td>\n",
       "      <td>001</td>\n",
       "    </tr>\n",
       "    <tr>\n",
       "      <th>1</th>\n",
       "      <td>0636207002</td>\n",
       "      <td>Dark gray denim</td>\n",
       "      <td>0636207</td>\n",
       "      <td>002</td>\n",
       "    </tr>\n",
       "    <tr>\n",
       "      <th>2</th>\n",
       "      <td>0636207004</td>\n",
       "      <td>Denim blue</td>\n",
       "      <td>0636207</td>\n",
       "      <td>004</td>\n",
       "    </tr>\n",
       "    <tr>\n",
       "      <th>3</th>\n",
       "      <td>0636207005</td>\n",
       "      <td>Gray</td>\n",
       "      <td>0636207</td>\n",
       "      <td>005</td>\n",
       "    </tr>\n",
       "    <tr>\n",
       "      <th>4</th>\n",
       "      <td>0636207006</td>\n",
       "      <td>Black</td>\n",
       "      <td>0636207</td>\n",
       "      <td>006</td>\n",
       "    </tr>\n",
       "    <tr>\n",
       "      <th>5</th>\n",
       "      <td>0636207011</td>\n",
       "      <td>Midnight blue</td>\n",
       "      <td>0636207</td>\n",
       "      <td>011</td>\n",
       "    </tr>\n",
       "    <tr>\n",
       "      <th>6</th>\n",
       "      <td>0636207014</td>\n",
       "      <td>Dark gray</td>\n",
       "      <td>0636207</td>\n",
       "      <td>014</td>\n",
       "    </tr>\n",
       "    <tr>\n",
       "      <th>7</th>\n",
       "      <td>0636207015</td>\n",
       "      <td>Denim blue</td>\n",
       "      <td>0636207</td>\n",
       "      <td>015</td>\n",
       "    </tr>\n",
       "    <tr>\n",
       "      <th>8</th>\n",
       "      <td>0636207017</td>\n",
       "      <td>White</td>\n",
       "      <td>0636207</td>\n",
       "      <td>017</td>\n",
       "    </tr>\n",
       "    <tr>\n",
       "      <th>9</th>\n",
       "      <td>0636207019</td>\n",
       "      <td>Pale denim blue</td>\n",
       "      <td>0636207</td>\n",
       "      <td>019</td>\n",
       "    </tr>\n",
       "  </tbody>\n",
       "</table>\n",
       "</div>"
      ],
      "text/plain": [
       "   product_id       color_name style_id color_id\n",
       "0  0636207001  Dark denim blue  0636207      001\n",
       "1  0636207002  Dark gray denim  0636207      002\n",
       "2  0636207004       Denim blue  0636207      004\n",
       "3  0636207005             Gray  0636207      005\n",
       "4  0636207006            Black  0636207      006\n",
       "5  0636207011    Midnight blue  0636207      011\n",
       "6  0636207014        Dark gray  0636207      014\n",
       "7  0636207015       Denim blue  0636207      015\n",
       "8  0636207017            White  0636207      017\n",
       "9  0636207019  Pale denim blue  0636207      019"
      ]
     },
     "execution_count": 19,
     "metadata": {},
     "output_type": "execute_result"
    }
   ],
   "source": [
    "df_color"
   ]
  },
  {
   "cell_type": "markdown",
   "id": "aa6239ca",
   "metadata": {},
   "source": [
    "### Multiple product"
   ]
  },
  {
   "cell_type": "code",
   "execution_count": 48,
   "id": "90b85af6",
   "metadata": {
    "ExecuteTime": {
     "end_time": "2021-12-13T17:03:25.653406Z",
     "start_time": "2021-12-13T17:03:25.637207Z"
    }
   },
   "outputs": [],
   "source": [
    "headers = {'user-agent': 'my-app/0.0.1'}\n",
    "\n",
    "#empty dataframe\n",
    "df_details = pd.DataFrame()\n",
    "\n",
    "# unique columns for all products\n",
    "aux = []\n",
    "\n",
    "cols = ['Art. No.', 'Composition', 'Fit', 'Product safety', 'Size']\n",
    "df_pattern = pd.DataFrame(columns = cols)"
   ]
  },
  {
   "cell_type": "code",
   "execution_count": 37,
   "id": "2e0be101",
   "metadata": {
    "ExecuteTime": {
     "end_time": "2021-06-01T12:14:26.453350Z",
     "start_time": "2021-06-01T12:14:26.446798Z"
    }
   },
   "outputs": [
    {
     "data": {
      "text/html": [
       "<div>\n",
       "<style scoped>\n",
       "    .dataframe tbody tr th:only-of-type {\n",
       "        vertical-align: middle;\n",
       "    }\n",
       "\n",
       "    .dataframe tbody tr th {\n",
       "        vertical-align: top;\n",
       "    }\n",
       "\n",
       "    .dataframe thead th {\n",
       "        text-align: right;\n",
       "    }\n",
       "</style>\n",
       "<table border=\"1\" class=\"dataframe\">\n",
       "  <thead>\n",
       "    <tr style=\"text-align: right;\">\n",
       "      <th></th>\n",
       "      <th>Art. No.</th>\n",
       "      <th>Composition</th>\n",
       "      <th>Fit</th>\n",
       "      <th>Product safety</th>\n",
       "      <th>Size</th>\n",
       "    </tr>\n",
       "  </thead>\n",
       "  <tbody>\n",
       "  </tbody>\n",
       "</table>\n",
       "</div>"
      ],
      "text/plain": [
       "Empty DataFrame\n",
       "Columns: [Art. No., Composition, Fit, Product safety, Size]\n",
       "Index: []"
      ]
     },
     "execution_count": 37,
     "metadata": {},
     "output_type": "execute_result"
    }
   ],
   "source": [
    "df_pattern"
   ]
  },
  {
   "cell_type": "code",
   "execution_count": null,
   "id": "dd86b872",
   "metadata": {},
   "outputs": [],
   "source": [
    "data_raw"
   ]
  },
  {
   "cell_type": "code",
   "execution_count": 50,
   "id": "6854438c",
   "metadata": {
    "ExecuteTime": {
     "end_time": "2021-12-13T17:03:31.156356Z",
     "start_time": "2021-12-13T17:03:31.147232Z"
    }
   },
   "outputs": [
    {
     "data": {
      "text/plain": [
       "['Fit',\n",
       " 'Composition',\n",
       " 'Art. No.',\n",
       " 'style_id',\n",
       " 'color_id',\n",
       " 'Fit',\n",
       " 'Composition',\n",
       " 'Art. No.',\n",
       " 'style_id',\n",
       " 'color_id']"
      ]
     },
     "execution_count": 50,
     "metadata": {},
     "output_type": "execute_result"
    }
   ],
   "source": [
    "aux = aux + df_composition.columns.tolist()\n",
    "aux"
   ]
  },
  {
   "cell_type": "code",
   "execution_count": 51,
   "id": "6dbd2dec",
   "metadata": {
    "ExecuteTime": {
     "end_time": "2021-12-13T17:08:52.859032Z",
     "start_time": "2021-12-13T17:08:18.229067Z"
    }
   },
   "outputs": [],
   "source": [
    "for i in range(len(data)):\n",
    "    # API Request\n",
    "    url = 'https://www2.hm.com/en_us/productpage.' + data.loc[i, 'product_id'] + '.html'\n",
    "    page = requests.get(url, headers = headers)\n",
    "    \n",
    "    # Beautiful Soup object\n",
    "    soup = BeautifulSoup(page.text, 'html.parser')\n",
    "    \n",
    "    # ==================== color name =================================\n",
    "    # color name\n",
    "    product_list = soup.find_all( 'a', class_='filter-option miniature' )\n",
    "    color_name = [p.get( 'data-color' ) for p in product_list]\n",
    "    \n",
    "    # product id\n",
    "    product_id = [p.get( 'data-articlecode' ) for p in product_list]\n",
    "    \n",
    "    df_color = pd.DataFrame( [product_id, color_name] ).T\n",
    "    df_color.columns = ['product_id', 'color_name']\n",
    "    \n",
    "    # generate style id + color id\n",
    "    df_color['style_id'] = df_color['product_id'].apply( lambda x: x[:-3] )\n",
    "    df_color['color_id'] = df_color['product_id'].apply( lambda x: x[-3:] )\n",
    "    \n",
    "    # ==================== composition =================================\n",
    "    product_composition_list = soup.find_all( 'div', class_='pdp-description-list-item' )\n",
    "    product_composition = [list( filter( None, p.get_text().split( '\\n' ) ) ) for p in product_composition_list]\n",
    "    \n",
    "    # rename dataframe\n",
    "    df_composition = pd.DataFrame(product_composition).T\n",
    "    df_composition.columns = df_composition.iloc[0]\n",
    "    \n",
    "    # delete first row\n",
    "    df_composition = df_composition.iloc[1:].fillna(method = 'ffill')\n",
    "    \n",
    "    # garantee the same number of columns\n",
    "    df_composition = pd.concat( [df_pattern, df_composition], axis=0 )\n",
    "    \n",
    "    # generate style id + color id\n",
    "    df_composition['style_id'] = df_composition['Art. No.'].apply(lambda x: x[:-3])\n",
    "    df_composition['color_id'] = df_composition['Art. No.'].apply(lambda x: x[-3:])\n",
    "    \n",
    "    aux = aux + df_composition.columns.tolist() #to guarantee we have all columns of composition unique values\n",
    "    \n",
    "    # merge data color + composition\n",
    "    \n",
    "    data_sku = pd.merge( df_color, df_composition[['style_id','Fit','Composition', 'Size','Product safety']], how = 'left', on = 'style_id')\n",
    "    \n",
    "    # all details products\n",
    "    df_details = pd.concat([df_details, data_sku], axis = 0)\n",
    "    \n",
    "# Join Showroom data + details\n",
    "data['style_id'] = data['product_id'].apply( lambda x: x[:-3] )\n",
    "data['color_id'] = data['product_id'].apply( lambda x: x[-3:] )\n",
    "\n",
    "data_raw = pd.merge( data, df_details[['style_id','color_name','Fit','Composition', 'Size','Product safety']], how = 'left', on = 'style_id')"
   ]
  },
  {
   "cell_type": "code",
   "execution_count": 52,
   "id": "39dc9c1c",
   "metadata": {
    "ExecuteTime": {
     "end_time": "2021-12-13T17:08:52.872234Z",
     "start_time": "2021-12-13T17:08:52.860326Z"
    }
   },
   "outputs": [
    {
     "data": {
      "text/html": [
       "<div>\n",
       "<style scoped>\n",
       "    .dataframe tbody tr th:only-of-type {\n",
       "        vertical-align: middle;\n",
       "    }\n",
       "\n",
       "    .dataframe tbody tr th {\n",
       "        vertical-align: top;\n",
       "    }\n",
       "\n",
       "    .dataframe thead th {\n",
       "        text-align: right;\n",
       "    }\n",
       "</style>\n",
       "<table border=\"1\" class=\"dataframe\">\n",
       "  <thead>\n",
       "    <tr style=\"text-align: right;\">\n",
       "      <th></th>\n",
       "      <th>product_id</th>\n",
       "      <th>color_name</th>\n",
       "      <th>style_id</th>\n",
       "      <th>color_id</th>\n",
       "      <th>Fit</th>\n",
       "      <th>Composition</th>\n",
       "      <th>Size</th>\n",
       "      <th>Product safety</th>\n",
       "    </tr>\n",
       "  </thead>\n",
       "  <tbody>\n",
       "    <tr>\n",
       "      <th>0</th>\n",
       "      <td>0985197002</td>\n",
       "      <td>Midnight blue</td>\n",
       "      <td>0985197</td>\n",
       "      <td>002</td>\n",
       "      <td>Slim fit</td>\n",
       "      <td>Pocket lining: Cotton 100%</td>\n",
       "      <td>The model is 189cm/6'2\" and wears a size 32/32</td>\n",
       "      <td>NaN</td>\n",
       "    </tr>\n",
       "    <tr>\n",
       "      <th>1</th>\n",
       "      <td>0985197002</td>\n",
       "      <td>Midnight blue</td>\n",
       "      <td>0985197</td>\n",
       "      <td>002</td>\n",
       "      <td>Slim fit</td>\n",
       "      <td>Shell: Cotton 98%, Spandex 2%</td>\n",
       "      <td>The model is 189cm/6'2\" and wears a size 32/32</td>\n",
       "      <td>NaN</td>\n",
       "    </tr>\n",
       "    <tr>\n",
       "      <th>2</th>\n",
       "      <td>0985197003</td>\n",
       "      <td>Denim blue</td>\n",
       "      <td>0985197</td>\n",
       "      <td>003</td>\n",
       "      <td>Slim fit</td>\n",
       "      <td>Pocket lining: Cotton 100%</td>\n",
       "      <td>The model is 189cm/6'2\" and wears a size 32/32</td>\n",
       "      <td>NaN</td>\n",
       "    </tr>\n",
       "    <tr>\n",
       "      <th>3</th>\n",
       "      <td>0985197003</td>\n",
       "      <td>Denim blue</td>\n",
       "      <td>0985197</td>\n",
       "      <td>003</td>\n",
       "      <td>Slim fit</td>\n",
       "      <td>Shell: Cotton 98%, Spandex 2%</td>\n",
       "      <td>The model is 189cm/6'2\" and wears a size 32/32</td>\n",
       "      <td>NaN</td>\n",
       "    </tr>\n",
       "    <tr>\n",
       "      <th>4</th>\n",
       "      <td>0985197004</td>\n",
       "      <td>Dark denim blue</td>\n",
       "      <td>0985197</td>\n",
       "      <td>004</td>\n",
       "      <td>Slim fit</td>\n",
       "      <td>Pocket lining: Cotton 100%</td>\n",
       "      <td>The model is 189cm/6'2\" and wears a size 32/32</td>\n",
       "      <td>NaN</td>\n",
       "    </tr>\n",
       "  </tbody>\n",
       "</table>\n",
       "</div>"
      ],
      "text/plain": [
       "   product_id       color_name style_id color_id       Fit  \\\n",
       "0  0985197002    Midnight blue  0985197      002  Slim fit   \n",
       "1  0985197002    Midnight blue  0985197      002  Slim fit   \n",
       "2  0985197003       Denim blue  0985197      003  Slim fit   \n",
       "3  0985197003       Denim blue  0985197      003  Slim fit   \n",
       "4  0985197004  Dark denim blue  0985197      004  Slim fit   \n",
       "\n",
       "                     Composition  \\\n",
       "0     Pocket lining: Cotton 100%   \n",
       "1  Shell: Cotton 98%, Spandex 2%   \n",
       "2     Pocket lining: Cotton 100%   \n",
       "3  Shell: Cotton 98%, Spandex 2%   \n",
       "4     Pocket lining: Cotton 100%   \n",
       "\n",
       "                                             Size Product safety  \n",
       "0  The model is 189cm/6'2\" and wears a size 32/32            NaN  \n",
       "1  The model is 189cm/6'2\" and wears a size 32/32            NaN  \n",
       "2  The model is 189cm/6'2\" and wears a size 32/32            NaN  \n",
       "3  The model is 189cm/6'2\" and wears a size 32/32            NaN  \n",
       "4  The model is 189cm/6'2\" and wears a size 32/32            NaN  "
      ]
     },
     "execution_count": 52,
     "metadata": {},
     "output_type": "execute_result"
    }
   ],
   "source": [
    "df_details.head()"
   ]
  },
  {
   "cell_type": "code",
   "execution_count": 53,
   "id": "8f4eb9da",
   "metadata": {
    "ExecuteTime": {
     "end_time": "2021-12-13T17:13:27.681654Z",
     "start_time": "2021-12-13T17:13:27.657012Z"
    },
    "scrolled": true
   },
   "outputs": [
    {
     "data": {
      "text/html": [
       "<div>\n",
       "<style scoped>\n",
       "    .dataframe tbody tr th:only-of-type {\n",
       "        vertical-align: middle;\n",
       "    }\n",
       "\n",
       "    .dataframe tbody tr th {\n",
       "        vertical-align: top;\n",
       "    }\n",
       "\n",
       "    .dataframe thead th {\n",
       "        text-align: right;\n",
       "    }\n",
       "</style>\n",
       "<table border=\"1\" class=\"dataframe\">\n",
       "  <thead>\n",
       "    <tr style=\"text-align: right;\">\n",
       "      <th></th>\n",
       "      <th>product_id</th>\n",
       "      <th>product_category</th>\n",
       "      <th>product_name</th>\n",
       "      <th>product_price</th>\n",
       "      <th>scrapy_datetime</th>\n",
       "      <th>style_id</th>\n",
       "      <th>color_id</th>\n",
       "      <th>color_name</th>\n",
       "      <th>Fit</th>\n",
       "      <th>Composition</th>\n",
       "      <th>Size</th>\n",
       "      <th>Product safety</th>\n",
       "    </tr>\n",
       "  </thead>\n",
       "  <tbody>\n",
       "    <tr>\n",
       "      <th>0</th>\n",
       "      <td>0985197001</td>\n",
       "      <td>men_jeans_slim</td>\n",
       "      <td>Slim Jeans</td>\n",
       "      <td>$ 19.99</td>\n",
       "      <td>2021-12-13 13:18:24</td>\n",
       "      <td>0985197</td>\n",
       "      <td>001</td>\n",
       "      <td>Midnight blue</td>\n",
       "      <td>Slim fit</td>\n",
       "      <td>Pocket lining: Cotton 100%</td>\n",
       "      <td>The model is 189cm/6'2\" and wears a size 32/32</td>\n",
       "      <td>NaN</td>\n",
       "    </tr>\n",
       "    <tr>\n",
       "      <th>1</th>\n",
       "      <td>0985197001</td>\n",
       "      <td>men_jeans_slim</td>\n",
       "      <td>Slim Jeans</td>\n",
       "      <td>$ 19.99</td>\n",
       "      <td>2021-12-13 13:18:24</td>\n",
       "      <td>0985197</td>\n",
       "      <td>001</td>\n",
       "      <td>Midnight blue</td>\n",
       "      <td>Slim fit</td>\n",
       "      <td>Shell: Cotton 98%, Spandex 2%</td>\n",
       "      <td>The model is 189cm/6'2\" and wears a size 32/32</td>\n",
       "      <td>NaN</td>\n",
       "    </tr>\n",
       "    <tr>\n",
       "      <th>2</th>\n",
       "      <td>0985197001</td>\n",
       "      <td>men_jeans_slim</td>\n",
       "      <td>Slim Jeans</td>\n",
       "      <td>$ 19.99</td>\n",
       "      <td>2021-12-13 13:18:24</td>\n",
       "      <td>0985197</td>\n",
       "      <td>001</td>\n",
       "      <td>Denim blue</td>\n",
       "      <td>Slim fit</td>\n",
       "      <td>Pocket lining: Cotton 100%</td>\n",
       "      <td>The model is 189cm/6'2\" and wears a size 32/32</td>\n",
       "      <td>NaN</td>\n",
       "    </tr>\n",
       "    <tr>\n",
       "      <th>3</th>\n",
       "      <td>0985197001</td>\n",
       "      <td>men_jeans_slim</td>\n",
       "      <td>Slim Jeans</td>\n",
       "      <td>$ 19.99</td>\n",
       "      <td>2021-12-13 13:18:24</td>\n",
       "      <td>0985197</td>\n",
       "      <td>001</td>\n",
       "      <td>Denim blue</td>\n",
       "      <td>Slim fit</td>\n",
       "      <td>Shell: Cotton 98%, Spandex 2%</td>\n",
       "      <td>The model is 189cm/6'2\" and wears a size 32/32</td>\n",
       "      <td>NaN</td>\n",
       "    </tr>\n",
       "    <tr>\n",
       "      <th>4</th>\n",
       "      <td>0985197001</td>\n",
       "      <td>men_jeans_slim</td>\n",
       "      <td>Slim Jeans</td>\n",
       "      <td>$ 19.99</td>\n",
       "      <td>2021-12-13 13:18:24</td>\n",
       "      <td>0985197</td>\n",
       "      <td>001</td>\n",
       "      <td>Dark denim blue</td>\n",
       "      <td>Slim fit</td>\n",
       "      <td>Pocket lining: Cotton 100%</td>\n",
       "      <td>The model is 189cm/6'2\" and wears a size 32/32</td>\n",
       "      <td>NaN</td>\n",
       "    </tr>\n",
       "  </tbody>\n",
       "</table>\n",
       "</div>"
      ],
      "text/plain": [
       "   product_id product_category product_name product_price  \\\n",
       "0  0985197001   men_jeans_slim   Slim Jeans       $ 19.99   \n",
       "1  0985197001   men_jeans_slim   Slim Jeans       $ 19.99   \n",
       "2  0985197001   men_jeans_slim   Slim Jeans       $ 19.99   \n",
       "3  0985197001   men_jeans_slim   Slim Jeans       $ 19.99   \n",
       "4  0985197001   men_jeans_slim   Slim Jeans       $ 19.99   \n",
       "\n",
       "       scrapy_datetime style_id color_id       color_name       Fit  \\\n",
       "0  2021-12-13 13:18:24  0985197      001    Midnight blue  Slim fit   \n",
       "1  2021-12-13 13:18:24  0985197      001    Midnight blue  Slim fit   \n",
       "2  2021-12-13 13:18:24  0985197      001       Denim blue  Slim fit   \n",
       "3  2021-12-13 13:18:24  0985197      001       Denim blue  Slim fit   \n",
       "4  2021-12-13 13:18:24  0985197      001  Dark denim blue  Slim fit   \n",
       "\n",
       "                     Composition  \\\n",
       "0     Pocket lining: Cotton 100%   \n",
       "1  Shell: Cotton 98%, Spandex 2%   \n",
       "2     Pocket lining: Cotton 100%   \n",
       "3  Shell: Cotton 98%, Spandex 2%   \n",
       "4     Pocket lining: Cotton 100%   \n",
       "\n",
       "                                             Size Product safety  \n",
       "0  The model is 189cm/6'2\" and wears a size 32/32            NaN  \n",
       "1  The model is 189cm/6'2\" and wears a size 32/32            NaN  \n",
       "2  The model is 189cm/6'2\" and wears a size 32/32            NaN  \n",
       "3  The model is 189cm/6'2\" and wears a size 32/32            NaN  \n",
       "4  The model is 189cm/6'2\" and wears a size 32/32            NaN  "
      ]
     },
     "execution_count": 53,
     "metadata": {},
     "output_type": "execute_result"
    }
   ],
   "source": [
    "data_raw.head()"
   ]
  },
  {
   "cell_type": "code",
   "execution_count": 54,
   "id": "d9af6d3b",
   "metadata": {
    "ExecuteTime": {
     "end_time": "2021-12-13T17:14:15.414946Z",
     "start_time": "2021-12-13T17:14:15.404894Z"
    },
    "scrolled": true
   },
   "outputs": [
    {
     "data": {
      "text/plain": [
       "array(['men_jeans_slim', 'men_jeans_ripped', 'men_jeans_skinny',\n",
       "       'men_jeans_regular', 'men_jeans_loose', 'men_jeans_relaxed'],\n",
       "      dtype=object)"
      ]
     },
     "execution_count": 54,
     "metadata": {},
     "output_type": "execute_result"
    }
   ],
   "source": [
    "data_raw.product_category.unique()"
   ]
  },
  {
   "cell_type": "markdown",
   "id": "6a8c3bcb",
   "metadata": {},
   "source": [
    "## Raw Dataframe after web scraping"
   ]
  },
  {
   "cell_type": "code",
   "execution_count": 55,
   "id": "414f7076",
   "metadata": {
    "ExecuteTime": {
     "end_time": "2021-12-13T17:14:29.608656Z",
     "start_time": "2021-12-13T17:14:29.575010Z"
    }
   },
   "outputs": [],
   "source": [
    "data_raw.to_csv('products_hm.csv')"
   ]
  }
 ],
 "metadata": {
  "kernelspec": {
   "display_name": "Python 3",
   "language": "python",
   "name": "python3"
  },
  "language_info": {
   "codemirror_mode": {
    "name": "ipython",
    "version": 3
   },
   "file_extension": ".py",
   "mimetype": "text/x-python",
   "name": "python",
   "nbconvert_exporter": "python",
   "pygments_lexer": "ipython3",
   "version": "3.9.1"
  },
  "toc": {
   "base_numbering": 1,
   "nav_menu": {},
   "number_sections": true,
   "sideBar": true,
   "skip_h1_title": false,
   "title_cell": "Table of Contents",
   "title_sidebar": "Contents",
   "toc_cell": false,
   "toc_position": {},
   "toc_section_display": true,
   "toc_window_display": false
  }
 },
 "nbformat": 4,
 "nbformat_minor": 5
}
