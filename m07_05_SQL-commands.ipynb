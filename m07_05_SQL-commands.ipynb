{
 "cells": [
  {
   "cell_type": "markdown",
   "id": "sublime-charleston",
   "metadata": {
    "ExecuteTime": {
     "end_time": "2021-04-17T18:19:23.892701Z",
     "start_time": "2021-04-17T18:19:23.889655Z"
    }
   },
   "source": [
    "# <font color='#002726'> Curso de Python do DS ao DEV </font>\n",
    "\n",
    "Comunidade DS - Meigarom Lopes"
   ]
  },
  {
   "cell_type": "markdown",
   "id": "stuffed-stadium",
   "metadata": {
    "heading_collapsed": true
   },
   "source": [
    "# <font color='#1B818D'> Modulo 06 - Python Avançado </font>"
   ]
  },
  {
   "cell_type": "markdown",
   "id": "referenced-rescue",
   "metadata": {},
   "source": [
    "# <font color='#F37126'> SQL - Principais Comandos</font>"
   ]
  },
  {
   "cell_type": "markdown",
   "id": "sophisticated-norfolk",
   "metadata": {},
   "source": [
    "**SELECT** - Extraí dados de um banco de dados;\n",
    "\n",
    "**UPDATE** - Atualiza um dado no banco de dados;\n",
    "\n",
    "**DELETE** - Apaga dados de uma tabela do banco de dados, mas mantém a estrutura da tabela\n",
    "\n",
    "**INSERT INTO** - Insere um novo registro em um banco de dados\n",
    "\n",
    "**CREATE DATABASE** - Criau um novo banco de dados\n",
    "\n",
    "**ALTER DATABASE** - Modifica um banco de dados\n",
    "\n",
    "**CREATE TABLE** - Cria uma nova tabela\n",
    "\n",
    "**ALTER TABLE** - Modifica um tabela\n",
    "\n",
    "**DROP TABLE** - Apaga a tabela e a estrutura\n",
    "\n",
    "**CREATE INDEX** - Cria um index ( chave de busca )\n",
    "\n",
    "**DROP INDEX** - Apaga o index"
   ]
  }
 ],
 "metadata": {
  "kernelspec": {
   "display_name": "Python 3",
   "language": "python",
   "name": "python3"
  },
  "language_info": {
   "codemirror_mode": {
    "name": "ipython",
    "version": 3
   },
   "file_extension": ".py",
   "mimetype": "text/x-python",
   "name": "python",
   "nbconvert_exporter": "python",
   "pygments_lexer": "ipython3",
   "version": "3.9.1"
  },
  "toc": {
   "base_numbering": 1,
   "nav_menu": {},
   "number_sections": true,
   "sideBar": true,
   "skip_h1_title": false,
   "title_cell": "Table of Contents",
   "title_sidebar": "Contents",
   "toc_cell": false,
   "toc_position": {},
   "toc_section_display": true,
   "toc_window_display": false
  }
 },
 "nbformat": 4,
 "nbformat_minor": 5
}
