{
 "cells": [
  {
   "cell_type": "markdown",
   "id": "3d017f8e",
   "metadata": {
    "ExecuteTime": {
     "end_time": "2022-02-14T15:23:00.764437Z",
     "start_time": "2022-02-14T15:23:00.725359Z"
    }
   },
   "source": [
    "# Python DS-ao-Dev"
   ]
  },
  {
   "cell_type": "markdown",
   "id": "ab7267d2",
   "metadata": {
    "ExecuteTime": {
     "end_time": "2022-02-14T15:24:06.387730Z",
     "start_time": "2022-02-14T15:24:06.374996Z"
    },
    "heading_collapsed": true
   },
   "source": [
    "## Bussiness Problem\n"
   ]
  },
  {
   "cell_type": "markdown",
   "id": "27a7168f",
   "metadata": {
    "hidden": true
   },
   "source": [
    "\n",
    "**Star Jeans Company**\n",
    "\n",
    "- Eduardo e Marcelo são dois brasileiros, amigos e sócios de empreendimento. Depois de vários negócio bem sucedidos, eles estão planejando entrar no mercado de moda dos USA como um modelo de negócio do tipo E-commerce.\n",
    "\n",
    "- A idéia inicial é entrar no mercado com apenas um produto e para um público específico, no caso o produto seria calças Jenas para o público masculino. O objetivo é manter o custo de operação baixo e escalar a medida que forem conseguindo clientes.\n",
    "\n",
    "- Porém, mesmo com o produto de entrada e a audiência definidos, os dois sócios não tem experiência nesse mercado de moda e portanto não sabem definir coisas básicas como preço, o tipo de calça e o material para a fabricação de cada peça.\n",
    "\n",
    "- Assim, os dois sócios contrataram uma consultoria de Ciência de Dados para responder as seguintes perguntas: ]\n",
    "    1. Qual o melhor preço de venda para as calças? \n",
    "    2. Quantos tipos de calças e suas cores para o produto inicial? \n",
    "    3. Quais as matérias-prima necessárias para confeccionar as calças?\n",
    "    \n",
    "- As principais concorrentes da empresa Start Jeans são as americadas H&M e Macys."
   ]
  },
  {
   "cell_type": "markdown",
   "id": "2d1a3b9b",
   "metadata": {
    "heading_collapsed": true
   },
   "source": [
    "## Solution Planning (Input-Output-Tasks)\n",
    "\n",
    "\n",
    "\n"
   ]
  },
  {
   "cell_type": "markdown",
   "id": "c98c681f",
   "metadata": {
    "hidden": true
   },
   "source": [
    "**Bussiness Question**\n",
    "\n",
    "- Which is the best price for jeans?\n",
    "\n",
    "1. Input:\n",
    "    1. Fonte de dados\n",
    "        - Site da H&M: https://www2.hm.com/en_us/men/products/jeans.html\n",
    "        - Site da Macys: https://www.macys.com/shop/mens-clothing/mens-jeans\n",
    "    2. Ferramentas\n",
    "        - Python 3.8.0\n",
    "        - Bibliotecas de Webscrapping ( BS4, Selenium )\n",
    "        - PyCharm\n",
    "        - Jupyter Notebook ( Analise e prototipagens )\n",
    "        - Crontjob, Airflow\n",
    "        - Streamlit\n",
    "    \n",
    "2. Output:\n",
    "    1. A resposta para a pergunta.\n",
    "        - Mediana dos preços dos concorrents.\n",
    "    2. Formato da entrega\n",
    "        - Tabela ou gráfico\n",
    "    3. Local da entrega\n",
    "        - App Streamlit\n",
    "    \n",
    "3. Tasks:\n",
    "    1. Passo a passso para construir o cálculo da mediana ou média\n",
    "        - Realizar o calculo da mediana sobre o produto, tipo e cor\n",
    "    2. Definir o formato da entrega ( Visualização, Tabela, Frase )\n",
    "        - Gráfico de barras com a mediana dos preço dos produtos, por tipo e cor dos últimos 30 dia\n",
    "        - Tabela com as seguintes colunas: id | product_name | product_type | product_color | produ\n",
    "        - Definição do schema: Colunas e seu tipo\n",
    "        - Definição a infraestrutura de armazenamento ( SQLITE3 )\n",
    "        - Design do ETL ( Scripts de Extração, Transformação e Carga )\n",
    "        - Planejamento de Agendamento dos scripts ( dependencias entre os scripts )\n",
    "        - Fazer as visualizações\n",
    "        - Entrega do produto final\n",
    "    3. Decidir o local de entrega ( PowerBi, Telegram, Email, Streamlit, Intranet ),\n",
    "        - App com Streamlit\n"
   ]
  },
  {
   "cell_type": "markdown",
   "id": "acc9563b",
   "metadata": {
    "heading_collapsed": true
   },
   "source": [
    "## Bussiness Models\n"
   ]
  },
  {
   "cell_type": "markdown",
   "id": "6c7cc121",
   "metadata": {
    "hidden": true
   },
   "source": [
    "\n",
    "“Como você planeja ganhar dinheiro”, Michael Lewis\n",
    "\n",
    "“Um modelo de negócio descreve a lógica de criação, entrega e captura de valor por\n",
    "parte de uma organização”, Alexander Osterwalder\n",
    "\n",
    "- E-commerce:\n",
    "    1. Faturamento: Vendas de um produto.\n",
    "    2. Exemplo: Lojas Riachuelo, Submarino, Magazine Luiza, etc\n",
    "        \n",
    "- Software AS a Service ( SaaS ):\n",
    "    1. Faturamento: Assinatura mensal/anual de utilização ou por usuário.\n",
    "    2. Exemplo: Looker, Asana, Gmail, Salesforce.\n",
    "    \n",
    "- Serviço:\n",
    "    1. Faturamento: Prestação de serviço por tempo ou projeto.\n",
    "    2. Exemplo: Sul América, Porto Seguro, Mapfre.\n",
    "    \n",
    "- Mobile App:\n",
    "    1. Faturamento: Venda de upgrades.\n",
    "    2. Exemplo: Wildlife, Ubisoft, Games Mobile.\n",
    "    \n",
    "- Media Site:\n",
    "    1. Faturamento: Cobrança por clicks ou visualizações de um determinado anúncio.\n",
    "    2. Exemplo: Facebook, Google, UOL, G1, etc.\n",
    "    \n",
    "- Marketplace:\n",
    "    1. Faturamento: Taxa sobre a transação entre o passageiro e o motorista.\n",
    "    2. Exemplo: Uber, Ifood, 99, Elo7, Submarino.\n"
   ]
  },
  {
   "cell_type": "markdown",
   "id": "afed79f6",
   "metadata": {
    "heading_collapsed": true
   },
   "source": [
    "## E-commerce Metrics"
   ]
  },
  {
   "cell_type": "markdown",
   "id": "de22fd7c",
   "metadata": {
    "hidden": true
   },
   "source": [
    "- **Growth Metrics**:\n",
    "    1. Porcentagem do Marketshare\n",
    "    2. Número de Clientes Novos\n",
    "- **Revenue Metrics**:\n",
    "    1. Número de Vendas\n",
    "    2. Ticket Médio\n",
    "    3. LTV ( Long Time Value )\n",
    "    4. Recência Média\n",
    "    5. Basket Size Médio\n",
    "    6. Markup médio\n",
    "- **Cost Metrics**:\n",
    "    1. CAC ( Custo de aquisição de Clientes )\n",
    "    2. Desconto médio\n",
    "    3. Custo de Produção\n",
    "    4. Taxa de devolução\n",
    "    5. Custos Fixos ( Folha de pagamento, escritório, softwares )\n",
    "    6. Impostos"
   ]
  },
  {
   "cell_type": "markdown",
   "id": "ee566664",
   "metadata": {},
   "source": [
    "# Imports"
   ]
  },
  {
   "cell_type": "code",
   "execution_count": 51,
   "id": "9622c458",
   "metadata": {
    "ExecuteTime": {
     "end_time": "2022-02-21T23:11:41.064292Z",
     "start_time": "2022-02-21T23:11:41.060000Z"
    }
   },
   "outputs": [],
   "source": [
    "import re\n",
    "import sqlite3\n",
    "import requests\n",
    "\n",
    "import pandas as pd\n",
    "import numpy  as np\n",
    "\n",
    "from bs4        import BeautifulSoup\n",
    "from datetime   import datetime\n",
    "\n",
    "from sqlalchemy import create_engine"
   ]
  },
  {
   "cell_type": "markdown",
   "id": "1a32681f",
   "metadata": {},
   "source": [
    "# Data Gathering"
   ]
  },
  {
   "cell_type": "markdown",
   "id": "0334a12a",
   "metadata": {},
   "source": [
    "## Showcase"
   ]
  },
  {
   "cell_type": "code",
   "execution_count": 2,
   "id": "bbc89d7a",
   "metadata": {
    "ExecuteTime": {
     "end_time": "2022-02-21T22:15:50.001836Z",
     "start_time": "2022-02-21T22:15:49.504531Z"
    }
   },
   "outputs": [
    {
     "data": {
      "text/html": [
       "<div>\n",
       "<style scoped>\n",
       "    .dataframe tbody tr th:only-of-type {\n",
       "        vertical-align: middle;\n",
       "    }\n",
       "\n",
       "    .dataframe tbody tr th {\n",
       "        vertical-align: top;\n",
       "    }\n",
       "\n",
       "    .dataframe thead th {\n",
       "        text-align: right;\n",
       "    }\n",
       "</style>\n",
       "<table border=\"1\" class=\"dataframe\">\n",
       "  <thead>\n",
       "    <tr style=\"text-align: right;\">\n",
       "      <th></th>\n",
       "      <th>product_id</th>\n",
       "      <th>product_category</th>\n",
       "      <th>product_name</th>\n",
       "      <th>product_price</th>\n",
       "      <th>scrapy_datetime</th>\n",
       "    </tr>\n",
       "  </thead>\n",
       "  <tbody>\n",
       "    <tr>\n",
       "      <th>0</th>\n",
       "      <td>0979945001</td>\n",
       "      <td>men_jeans_loose</td>\n",
       "      <td>Loose Jeans</td>\n",
       "      <td>$ 29.99</td>\n",
       "      <td>2022-02-21 19:15:49</td>\n",
       "    </tr>\n",
       "    <tr>\n",
       "      <th>1</th>\n",
       "      <td>1008549001</td>\n",
       "      <td>men_jeans_regular</td>\n",
       "      <td>Regular Jeans</td>\n",
       "      <td>$ 19.99</td>\n",
       "      <td>2022-02-21 19:15:49</td>\n",
       "    </tr>\n",
       "    <tr>\n",
       "      <th>2</th>\n",
       "      <td>1013317006</td>\n",
       "      <td>men_jeans_regular</td>\n",
       "      <td>Hybrid Regular Tapered Joggers</td>\n",
       "      <td>$ 39.99</td>\n",
       "      <td>2022-02-21 19:15:49</td>\n",
       "    </tr>\n",
       "    <tr>\n",
       "      <th>3</th>\n",
       "      <td>1013317002</td>\n",
       "      <td>men_jeans_regular</td>\n",
       "      <td>Hybrid Regular Tapered Joggers</td>\n",
       "      <td>$ 39.99</td>\n",
       "      <td>2022-02-21 19:15:49</td>\n",
       "    </tr>\n",
       "    <tr>\n",
       "      <th>4</th>\n",
       "      <td>1008549004</td>\n",
       "      <td>men_jeans_regular</td>\n",
       "      <td>Regular Jeans</td>\n",
       "      <td>$ 19.99</td>\n",
       "      <td>2022-02-21 19:15:49</td>\n",
       "    </tr>\n",
       "  </tbody>\n",
       "</table>\n",
       "</div>"
      ],
      "text/plain": [
       "   product_id   product_category                    product_name  \\\n",
       "0  0979945001    men_jeans_loose                     Loose Jeans   \n",
       "1  1008549001  men_jeans_regular                   Regular Jeans   \n",
       "2  1013317006  men_jeans_regular  Hybrid Regular Tapered Joggers   \n",
       "3  1013317002  men_jeans_regular  Hybrid Regular Tapered Joggers   \n",
       "4  1008549004  men_jeans_regular                   Regular Jeans   \n",
       "\n",
       "  product_price      scrapy_datetime  \n",
       "0       $ 29.99  2022-02-21 19:15:49  \n",
       "1       $ 19.99  2022-02-21 19:15:49  \n",
       "2       $ 39.99  2022-02-21 19:15:49  \n",
       "3       $ 39.99  2022-02-21 19:15:49  \n",
       "4       $ 19.99  2022-02-21 19:15:49  "
      ]
     },
     "execution_count": 2,
     "metadata": {},
     "output_type": "execute_result"
    }
   ],
   "source": [
    "# parameters\n",
    "headers = {'user-agent': 'my-app/0.0.1'}\n",
    "\n",
    "# URL\n",
    "url = 'https://www2.hm.com/en_us/men/products/jeans.html'\n",
    "\n",
    "#request to URL\n",
    "page = requests.get(url, headers = headers)\n",
    "\n",
    "# BeautifulSoup object\n",
    "soup = BeautifulSoup(page.text, 'html.parser')\n",
    "\n",
    "# ============== Product Data ===============\n",
    "#website showcase\n",
    "products = soup.find('ul', class_= 'products-listing small') #find retorna apenas 1 elemento, pois temos apenas 1 UL, uma vitrine, find_all retorna lista\n",
    "\n",
    "#list comprehension to get all products id and products category from the first page of \n",
    "product_list = products.find_all('article', class_ = 'hm-product-item')\n",
    "\n",
    "# product id\n",
    "product_id = [p.get('data-articlecode') for p in product_list]\n",
    "\n",
    "# product_category\n",
    "product_category = [p.get('data-category') for p in product_list]\n",
    "\n",
    "# product name\n",
    "product_list = products.find_all('a', class_ = 'link')\n",
    "product_name = [p.get_text() for p in product_list]\n",
    "\n",
    "#price\n",
    "product_list = soup.find_all('span', class_ = 'price regular')\n",
    "product_price = [p.get_text() for p in product_list]\n",
    "\n",
    "data = pd.DataFrame([product_id, product_category, product_name, product_price]).T\n",
    "data.columns = ['product_id', 'product_category', 'product_name', 'product_price']\n",
    "\n",
    "#scrapy time \n",
    "data['scrapy_datetime'] = datetime.now().strftime('%Y-%m-%d %H:%M:%S')\n",
    "data.head()"
   ]
  },
  {
   "cell_type": "code",
   "execution_count": 3,
   "id": "771c7cd7",
   "metadata": {
    "ExecuteTime": {
     "end_time": "2022-02-21T22:15:52.324491Z",
     "start_time": "2022-02-21T22:15:52.316532Z"
    },
    "scrolled": true
   },
   "outputs": [
    {
     "data": {
      "text/plain": [
       "(36, 5)"
      ]
     },
     "execution_count": 3,
     "metadata": {},
     "output_type": "execute_result"
    }
   ],
   "source": [
    "data.shape"
   ]
  },
  {
   "cell_type": "markdown",
   "id": "2d4260b5",
   "metadata": {},
   "source": [
    "## By products"
   ]
  },
  {
   "cell_type": "code",
   "execution_count": 99,
   "id": "ff419455",
   "metadata": {
    "ExecuteTime": {
     "end_time": "2022-02-24T16:18:37.389110Z",
     "start_time": "2022-02-24T16:18:36.295736Z"
    },
    "scrolled": true
   },
   "outputs": [
    {
     "name": "stdout",
     "output_type": "stream",
     "text": [
      "Product: https://www2.hm.com/en_us/productpage.0979945001.html\n",
      "Color: https://www2.hm.com/en_us/productpage.0979945001.html\n"
     ]
    },
    {
     "ename": "IndexError",
     "evalue": "single positional indexer is out-of-bounds",
     "output_type": "error",
     "traceback": [
      "\u001b[0;31m---------------------------------------------------------------------------\u001b[0m",
      "\u001b[0;31mIndexError\u001b[0m                                Traceback (most recent call last)",
      "\u001b[0;32m<ipython-input-99-c232fffa01aa>\u001b[0m in \u001b[0;36m<module>\u001b[0;34m\u001b[0m\n\u001b[1;32m     59\u001b[0m         \u001b[0;31m# create composition dataframe\u001b[0m\u001b[0;34m\u001b[0m\u001b[0;34m\u001b[0m\u001b[0;34m\u001b[0m\u001b[0m\n\u001b[1;32m     60\u001b[0m         \u001b[0mdf_composition\u001b[0m \u001b[0;34m=\u001b[0m \u001b[0mpd\u001b[0m\u001b[0;34m.\u001b[0m\u001b[0mDataFrame\u001b[0m\u001b[0;34m(\u001b[0m\u001b[0mproduct_composition\u001b[0m\u001b[0;34m)\u001b[0m\u001b[0;34m.\u001b[0m\u001b[0mT\u001b[0m\u001b[0;34m\u001b[0m\u001b[0;34m\u001b[0m\u001b[0m\n\u001b[0;32m---> 61\u001b[0;31m         \u001b[0mdf_composition\u001b[0m\u001b[0;34m.\u001b[0m\u001b[0mcolumns\u001b[0m \u001b[0;34m=\u001b[0m \u001b[0mdf_composition\u001b[0m\u001b[0;34m.\u001b[0m\u001b[0miloc\u001b[0m\u001b[0;34m[\u001b[0m\u001b[0;36m0\u001b[0m\u001b[0;34m]\u001b[0m\u001b[0;34m\u001b[0m\u001b[0;34m\u001b[0m\u001b[0m\n\u001b[0m\u001b[1;32m     62\u001b[0m \u001b[0;34m\u001b[0m\u001b[0m\n\u001b[1;32m     63\u001b[0m         \u001b[0;31m# delete first row\u001b[0m\u001b[0;34m\u001b[0m\u001b[0;34m\u001b[0m\u001b[0;34m\u001b[0m\u001b[0m\n",
      "\u001b[0;32m~/.pyenv/versions/3.9.1/envs/ds-ao-dev/lib/python3.9/site-packages/pandas/core/indexing.py\u001b[0m in \u001b[0;36m__getitem__\u001b[0;34m(self, key)\u001b[0m\n\u001b[1;32m    893\u001b[0m \u001b[0;34m\u001b[0m\u001b[0m\n\u001b[1;32m    894\u001b[0m             \u001b[0mmaybe_callable\u001b[0m \u001b[0;34m=\u001b[0m \u001b[0mcom\u001b[0m\u001b[0;34m.\u001b[0m\u001b[0mapply_if_callable\u001b[0m\u001b[0;34m(\u001b[0m\u001b[0mkey\u001b[0m\u001b[0;34m,\u001b[0m \u001b[0mself\u001b[0m\u001b[0;34m.\u001b[0m\u001b[0mobj\u001b[0m\u001b[0;34m)\u001b[0m\u001b[0;34m\u001b[0m\u001b[0;34m\u001b[0m\u001b[0m\n\u001b[0;32m--> 895\u001b[0;31m             \u001b[0;32mreturn\u001b[0m \u001b[0mself\u001b[0m\u001b[0;34m.\u001b[0m\u001b[0m_getitem_axis\u001b[0m\u001b[0;34m(\u001b[0m\u001b[0mmaybe_callable\u001b[0m\u001b[0;34m,\u001b[0m \u001b[0maxis\u001b[0m\u001b[0;34m=\u001b[0m\u001b[0maxis\u001b[0m\u001b[0;34m)\u001b[0m\u001b[0;34m\u001b[0m\u001b[0;34m\u001b[0m\u001b[0m\n\u001b[0m\u001b[1;32m    896\u001b[0m \u001b[0;34m\u001b[0m\u001b[0m\n\u001b[1;32m    897\u001b[0m     \u001b[0;32mdef\u001b[0m \u001b[0m_is_scalar_access\u001b[0m\u001b[0;34m(\u001b[0m\u001b[0mself\u001b[0m\u001b[0;34m,\u001b[0m \u001b[0mkey\u001b[0m\u001b[0;34m:\u001b[0m \u001b[0mTuple\u001b[0m\u001b[0;34m)\u001b[0m\u001b[0;34m:\u001b[0m\u001b[0;34m\u001b[0m\u001b[0;34m\u001b[0m\u001b[0m\n",
      "\u001b[0;32m~/.pyenv/versions/3.9.1/envs/ds-ao-dev/lib/python3.9/site-packages/pandas/core/indexing.py\u001b[0m in \u001b[0;36m_getitem_axis\u001b[0;34m(self, key, axis)\u001b[0m\n\u001b[1;32m   1499\u001b[0m \u001b[0;34m\u001b[0m\u001b[0m\n\u001b[1;32m   1500\u001b[0m             \u001b[0;31m# validate the location\u001b[0m\u001b[0;34m\u001b[0m\u001b[0;34m\u001b[0m\u001b[0;34m\u001b[0m\u001b[0m\n\u001b[0;32m-> 1501\u001b[0;31m             \u001b[0mself\u001b[0m\u001b[0;34m.\u001b[0m\u001b[0m_validate_integer\u001b[0m\u001b[0;34m(\u001b[0m\u001b[0mkey\u001b[0m\u001b[0;34m,\u001b[0m \u001b[0maxis\u001b[0m\u001b[0;34m)\u001b[0m\u001b[0;34m\u001b[0m\u001b[0;34m\u001b[0m\u001b[0m\n\u001b[0m\u001b[1;32m   1502\u001b[0m \u001b[0;34m\u001b[0m\u001b[0m\n\u001b[1;32m   1503\u001b[0m             \u001b[0;32mreturn\u001b[0m \u001b[0mself\u001b[0m\u001b[0;34m.\u001b[0m\u001b[0mobj\u001b[0m\u001b[0;34m.\u001b[0m\u001b[0m_ixs\u001b[0m\u001b[0;34m(\u001b[0m\u001b[0mkey\u001b[0m\u001b[0;34m,\u001b[0m \u001b[0maxis\u001b[0m\u001b[0;34m=\u001b[0m\u001b[0maxis\u001b[0m\u001b[0;34m)\u001b[0m\u001b[0;34m\u001b[0m\u001b[0;34m\u001b[0m\u001b[0m\n",
      "\u001b[0;32m~/.pyenv/versions/3.9.1/envs/ds-ao-dev/lib/python3.9/site-packages/pandas/core/indexing.py\u001b[0m in \u001b[0;36m_validate_integer\u001b[0;34m(self, key, axis)\u001b[0m\n\u001b[1;32m   1442\u001b[0m         \u001b[0mlen_axis\u001b[0m \u001b[0;34m=\u001b[0m \u001b[0mlen\u001b[0m\u001b[0;34m(\u001b[0m\u001b[0mself\u001b[0m\u001b[0;34m.\u001b[0m\u001b[0mobj\u001b[0m\u001b[0;34m.\u001b[0m\u001b[0m_get_axis\u001b[0m\u001b[0;34m(\u001b[0m\u001b[0maxis\u001b[0m\u001b[0;34m)\u001b[0m\u001b[0;34m)\u001b[0m\u001b[0;34m\u001b[0m\u001b[0;34m\u001b[0m\u001b[0m\n\u001b[1;32m   1443\u001b[0m         \u001b[0;32mif\u001b[0m \u001b[0mkey\u001b[0m \u001b[0;34m>=\u001b[0m \u001b[0mlen_axis\u001b[0m \u001b[0;32mor\u001b[0m \u001b[0mkey\u001b[0m \u001b[0;34m<\u001b[0m \u001b[0;34m-\u001b[0m\u001b[0mlen_axis\u001b[0m\u001b[0;34m:\u001b[0m\u001b[0;34m\u001b[0m\u001b[0;34m\u001b[0m\u001b[0m\n\u001b[0;32m-> 1444\u001b[0;31m             \u001b[0;32mraise\u001b[0m \u001b[0mIndexError\u001b[0m\u001b[0;34m(\u001b[0m\u001b[0;34m\"single positional indexer is out-of-bounds\"\u001b[0m\u001b[0;34m)\u001b[0m\u001b[0;34m\u001b[0m\u001b[0;34m\u001b[0m\u001b[0m\n\u001b[0m\u001b[1;32m   1445\u001b[0m \u001b[0;34m\u001b[0m\u001b[0m\n\u001b[1;32m   1446\u001b[0m     \u001b[0;31m# -------------------------------------------------------------------\u001b[0m\u001b[0;34m\u001b[0m\u001b[0;34m\u001b[0m\u001b[0;34m\u001b[0m\u001b[0m\n",
      "\u001b[0;31mIndexError\u001b[0m: single positional indexer is out-of-bounds"
     ]
    }
   ],
   "source": [
    "# empty  dataframe\n",
    "df_compositions = pd.DataFrame()\n",
    "\n",
    "# unique columns for all products\n",
    "aux = []\n",
    "\n",
    "cols = ['Art. No.', 'Composition', 'Fit', 'Product safety', 'Size', 'More sustainable materials']\n",
    "df_pattern = pd.DataFrame(columns = cols)\n",
    "\n",
    "for i in range(len(data)):\n",
    "    # API Request\n",
    "    url = 'https://www2.hm.com/en_us/productpage.' + data.loc[i, 'product_id'] + '.html'\n",
    "\n",
    "    print('Product: {}'.format(url))\n",
    "    \n",
    "    page = requests.get(url, headers = headers)\n",
    "    \n",
    "    # Beautiful Soup object\n",
    "    soup = BeautifulSoup(page.text, 'html.parser')\n",
    "    \n",
    "    # ==================== color name =================================\n",
    "    product_list = soup.find_all( 'a', class_='filter-option miniature active' ) + soup.find_all( 'a', class_='filter-option miniature' )\n",
    "    \n",
    "    # color name\n",
    "    color_name = [p.get( 'data-color' ) for p in product_list]\n",
    "    \n",
    "    # product id\n",
    "    product_id = [p.get( 'data-articlecode' ) for p in product_list]\n",
    "    \n",
    "    df_color = pd.DataFrame( [product_id, color_name] ).T\n",
    "    df_color.columns = ['product_id', 'color_name']\n",
    "    \n",
    "    for j in range(len(df_color)): #go through all colors and collect each composition \n",
    "        # API Request\n",
    "        url = 'https://www2.hm.com/en_us/productpage.' + df_color.loc[j, 'product_id'] + '.html'\n",
    "    \n",
    "        print('Color: {}'.format(url))\n",
    "\n",
    "        page = requests.get(url, headers = headers)\n",
    "\n",
    "        # Beautiful Soup object\n",
    "        soup = BeautifulSoup(page.text, 'html.parser')\n",
    "        \n",
    "        # ============ Product Name =============roduct_price = soup.find_all('div', class_ = 'primary-row product-item-price')\n",
    "        product_name = soup.find_all('h1', class_ = 'primary product-item-headline')\n",
    "#       product_name = [ p.get_text() for p in product_name]\n",
    "        product_name = product_name[0].get_text()\n",
    "    \n",
    "        # ============ Product Price =============\n",
    "        product_price = soup.find_all('div', class_ = 'primary-row product-item-price')\n",
    "        product_price = re.findall(r'\\d+.?\\d+', product_price[0].get_text())[0]     \n",
    "        \n",
    "#         df_product_name_price = pd.DataFrame([product_name, product_price]).T\n",
    "        \n",
    "        # =================== composition =====================\n",
    "        product_composition_list = soup.find_all( 'div', class_='pdp-description-list-item' )\n",
    "        product_composition = [list( filter( None, p.get_text().split( '\\n' ) ) ) for p in product_composition_list]\n",
    "\n",
    "        # create composition dataframe\n",
    "        df_composition = pd.DataFrame(product_composition).T\n",
    "        df_composition.columns = df_composition.iloc[0]\n",
    "\n",
    "        # delete first row\n",
    "        df_composition = df_composition.iloc[1:].fillna(method = 'ffill')\n",
    "\n",
    "        # remove pocket lining, shell and lining\n",
    "        df_composition['Composition'] = df_composition['Composition'].str.replace('Pocket lining: ', '', regex = True)\n",
    "        df_composition['Composition'] = df_composition['Composition'].str.replace('Pocket: ', '', regex = True)\n",
    "        df_composition['Composition'] = df_composition['Composition'].str.replace('Shell: ', '', regex = True)\n",
    "        df_composition['Composition'] = df_composition['Composition'].str.replace('Lining: ', '', regex = True)\n",
    "\n",
    "        # garantee the same number of columns\n",
    "        df_composition = pd.concat( [df_pattern, df_composition], axis=0 )\n",
    "\n",
    "        #rename columns\n",
    "        df_composition.columns = ['product_id','composition','fit','product_safety', 'size', 'sustainable_materials']\n",
    "\n",
    "        #create columns product name and product price\n",
    "        df_composition['product_name'] = product_name\n",
    "        df_composition['product_price'] = product_price\n",
    "        \n",
    "        #keep new columns if it shows up\n",
    "        aux = aux + df_composition.columns.tolist() #to guarantee we have all columns of composition unique values\n",
    "\n",
    "        # merge data color + composition\n",
    "        df_composition = pd.merge( df_composition, df_color, how = 'left', on = 'product_id')\n",
    "\n",
    "        # all products\n",
    "        df_compositions = pd.concat([df_compositions, df_composition], axis = 0)\n",
    "    \n",
    "# # Join Showroom data + details\n",
    "df_compositions['style_id'] = df_compositions['product_id'].apply( lambda x: x[:-3] )\n",
    "df_compositions['color_id'] = df_compositions['product_id'].apply( lambda x: x[-3:] )\n",
    "\n",
    "#scrapy time \n",
    "df_compositions['scrapy_datetime'] = datetime.now().strftime('%Y-%m-%d %H:%M:%S')"
   ]
  },
  {
   "cell_type": "code",
   "execution_count": 88,
   "id": "688a0dd2",
   "metadata": {
    "ExecuteTime": {
     "end_time": "2022-02-24T15:51:10.087802Z",
     "start_time": "2022-02-24T15:51:10.083383Z"
    },
    "scrolled": true
   },
   "outputs": [
    {
     "data": {
      "text/plain": [
       "[[]]"
      ]
     },
     "execution_count": 88,
     "metadata": {},
     "output_type": "execute_result"
    }
   ],
   "source": [
    "product_composition"
   ]
  },
  {
   "cell_type": "code",
   "execution_count": 102,
   "id": "0fbfe944",
   "metadata": {
    "ExecuteTime": {
     "end_time": "2022-02-24T16:25:06.114232Z",
     "start_time": "2022-02-24T16:25:06.104965Z"
    }
   },
   "outputs": [
    {
     "data": {
      "text/plain": [
       "[]"
      ]
     },
     "execution_count": 102,
     "metadata": {},
     "output_type": "execute_result"
    }
   ],
   "source": [
    "a = soup.find_all( 'div', class_='ProductAttributesList-module--descriptionListItem__3vUL2' )\n",
    "a"
   ]
  },
  {
   "cell_type": "code",
   "execution_count": 100,
   "id": "9e1b9c6e",
   "metadata": {
    "ExecuteTime": {
     "end_time": "2022-02-24T16:18:52.876393Z",
     "start_time": "2022-02-24T16:18:52.873304Z"
    }
   },
   "outputs": [
    {
     "data": {
      "text/plain": [
       "[]"
      ]
     },
     "execution_count": 100,
     "metadata": {},
     "output_type": "execute_result"
    }
   ],
   "source": [
    "product_composition_list"
   ]
  },
  {
   "cell_type": "code",
   "execution_count": 97,
   "id": "16c65c54",
   "metadata": {
    "ExecuteTime": {
     "end_time": "2022-02-24T15:54:23.388389Z",
     "start_time": "2022-02-24T15:54:23.385657Z"
    }
   },
   "outputs": [
    {
     "data": {
      "text/plain": [
       "[<div class=\"content pdp-text pdp-content\">\n",
       " <hm-product-description id=\"js-product-description\"></hm-product-description>\n",
       " <section class=\"review-answers selected-rating\" id=\"js-selected-rating\"></section>\n",
       " </div>]"
      ]
     },
     "execution_count": 97,
     "metadata": {},
     "output_type": "execute_result"
    }
   ],
   "source": [
    "product_composition_list"
   ]
  },
  {
   "cell_type": "code",
   "execution_count": 72,
   "id": "871911d9",
   "metadata": {
    "ExecuteTime": {
     "end_time": "2022-02-24T15:40:18.740171Z",
     "start_time": "2022-02-24T15:40:18.733146Z"
    }
   },
   "outputs": [],
   "source": [
    "product_composition = [list( filter( None, p.get_text().split( '\\n' ) ) ) for p in product_composition_list]"
   ]
  },
  {
   "cell_type": "code",
   "execution_count": 73,
   "id": "19b24d89",
   "metadata": {
    "ExecuteTime": {
     "end_time": "2022-02-24T15:40:22.215703Z",
     "start_time": "2022-02-24T15:40:22.212918Z"
    }
   },
   "outputs": [
    {
     "data": {
      "text/plain": [
       "[[]]"
      ]
     },
     "execution_count": 73,
     "metadata": {},
     "output_type": "execute_result"
    }
   ],
   "source": [
    "product_composition"
   ]
  },
  {
   "cell_type": "code",
   "execution_count": 63,
   "id": "b3677d45",
   "metadata": {
    "ExecuteTime": {
     "end_time": "2022-02-24T15:31:26.669470Z",
     "start_time": "2022-02-24T15:31:26.664595Z"
    }
   },
   "outputs": [
    {
     "data": {
      "text/html": [
       "<div>\n",
       "<style scoped>\n",
       "    .dataframe tbody tr th:only-of-type {\n",
       "        vertical-align: middle;\n",
       "    }\n",
       "\n",
       "    .dataframe tbody tr th {\n",
       "        vertical-align: top;\n",
       "    }\n",
       "\n",
       "    .dataframe thead th {\n",
       "        text-align: right;\n",
       "    }\n",
       "</style>\n",
       "<table border=\"1\" class=\"dataframe\">\n",
       "  <thead>\n",
       "    <tr style=\"text-align: right;\">\n",
       "      <th></th>\n",
       "      <th>product_id</th>\n",
       "      <th>color_name</th>\n",
       "    </tr>\n",
       "  </thead>\n",
       "  <tbody>\n",
       "    <tr>\n",
       "      <th>0</th>\n",
       "      <td>0979945001</td>\n",
       "      <td>Light denim blue</td>\n",
       "    </tr>\n",
       "    <tr>\n",
       "      <th>1</th>\n",
       "      <td>0979945002</td>\n",
       "      <td>Denim blue</td>\n",
       "    </tr>\n",
       "    <tr>\n",
       "      <th>2</th>\n",
       "      <td>0979945003</td>\n",
       "      <td>Black</td>\n",
       "    </tr>\n",
       "  </tbody>\n",
       "</table>\n",
       "</div>"
      ],
      "text/plain": [
       "   product_id        color_name\n",
       "0  0979945001  Light denim blue\n",
       "1  0979945002        Denim blue\n",
       "2  0979945003             Black"
      ]
     },
     "execution_count": 63,
     "metadata": {},
     "output_type": "execute_result"
    }
   ],
   "source": [
    "df_color.head()"
   ]
  },
  {
   "cell_type": "code",
   "execution_count": 53,
   "id": "12e9d9a5",
   "metadata": {
    "ExecuteTime": {
     "end_time": "2022-02-24T15:26:51.453280Z",
     "start_time": "2022-02-24T15:26:51.097478Z"
    }
   },
   "outputs": [
    {
     "data": {
      "text/html": [
       "<div>\n",
       "<style scoped>\n",
       "    .dataframe tbody tr th:only-of-type {\n",
       "        vertical-align: middle;\n",
       "    }\n",
       "\n",
       "    .dataframe tbody tr th {\n",
       "        vertical-align: top;\n",
       "    }\n",
       "\n",
       "    .dataframe thead th {\n",
       "        text-align: right;\n",
       "    }\n",
       "</style>\n",
       "<table border=\"1\" class=\"dataframe\">\n",
       "  <thead>\n",
       "    <tr style=\"text-align: right;\">\n",
       "      <th></th>\n",
       "      <th>product_id</th>\n",
       "      <th>composition</th>\n",
       "      <th>fit</th>\n",
       "      <th>product_safety</th>\n",
       "      <th>size</th>\n",
       "      <th>sustainable_materials</th>\n",
       "      <th>product_name</th>\n",
       "      <th>product_price</th>\n",
       "      <th>color_name</th>\n",
       "    </tr>\n",
       "  </thead>\n",
       "  <tbody>\n",
       "    <tr>\n",
       "      <th>0</th>\n",
       "      <td>0875105023</td>\n",
       "      <td>Polyester 65%, Cotton 35%</td>\n",
       "      <td>Relaxed fit</td>\n",
       "      <td>NaN</td>\n",
       "      <td>The model is 189cm/6'2\" and wears a size 32/32</td>\n",
       "      <td>NaN</td>\n",
       "      <td>\\n\\t\\t\\t\\t\\t\\t\\t  Relaxed Jeans</td>\n",
       "      <td>29.99</td>\n",
       "      <td>Black</td>\n",
       "    </tr>\n",
       "    <tr>\n",
       "      <th>1</th>\n",
       "      <td>0875105023</td>\n",
       "      <td>Cotton 100%</td>\n",
       "      <td>Relaxed fit</td>\n",
       "      <td>NaN</td>\n",
       "      <td>The model is 189cm/6'2\" and wears a size 32/32</td>\n",
       "      <td>NaN</td>\n",
       "      <td>\\n\\t\\t\\t\\t\\t\\t\\t  Relaxed Jeans</td>\n",
       "      <td>29.99</td>\n",
       "      <td>Black</td>\n",
       "    </tr>\n",
       "  </tbody>\n",
       "</table>\n",
       "</div>"
      ],
      "text/plain": [
       "   product_id                composition          fit product_safety  \\\n",
       "0  0875105023  Polyester 65%, Cotton 35%  Relaxed fit            NaN   \n",
       "1  0875105023                Cotton 100%  Relaxed fit            NaN   \n",
       "\n",
       "                                             size sustainable_materials  \\\n",
       "0  The model is 189cm/6'2\" and wears a size 32/32                   NaN   \n",
       "1  The model is 189cm/6'2\" and wears a size 32/32                   NaN   \n",
       "\n",
       "                      product_name product_price color_name  \n",
       "0  \\n\\t\\t\\t\\t\\t\\t\\t  Relaxed Jeans         29.99      Black  \n",
       "1  \\n\\t\\t\\t\\t\\t\\t\\t  Relaxed Jeans         29.99      Black  "
      ]
     },
     "execution_count": 53,
     "metadata": {},
     "output_type": "execute_result"
    }
   ],
   "source": [
    "df_composition.head()"
   ]
  },
  {
   "cell_type": "code",
   "execution_count": 61,
   "id": "3b6f2b99",
   "metadata": {
    "ExecuteTime": {
     "end_time": "2022-02-24T15:30:12.838439Z",
     "start_time": "2022-02-24T15:30:12.833101Z"
    }
   },
   "outputs": [
    {
     "data": {
      "text/html": [
       "<div>\n",
       "<style scoped>\n",
       "    .dataframe tbody tr th:only-of-type {\n",
       "        vertical-align: middle;\n",
       "    }\n",
       "\n",
       "    .dataframe tbody tr th {\n",
       "        vertical-align: top;\n",
       "    }\n",
       "\n",
       "    .dataframe thead th {\n",
       "        text-align: right;\n",
       "    }\n",
       "</style>\n",
       "<table border=\"1\" class=\"dataframe\">\n",
       "  <thead>\n",
       "    <tr style=\"text-align: right;\">\n",
       "      <th></th>\n",
       "    </tr>\n",
       "  </thead>\n",
       "  <tbody>\n",
       "  </tbody>\n",
       "</table>\n",
       "</div>"
      ],
      "text/plain": [
       "Empty DataFrame\n",
       "Columns: []\n",
       "Index: []"
      ]
     },
     "execution_count": 61,
     "metadata": {},
     "output_type": "execute_result"
    }
   ],
   "source": [
    "df_composition.head()"
   ]
  },
  {
   "cell_type": "code",
   "execution_count": 59,
   "id": "196accd8",
   "metadata": {
    "ExecuteTime": {
     "end_time": "2022-02-24T15:27:55.422854Z",
     "start_time": "2022-02-24T15:27:55.418048Z"
    }
   },
   "outputs": [
    {
     "data": {
      "text/plain": [
       "product_id                                                   0875105023\n",
       "composition                                                 Cotton 100%\n",
       "fit                                                         Relaxed fit\n",
       "product_safety                                                      NaN\n",
       "size                     The model is 189cm/6'2\" and wears a size 32/32\n",
       "sustainable_materials                                               NaN\n",
       "product_name                            \\n\\t\\t\\t\\t\\t\\t\\t  Relaxed Jeans\n",
       "product_price                                                     29.99\n",
       "color_name                                                        Black\n",
       "Name: 1, dtype: object"
      ]
     },
     "execution_count": 59,
     "metadata": {},
     "output_type": "execute_result"
    }
   ],
   "source": [
    "df_composition.iloc[1\n",
    "                   ]"
   ]
  },
  {
   "cell_type": "code",
   "execution_count": 16,
   "id": "2d2bb857",
   "metadata": {
    "ExecuteTime": {
     "end_time": "2022-02-21T22:31:32.131865Z",
     "start_time": "2022-02-21T22:31:32.128643Z"
    }
   },
   "outputs": [
    {
     "data": {
      "text/plain": [
       "96"
      ]
     },
     "execution_count": 16,
     "metadata": {},
     "output_type": "execute_result"
    }
   ],
   "source": [
    "len(df_compositions['product_id'].unique())"
   ]
  },
  {
   "cell_type": "markdown",
   "id": "8e3127a9",
   "metadata": {},
   "source": [
    "# Data Cleaning"
   ]
  },
  {
   "cell_type": "code",
   "execution_count": 33,
   "id": "22dfc396",
   "metadata": {
    "ExecuteTime": {
     "end_time": "2022-02-21T23:00:02.292899Z",
     "start_time": "2022-02-21T23:00:02.218291Z"
    },
    "scrolled": false
   },
   "outputs": [
    {
     "data": {
      "text/plain": [
       "(96, 15)"
      ]
     },
     "execution_count": 33,
     "metadata": {},
     "output_type": "execute_result"
    }
   ],
   "source": [
    "#product id\n",
    "df_data = df_compositions.dropna(subset = ['product_id'])\n",
    "\n",
    "#product name\n",
    "\n",
    "df_data['product_name'] = df_data['product_name'].apply(lambda x: x.replace('\\n', ''))\n",
    "df_data['product_name'] = df_data['product_name'].apply(lambda x: x.replace('\\t', ''))\n",
    "df_data['product_name'] = df_data['product_name'].apply(lambda x: x.replace('  ', ''))\n",
    "df_data['product_name'] = df_data['product_name'].apply(lambda x: x.replace(' ', '_').lower())\n",
    "\n",
    "#product price\n",
    "df_data['product_price'] = df_data['product_price'].astype(float)\n",
    "\n",
    "#color name\n",
    "df_data['color_name'] = df_data['color_name'].apply(lambda x: x.replace(' ', '_').replace('/', '_').lower() if pd.notnull(x) else x)\n",
    "\n",
    "# #fit\n",
    "df_data['fit'] = df_data['fit'].apply(lambda x: x.replace(' ', '_').lower() if pd.notnull(x) else x)\n",
    "\n",
    "# #====  size  ======\n",
    "# #size number\n",
    "df_data['size_number'] = df_data['size'].apply(lambda x: re.search('\\d{3}cm', x).group(0) if pd.notnull(x) else x)\n",
    "df_data['size_number'] = df_data['size_number'].apply(lambda x: re.search('\\d+', x).group(0) if pd.notnull(x) else x) #group(0) locates the whole match expression\n",
    "\n",
    "# #size model \n",
    "df_data['size_model'] = df_data['size'].str.extract('(\\d+/\\\\d+)') #.str to vectorize the lines, .extracts cant be applied in the whole column\n",
    "\n",
    "# # #product safety\n",
    "\n",
    "# =================== sustainable materials ============\n",
    "df_data['sustainable_materials'] = df_data['sustainable_materials'].apply(lambda x: x.replace(' ', '_').lower() if pd.notnull(x) else x)\n",
    "\n",
    "# df2 = df_data['sustainable_materials'].str.split()\n",
    "\n",
    "#recycled cotton / recycled polyester\n",
    "# creating an empty dataframe as reference to organize the wnanted columns\n",
    "# thenconcatenete with the main dataframe, but it has to have the same lenght as 'data' dataframe\n",
    "\n",
    "df2 = df_data[['sustainable_materials']].reset_index(drop=True)\n",
    "df_ref2 = pd.DataFrame(index = np.arange(len(df_data)), columns = ['recycled_cotton', 'recycled_polyester'])\n",
    "\n",
    "# ------------ recycled cotton ------------\n",
    "df_recycled_cotton = df2.loc[df2['sustainable_materials'].str.contains('recycled_cotton', na = True), 'sustainable_materials']\n",
    "df_recycled_cotton.name = 'recycled_cotton'\n",
    "\n",
    "df_ref2 = pd.concat([df_ref2, df_recycled_cotton], axis = 1)\n",
    "df_ref2 = df_ref2.iloc[:, ~df_ref2.columns.duplicated(keep='last')]\n",
    "\n",
    "# ------------recycled polyester -------------\n",
    "df_recycled_polyester = df2.loc[df2['sustainable_materials'].str.contains('recycled_polyester', na = True), 'sustainable_materials']\n",
    "df_recycled_polyester.name = 'recycled_polyester'\n",
    "\n",
    "df_ref2 = pd.concat([df_ref2, df_recycled_polyester], axis = 1)\n",
    "df_ref2 = df_ref2.iloc[:, ~df_ref2.columns.duplicated(keep='last')]\n",
    "\n",
    "# ====================  composition =====================\n",
    "#break composition by comma\n",
    "df1 = df_data['composition'].str.split(',', expand = True).reset_index(drop=True)\n",
    "\n",
    "# cotton / polyester / spandex / \n",
    "# creating empty dataframe as reference to organize the wanted columns and \n",
    "# then concatanete with the main dataframe, but it has to have the same lenght as 'data' dataframe\n",
    "\n",
    "df_ref = pd.DataFrame(index = np.arange(len(df_data)), columns = ['cotton', 'polyester', 'spandex'])\n",
    "\n",
    "# --------------- cotton ----------------\n",
    "df_cotton_0 = df1.loc[df1[0].str.contains('Cotton', na = True), 0]\n",
    "df_cotton_0.name = 'cotton'\n",
    "\n",
    "df_cotton_1 = df1.loc[df1[1].str.contains('Cotton', na = True), 1]\n",
    "df_cotton_1.name = 'cotton'\n",
    "\n",
    "#combine\n",
    "df_cotton = df_cotton_0.combine_first(df_cotton_1)\n",
    "\n",
    "df_ref = pd.concat([df_ref, df_cotton], axis = 1)\n",
    "df_ref = df_ref.iloc[:, ~df_ref.columns.duplicated( keep = 'last')] #exclue colunas duplicadas, mantem as diferentes\n",
    "# df_ref['cotton'] = df_ref['cotton'].fillna('Cotton 0%')\n",
    "\n",
    "# -------------- polyester ----------------\n",
    "df_polyester_0 = df1.loc[df1[0].str.contains('Polyester', na = True), 0]\n",
    "df_polyester_0.name = 'polyester'\n",
    "\n",
    "df_polyester_1 = df1.loc[df1[1].str.contains('Polyester', na = True), 1]\n",
    "df_polyester_1.name = 'polyester'\n",
    "\n",
    "# combine\n",
    "df_polyester = df_polyester_0.combine_first(df_polyester_1)\n",
    "\n",
    "# add to reference dataframe\n",
    "df_ref = pd.concat([df_ref, df_polyester], axis = 1)\n",
    "df_ref = df_ref.iloc[:, ~df_ref.columns.duplicated(keep = 'last')] #delet duplicated columns and keep the different ones\n",
    "\n",
    "# -------------- spandex ------------------\n",
    "df_spandex_1 = df1.loc[df1[1].str.contains('Spandex', na = True), 1]\n",
    "df_spandex_1.name = 'spandex'\n",
    "\n",
    "df_spandex_2 = df1.loc[df1[2].str.contains('Spandex', na = True), 2]\n",
    "df_spandex_2.name = 'spandex'\n",
    "\n",
    "# combine\n",
    "df_spandex = df_spandex_1.combine_first(df_spandex_2)\n",
    "\n",
    "df_ref = pd.concat([df_ref, df_spandex], axis = 1)\n",
    "df_ref = df_ref.iloc[:, ~df_ref.columns.duplicated(keep='last')]\n",
    "\n",
    "# # ------------- elasterell -----------\n",
    "# df_elasterell = df1.loc[df1[1].str.contains('Elasterell', na = True), 1]\n",
    "# df_elasterell.name = 'elasterell'\n",
    "\n",
    "# df_ref = pd.concat([df_ref, df_elasterell], axis = 1)\n",
    "# df_ref = df_ref.iloc[:, ~df_ref.columns.duplicated(keep='last')]\n",
    "\n",
    "# combine the two dataframe reference\n",
    "df_ref_final = pd.concat([df_ref, df_ref2], axis = 1)\n",
    "\n",
    "# add product_id in the aux dataframe\n",
    "df_aux = pd.concat([df_data['product_id'].reset_index(drop = True), df_ref_final], axis = 1)\n",
    "\n",
    "# formatt composition data\n",
    "df_aux['cotton'] = df_aux['cotton'].apply(lambda x: int(re.search('\\d+', x).group(0))/100 if pd.notnull(x) else x)\n",
    "df_aux['polyester'] = df_aux['polyester'].apply(lambda x: int(re.search('\\d+', x).group(0))/100 if pd.notnull(x) else x)\n",
    "df_aux['spandex'] = df_aux['spandex'].apply(lambda x: int(re.search('\\d+', x).group(0))/100 if pd.notnull(x) else x)\n",
    "df_aux['recycled_cotton'] = df_aux['recycled_cotton'].apply(lambda x: int(re.search('\\d+', x).group(0))/100 if pd.notnull(x) else x)\n",
    "df_aux['recycled_polyester'] = df_aux['recycled_polyester'].apply(lambda x: int(re.search('\\d+', x).group(0))/100 if pd.notnull(x) else x)\n",
    "\n",
    "# final join\n",
    "df_aux = df_aux.groupby('product_id').max().reset_index().fillna( 0 ) #choose the highest value between lines\n",
    "df_data = pd.merge(df_data, df_aux, on = 'product_id', how = 'left')\n",
    "\n",
    "#d rop columns\n",
    "df_data = df_data.drop(columns = ['size', 'product_safety','composition','sustainable_materials'], axis = 1)\n",
    "\n",
    "#drop duplicates\n",
    "\n",
    "df_data = df_data.drop_duplicates()\n",
    "\n",
    "df_data.shape"
   ]
  },
  {
   "cell_type": "code",
   "execution_count": 34,
   "id": "400459b0",
   "metadata": {
    "ExecuteTime": {
     "end_time": "2022-02-21T23:00:03.553252Z",
     "start_time": "2022-02-21T23:00:03.521663Z"
    },
    "scrolled": true
   },
   "outputs": [
    {
     "data": {
      "text/html": [
       "<div>\n",
       "<style scoped>\n",
       "    .dataframe tbody tr th:only-of-type {\n",
       "        vertical-align: middle;\n",
       "    }\n",
       "\n",
       "    .dataframe tbody tr th {\n",
       "        vertical-align: top;\n",
       "    }\n",
       "\n",
       "    .dataframe thead th {\n",
       "        text-align: right;\n",
       "    }\n",
       "</style>\n",
       "<table border=\"1\" class=\"dataframe\">\n",
       "  <thead>\n",
       "    <tr style=\"text-align: right;\">\n",
       "      <th></th>\n",
       "      <th>product_id</th>\n",
       "      <th>fit</th>\n",
       "      <th>product_name</th>\n",
       "      <th>product_price</th>\n",
       "      <th>color_name</th>\n",
       "      <th>style_id</th>\n",
       "      <th>color_id</th>\n",
       "      <th>scrapy_datetime</th>\n",
       "      <th>size_number</th>\n",
       "      <th>size_model</th>\n",
       "      <th>cotton</th>\n",
       "      <th>polyester</th>\n",
       "      <th>spandex</th>\n",
       "      <th>recycled_cotton</th>\n",
       "      <th>recycled_polyester</th>\n",
       "    </tr>\n",
       "  </thead>\n",
       "  <tbody>\n",
       "    <tr>\n",
       "      <th>0</th>\n",
       "      <td>0979945001</td>\n",
       "      <td>loose_fit</td>\n",
       "      <td>loose_jeans</td>\n",
       "      <td>29.99</td>\n",
       "      <td>light_denim_blue</td>\n",
       "      <td>0979945</td>\n",
       "      <td>001</td>\n",
       "      <td>2022-02-21 19:31:32</td>\n",
       "      <td>180</td>\n",
       "      <td>31/32</td>\n",
       "      <td>1.00</td>\n",
       "      <td>0.65</td>\n",
       "      <td>0.00</td>\n",
       "      <td>0.2</td>\n",
       "      <td>0.0</td>\n",
       "    </tr>\n",
       "    <tr>\n",
       "      <th>2</th>\n",
       "      <td>0979945002</td>\n",
       "      <td>loose_fit</td>\n",
       "      <td>loose_jeans</td>\n",
       "      <td>29.99</td>\n",
       "      <td>denim_blue</td>\n",
       "      <td>0979945</td>\n",
       "      <td>002</td>\n",
       "      <td>2022-02-21 19:31:32</td>\n",
       "      <td>NaN</td>\n",
       "      <td>NaN</td>\n",
       "      <td>1.00</td>\n",
       "      <td>0.65</td>\n",
       "      <td>0.00</td>\n",
       "      <td>0.2</td>\n",
       "      <td>0.0</td>\n",
       "    </tr>\n",
       "    <tr>\n",
       "      <th>4</th>\n",
       "      <td>0979945003</td>\n",
       "      <td>loose_fit</td>\n",
       "      <td>loose_jeans</td>\n",
       "      <td>29.99</td>\n",
       "      <td>black</td>\n",
       "      <td>0979945</td>\n",
       "      <td>003</td>\n",
       "      <td>2022-02-21 19:31:32</td>\n",
       "      <td>NaN</td>\n",
       "      <td>NaN</td>\n",
       "      <td>1.00</td>\n",
       "      <td>0.65</td>\n",
       "      <td>0.00</td>\n",
       "      <td>0.2</td>\n",
       "      <td>0.0</td>\n",
       "    </tr>\n",
       "    <tr>\n",
       "      <th>6</th>\n",
       "      <td>1008549001</td>\n",
       "      <td>regular_fit</td>\n",
       "      <td>regular_jeans</td>\n",
       "      <td>19.99</td>\n",
       "      <td>light_denim_blue</td>\n",
       "      <td>1008549</td>\n",
       "      <td>001</td>\n",
       "      <td>2022-02-21 19:31:32</td>\n",
       "      <td>NaN</td>\n",
       "      <td>NaN</td>\n",
       "      <td>0.98</td>\n",
       "      <td>0.65</td>\n",
       "      <td>0.02</td>\n",
       "      <td>0.2</td>\n",
       "      <td>0.0</td>\n",
       "    </tr>\n",
       "    <tr>\n",
       "      <th>8</th>\n",
       "      <td>1008549002</td>\n",
       "      <td>regular_fit</td>\n",
       "      <td>regular_jeans</td>\n",
       "      <td>19.99</td>\n",
       "      <td>denim_blue</td>\n",
       "      <td>1008549</td>\n",
       "      <td>002</td>\n",
       "      <td>2022-02-21 19:31:32</td>\n",
       "      <td>185</td>\n",
       "      <td>31/32</td>\n",
       "      <td>0.99</td>\n",
       "      <td>0.65</td>\n",
       "      <td>0.01</td>\n",
       "      <td>0.2</td>\n",
       "      <td>0.0</td>\n",
       "    </tr>\n",
       "  </tbody>\n",
       "</table>\n",
       "</div>"
      ],
      "text/plain": [
       "   product_id          fit   product_name  product_price        color_name  \\\n",
       "0  0979945001    loose_fit    loose_jeans          29.99  light_denim_blue   \n",
       "2  0979945002    loose_fit    loose_jeans          29.99        denim_blue   \n",
       "4  0979945003    loose_fit    loose_jeans          29.99             black   \n",
       "6  1008549001  regular_fit  regular_jeans          19.99  light_denim_blue   \n",
       "8  1008549002  regular_fit  regular_jeans          19.99        denim_blue   \n",
       "\n",
       "  style_id color_id      scrapy_datetime size_number size_model  cotton  \\\n",
       "0  0979945      001  2022-02-21 19:31:32         180      31/32    1.00   \n",
       "2  0979945      002  2022-02-21 19:31:32         NaN        NaN    1.00   \n",
       "4  0979945      003  2022-02-21 19:31:32         NaN        NaN    1.00   \n",
       "6  1008549      001  2022-02-21 19:31:32         NaN        NaN    0.98   \n",
       "8  1008549      002  2022-02-21 19:31:32         185      31/32    0.99   \n",
       "\n",
       "   polyester  spandex  recycled_cotton  recycled_polyester  \n",
       "0       0.65     0.00              0.2                 0.0  \n",
       "2       0.65     0.00              0.2                 0.0  \n",
       "4       0.65     0.00              0.2                 0.0  \n",
       "6       0.65     0.02              0.2                 0.0  \n",
       "8       0.65     0.01              0.2                 0.0  "
      ]
     },
     "execution_count": 34,
     "metadata": {},
     "output_type": "execute_result"
    }
   ],
   "source": [
    "df_data.head()"
   ]
  },
  {
   "cell_type": "code",
   "execution_count": 35,
   "id": "95ee5a09",
   "metadata": {
    "ExecuteTime": {
     "end_time": "2022-02-21T23:00:10.907595Z",
     "start_time": "2022-02-21T23:00:10.899699Z"
    }
   },
   "outputs": [
    {
     "data": {
      "text/plain": [
       "(96, 15)"
      ]
     },
     "execution_count": 35,
     "metadata": {},
     "output_type": "execute_result"
    }
   ],
   "source": [
    "df_data.shape"
   ]
  },
  {
   "cell_type": "markdown",
   "id": "fcd856d5",
   "metadata": {},
   "source": [
    "# Data Insert"
   ]
  },
  {
   "cell_type": "code",
   "execution_count": 38,
   "id": "bca6a405",
   "metadata": {
    "ExecuteTime": {
     "end_time": "2022-02-21T23:00:58.045940Z",
     "start_time": "2022-02-21T23:00:57.949445Z"
    }
   },
   "outputs": [],
   "source": []
  },
  {
   "cell_type": "code",
   "execution_count": 39,
   "id": "32abeaaf",
   "metadata": {
    "ExecuteTime": {
     "end_time": "2022-02-21T23:01:02.889955Z",
     "start_time": "2022-02-21T23:01:02.881188Z"
    }
   },
   "outputs": [],
   "source": [
    "data_insert = df_data[[\n",
    "    'product_id',\n",
    "    'style_id',\n",
    "    'color_id',\n",
    "    'product_name',\n",
    "    'color_name',\n",
    "    'fit',\n",
    "    'product_price',\n",
    "    'size_number',\n",
    "    'size_model',\n",
    "    'cotton',\n",
    "    'polyester',\n",
    "    'spandex',\n",
    "    'recycled_cotton',\n",
    "    'recycled_polyester',\n",
    "    'scrapy_datetime'\n",
    "\n",
    "]]"
   ]
  },
  {
   "cell_type": "code",
   "execution_count": 45,
   "id": "b00de4b2",
   "metadata": {
    "ExecuteTime": {
     "end_time": "2022-02-21T23:05:36.640246Z",
     "start_time": "2022-02-21T23:05:36.635622Z"
    }
   },
   "outputs": [],
   "source": [
    "# query_showroom_schema = \"\"\"\n",
    "#     CREATE TABLE VITRINE (\n",
    "    \n",
    "#         product_id          TEXT,\n",
    "#         style_id            TEXT,\n",
    "#         color_id            TEXT,\n",
    "#         product_name        TEXT,\n",
    "#         color_name          TEXT,\n",
    "#         fit                 TEXT,\n",
    "#         product_price       REAL,\n",
    "#         size_number         TEXT,\n",
    "#         size_model          TEXT,\n",
    "#         cotton              REAL,\n",
    "#         polyester           REAL,\n",
    "#         spandex             REAL,\n",
    "#         recycled_cotton     REAL,\n",
    "#         recycled_polyester  REAL,\n",
    "#         scrapy_datetime     TEXT\n",
    "#     )\n",
    "\n",
    "# \"\"\""
   ]
  },
  {
   "cell_type": "code",
   "execution_count": 46,
   "id": "95aa6151",
   "metadata": {
    "ExecuteTime": {
     "end_time": "2022-02-21T23:05:38.596619Z",
     "start_time": "2022-02-21T23:05:38.577030Z"
    }
   },
   "outputs": [],
   "source": [
    "#create table\n",
    "conn = sqlite3.connect('database_hm.sqlite')\n",
    "conn.execute( query_showroom_schema )\n",
    "conn.commit()"
   ]
  },
  {
   "cell_type": "code",
   "execution_count": 48,
   "id": "686b5c1f",
   "metadata": {
    "ExecuteTime": {
     "end_time": "2022-02-21T23:08:07.316919Z",
     "start_time": "2022-02-21T23:08:07.278589Z"
    }
   },
   "outputs": [],
   "source": [
    "# create database connection\n",
    "conn = create_engine( 'sqlite:///database_hm.sqlite', echo = False)\n",
    "\n",
    "# data insert\n",
    "data_insert.to_sql('vitrine', con = conn, if_exists = 'append', index = False )"
   ]
  },
  {
   "cell_type": "code",
   "execution_count": 52,
   "id": "5db304c2",
   "metadata": {
    "ExecuteTime": {
     "end_time": "2022-02-22T00:06:28.355418Z",
     "start_time": "2022-02-22T00:06:28.346904Z"
    }
   },
   "outputs": [
    {
     "data": {
      "text/plain": [
       "'/home/marxcerqueira/repos/python-ds-ao-dev'"
      ]
     },
     "execution_count": 52,
     "metadata": {},
     "output_type": "execute_result"
    }
   ],
   "source": [
    "pwd"
   ]
  },
  {
   "cell_type": "code",
   "execution_count": 50,
   "id": "8cfbe6e0",
   "metadata": {
    "ExecuteTime": {
     "end_time": "2022-02-21T23:09:46.985202Z",
     "start_time": "2022-02-21T23:09:46.940933Z"
    },
    "scrolled": false
   },
   "outputs": [
    {
     "data": {
      "text/html": [
       "<div>\n",
       "<style scoped>\n",
       "    .dataframe tbody tr th:only-of-type {\n",
       "        vertical-align: middle;\n",
       "    }\n",
       "\n",
       "    .dataframe tbody tr th {\n",
       "        vertical-align: top;\n",
       "    }\n",
       "\n",
       "    .dataframe thead th {\n",
       "        text-align: right;\n",
       "    }\n",
       "</style>\n",
       "<table border=\"1\" class=\"dataframe\">\n",
       "  <thead>\n",
       "    <tr style=\"text-align: right;\">\n",
       "      <th></th>\n",
       "      <th>product_id</th>\n",
       "      <th>style_id</th>\n",
       "      <th>color_id</th>\n",
       "      <th>product_name</th>\n",
       "      <th>color_name</th>\n",
       "      <th>fit</th>\n",
       "      <th>product_price</th>\n",
       "      <th>size_number</th>\n",
       "      <th>size_model</th>\n",
       "      <th>cotton</th>\n",
       "      <th>polyester</th>\n",
       "      <th>spandex</th>\n",
       "      <th>recycled_cotton</th>\n",
       "      <th>recycled_polyester</th>\n",
       "      <th>scrapy_datetime</th>\n",
       "    </tr>\n",
       "  </thead>\n",
       "  <tbody>\n",
       "    <tr>\n",
       "      <th>0</th>\n",
       "      <td>0979945001</td>\n",
       "      <td>0979945</td>\n",
       "      <td>001</td>\n",
       "      <td>loose_jeans</td>\n",
       "      <td>light_denim_blue</td>\n",
       "      <td>loose_fit</td>\n",
       "      <td>29.99</td>\n",
       "      <td>180</td>\n",
       "      <td>31/32</td>\n",
       "      <td>1.00</td>\n",
       "      <td>0.65</td>\n",
       "      <td>0.00</td>\n",
       "      <td>0.2</td>\n",
       "      <td>0.0</td>\n",
       "      <td>2022-02-21 19:31:32</td>\n",
       "    </tr>\n",
       "    <tr>\n",
       "      <th>1</th>\n",
       "      <td>0979945002</td>\n",
       "      <td>0979945</td>\n",
       "      <td>002</td>\n",
       "      <td>loose_jeans</td>\n",
       "      <td>denim_blue</td>\n",
       "      <td>loose_fit</td>\n",
       "      <td>29.99</td>\n",
       "      <td>None</td>\n",
       "      <td>None</td>\n",
       "      <td>1.00</td>\n",
       "      <td>0.65</td>\n",
       "      <td>0.00</td>\n",
       "      <td>0.2</td>\n",
       "      <td>0.0</td>\n",
       "      <td>2022-02-21 19:31:32</td>\n",
       "    </tr>\n",
       "    <tr>\n",
       "      <th>2</th>\n",
       "      <td>0979945003</td>\n",
       "      <td>0979945</td>\n",
       "      <td>003</td>\n",
       "      <td>loose_jeans</td>\n",
       "      <td>black</td>\n",
       "      <td>loose_fit</td>\n",
       "      <td>29.99</td>\n",
       "      <td>None</td>\n",
       "      <td>None</td>\n",
       "      <td>1.00</td>\n",
       "      <td>0.65</td>\n",
       "      <td>0.00</td>\n",
       "      <td>0.2</td>\n",
       "      <td>0.0</td>\n",
       "      <td>2022-02-21 19:31:32</td>\n",
       "    </tr>\n",
       "    <tr>\n",
       "      <th>3</th>\n",
       "      <td>1008549001</td>\n",
       "      <td>1008549</td>\n",
       "      <td>001</td>\n",
       "      <td>regular_jeans</td>\n",
       "      <td>light_denim_blue</td>\n",
       "      <td>regular_fit</td>\n",
       "      <td>19.99</td>\n",
       "      <td>None</td>\n",
       "      <td>None</td>\n",
       "      <td>0.98</td>\n",
       "      <td>0.65</td>\n",
       "      <td>0.02</td>\n",
       "      <td>0.2</td>\n",
       "      <td>0.0</td>\n",
       "      <td>2022-02-21 19:31:32</td>\n",
       "    </tr>\n",
       "    <tr>\n",
       "      <th>4</th>\n",
       "      <td>1008549002</td>\n",
       "      <td>1008549</td>\n",
       "      <td>002</td>\n",
       "      <td>regular_jeans</td>\n",
       "      <td>denim_blue</td>\n",
       "      <td>regular_fit</td>\n",
       "      <td>19.99</td>\n",
       "      <td>185</td>\n",
       "      <td>31/32</td>\n",
       "      <td>0.99</td>\n",
       "      <td>0.65</td>\n",
       "      <td>0.01</td>\n",
       "      <td>0.2</td>\n",
       "      <td>0.0</td>\n",
       "      <td>2022-02-21 19:31:32</td>\n",
       "    </tr>\n",
       "  </tbody>\n",
       "</table>\n",
       "</div>"
      ],
      "text/plain": [
       "   product_id style_id color_id   product_name        color_name          fit  \\\n",
       "0  0979945001  0979945      001    loose_jeans  light_denim_blue    loose_fit   \n",
       "1  0979945002  0979945      002    loose_jeans        denim_blue    loose_fit   \n",
       "2  0979945003  0979945      003    loose_jeans             black    loose_fit   \n",
       "3  1008549001  1008549      001  regular_jeans  light_denim_blue  regular_fit   \n",
       "4  1008549002  1008549      002  regular_jeans        denim_blue  regular_fit   \n",
       "\n",
       "   product_price size_number size_model  cotton  polyester  spandex  \\\n",
       "0          29.99         180      31/32    1.00       0.65     0.00   \n",
       "1          29.99        None       None    1.00       0.65     0.00   \n",
       "2          29.99        None       None    1.00       0.65     0.00   \n",
       "3          19.99        None       None    0.98       0.65     0.02   \n",
       "4          19.99         185      31/32    0.99       0.65     0.01   \n",
       "\n",
       "   recycled_cotton  recycled_polyester      scrapy_datetime  \n",
       "0              0.2                 0.0  2022-02-21 19:31:32  \n",
       "1              0.2                 0.0  2022-02-21 19:31:32  \n",
       "2              0.2                 0.0  2022-02-21 19:31:32  \n",
       "3              0.2                 0.0  2022-02-21 19:31:32  \n",
       "4              0.2                 0.0  2022-02-21 19:31:32  "
      ]
     },
     "execution_count": 50,
     "metadata": {},
     "output_type": "execute_result"
    }
   ],
   "source": [
    "# query = \"\"\"\n",
    "#     SELECT * FROM vitrine\n",
    "\n",
    "# \"\"\"\n",
    "# df = pd.read_sql_query(query, conn)\n",
    "# df.head()"
   ]
  },
  {
   "cell_type": "code",
   "execution_count": null,
   "id": "8d837bfd",
   "metadata": {},
   "outputs": [],
   "source": []
  },
  {
   "cell_type": "code",
   "execution_count": null,
   "id": "9e7969af",
   "metadata": {},
   "outputs": [],
   "source": []
  },
  {
   "cell_type": "code",
   "execution_count": null,
   "id": "2c2074c6",
   "metadata": {},
   "outputs": [],
   "source": []
  }
 ],
 "metadata": {
  "kernelspec": {
   "display_name": "Python 3",
   "language": "python",
   "name": "python3"
  },
  "language_info": {
   "codemirror_mode": {
    "name": "ipython",
    "version": 3
   },
   "file_extension": ".py",
   "mimetype": "text/x-python",
   "name": "python",
   "nbconvert_exporter": "python",
   "pygments_lexer": "ipython3",
   "version": "3.9.1"
  },
  "toc": {
   "base_numbering": 1,
   "nav_menu": {},
   "number_sections": true,
   "sideBar": true,
   "skip_h1_title": false,
   "title_cell": "Table of Contents",
   "title_sidebar": "Contents",
   "toc_cell": false,
   "toc_position": {},
   "toc_section_display": true,
   "toc_window_display": false
  }
 },
 "nbformat": 4,
 "nbformat_minor": 5
}
